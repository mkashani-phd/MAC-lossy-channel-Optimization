{
 "cells": [
  {
   "cell_type": "code",
   "execution_count": 1,
   "metadata": {},
   "outputs": [],
   "source": [
    "import sys\n",
    "sys.path.append('..')\n",
    "\n",
    "import src.Auth as Auth\n",
    "import utils.utils as utils\n",
    "import numpy as np\n",
    "import matplotlib.pyplot as plt\n",
    "\n",
    "\n",
    "def pop_first_k_elements(arr, k):\n",
    "    # Validate inputs\n",
    "    if k < 0:\n",
    "        raise ValueError(\"k must be non-negative\")\n",
    "    if k > len(arr):\n",
    "        raise ValueError(\"k must not be greater than the number of elements in the array\")\n",
    "    \n",
    "    return  arr[k:], arr[:k]\n"
   ]
  },
  {
   "cell_type": "code",
   "execution_count": 2,
   "metadata": {},
   "outputs": [
    {
     "data": {
      "image/png": "[encoded data removed]",
      "text/plain": [
       "<Figure size 640x240 with 1 Axes>"
      ]
     },
     "metadata": {},
     "output_type": "display_data"
    }
   ],
   "source": [
    "# one indicate packet lost, zero indicate correctly recieved packet\n",
    "Packet_error = np.fromfile('time_series.csv', sep=',')\n",
    "plt.figure(figsize=(8, 3), dpi=80)\n",
    "plt.plot(Packet_error)\n",
    "plt.title('Packet Error Time Series')\n",
    "plt.xlabel('Time')\n",
    "plt.ylabel('Packet Error')\n",
    "plt.show()"
   ]
  },
  {
   "cell_type": "code",
   "execution_count": 3,
   "metadata": {},
   "outputs": [],
   "source": [
    "def test_experiment(exp, Packet_error, m_size = 1024, t_size = 256, b =None):\n",
    "        i = 0\n",
    "        cnt = 0\n",
    "        security_rate = 0\n",
    "        GP= 0\n",
    "        while len(Packet_error) > exp['parameters']['m_nr']:\n",
    "                Packet_error, m = pop_first_k_elements(Packet_error, exp['parameters']['m_nr'])\n",
    "                m = np.power(0, m)\n",
    "                # m = np.random.choice([0, 1], size=(exp['parameters']['m_nr'],), p=[0.1, 0.9])\n",
    "                t = np.ones(exp['parameters']['t_nr'])\n",
    "                # if 0 in m:\n",
    "                val = Auth.Validate(exp,m, t)\n",
    "                security_rate += Auth.SecurityRate(exp, m, t, t_size= t_size, b = b)\n",
    "                GP += Auth.Goodput(exp, m, t, m_size, t_size= t_size)\n",
    "                #count where m is 1 but val is zero\n",
    "                cnt += sum(m)-sum(val>0)\n",
    "                i+=1\n",
    "\n",
    "        return {'received but failed to verify': cnt, 'security_rate': security_rate/i, 'GP': GP/i}"
   ]
  },
  {
   "cell_type": "code",
   "execution_count": 4,
   "metadata": {},
   "outputs": [
    {
     "name": "stdout",
     "output_type": "stream",
     "text": [
      "p:  0.95 q:   1 ,   m_nr:  25 ,   t_nr:  25\n",
      "p:  0.99 q:   1 ,   m_nr:  20 ,   t_nr:  5\n",
      "p:  0.99 q:   0.95 ,   m_nr:  20 ,   t_nr:  5\n",
      "p:  0.99 q:   0.9 ,   m_nr:  20 ,   t_nr:  5\n",
      "p:  0.95 q:   1 ,   m_nr:  20 ,   t_nr:  5\n",
      "p:  0.95 q:   0.95 ,   m_nr:  20 ,   t_nr:  5\n",
      "p:  0.95 q:   0.9 ,   m_nr:  20 ,   t_nr:  5\n",
      "p:  0.9 q:   1 ,   m_nr:  20 ,   t_nr:  5\n",
      "p:  0.9 q:   0.95 ,   m_nr:  20 ,   t_nr:  5\n",
      "p:  0.9 q:   0.9 ,   m_nr:  20 ,   t_nr:  5\n",
      "p:  0.85 q:   1 ,   m_nr:  20 ,   t_nr:  5\n",
      "p:  0.85 q:   0.95 ,   m_nr:  20 ,   t_nr:  5\n",
      "p:  0.85 q:   0.9 ,   m_nr:  20 ,   t_nr:  5\n",
      "p:  0.8 q:   1 ,   m_nr:  20 ,   t_nr:  5\n",
      "p:  0.8 q:   0.95 ,   m_nr:  20 ,   t_nr:  5\n",
      "p:  0.8 q:   0.9 ,   m_nr:  20 ,   t_nr:  5\n",
      "p:  0.7 q:   1 ,   m_nr:  20 ,   t_nr:  5\n",
      "p:  0.7 q:   0.95 ,   m_nr:  20 ,   t_nr:  5\n",
      "p:  0.7 q:   0.9 ,   m_nr:  20 ,   t_nr:  5\n",
      "p:  0.99 q:   1 ,   m_nr:  20 ,   t_nr:  10\n",
      "p:  0.99 q:   0.95 ,   m_nr:  20 ,   t_nr:  10\n",
      "p:  0.99 q:   0.9 ,   m_nr:  20 ,   t_nr:  10\n",
      "p:  0.95 q:   1 ,   m_nr:  20 ,   t_nr:  10\n",
      "p:  0.95 q:   0.95 ,   m_nr:  20 ,   t_nr:  10\n",
      "p:  0.95 q:   0.9 ,   m_nr:  20 ,   t_nr:  10\n",
      "p:  0.9 q:   1 ,   m_nr:  20 ,   t_nr:  10\n",
      "p:  0.9 q:   0.95 ,   m_nr:  20 ,   t_nr:  10\n",
      "p:  0.9 q:   0.9 ,   m_nr:  20 ,   t_nr:  10\n",
      "p:  0.85 q:   1 ,   m_nr:  20 ,   t_nr:  10\n",
      "p:  0.85 q:   0.95 ,   m_nr:  20 ,   t_nr:  10\n",
      "p:  0.85 q:   0.9 ,   m_nr:  20 ,   t_nr:  10\n",
      "p:  0.8 q:   1 ,   m_nr:  20 ,   t_nr:  10\n",
      "p:  0.8 q:   0.95 ,   m_nr:  20 ,   t_nr:  10\n",
      "p:  0.8 q:   0.9 ,   m_nr:  20 ,   t_nr:  10\n",
      "p:  0.7 q:   1 ,   m_nr:  20 ,   t_nr:  10\n",
      "p:  0.7 q:   0.95 ,   m_nr:  20 ,   t_nr:  10\n",
      "p:  0.7 q:   0.9 ,   m_nr:  20 ,   t_nr:  10\n",
      "p:  0.99 q:   1 ,   m_nr:  20 ,   t_nr:  20\n",
      "p:  0.99 q:   0.95 ,   m_nr:  20 ,   t_nr:  20\n",
      "p:  0.99 q:   0.9 ,   m_nr:  20 ,   t_nr:  20\n",
      "p:  0.95 q:   1 ,   m_nr:  20 ,   t_nr:  20\n",
      "p:  0.95 q:   0.95 ,   m_nr:  20 ,   t_nr:  20\n",
      "p:  0.95 q:   0.9 ,   m_nr:  20 ,   t_nr:  20\n",
      "p:  0.9 q:   1 ,   m_nr:  20 ,   t_nr:  20\n",
      "p:  0.9 q:   0.95 ,   m_nr:  20 ,   t_nr:  20\n",
      "p:  0.9 q:   0.9 ,   m_nr:  20 ,   t_nr:  20\n",
      "p:  0.85 q:   1 ,   m_nr:  20 ,   t_nr:  20\n",
      "p:  0.85 q:   0.95 ,   m_nr:  20 ,   t_nr:  20\n",
      "p:  0.85 q:   0.9 ,   m_nr:  20 ,   t_nr:  20\n",
      "p:  0.8 q:   1 ,   m_nr:  20 ,   t_nr:  20\n",
      "p:  0.8 q:   0.95 ,   m_nr:  20 ,   t_nr:  20\n",
      "p:  0.8 q:   0.9 ,   m_nr:  20 ,   t_nr:  20\n",
      "p:  0.7 q:   1 ,   m_nr:  20 ,   t_nr:  20\n",
      "p:  0.7 q:   0.95 ,   m_nr:  20 ,   t_nr:  20\n",
      "p:  0.7 q:   0.9 ,   m_nr:  20 ,   t_nr:  20\n",
      "p:  0.99 q:   1 ,   m_nr:  20 ,   t_nr:  25\n",
      "p:  0.99 q:   0.95 ,   m_nr:  20 ,   t_nr:  25\n",
      "p:  0.99 q:   0.9 ,   m_nr:  20 ,   t_nr:  25\n",
      "p:  0.95 q:   1 ,   m_nr:  20 ,   t_nr:  25\n",
      "p:  0.95 q:   0.95 ,   m_nr:  20 ,   t_nr:  25\n",
      "p:  0.95 q:   0.9 ,   m_nr:  20 ,   t_nr:  25\n",
      "p:  0.95 q:   1 ,   m_nr:  25 ,   t_nr:  5\n",
      "p:  0.9 q:   1 ,   m_nr:  25 ,   t_nr:  5\n",
      "p:  0.85 q:   1 ,   m_nr:  25 ,   t_nr:  5\n",
      "p:  0.8 q:   1 ,   m_nr:  25 ,   t_nr:  5\n",
      "p:  0.95 q:   1 ,   m_nr:  25 ,   t_nr:  10\n",
      "p:  0.9 q:   1 ,   m_nr:  25 ,   t_nr:  10\n",
      "p:  0.85 q:   1 ,   m_nr:  25 ,   t_nr:  10\n",
      "p:  0.8 q:   1 ,   m_nr:  25 ,   t_nr:  10\n",
      "p:  0.95 q:   1 ,   m_nr:  25 ,   t_nr:  20\n",
      "p:  0.9 q:   1 ,   m_nr:  25 ,   t_nr:  20\n"
     ]
    }
   ],
   "source": [
    "p = .9\n",
    "experiments = utils.Load_Experiments('../Examples/Xs.pkl')\n",
    "Packet_error = np.random.choice([0, 1], size=(1000000,), p=[p, 1-p])\n",
    "m_size = 1024\n",
    "t_size = 384\n",
    "for exp in experiments:\n",
    "        print('p: ', experiments[exp]['parameters']['p'],'q:  ', experiments[exp]['parameters']['q'], ',   m_nr: ', experiments[exp]['parameters']['m_nr'], ',   t_nr: ', experiments[exp]['parameters']['t_nr'])\n",
    "        # print(test_experiment(experiments[exp],\n",
    "        #                       Packet_error, \n",
    "        #                       m_size, \n",
    "        #                       t_size = t_size if experiments[exp]['eval']['average_A']< 1 \n",
    "        #                       else int(t_size/np.average(Auth.Validate(experiments[exp], np.array([p]*experiments[exp]['parameters']['m_nr']), np.ones(experiments[exp]['parameters']['t_nr'])))), \n",
    "        #                       b =t_size))"
   ]
  },
  {
   "cell_type": "code",
   "execution_count": 5,
   "metadata": {},
   "outputs": [
    {
     "name": "stdout",
     "output_type": "stream",
     "text": [
      "Status: 1\n",
      "Objective value: 17.0\n"
     ]
    },
    {
     "ename": "KeyboardInterrupt",
     "evalue": "",
     "output_type": "error",
     "traceback": [
      "\u001b[0;31m---------------------------------------------------------------------------\u001b[0m",
      "\u001b[0;31mKeyboardInterrupt\u001b[0m                         Traceback (most recent call last)",
      "Cell \u001b[0;32mIn[5], line 8\u001b[0m\n\u001b[1;32m      5\u001b[0m exp \u001b[38;5;241m=\u001b[39m Auth\u001b[38;5;241m.\u001b[39mCreate_Experiment(parameters,X\u001b[38;5;241m=\u001b[39m X)\n\u001b[1;32m      7\u001b[0m \u001b[38;5;66;03m# Packet_error = np.fromfile('time_series2.csv', sep=',')\u001b[39;00m\n\u001b[0;32m----> 8\u001b[0m \u001b[38;5;28mprint\u001b[39m(\u001b[43mtest_experiment\u001b[49m\u001b[43m(\u001b[49m\u001b[43mexp\u001b[49m\u001b[43m,\u001b[49m\u001b[43mPacket_error\u001b[49m\u001b[43m,\u001b[49m\u001b[43m \u001b[49m\u001b[43mm_size\u001b[49m\u001b[43m,\u001b[49m\u001b[43mt_size\u001b[49m\u001b[38;5;241;43m=\u001b[39;49m\u001b[43mt_size\u001b[49m\u001b[38;5;241;43m/\u001b[39;49m\u001b[43mparameters\u001b[49m\u001b[43m[\u001b[49m\u001b[38;5;124;43m'\u001b[39;49m\u001b[38;5;124;43mx\u001b[39;49m\u001b[38;5;124;43m'\u001b[39;49m\u001b[43m]\u001b[49m\u001b[43m,\u001b[49m\u001b[43m \u001b[49m\u001b[43mb\u001b[49m\u001b[38;5;241;43m=\u001b[39;49m\u001b[43m \u001b[49m\u001b[43mt_size\u001b[49m\u001b[43m)\u001b[49m)\n",
      "Cell \u001b[0;32mIn[3], line 12\u001b[0m, in \u001b[0;36mtest_experiment\u001b[0;34m(exp, Packet_error, m_size, t_size, b)\u001b[0m\n\u001b[1;32m     10\u001b[0m t \u001b[38;5;241m=\u001b[39m np\u001b[38;5;241m.\u001b[39mones(exp[\u001b[38;5;124m'\u001b[39m\u001b[38;5;124mparameters\u001b[39m\u001b[38;5;124m'\u001b[39m][\u001b[38;5;124m'\u001b[39m\u001b[38;5;124mt_nr\u001b[39m\u001b[38;5;124m'\u001b[39m])\n\u001b[1;32m     11\u001b[0m \u001b[38;5;66;03m# if 0 in m:\u001b[39;00m\n\u001b[0;32m---> 12\u001b[0m val \u001b[38;5;241m=\u001b[39m \u001b[43mAuth\u001b[49m\u001b[38;5;241;43m.\u001b[39;49m\u001b[43mValidate\u001b[49m\u001b[43m(\u001b[49m\u001b[43mexp\u001b[49m\u001b[43m,\u001b[49m\u001b[43mm\u001b[49m\u001b[43m,\u001b[49m\u001b[43m \u001b[49m\u001b[43mt\u001b[49m\u001b[43m)\u001b[49m\n\u001b[1;32m     13\u001b[0m security_rate \u001b[38;5;241m+\u001b[39m\u001b[38;5;241m=\u001b[39m Auth\u001b[38;5;241m.\u001b[39mSecurityRate(exp, m, t, t_size\u001b[38;5;241m=\u001b[39m t_size, b \u001b[38;5;241m=\u001b[39m b)\n\u001b[1;32m     14\u001b[0m GP \u001b[38;5;241m+\u001b[39m\u001b[38;5;241m=\u001b[39m Auth\u001b[38;5;241m.\u001b[39mGoodput(exp, m, t, m_size, t_size\u001b[38;5;241m=\u001b[39m t_size)\n",
      "File \u001b[0;32m~/Documents/PhD/MAC-lossy-channel-Optimization/Simulation/../src/Auth.py:106\u001b[0m, in \u001b[0;36mValidate\u001b[0;34m(experiment, m, t, rectified, includeValidTag)\u001b[0m\n\u001b[1;32m    104\u001b[0m \u001b[38;5;28;01mfor\u001b[39;00m tag \u001b[38;5;129;01min\u001b[39;00m \u001b[38;5;28mrange\u001b[39m(t_nr):\n\u001b[1;32m    105\u001b[0m     mask \u001b[38;5;241m=\u001b[39m m[np\u001b[38;5;241m.\u001b[39mwhere(X[:,tag] \u001b[38;5;241m==\u001b[39m \u001b[38;5;241m1\u001b[39m)] \u001b[38;5;66;03m# mask for tag\u001b[39;00m\n\u001b[0;32m--> 106\u001b[0m     mm[tag] \u001b[38;5;241m=\u001b[39m \u001b[43mnp\u001b[49m\u001b[38;5;241;43m.\u001b[39;49m\u001b[43mprod\u001b[49m\u001b[43m(\u001b[49m\u001b[43mmask\u001b[49m\u001b[43m)\u001b[49m \u001b[38;5;66;03m# multiply the mask\u001b[39;00m\n\u001b[1;32m    107\u001b[0m A \u001b[38;5;241m=\u001b[39m np\u001b[38;5;241m.\u001b[39mmatmul(X,(mm\u001b[38;5;241m*\u001b[39mt)\u001b[38;5;241m.\u001b[39mtranspose())\n\u001b[1;32m    109\u001b[0m A \u001b[38;5;241m=\u001b[39m np\u001b[38;5;241m.\u001b[39marray( [\u001b[38;5;241m1\u001b[39m \u001b[38;5;28;01mif\u001b[39;00m x \u001b[38;5;241m>\u001b[39m \u001b[38;5;241m1\u001b[39m \u001b[38;5;28;01melse\u001b[39;00m x \u001b[38;5;28;01mfor\u001b[39;00m x \u001b[38;5;129;01min\u001b[39;00m A]) \u001b[38;5;28;01mif\u001b[39;00m rectified \u001b[38;5;28;01melse\u001b[39;00m A\n",
      "\u001b[0;31mKeyboardInterrupt\u001b[0m: "
     ]
    }
   ],
   "source": [
    "parameters = {'m_nr':50, 't_nr': 50,\n",
    "                'p': p, 'q': 1,\n",
    "                'x': 3}\n",
    "X = Auth.ProMAC_X(parameters['m_nr'],parameters['x'])\n",
    "exp = Auth.Create_Experiment(parameters,X= X)\n",
    "\n",
    "# Packet_error = np.fromfile('time_series2.csv', sep=',')\n",
    "print(test_experiment(exp,Packet_error, m_size,t_size=t_size/parameters['x'], b= t_size))"
   ]
  },
  {
   "cell_type": "code",
   "execution_count": null,
   "metadata": {},
   "outputs": [
    {
     "name": "stdout",
     "output_type": "stream",
     "text": [
      "Status: 1\n",
      "Objective value: 6.0\n",
      "{'received but failed to verify': 14, 'security_rate': 0.99519845198452, 'GP': 0.9132955329560964}\n"
     ]
    }
   ],
   "source": [
    "parameters = {'m_nr':Auth.X.shape[0], 't_nr': Auth.X.shape[1],\n",
    "                'p': p, 'q': 1,}\n",
    "exp = Auth.Create_Experiment(parameters,X= Auth.X)\n",
    "print(test_experiment(exp,Packet_error, m_size,t_size=t_size/2, b= t_size))\n"
   ]
  },
  {
   "cell_type": "code",
   "execution_count": null,
   "metadata": {},
   "outputs": [
    {
     "name": "stdout",
     "output_type": "stream",
     "text": [
      "Status: 1\n",
      "Objective value: 1.0\n",
      "{'received but failed to verify': 2120, 'security_rate': 0.9968109968109968, 'GP': 0.8860542193809973}\n"
     ]
    }
   ],
   "source": [
    "X = np.array([[1]]*3)\n",
    "# identity matrix\n",
    "# X = np.eye(10)\n",
    "parameters = {'m_nr':X.shape[0], 't_nr': X.shape[1],\n",
    "                'p': p, 'q': 1,}\n",
    "exp = Auth.Create_Experiment(parameters,X= X)\n",
    "print(test_experiment(exp,Packet_error, m_size,t_size=t_size, b= t_size))"
   ]
  },
  {
   "cell_type": "code",
   "execution_count": null,
   "metadata": {},
   "outputs": [],
   "source": [
    "# for i in range(len(experiments)):\n",
    "#     experiments[i]['eval']\n",
    "#     plt.imshow(experiments[i]['results']['X'])\n",
    "#     plt.title(f\"m: {experiments[i]['parameters']['m_nr']} , n: {experiments[i]['parameters']['t_nr']}, p: {experiments[i]['parameters']['p']}\" )\n",
    "#     plt.show()"
   ]
  }
 ],
 "metadata": {
  "kernelspec": {
   "display_name": "Python 3",
   "language": "python",
   "name": "python3"
  },
  "language_info": {
   "codemirror_mode": {
    "name": "ipython",
    "version": 3
   },
   "file_extension": ".py",
   "mimetype": "text/x-python",
   "name": "python",
   "nbconvert_exporter": "python",
   "pygments_lexer": "ipython3",
   "version": "3.12.3"
  }
 },
 "nbformat": 4,
 "nbformat_minor": 2
}
