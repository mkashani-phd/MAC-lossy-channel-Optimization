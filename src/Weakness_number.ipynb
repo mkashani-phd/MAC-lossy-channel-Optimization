{
 "cells": [
  {
   "cell_type": "code",
   "execution_count": 44,
   "metadata": {},
   "outputs": [],
   "source": [
    "import numpy as np\n",
    "import pandas as pd"
   ]
  },
  {
   "cell_type": "code",
   "execution_count": 45,
   "metadata": {},
   "outputs": [],
   "source": [
    "K = np.array(\n",
    "    [[1,0,1,0,0],\n",
    "    [1,0,0,1,0],\n",
    "    [1,0,0,0,1],\n",
    "    [0,1,1,0,0],\n",
    "    [0,1,0,1,0],\n",
    "    [0,1,0,0,1]])"
   ]
  },
  {
   "cell_type": "code",
   "execution_count": 46,
   "metadata": {},
   "outputs": [],
   "source": [
    "K = np.array([[ 1,  0,  0,  0,  0,  0,  1,  0,  0], # m1\n",
    "              [ 1,  0,  0,  0,  0,  0,  0,  1,  0], # m2\n",
    "              [ 1,  0,  0,  0,  0,  0,  0,  0,  1], # m3\n",
    "              [ 0,  1,  0,  0,  0,  0,  1,  0,  0], # m4\n",
    "              [ 0,  1,  0,  0,  0,  0,  0,  1,  0], # m5\n",
    "              [ 0,  1,  0,  0,  0,  0,  0,  0,  1], # m6\n",
    "              [ 0,  0,  1,  0,  0,  0,  1,  0,  0], # m7\n",
    "              [ 0,  0,  1,  0,  0,  0,  0,  1,  0], # m8\n",
    "              [ 0,  0,  1,  0,  0,  0,  0,  0,  1], # m9\n",
    "              [ 0,  0,  0,  1,  0,  0,  1,  0,  0], # m10\n",
    "              [ 0,  0,  0,  1,  0,  0,  0,  1,  0], # m11\n",
    "              [ 0,  0,  0,  1,  0,  0,  0,  0,  1], # m12\n",
    "              [ 0,  0,  0,  0,  1,  0,  1,  0,  0], # m13\n",
    "              [ 0,  0,  0,  0,  1,  0,  0,  1,  0], # m14\n",
    "              [ 0,  0,  0,  0,  1,  0,  0,  0,  1], # m15\n",
    "              [ 0,  0,  0,  0,  0,  1,  1,  0,  0], # m16\n",
    "              [ 0,  0,  0,  0,  0,  1,  0,  1,  0], # m17\n",
    "              [ 0,  0,  0,  0,  0,  1,  0,  0,  1]]) # m18"
   ]
  },
  {
   "cell_type": "code",
   "execution_count": 47,
   "metadata": {},
   "outputs": [],
   "source": [
    "            #  t1  t2  t3  t4  t5  t6  t7  t8  t9\n",
    "K = np.array([[ 1,  0,  0,  0,  0,  0,  0,  0], # m1\n",
    "              [ 1,  1,  0,  0,  0,  0,  0,  0], # m2\n",
    "              [ 1,  1,  1,  0,  0,  0,  0,  0], # m3\n",
    "              [ 0,  1,  1,  1,  0,  0,  0,  0], # m4\n",
    "              [ 0,  0,  1,  1,  1,  0,  0,  0], # m5\n",
    "              [ 0,  0,  0,  1,  1,  1,  0,  0], # m6\n",
    "              [ 0,  0,  0,  0,  1,  1,  1,  0], # m7\n",
    "              [ 0,  0,  0,  0,  0,  1,  1,  1], # m8\n",
    "              [ 0,  0,  0,  0,  0,  0,  1,  1], # m9\n",
    "              [ 0,  0,  0,  0,  0,  0,  0,  1]]) # m10"
   ]
  },
  {
   "cell_type": "code",
   "execution_count": 48,
   "metadata": {},
   "outputs": [
    {
     "name": "stdout",
     "output_type": "stream",
     "text": [
      "10 8\n"
     ]
    }
   ],
   "source": [
    "n_msg, n_tag = K.shape\n",
    "print(n_msg,n_tag)\n"
   ]
  },
  {
   "cell_type": "code",
   "execution_count": 49,
   "metadata": {},
   "outputs": [
    {
     "name": "stdout",
     "output_type": "stream",
     "text": [
      "     m1   m2   m3   m4   m5   m6   m7   m8   m9  m10   t1   t2   t3   t4   t5   \n",
      "t1 -1.0 -1.0 -1.0  0.0  0.0  0.0  0.0  0.0  0.0  0.0  1.0  0.0  0.0  0.0  0.0  \\\n",
      "t2  0.0 -1.0 -1.0 -1.0  0.0  0.0  0.0  0.0  0.0  0.0  0.0  1.0  0.0  0.0  0.0   \n",
      "t3  0.0  0.0 -1.0 -1.0 -1.0  0.0  0.0  0.0  0.0  0.0  0.0  0.0  1.0  0.0  0.0   \n",
      "t4  0.0  0.0  0.0 -1.0 -1.0 -1.0  0.0  0.0  0.0  0.0  0.0  0.0  0.0  1.0  0.0   \n",
      "t5  0.0  0.0  0.0  0.0 -1.0 -1.0 -1.0  0.0  0.0  0.0  0.0  0.0  0.0  0.0  1.0   \n",
      "t6  0.0  0.0  0.0  0.0  0.0 -1.0 -1.0 -1.0  0.0  0.0  0.0  0.0  0.0  0.0  0.0   \n",
      "t7  0.0  0.0  0.0  0.0  0.0  0.0 -1.0 -1.0 -1.0  0.0  0.0  0.0  0.0  0.0  0.0   \n",
      "t8  0.0  0.0  0.0  0.0  0.0  0.0  0.0 -1.0 -1.0 -1.0  0.0  0.0  0.0  0.0  0.0   \n",
      "\n",
      "     t6   t7   t8  \n",
      "t1  0.0  0.0  0.0  \n",
      "t2  0.0  0.0  0.0  \n",
      "t3  0.0  0.0  0.0  \n",
      "t4  0.0  0.0  0.0  \n",
      "t5  0.0  0.0  0.0  \n",
      "t6  1.0  0.0  0.0  \n",
      "t7  0.0  1.0  0.0  \n",
      "t8  0.0  0.0  1.0  \n"
     ]
    }
   ],
   "source": [
    "#  build part one of matrix A for optimization \n",
    "\n",
    "a1 = []\n",
    "\n",
    "for i in range(n_tag):\n",
    "    # Part 1: Transpose of column i\n",
    "    part1 = -K[:, i]\n",
    "    \n",
    "    # Part 2: All zeros except element i which is the sum of column i \n",
    "    # this specifies # of messages that tag i can verify\n",
    "\n",
    "    part2 = np.zeros(n_tag)\n",
    "    part2[i] = 1\n",
    "    \n",
    "    # Combine part1 and part2\n",
    "    row = np.concatenate((part1, part2))\n",
    "    \n",
    "    # Append the row to the result matrix\n",
    "    a1.append(row)\n",
    "\n",
    "# Convert the result matrix to a NumPy array\n",
    "a1 = np.array(a1)\n",
    "\n",
    "\n",
    "col_names = [f\"m{i+1}\" for i in range(n_msg)] + [f\"t{i+1}\" for i in range(n_tag)]\n",
    "result_df = pd.DataFrame(a1)\n",
    "result_df.columns = col_names\n",
    "result_df.index = [f\"t{i+1}\" for i in range(n_tag)]\n",
    "print(result_df)\n"
   ]
  },
  {
   "cell_type": "code",
   "execution_count": 50,
   "metadata": {},
   "outputs": [
    {
     "name": "stdout",
     "output_type": "stream",
     "text": [
      "     m1   m2   m3   m4   m5   m6   m7   m8   m9  m10   t1   t2   t3   t4   t5   \n",
      "0   1.0  0.0  0.0  0.0  0.0  0.0  0.0  0.0  0.0  0.0 -1.0  0.0  0.0  0.0  0.0  \\\n",
      "1   0.0  1.0  0.0  0.0  0.0  0.0  0.0  0.0  0.0  0.0 -1.0  0.0  0.0  0.0  0.0   \n",
      "2   0.0  1.0  0.0  0.0  0.0  0.0  0.0  0.0  0.0  0.0  0.0 -1.0  0.0  0.0  0.0   \n",
      "3   0.0  0.0  1.0  0.0  0.0  0.0  0.0  0.0  0.0  0.0 -1.0  0.0  0.0  0.0  0.0   \n",
      "4   0.0  0.0  1.0  0.0  0.0  0.0  0.0  0.0  0.0  0.0  0.0 -1.0  0.0  0.0  0.0   \n",
      "5   0.0  0.0  1.0  0.0  0.0  0.0  0.0  0.0  0.0  0.0  0.0  0.0 -1.0  0.0  0.0   \n",
      "6   0.0  0.0  0.0  1.0  0.0  0.0  0.0  0.0  0.0  0.0  0.0 -1.0  0.0  0.0  0.0   \n",
      "7   0.0  0.0  0.0  1.0  0.0  0.0  0.0  0.0  0.0  0.0  0.0  0.0 -1.0  0.0  0.0   \n",
      "8   0.0  0.0  0.0  1.0  0.0  0.0  0.0  0.0  0.0  0.0  0.0  0.0  0.0 -1.0  0.0   \n",
      "9   0.0  0.0  0.0  0.0  1.0  0.0  0.0  0.0  0.0  0.0  0.0  0.0 -1.0  0.0  0.0   \n",
      "10  0.0  0.0  0.0  0.0  1.0  0.0  0.0  0.0  0.0  0.0  0.0  0.0  0.0 -1.0  0.0   \n",
      "11  0.0  0.0  0.0  0.0  1.0  0.0  0.0  0.0  0.0  0.0  0.0  0.0  0.0  0.0 -1.0   \n",
      "12  0.0  0.0  0.0  0.0  0.0  1.0  0.0  0.0  0.0  0.0  0.0  0.0  0.0 -1.0  0.0   \n",
      "13  0.0  0.0  0.0  0.0  0.0  1.0  0.0  0.0  0.0  0.0  0.0  0.0  0.0  0.0 -1.0   \n",
      "14  0.0  0.0  0.0  0.0  0.0  1.0  0.0  0.0  0.0  0.0  0.0  0.0  0.0  0.0  0.0   \n",
      "15  0.0  0.0  0.0  0.0  0.0  0.0  1.0  0.0  0.0  0.0  0.0  0.0  0.0  0.0 -1.0   \n",
      "16  0.0  0.0  0.0  0.0  0.0  0.0  1.0  0.0  0.0  0.0  0.0  0.0  0.0  0.0  0.0   \n",
      "17  0.0  0.0  0.0  0.0  0.0  0.0  1.0  0.0  0.0  0.0  0.0  0.0  0.0  0.0  0.0   \n",
      "18  0.0  0.0  0.0  0.0  0.0  0.0  0.0  1.0  0.0  0.0  0.0  0.0  0.0  0.0  0.0   \n",
      "19  0.0  0.0  0.0  0.0  0.0  0.0  0.0  1.0  0.0  0.0  0.0  0.0  0.0  0.0  0.0   \n",
      "20  0.0  0.0  0.0  0.0  0.0  0.0  0.0  1.0  0.0  0.0  0.0  0.0  0.0  0.0  0.0   \n",
      "21  0.0  0.0  0.0  0.0  0.0  0.0  0.0  0.0  1.0  0.0  0.0  0.0  0.0  0.0  0.0   \n",
      "22  0.0  0.0  0.0  0.0  0.0  0.0  0.0  0.0  1.0  0.0  0.0  0.0  0.0  0.0  0.0   \n",
      "23  0.0  0.0  0.0  0.0  0.0  0.0  0.0  0.0  0.0  1.0  0.0  0.0  0.0  0.0  0.0   \n",
      "\n",
      "     t6   t7   t8  \n",
      "0   0.0  0.0  0.0  \n",
      "1   0.0  0.0  0.0  \n",
      "2   0.0  0.0  0.0  \n",
      "3   0.0  0.0  0.0  \n",
      "4   0.0  0.0  0.0  \n",
      "5   0.0  0.0  0.0  \n",
      "6   0.0  0.0  0.0  \n",
      "7   0.0  0.0  0.0  \n",
      "8   0.0  0.0  0.0  \n",
      "9   0.0  0.0  0.0  \n",
      "10  0.0  0.0  0.0  \n",
      "11  0.0  0.0  0.0  \n",
      "12  0.0  0.0  0.0  \n",
      "13  0.0  0.0  0.0  \n",
      "14 -1.0  0.0  0.0  \n",
      "15  0.0  0.0  0.0  \n",
      "16 -1.0  0.0  0.0  \n",
      "17  0.0 -1.0  0.0  \n",
      "18 -1.0  0.0  0.0  \n",
      "19  0.0 -1.0  0.0  \n",
      "20  0.0  0.0 -1.0  \n",
      "21  0.0 -1.0  0.0  \n",
      "22  0.0  0.0 -1.0  \n",
      "23  0.0  0.0 -1.0  \n"
     ]
    }
   ],
   "source": [
    "a2 = []\n",
    "\n",
    "# Iterate through each row of the K (messages)\n",
    "for i in range(n_msg):\n",
    "    row = K[i]\n",
    "    # Find the indices of ones in the row (tags that verifies the message)\n",
    "    ones_indices = np.where(row == 1)[0]  \n",
    "    \n",
    "    # Build the submatrix for the current row\n",
    "\n",
    "    for j in ones_indices:\n",
    "        # Part 1: All zeros except message i\n",
    "        part1 = np.zeros(n_msg)\n",
    "        part1[i] = 1\n",
    "        # Part 2: All zeros except tag j\n",
    "        part2 = np.zeros(n_tag)\n",
    "        part2[j] = -1\n",
    "        \n",
    "        # Combine part1 and part2\n",
    "        combined_row = np.concatenate((part1, part2))\n",
    "        \n",
    "        # Append the combined row to the result matrix\n",
    "        a2.append(combined_row)\n",
    "\n",
    "# Convert the result matrix to a NumPy array\n",
    "a2 = np.array(a2)\n",
    "\n",
    "col_names = [f\"m{i+1}\" for i in range(n_msg)] + [f\"t{i+1}\" for i in range(n_tag)]\n",
    "result_df = pd.DataFrame(a2)\n",
    "result_df.columns = col_names\n",
    "print(result_df)"
   ]
  },
  {
   "cell_type": "code",
   "execution_count": 51,
   "metadata": {},
   "outputs": [
    {
     "name": "stdout",
     "output_type": "stream",
     "text": [
      "[[1. 0. 0. 0. 0. 0. 0. 0. 0. 0. 0. 0. 0. 0. 0. 0. 0. 0.]\n",
      " [0. 1. 0. 0. 0. 0. 0. 0. 0. 0. 0. 0. 0. 0. 0. 0. 0. 0.]\n",
      " [0. 0. 1. 0. 0. 0. 0. 0. 0. 0. 0. 0. 0. 0. 0. 0. 0. 0.]\n",
      " [0. 0. 0. 1. 0. 0. 0. 0. 0. 0. 0. 0. 0. 0. 0. 0. 0. 0.]\n",
      " [0. 0. 0. 0. 1. 0. 0. 0. 0. 0. 0. 0. 0. 0. 0. 0. 0. 0.]\n",
      " [0. 0. 0. 0. 0. 1. 0. 0. 0. 0. 0. 0. 0. 0. 0. 0. 0. 0.]\n",
      " [0. 0. 0. 0. 0. 0. 1. 0. 0. 0. 0. 0. 0. 0. 0. 0. 0. 0.]\n",
      " [0. 0. 0. 0. 0. 0. 0. 1. 0. 0. 0. 0. 0. 0. 0. 0. 0. 0.]\n",
      " [0. 0. 0. 0. 0. 0. 0. 0. 1. 0. 0. 0. 0. 0. 0. 0. 0. 0.]\n",
      " [0. 0. 0. 0. 0. 0. 0. 0. 0. 1. 0. 0. 0. 0. 0. 0. 0. 0.]]\n"
     ]
    }
   ],
   "source": [
    "a3 = []\n",
    "for i in range(n_msg):\n",
    "    part1 = np.zeros(n_msg+n_tag)\n",
    "    part1[i] = 1\n",
    "    a3.append(part1)\n",
    "# Convert the result matrix to a NumPy array\n",
    "a3 = np.array(a3)\n",
    "print(a3)"
   ]
  },
  {
   "cell_type": "code",
   "execution_count": 52,
   "metadata": {},
   "outputs": [
    {
     "name": "stdout",
     "output_type": "stream",
     "text": [
      "[[-1.  0.  0.  0.  0.  0.  0.  0.  0.  0.  0.  0.  0.  0.  0.  0.  0.  0.]\n",
      " [ 0. -1.  0.  0.  0.  0.  0.  0.  0.  0.  0.  0.  0.  0.  0.  0.  0.  0.]\n",
      " [ 0.  0. -1.  0.  0.  0.  0.  0.  0.  0.  0.  0.  0.  0.  0.  0.  0.  0.]\n",
      " [ 0.  0.  0. -1.  0.  0.  0.  0.  0.  0.  0.  0.  0.  0.  0.  0.  0.  0.]\n",
      " [ 0.  0.  0.  0. -1.  0.  0.  0.  0.  0.  0.  0.  0.  0.  0.  0.  0.  0.]\n",
      " [ 0.  0.  0.  0.  0. -1.  0.  0.  0.  0.  0.  0.  0.  0.  0.  0.  0.  0.]\n",
      " [ 0.  0.  0.  0.  0.  0. -1.  0.  0.  0.  0.  0.  0.  0.  0.  0.  0.  0.]\n",
      " [ 0.  0.  0.  0.  0.  0.  0. -1.  0.  0.  0.  0.  0.  0.  0.  0.  0.  0.]\n",
      " [ 0.  0.  0.  0.  0.  0.  0.  0. -1.  0.  0.  0.  0.  0.  0.  0.  0.  0.]\n",
      " [ 0.  0.  0.  0.  0.  0.  0.  0.  0. -1.  0.  0.  0.  0.  0.  0.  0.  0.]]\n"
     ]
    }
   ],
   "source": [
    "a4 = []\n",
    "for i in range(n_msg):\n",
    "    part1 = np.zeros(n_msg+n_tag)\n",
    "    part1[i] = -1\n",
    "    a4.append(part1)\n",
    "\n",
    "# Convert the result matrix to a NumPy array\n",
    "a4 = np.array(a4)\n",
    "print(a4)"
   ]
  },
  {
   "cell_type": "code",
   "execution_count": 53,
   "metadata": {},
   "outputs": [
    {
     "name": "stdout",
     "output_type": "stream",
     "text": [
      "[[0. 0. 0. 0. 0. 0. 0. 0. 0. 0. 1. 0. 0. 0. 0. 0. 0. 0.]\n",
      " [0. 0. 0. 0. 0. 0. 0. 0. 0. 0. 0. 1. 0. 0. 0. 0. 0. 0.]\n",
      " [0. 0. 0. 0. 0. 0. 0. 0. 0. 0. 0. 0. 1. 0. 0. 0. 0. 0.]\n",
      " [0. 0. 0. 0. 0. 0. 0. 0. 0. 0. 0. 0. 0. 1. 0. 0. 0. 0.]\n",
      " [0. 0. 0. 0. 0. 0. 0. 0. 0. 0. 0. 0. 0. 0. 1. 0. 0. 0.]\n",
      " [0. 0. 0. 0. 0. 0. 0. 0. 0. 0. 0. 0. 0. 0. 0. 1. 0. 0.]\n",
      " [0. 0. 0. 0. 0. 0. 0. 0. 0. 0. 0. 0. 0. 0. 0. 0. 1. 0.]\n",
      " [0. 0. 0. 0. 0. 0. 0. 0. 0. 0. 0. 0. 0. 0. 0. 0. 0. 1.]]\n"
     ]
    }
   ],
   "source": [
    "a5 = []\n",
    "for i in range(n_tag):\n",
    "    part1 = np.zeros(n_msg+n_tag)\n",
    "    part1[n_msg+i] = 1\n",
    "    a5.append(part1)\n",
    "\n",
    "# Convert the result matrix to a NumPy array\n",
    "a5 = np.array(a5)\n",
    "print(a5)"
   ]
  },
  {
   "cell_type": "code",
   "execution_count": 54,
   "metadata": {},
   "outputs": [
    {
     "name": "stdout",
     "output_type": "stream",
     "text": [
      "[[0. 0. 0. 0. 0. 0. 0. 0. 0. 0. 1. 0. 0. 0. 0. 0. 0. 0.]\n",
      " [0. 0. 0. 0. 0. 0. 0. 0. 0. 0. 0. 1. 0. 0. 0. 0. 0. 0.]\n",
      " [0. 0. 0. 0. 0. 0. 0. 0. 0. 0. 0. 0. 1. 0. 0. 0. 0. 0.]\n",
      " [0. 0. 0. 0. 0. 0. 0. 0. 0. 0. 0. 0. 0. 1. 0. 0. 0. 0.]\n",
      " [0. 0. 0. 0. 0. 0. 0. 0. 0. 0. 0. 0. 0. 0. 1. 0. 0. 0.]\n",
      " [0. 0. 0. 0. 0. 0. 0. 0. 0. 0. 0. 0. 0. 0. 0. 1. 0. 0.]\n",
      " [0. 0. 0. 0. 0. 0. 0. 0. 0. 0. 0. 0. 0. 0. 0. 0. 1. 0.]\n",
      " [0. 0. 0. 0. 0. 0. 0. 0. 0. 0. 0. 0. 0. 0. 0. 0. 0. 1.]]\n"
     ]
    }
   ],
   "source": [
    "a6 = []\n",
    "for i in range(n_tag):\n",
    "    part1 = np.zeros(n_msg+n_tag)\n",
    "    part1[n_msg+i] = -1\n",
    "    a6.append(part1)\n",
    "\n",
    "# Convert the result matrix to a NumPy array\n",
    "a6 = np.array(a6)\n",
    "print(a5)"
   ]
  },
  {
   "cell_type": "code",
   "execution_count": 55,
   "metadata": {},
   "outputs": [
    {
     "name": "stdout",
     "output_type": "stream",
     "text": [
      "[0. 0. 0. 0. 0. 0. 0. 0.]\n",
      "[0. 0. 0. 0. 0. 0. 0. 0. 0. 0. 0. 0. 0. 0. 0. 0. 0. 0. 0. 0. 0. 0. 0. 0.]\n",
      "[-1. -1. -1. -1. -1. -1. -1. -1.]\n"
     ]
    }
   ],
   "source": [
    "# build b\n",
    "epsilon = 1e-6\n",
    "b1 = np.zeros(n_tag)\n",
    "print(b1)\n",
    "b2 = np.zeros(a2.shape[0])\n",
    "print(b2)\n",
    "b3 = np.ones(n_msg)\n",
    "b4 = np.zeros(n_msg)\n",
    "b5 = np.ones(n_tag)\n",
    "b6 = -np.ones(n_tag)\n",
    "print(b6)"
   ]
  },
  {
   "cell_type": "code",
   "execution_count": 56,
   "metadata": {},
   "outputs": [
    {
     "name": "stdout",
     "output_type": "stream",
     "text": [
      "[1. 1. 1. 1. 1. 1. 1. 1. 1. 1. 0. 0. 0. 0. 0. 0. 0. 0.]\n"
     ]
    }
   ],
   "source": [
    "#build c\n",
    "C = np.concatenate((np.ones(n_msg), np.zeros(n_tag)))\n",
    "print(C)"
   ]
  },
  {
   "cell_type": "code",
   "execution_count": 57,
   "metadata": {},
   "outputs": [],
   "source": [
    "\n",
    "A = np.concatenate((a1, a2, a3, a4, a5, a6), axis=0)\n",
    "\n",
    "B = np.concatenate((b1,b2,b3,b4,b5,b6))\n"
   ]
  },
  {
   "cell_type": "code",
   "execution_count": 58,
   "metadata": {},
   "outputs": [
    {
     "name": "stdout",
     "output_type": "stream",
     "text": [
      "(18,)\n",
      "(68, 18)\n",
      "(68,)\n"
     ]
    }
   ],
   "source": [
    "print(C.shape)\n",
    "print(A.shape)\n",
    "print(B.shape)"
   ]
  },
  {
   "cell_type": "code",
   "execution_count": 59,
   "metadata": {},
   "outputs": [
    {
     "name": "stdout",
     "output_type": "stream",
     "text": [
      "Welcome to the CBC MILP Solver \n",
      "Version: 2.10.3 \n",
      "Build Date: Dec 15 2019 \n",
      "\n",
      "command line - /Library/Frameworks/Python.framework/Versions/3.10/lib/python3.10/site-packages/pulp/solverdir/cbc/osx/64/cbc /var/folders/jv/12n64fl91y1d9jr6561fpx2c0000gn/T/53252c60ddda4a809b46604a75ac88d9-pulp.mps -timeMode elapsed -branch -printingOptions all -solution /var/folders/jv/12n64fl91y1d9jr6561fpx2c0000gn/T/53252c60ddda4a809b46604a75ac88d9-pulp.sol (default strategy 1)\n",
      "At line 2 NAME          MODEL\n",
      "At line 3 ROWS\n",
      "At line 73 COLUMNS\n",
      "At line 236 RHS\n",
      "At line 305 BOUNDS\n",
      "At line 324 ENDATA\n",
      "Problem MODEL has 68 rows, 18 columns and 116 elements\n",
      "Coin0008I MODEL read with 0 errors\n",
      "Option for timeMode changed from cpu to elapsed\n",
      "Continuous objective value is 3 - 0.00 seconds\n",
      "Cgl0002I 8 variables fixed\n",
      "Cgl0004I processed model has 8 rows, 10 columns (10 integer (10 of which binary)) and 24 elements\n",
      "Cutoff increment increased from 1e-05 to 0.9999\n",
      "Cbc0038I Initial state - 0 integers unsatisfied sum - 0\n",
      "Cbc0038I Solution found of 3\n",
      "Cbc0038I Before mini branch and bound, 10 integers at bound fixed and 0 continuous\n",
      "Cbc0038I Mini branch and bound did not improve solution (0.01 seconds)\n",
      "Cbc0038I After 0.01 seconds - Feasibility pump exiting with objective of 3 - took 0.00 seconds\n",
      "Cbc0012I Integer solution of 3 found by feasibility pump after 0 iterations and 0 nodes (0.01 seconds)\n",
      "Cbc0001I Search completed - best objective 3, took 0 iterations and 0 nodes (0.01 seconds)\n",
      "Cbc0035I Maximum depth 0, 0 variables fixed on reduced cost\n",
      "Cuts at root node changed objective from 3 to 3\n",
      "Probing was tried 0 times and created 0 cuts of which 0 were active after adding rounds of cuts (0.000 seconds)\n",
      "Gomory was tried 0 times and created 0 cuts of which 0 were active after adding rounds of cuts (0.000 seconds)\n",
      "Knapsack was tried 0 times and created 0 cuts of which 0 were active after adding rounds of cuts (0.000 seconds)\n",
      "Clique was tried 0 times and created 0 cuts of which 0 were active after adding rounds of cuts (0.000 seconds)\n",
      "MixedIntegerRounding2 was tried 0 times and created 0 cuts of which 0 were active after adding rounds of cuts (0.000 seconds)\n",
      "FlowCover was tried 0 times and created 0 cuts of which 0 were active after adding rounds of cuts (0.000 seconds)\n",
      "TwoMirCuts was tried 0 times and created 0 cuts of which 0 were active after adding rounds of cuts (0.000 seconds)\n",
      "ZeroHalf was tried 0 times and created 0 cuts of which 0 were active after adding rounds of cuts (0.000 seconds)\n",
      "\n",
      "Result - Optimal solution found\n",
      "\n",
      "Objective value:                3.00000000\n",
      "Enumerated nodes:               0\n",
      "Total iterations:               0\n",
      "Time (CPU seconds):             0.00\n",
      "Time (Wallclock seconds):       0.01\n",
      "\n",
      "Option for printingOptions changed from normal to all\n",
      "Total time (CPU seconds):       0.00   (Wallclock seconds):       0.02\n",
      "\n",
      "Status: 1\n",
      "Objective value: 3.0\n",
      "x1: 0.0\n",
      "x2: 1.0\n",
      "x3: 0.0\n",
      "x4: 0.0\n",
      "x5: 1.0\n",
      "x6: 0.0\n",
      "x7: 0.0\n",
      "x8: 1.0\n",
      "x9: 0.0\n",
      "x10: 0.0\n",
      "x11: 1.0\n",
      "x12: 1.0\n",
      "x13: 1.0\n",
      "x14: 1.0\n",
      "x15: 1.0\n",
      "x16: 1.0\n",
      "x17: 1.0\n",
      "x18: 1.0\n"
     ]
    },
    {
     "name": "stderr",
     "output_type": "stream",
     "text": [
      "/Library/Frameworks/Python.framework/Versions/3.10/lib/python3.10/site-packages/pulp/pulp.py:1316: UserWarning: Spaces are not permitted in the name. Converted to '_'\n",
      "  warnings.warn(\"Spaces are not permitted in the name. Converted to '_'\")\n"
     ]
    }
   ],
   "source": [
    "from pulp import LpMinimize, LpProblem, LpVariable, lpSum, PULP_CBC_CMD\n",
    "\n",
    "prob = LpProblem(\"Binary LP Problem\", LpMinimize)\n",
    "\n",
    "# Define the variables\n",
    "x = [LpVariable(f'x{i}', cat='Binary') for i in range(len(C))]\n",
    "\n",
    "# Define the objective function\n",
    "prob += lpSum(C[i] * x[i] for i in range(len(C)))\n",
    "\n",
    "# Define the constraints\n",
    "for i in range(len(A)):\n",
    "    prob += lpSum(A[i][j] * x[j] for j in range(len(C))) <= B[i]\n",
    "\n",
    "# Solve the problem\n",
    "prob.solve(PULP_CBC_CMD())\n",
    "\n",
    "# Print the results\n",
    "print(\"Status:\", prob.status)\n",
    "print(\"Objective value:\", prob.objective.value())\n",
    "for i in range(len(C)):\n",
    "    print(f\"x{i+1}:\", x[i].value())"
   ]
  }
 ],
 "metadata": {
  "kernelspec": {
   "display_name": "Python 3",
   "language": "python",
   "name": "python3"
  },
  "language_info": {
   "codemirror_mode": {
    "name": "ipython",
    "version": 3
   },
   "file_extension": ".py",
   "mimetype": "text/x-python",
   "name": "python",
   "nbconvert_exporter": "python",
   "pygments_lexer": "ipython3",
   "version": "3.10.11"
  }
 },
 "nbformat": 4,
 "nbformat_minor": 2
}
