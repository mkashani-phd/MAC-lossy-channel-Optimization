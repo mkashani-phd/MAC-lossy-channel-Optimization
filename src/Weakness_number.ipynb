{
 "cells": [
  {
   "cell_type": "code",
   "execution_count": 42,
   "metadata": {},
   "outputs": [],
   "source": [
    "import numpy as np\n",
    "import pandas as pd"
   ]
  },
  {
   "cell_type": "code",
   "execution_count": 43,
   "metadata": {},
   "outputs": [],
   "source": [
    "input_df = np.array(\n",
    "    [[1,0,1,0,0],\n",
    "    [1,0,0,1,0],\n",
    "    [1,0,0,0,1],\n",
    "    [0,1,1,0,0],\n",
    "    [0,1,0,1,0],\n",
    "    [0,1,0,0,1]])"
   ]
  },
  {
   "cell_type": "code",
   "execution_count": 44,
   "metadata": {},
   "outputs": [
    {
     "name": "stdout",
     "output_type": "stream",
     "text": [
      "6 5\n"
     ]
    }
   ],
   "source": [
    "n_msg, n_tag = input_df.shape\n",
    "print(n_msg,n_tag)\n"
   ]
  },
  {
   "cell_type": "code",
   "execution_count": 45,
   "metadata": {},
   "outputs": [
    {
     "name": "stdout",
     "output_type": "stream",
     "text": [
      "     m1   m2   m3   m4   m5   m6   t1   t2   t3   t4   t5\n",
      "t1  1.0  1.0  1.0  0.0  0.0  0.0  3.0  0.0  0.0  0.0  0.0\n",
      "t2  0.0  0.0  0.0  1.0  1.0  1.0  0.0  3.0  0.0  0.0  0.0\n",
      "t3  1.0  0.0  0.0  1.0  0.0  0.0  0.0  0.0  2.0  0.0  0.0\n",
      "t4  0.0  1.0  0.0  0.0  1.0  0.0  0.0  0.0  0.0  2.0  0.0\n",
      "t5  0.0  0.0  1.0  0.0  0.0  1.0  0.0  0.0  0.0  0.0  2.0\n"
     ]
    }
   ],
   "source": [
    "#  build part one of matrix A for optimization \n",
    "\n",
    "a1 = []\n",
    "\n",
    "for i in range(n_tag):\n",
    "    # Part 1: Transpose of column i\n",
    "    part1 = input_df[:, i]\n",
    "    \n",
    "    # Part 2: All zeros except element i which is the sum of column i \n",
    "    # this specifies # of messages that tag i can verify\n",
    "\n",
    "    part2 = np.zeros(n_tag)\n",
    "    part2[i] = np.sum(input_df[:, i])\n",
    "    \n",
    "    # Combine part1 and part2\n",
    "    row = np.concatenate((part1, part2))\n",
    "    \n",
    "    # Append the row to the result matrix\n",
    "    a1.append(row)\n",
    "\n",
    "# Convert the result matrix to a NumPy array\n",
    "a1 = np.array(a1)\n",
    "\n",
    "\n",
    "col_names = [f\"m{i+1}\" for i in range(n_msg)] + [f\"t{i+1}\" for i in range(n_tag)]\n",
    "result_df = pd.DataFrame(a1)\n",
    "result_df.columns = col_names\n",
    "result_df.index = [f\"t{i+1}\" for i in range(n_tag)]\n",
    "print(result_df)\n"
   ]
  },
  {
   "cell_type": "code",
   "execution_count": 46,
   "metadata": {},
   "outputs": [
    {
     "name": "stdout",
     "output_type": "stream",
     "text": [
      "     m1   m2   m3   m4   m5   m6   t1   t2   t3   t4   t5\n",
      "0   1.0  0.0  0.0  0.0  0.0  0.0  1.0  0.0  0.0  0.0  0.0\n",
      "1   1.0  0.0  0.0  0.0  0.0  0.0  0.0  0.0  1.0  0.0  0.0\n",
      "2   0.0  1.0  0.0  0.0  0.0  0.0  1.0  0.0  0.0  0.0  0.0\n",
      "3   0.0  1.0  0.0  0.0  0.0  0.0  0.0  0.0  0.0  1.0  0.0\n",
      "4   0.0  0.0  1.0  0.0  0.0  0.0  1.0  0.0  0.0  0.0  0.0\n",
      "5   0.0  0.0  1.0  0.0  0.0  0.0  0.0  0.0  0.0  0.0  1.0\n",
      "6   0.0  0.0  0.0  1.0  0.0  0.0  0.0  1.0  0.0  0.0  0.0\n",
      "7   0.0  0.0  0.0  1.0  0.0  0.0  0.0  0.0  1.0  0.0  0.0\n",
      "8   0.0  0.0  0.0  0.0  1.0  0.0  0.0  1.0  0.0  0.0  0.0\n",
      "9   0.0  0.0  0.0  0.0  1.0  0.0  0.0  0.0  0.0  1.0  0.0\n",
      "10  0.0  0.0  0.0  0.0  0.0  1.0  0.0  1.0  0.0  0.0  0.0\n",
      "11  0.0  0.0  0.0  0.0  0.0  1.0  0.0  0.0  0.0  0.0  1.0\n"
     ]
    }
   ],
   "source": [
    "a2 = []\n",
    "\n",
    "# Iterate through each row of the input_df (messages)\n",
    "for i in range(n_msg):\n",
    "    row = input_df[i]\n",
    "    # Find the indices of ones in the row (tags that verifies the message)\n",
    "    ones_indices = np.where(row == 1)[0]  \n",
    "    \n",
    "    # Build the submatrix for the current row\n",
    "\n",
    "    for j in ones_indices:\n",
    "        # Part 1: All zeros except message i\n",
    "        part1 = np.zeros(n_msg)\n",
    "        part1[i] = 1\n",
    "        # Part 2: All zeros except tag j\n",
    "        part2 = np.zeros(n_tag)\n",
    "        part2[j] = 1\n",
    "        \n",
    "        # Combine part1 and part2\n",
    "        combined_row = np.concatenate((part1, part2))\n",
    "        \n",
    "        # Append the combined row to the result matrix\n",
    "        a2.append(combined_row)\n",
    "\n",
    "# Convert the result matrix to a NumPy array\n",
    "a2 = np.array(a2)\n",
    "\n",
    "col_names = [f\"m{i+1}\" for i in range(n_msg)] + [f\"t{i+1}\" for i in range(n_tag)]\n",
    "result_df = pd.DataFrame(result_matrix)\n",
    "result_df.columns = col_names\n",
    "print(result_df)"
   ]
  },
  {
   "cell_type": "code",
   "execution_count": 53,
   "metadata": {},
   "outputs": [
    {
     "name": "stdout",
     "output_type": "stream",
     "text": [
      "[[1. 0. 0. 0. 0. 0. 0. 0. 0. 0. 0.]\n",
      " [0. 1. 0. 0. 0. 0. 0. 0. 0. 0. 0.]\n",
      " [0. 0. 1. 0. 0. 0. 0. 0. 0. 0. 0.]\n",
      " [0. 0. 0. 1. 0. 0. 0. 0. 0. 0. 0.]\n",
      " [0. 0. 0. 0. 1. 0. 0. 0. 0. 0. 0.]\n",
      " [0. 0. 0. 0. 0. 1. 0. 0. 0. 0. 0.]]\n"
     ]
    }
   ],
   "source": [
    "a3 = []\n",
    "for i in range(n_msg):\n",
    "    part1 = np.zeros(n_msg+n_tag)\n",
    "    part1[i] = 1\n",
    "    a3.append(part1)\n",
    "# Convert the result matrix to a NumPy array\n",
    "a3 = np.array(a3)\n",
    "print(a3)"
   ]
  },
  {
   "cell_type": "code",
   "execution_count": 54,
   "metadata": {},
   "outputs": [
    {
     "name": "stdout",
     "output_type": "stream",
     "text": [
      "[[-1.  0.  0.  0.  0.  0.  0.  0.  0.  0.  0.]\n",
      " [ 0. -1.  0.  0.  0.  0.  0.  0.  0.  0.  0.]\n",
      " [ 0.  0. -1.  0.  0.  0.  0.  0.  0.  0.  0.]\n",
      " [ 0.  0.  0. -1.  0.  0.  0.  0.  0.  0.  0.]\n",
      " [ 0.  0.  0.  0. -1.  0.  0.  0.  0.  0.  0.]\n",
      " [ 0.  0.  0.  0.  0. -1.  0.  0.  0.  0.  0.]]\n"
     ]
    }
   ],
   "source": [
    "a4 = []\n",
    "for i in range(n_msg):\n",
    "    part1 = np.zeros(n_msg+n_tag)\n",
    "    part1[i] = -1\n",
    "    a4.append(part1)\n",
    "\n",
    "# Convert the result matrix to a NumPy array\n",
    "a4 = np.array(a4)\n",
    "print(a4)"
   ]
  },
  {
   "cell_type": "code",
   "execution_count": 57,
   "metadata": {},
   "outputs": [
    {
     "name": "stdout",
     "output_type": "stream",
     "text": [
      "[[0. 0. 0. 0. 0. 0. 1. 0. 0. 0. 0.]\n",
      " [0. 0. 0. 0. 0. 0. 0. 1. 0. 0. 0.]\n",
      " [0. 0. 0. 0. 0. 0. 0. 0. 1. 0. 0.]\n",
      " [0. 0. 0. 0. 0. 0. 0. 0. 0. 1. 0.]\n",
      " [0. 0. 0. 0. 0. 0. 0. 0. 0. 0. 1.]]\n"
     ]
    }
   ],
   "source": [
    "a5 = []\n",
    "for i in range(n_tag):\n",
    "    part1 = np.zeros(n_msg+n_tag)\n",
    "    part1[n_msg+i] = 1\n",
    "    a5.append(part1)\n",
    "\n",
    "# Convert the result matrix to a NumPy array\n",
    "a5 = np.array(a5)\n",
    "print(a5)"
   ]
  },
  {
   "cell_type": "code",
   "execution_count": 58,
   "metadata": {},
   "outputs": [
    {
     "name": "stdout",
     "output_type": "stream",
     "text": [
      "[[0. 0. 0. 0. 0. 0. 1. 0. 0. 0. 0.]\n",
      " [0. 0. 0. 0. 0. 0. 0. 1. 0. 0. 0.]\n",
      " [0. 0. 0. 0. 0. 0. 0. 0. 1. 0. 0.]\n",
      " [0. 0. 0. 0. 0. 0. 0. 0. 0. 1. 0.]\n",
      " [0. 0. 0. 0. 0. 0. 0. 0. 0. 0. 1.]]\n"
     ]
    }
   ],
   "source": [
    "a6 = []\n",
    "for i in range(n_tag):\n",
    "    part1 = np.zeros(n_msg+n_tag)\n",
    "    part1[n_msg+i] = -1\n",
    "    a6.append(part1)\n",
    "\n",
    "# Convert the result matrix to a NumPy array\n",
    "a6 = np.array(a6)\n",
    "print(a5)"
   ]
  },
  {
   "cell_type": "code",
   "execution_count": 60,
   "metadata": {},
   "outputs": [
    {
     "name": "stdout",
     "output_type": "stream",
     "text": [
      "[1.e-06 1.e-06 1.e-06 1.e-06 1.e-06]\n",
      "[0. 0. 0. 0. 0. 0. 0. 0. 0. 0. 0. 0.]\n",
      "[-1. -1. -1. -1. -1. -1. -1. -1. -1. -1. -1.]\n"
     ]
    }
   ],
   "source": [
    "# build b\n",
    "epsilon = 1e-6\n",
    "b1 = np.zeros(n_tag) + epsilon\n",
    "print(b1)\n",
    "b2 = np.zeros(a2.shape[0])\n",
    "print(b2)\n",
    "b3 = np.ones(n_msg+n_tag)\n",
    "b4 = np.zeros(n_msg+n_tag)\n",
    "b5 = np.ones(n_msg+n_tag)\n",
    "b6 = -np.ones(n_msg+n_tag)\n",
    "print(b6)"
   ]
  },
  {
   "cell_type": "code",
   "execution_count": 50,
   "metadata": {},
   "outputs": [
    {
     "name": "stdout",
     "output_type": "stream",
     "text": [
      "[1. 1. 1. 1. 1. 1. 0. 0. 0. 0. 0.]\n"
     ]
    }
   ],
   "source": [
    "#build c\n",
    "c = np.concatenate((np.ones(n_msg), np.zeros(n_tag)))\n",
    "print(c)"
   ]
  }
 ],
 "metadata": {
  "kernelspec": {
   "display_name": "Python 3",
   "language": "python",
   "name": "python3"
  },
  "language_info": {
   "codemirror_mode": {
    "name": "ipython",
    "version": 3
   },
   "file_extension": ".py",
   "mimetype": "text/x-python",
   "name": "python",
   "nbconvert_exporter": "python",
   "pygments_lexer": "ipython3",
   "version": "3.10.11"
  }
 },
 "nbformat": 4,
 "nbformat_minor": 2
}
