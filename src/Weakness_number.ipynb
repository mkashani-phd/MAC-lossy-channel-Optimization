{
 "cells": [
  {
   "cell_type": "code",
   "execution_count": 42,
   "metadata": {},
   "outputs": [],
   "source": [
    "import numpy as np\n",
    "import pandas as pd"
   ]
  },
  {
   "cell_type": "code",
   "execution_count": 43,
   "metadata": {},
   "outputs": [],
   "source": [
    "input_df = np.array(\n",
    "    [[1,0,1,0,0],\n",
    "    [1,0,0,1,0],\n",
    "    [1,0,0,0,1],\n",
    "    [0,1,1,0,0],\n",
    "    [0,1,0,1,0],\n",
    "    [0,1,0,0,1]])"
   ]
  },
  {
   "cell_type": "code",
   "execution_count": 44,
   "metadata": {},
   "outputs": [
    {
     "name": "stdout",
     "output_type": "stream",
     "text": [
      "6 5\n"
     ]
    }
   ],
   "source": [
    "n_msg, n_tag = input_df.shape\n",
    "print(n_msg,n_tag)\n"
   ]
  },
  {
   "cell_type": "code",
   "execution_count": 67,
   "metadata": {},
   "outputs": [
    {
     "name": "stdout",
     "output_type": "stream",
     "text": [
      "     m1   m2   m3   m4   m5   m6   t1   t2   t3   t4   t5\n",
      "t1 -1.0 -1.0 -1.0  0.0  0.0  0.0  1.0  0.0  0.0  0.0  0.0\n",
      "t2  0.0  0.0  0.0 -1.0 -1.0 -1.0  0.0  1.0  0.0  0.0  0.0\n",
      "t3 -1.0  0.0  0.0 -1.0  0.0  0.0  0.0  0.0  1.0  0.0  0.0\n",
      "t4  0.0 -1.0  0.0  0.0 -1.0  0.0  0.0  0.0  0.0  1.0  0.0\n",
      "t5  0.0  0.0 -1.0  0.0  0.0 -1.0  0.0  0.0  0.0  0.0  1.0\n"
     ]
    }
   ],
   "source": [
    "#  build part one of matrix A for optimization \n",
    "\n",
    "a1 = []\n",
    "\n",
    "for i in range(n_tag):\n",
    "    # Part 1: Transpose of column i\n",
    "    part1 = -input_df[:, i]\n",
    "    \n",
    "    # Part 2: All zeros except element i which is the sum of column i \n",
    "    # this specifies # of messages that tag i can verify\n",
    "\n",
    "    part2 = np.zeros(n_tag)\n",
    "    part2[i] = 1#-np.sum(input_df[:, i])\n",
    "    \n",
    "    # Combine part1 and part2\n",
    "    row = np.concatenate((part1, part2))\n",
    "    \n",
    "    # Append the row to the result matrix\n",
    "    a1.append(row)\n",
    "\n",
    "# Convert the result matrix to a NumPy array\n",
    "a1 = np.array(a1)\n",
    "\n",
    "\n",
    "col_names = [f\"m{i+1}\" for i in range(n_msg)] + [f\"t{i+1}\" for i in range(n_tag)]\n",
    "result_df = pd.DataFrame(a1)\n",
    "result_df.columns = col_names\n",
    "result_df.index = [f\"t{i+1}\" for i in range(n_tag)]\n",
    "print(result_df)\n"
   ]
  },
  {
   "cell_type": "code",
   "execution_count": 64,
   "metadata": {},
   "outputs": [
    {
     "name": "stdout",
     "output_type": "stream",
     "text": [
      "     m1   m2   m3   m4   m5   m6   t1   t2   t3   t4   t5\n",
      "0  -1.0  0.0  0.0  0.0  0.0  0.0  1.0  0.0  0.0  0.0  0.0\n",
      "1  -1.0  0.0  0.0  0.0  0.0  0.0  0.0  0.0  1.0  0.0  0.0\n",
      "2   0.0 -1.0  0.0  0.0  0.0  0.0  1.0  0.0  0.0  0.0  0.0\n",
      "3   0.0 -1.0  0.0  0.0  0.0  0.0  0.0  0.0  0.0  1.0  0.0\n",
      "4   0.0  0.0 -1.0  0.0  0.0  0.0  1.0  0.0  0.0  0.0  0.0\n",
      "5   0.0  0.0 -1.0  0.0  0.0  0.0  0.0  0.0  0.0  0.0  1.0\n",
      "6   0.0  0.0  0.0 -1.0  0.0  0.0  0.0  1.0  0.0  0.0  0.0\n",
      "7   0.0  0.0  0.0 -1.0  0.0  0.0  0.0  0.0  1.0  0.0  0.0\n",
      "8   0.0  0.0  0.0  0.0 -1.0  0.0  0.0  1.0  0.0  0.0  0.0\n",
      "9   0.0  0.0  0.0  0.0 -1.0  0.0  0.0  0.0  0.0  1.0  0.0\n",
      "10  0.0  0.0  0.0  0.0  0.0 -1.0  0.0  1.0  0.0  0.0  0.0\n",
      "11  0.0  0.0  0.0  0.0  0.0 -1.0  0.0  0.0  0.0  0.0  1.0\n"
     ]
    }
   ],
   "source": [
    "a2 = []\n",
    "\n",
    "# Iterate through each row of the input_df (messages)\n",
    "for i in range(n_msg):\n",
    "    row = input_df[i]\n",
    "    # Find the indices of ones in the row (tags that verifies the message)\n",
    "    ones_indices = np.where(row == 1)[0]  \n",
    "    \n",
    "    # Build the submatrix for the current row\n",
    "\n",
    "    for j in ones_indices:\n",
    "        # Part 1: All zeros except message i\n",
    "        part1 = np.zeros(n_msg)\n",
    "        part1[i] = -1\n",
    "        # Part 2: All zeros except tag j\n",
    "        part2 = np.zeros(n_tag)\n",
    "        part2[j] = 1\n",
    "        \n",
    "        # Combine part1 and part2\n",
    "        combined_row = np.concatenate((part1, part2))\n",
    "        \n",
    "        # Append the combined row to the result matrix\n",
    "        a2.append(combined_row)\n",
    "\n",
    "# Convert the result matrix to a NumPy array\n",
    "a2 = np.array(a2)\n",
    "\n",
    "col_names = [f\"m{i+1}\" for i in range(n_msg)] + [f\"t{i+1}\" for i in range(n_tag)]\n",
    "result_df = pd.DataFrame(a2)\n",
    "result_df.columns = col_names\n",
    "print(result_df)"
   ]
  },
  {
   "cell_type": "code",
   "execution_count": 53,
   "metadata": {},
   "outputs": [
    {
     "name": "stdout",
     "output_type": "stream",
     "text": [
      "[[1. 0. 0. 0. 0. 0. 0. 0. 0. 0. 0.]\n",
      " [0. 1. 0. 0. 0. 0. 0. 0. 0. 0. 0.]\n",
      " [0. 0. 1. 0. 0. 0. 0. 0. 0. 0. 0.]\n",
      " [0. 0. 0. 1. 0. 0. 0. 0. 0. 0. 0.]\n",
      " [0. 0. 0. 0. 1. 0. 0. 0. 0. 0. 0.]\n",
      " [0. 0. 0. 0. 0. 1. 0. 0. 0. 0. 0.]]\n"
     ]
    }
   ],
   "source": [
    "a3 = []\n",
    "for i in range(n_msg):\n",
    "    part1 = np.zeros(n_msg+n_tag)\n",
    "    part1[i] = 1\n",
    "    a3.append(part1)\n",
    "# Convert the result matrix to a NumPy array\n",
    "a3 = np.array(a3)\n",
    "print(a3)"
   ]
  },
  {
   "cell_type": "code",
   "execution_count": 54,
   "metadata": {},
   "outputs": [
    {
     "name": "stdout",
     "output_type": "stream",
     "text": [
      "[[-1.  0.  0.  0.  0.  0.  0.  0.  0.  0.  0.]\n",
      " [ 0. -1.  0.  0.  0.  0.  0.  0.  0.  0.  0.]\n",
      " [ 0.  0. -1.  0.  0.  0.  0.  0.  0.  0.  0.]\n",
      " [ 0.  0.  0. -1.  0.  0.  0.  0.  0.  0.  0.]\n",
      " [ 0.  0.  0.  0. -1.  0.  0.  0.  0.  0.  0.]\n",
      " [ 0.  0.  0.  0.  0. -1.  0.  0.  0.  0.  0.]]\n"
     ]
    }
   ],
   "source": [
    "a4 = []\n",
    "for i in range(n_msg):\n",
    "    part1 = np.zeros(n_msg+n_tag)\n",
    "    part1[i] = -1\n",
    "    a4.append(part1)\n",
    "\n",
    "# Convert the result matrix to a NumPy array\n",
    "a4 = np.array(a4)\n",
    "print(a4)"
   ]
  },
  {
   "cell_type": "code",
   "execution_count": 57,
   "metadata": {},
   "outputs": [
    {
     "name": "stdout",
     "output_type": "stream",
     "text": [
      "[[0. 0. 0. 0. 0. 0. 1. 0. 0. 0. 0.]\n",
      " [0. 0. 0. 0. 0. 0. 0. 1. 0. 0. 0.]\n",
      " [0. 0. 0. 0. 0. 0. 0. 0. 1. 0. 0.]\n",
      " [0. 0. 0. 0. 0. 0. 0. 0. 0. 1. 0.]\n",
      " [0. 0. 0. 0. 0. 0. 0. 0. 0. 0. 1.]]\n"
     ]
    }
   ],
   "source": [
    "a5 = []\n",
    "for i in range(n_tag):\n",
    "    part1 = np.zeros(n_msg+n_tag)\n",
    "    part1[n_msg+i] = 1\n",
    "    a5.append(part1)\n",
    "\n",
    "# Convert the result matrix to a NumPy array\n",
    "a5 = np.array(a5)\n",
    "print(a5)"
   ]
  },
  {
   "cell_type": "code",
   "execution_count": 58,
   "metadata": {},
   "outputs": [
    {
     "name": "stdout",
     "output_type": "stream",
     "text": [
      "[[0. 0. 0. 0. 0. 0. 1. 0. 0. 0. 0.]\n",
      " [0. 0. 0. 0. 0. 0. 0. 1. 0. 0. 0.]\n",
      " [0. 0. 0. 0. 0. 0. 0. 0. 1. 0. 0.]\n",
      " [0. 0. 0. 0. 0. 0. 0. 0. 0. 1. 0.]\n",
      " [0. 0. 0. 0. 0. 0. 0. 0. 0. 0. 1.]]\n"
     ]
    }
   ],
   "source": [
    "a6 = []\n",
    "for i in range(n_tag):\n",
    "    part1 = np.zeros(n_msg+n_tag)\n",
    "    part1[n_msg+i] = -1\n",
    "    a6.append(part1)\n",
    "\n",
    "# Convert the result matrix to a NumPy array\n",
    "a6 = np.array(a6)\n",
    "print(a5)"
   ]
  },
  {
   "cell_type": "code",
   "execution_count": 79,
   "metadata": {},
   "outputs": [
    {
     "name": "stdout",
     "output_type": "stream",
     "text": [
      "[0. 0. 0. 0. 0.]\n",
      "[0. 0. 0. 0. 0. 0. 0. 0. 0. 0. 0. 0.]\n",
      "[-1. -1. -1. -1. -1.]\n"
     ]
    }
   ],
   "source": [
    "# build b\n",
    "epsilon = 1e-6\n",
    "b1 = np.zeros(n_tag)\n",
    "print(b1)\n",
    "b2 = np.zeros(a2.shape[0])\n",
    "print(b2)\n",
    "b3 = np.ones(n_msg)\n",
    "b4 = np.zeros(n_msg)\n",
    "b5 = np.ones(n_tag)\n",
    "b6 = -np.ones(n_tag)\n",
    "print(b6)"
   ]
  },
  {
   "cell_type": "code",
   "execution_count": 68,
   "metadata": {},
   "outputs": [
    {
     "name": "stdout",
     "output_type": "stream",
     "text": [
      "[1. 1. 1. 1. 1. 1. 0. 0. 0. 0. 0.]\n"
     ]
    }
   ],
   "source": [
    "#build c\n",
    "C = np.concatenate((np.ones(n_msg), np.zeros(n_tag)))\n",
    "print(c)"
   ]
  },
  {
   "cell_type": "code",
   "execution_count": 80,
   "metadata": {},
   "outputs": [],
   "source": [
    "\n",
    "A = np.concatenate((a1, a2, a3, a4, a5, a6), axis=0)\n",
    "\n",
    "B = np.concatenate((b1,b2,b3,b4,b5,b6))\n"
   ]
  },
  {
   "cell_type": "code",
   "execution_count": 81,
   "metadata": {},
   "outputs": [
    {
     "name": "stdout",
     "output_type": "stream",
     "text": [
      "(11,)\n",
      "(39, 11)\n",
      "(39,)\n"
     ]
    }
   ],
   "source": [
    "print(C.shape)\n",
    "print(A.shape)\n",
    "print(B.shape)"
   ]
  },
  {
   "cell_type": "code",
   "execution_count": 82,
   "metadata": {},
   "outputs": [
    {
     "name": "stderr",
     "output_type": "stream",
     "text": [
      "/Library/Frameworks/Python.framework/Versions/3.10/lib/python3.10/site-packages/pulp/pulp.py:1316: UserWarning: Spaces are not permitted in the name. Converted to '_'\n",
      "  warnings.warn(\"Spaces are not permitted in the name. Converted to '_'\")\n"
     ]
    },
    {
     "name": "stdout",
     "output_type": "stream",
     "text": [
      "Welcome to the CBC MILP Solver \n",
      "Version: 2.10.3 \n",
      "Build Date: Dec 15 2019 \n",
      "\n",
      "command line - /Library/Frameworks/Python.framework/Versions/3.10/lib/python3.10/site-packages/pulp/solverdir/cbc/osx/64/cbc /var/folders/jv/12n64fl91y1d9jr6561fpx2c0000gn/T/346dea4676f84b66843faabb9a3b939e-pulp.mps -timeMode elapsed -branch -printingOptions all -solution /var/folders/jv/12n64fl91y1d9jr6561fpx2c0000gn/T/346dea4676f84b66843faabb9a3b939e-pulp.sol (default strategy 1)\n",
      "At line 2 NAME          MODEL\n",
      "At line 3 ROWS\n",
      "At line 44 COLUMNS\n",
      "At line 136 RHS\n",
      "At line 176 BOUNDS\n",
      "At line 188 ENDATA\n",
      "Problem MODEL has 39 rows, 11 columns and 63 elements\n",
      "Coin0008I MODEL read with 0 errors\n",
      "Option for timeMode changed from cpu to elapsed\n",
      "Continuous objective value is 6 - 0.00 seconds\n",
      "Cgl0002I 5 variables fixed\n",
      "Cgl0004I processed model has 0 rows, 0 columns (0 integer (0 of which binary)) and 0 elements\n",
      "Cbc3007W No integer variables - nothing to do\n",
      "Cuts at root node changed objective from 6 to -1.79769e+308\n",
      "Probing was tried 0 times and created 0 cuts of which 0 were active after adding rounds of cuts (0.000 seconds)\n",
      "Gomory was tried 0 times and created 0 cuts of which 0 were active after adding rounds of cuts (0.000 seconds)\n",
      "Knapsack was tried 0 times and created 0 cuts of which 0 were active after adding rounds of cuts (0.000 seconds)\n",
      "Clique was tried 0 times and created 0 cuts of which 0 were active after adding rounds of cuts (0.000 seconds)\n",
      "MixedIntegerRounding2 was tried 0 times and created 0 cuts of which 0 were active after adding rounds of cuts (0.000 seconds)\n",
      "FlowCover was tried 0 times and created 0 cuts of which 0 were active after adding rounds of cuts (0.000 seconds)\n",
      "TwoMirCuts was tried 0 times and created 0 cuts of which 0 were active after adding rounds of cuts (0.000 seconds)\n",
      "ZeroHalf was tried 0 times and created 0 cuts of which 0 were active after adding rounds of cuts (0.000 seconds)\n",
      "\n",
      "Result - Optimal solution found\n",
      "\n",
      "Objective value:                6.00000000\n",
      "Enumerated nodes:               0\n",
      "Total iterations:               0\n",
      "Time (CPU seconds):             0.00\n",
      "Time (Wallclock seconds):       0.00\n",
      "\n",
      "Option for printingOptions changed from normal to all\n",
      "Total time (CPU seconds):       0.00   (Wallclock seconds):       0.00\n",
      "\n",
      "Status: 1\n",
      "Objective value: 6.0\n",
      "x1: 1.0\n",
      "x2: 1.0\n",
      "x3: 1.0\n",
      "x4: 1.0\n",
      "x5: 1.0\n",
      "x6: 1.0\n",
      "x7: 1.0\n",
      "x8: 1.0\n",
      "x9: 1.0\n",
      "x10: 1.0\n",
      "x11: 1.0\n"
     ]
    }
   ],
   "source": [
    "from pulp import LpMinimize, LpProblem, LpVariable, lpSum, PULP_CBC_CMD\n",
    "\n",
    "prob = LpProblem(\"Binary LP Problem\", LpMinimize)\n",
    "\n",
    "# Define the variables\n",
    "x = [LpVariable(f'x{i}', cat='Binary') for i in range(len(C))]\n",
    "\n",
    "# Define the objective function\n",
    "prob += lpSum(C[i] * x[i] for i in range(len(C)))\n",
    "\n",
    "# Define the constraints\n",
    "for i in range(len(A)):\n",
    "    prob += lpSum(A[i][j] * x[j] for j in range(len(C))) <= B[i]\n",
    "\n",
    "# Solve the problem\n",
    "prob.solve(PULP_CBC_CMD())\n",
    "\n",
    "# Print the results\n",
    "print(\"Status:\", prob.status)\n",
    "print(\"Objective value:\", prob.objective.value())\n",
    "for i in range(len(C)):\n",
    "    print(f\"x{i+1}:\", x[i].value())"
   ]
  }
 ],
 "metadata": {
  "kernelspec": {
   "display_name": "Python 3",
   "language": "python",
   "name": "python3"
  },
  "language_info": {
   "codemirror_mode": {
    "name": "ipython",
    "version": 3
   },
   "file_extension": ".py",
   "mimetype": "text/x-python",
   "name": "python",
   "nbconvert_exporter": "python",
   "pygments_lexer": "ipython3",
   "version": "3.10.11"
  }
 },
 "nbformat": 4,
 "nbformat_minor": 2
}
