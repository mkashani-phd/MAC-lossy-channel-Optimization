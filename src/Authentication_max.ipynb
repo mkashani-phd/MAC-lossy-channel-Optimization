{
 "cells": [
  {
   "cell_type": "markdown",
   "metadata": {},
   "source": [
    "# Original Objective function\n",
    "$$\n",
    "E(A_{i}) = \\sum_{j \\in \\{1, \\ldots, n\\}}^{\\text{tag}} k_{ij} q_j \\prod_{i' \\in \\{1, \\ldots, m\\}}^{\\text{msg}} \\left( k_{i'j} p_{i'} + 0^{k_{i'j}} \\right)\n",
    "$$"
   ]
  },
  {
   "cell_type": "markdown",
   "metadata": {},
   "source": [
    "### Simplification assumption\n",
    "We assume probobility of recieving a tag $q_{j}$ is equal to probobility of recieving message $p_{i}$  \n",
    "$$q_{j} = p_{i} = p$$"
   ]
  },
  {
   "cell_type": "markdown",
   "metadata": {},
   "source": [
    "### C1 : Using all tags\n",
    "Each tag must verify at least one message\n",
    "$$\n",
    "\\sum_{i=1}^{m} k_{ij} \\geq 1 \\quad \\text{for each } j \\in \\{1, 2, \\ldots, \\text{|T|}\\}\n",
    "$$\n",
    "### C2: Using all messages\n",
    "Each message must be signed with at least one tag\n",
    "$$\n",
    "\\sum_{j=1}^{n} k_{ij} \\geq 1 \\quad \\text{for each } i \\in \\{1, 2, \\ldots, \\text{|M|}\\}\n",
    "$$"
   ]
  },
  {
   "cell_type": "markdown",
   "metadata": {},
   "source": [
    "### C3: Define auxiliary varible for number of messages each tag signs\n",
    "we define number of messages that each tag signs as an auxiliray variable to use later in transforming objective function to a linear model\n",
    "$$\n",
    "z_j = \\sum_{i=1}^{n} k_{ij} \\quad \\text{for each } j \\in \\{1, 2, \\ldots, \\text{tags}\\}\n",
    "$$\n",
    "$$\n",
    "z_j \\geq 1 \\quad \\text{for each } j \\in \\{1, 2, \\ldots, \\text{tags}\\}\n",
    "$$\n"
   ]
  },
  {
   "cell_type": "markdown",
   "metadata": {},
   "source": [
    "### C4: Re-writing the product part in linear\n",
    "After simplifying all probobilities to be equal the product part could be linearized using some auxiliary variable and constraints as follow:\n",
    "\n",
    "$$\n",
    "\\prod_{i' \\in \\{1, \\ldots, m\\}}^{\\text{msg}} \\left( k_{i'j} p_{i'} + 0^{k_{i'j}} \\right) = \\sum_{j \\in \\{1, \\ldots, n\\}}^{\\text{tag}} w_{j} p^j\n",
    "$$\n",
    "\n",
    "$$\n",
    " \\sum_{j \\in \\{1, \\ldots, n\\}}^{\\text{tag}} w_{j} = 1  \\quad j \\in \\{0,1\\}\n",
    "\n",
    "$$\n",
    "Now the next constraint should be define to force the correcponding $w_j = 1$ which can be done using another auxiliary variable and two constraints as follow\n",
    "$$z_{j} - j \\leq M w_{j}$$\n",
    "$$j - z_{j} \\leq M (1-w_{j})$$\n"
   ]
  },
  {
   "cell_type": "markdown",
   "metadata": {},
   "source": [
    "## Simplified Objective function\n",
    "With linearizing product part, the objective function could be rewritten as: \n",
    "\n",
    "$$\n",
    "E(A_{i}) = \\sum_{j \\in \\{1, \\ldots, n\\}}^{\\text{tag}} k_{ij} p \\sum_{j \\in \\{1, \\ldots, n\\}}^{\\text{tag}} w_{j} p^j \n",
    "$$\n",
    "or even more simple as\n",
    "$$\n",
    "E(A_{i}) = \\sum_{j \\in \\{1, \\ldots, n\\}}^{\\text{tag}} k_{ij}\\text{ } w_{j}\\text{ } p^{(j+1)}\n",
    "\n",
    "$$"
   ]
  },
  {
   "cell_type": "markdown",
   "metadata": {},
   "source": [
    "The final part is linearizing the product of the two binary variables $k_{ij}w_{j}$ which could be done this way:\n",
    "\n",
    "$$x_{ij} \\leq k_{ij} $$\n",
    "$$x_{ij} \\leq w_{j} $$\n",
    "$$x_{ij} \\geq k_{ij} + w_{j} -1 $$\n",
    "$$x_{ij}\\in \\{0,1\\}$$"
   ]
  },
  {
   "cell_type": "markdown",
   "metadata": {},
   "source": [
    "# Linear Objective function\n",
    "$$\n",
    "E(A_{i}) = \\sum_{j \\in \\{1, \\ldots, n\\}}^{\\text{tag}} x_{ij}\\text{ } p^{(j+1)}$$"
   ]
  },
  {
   "cell_type": "code",
   "execution_count": null,
   "metadata": {},
   "outputs": [],
   "source": [
    "import numpy as np\n",
    "import pandas as pd\n",
    "from pulp import *"
   ]
  },
  {
   "cell_type": "code",
   "execution_count": 39,
   "metadata": {},
   "outputs": [],
   "source": [
    "P = {j: p**j for j in range(1, n_tags+2)}  # p^j coefficients\n",
    "M = 1000     # A sufficiently large number for the constraints\n"
   ]
  },
  {
   "cell_type": "code",
   "execution_count": 40,
   "metadata": {},
   "outputs": [],
   "source": [
    "\n",
    "def max_expected_A(n_tags, m_msgs, p):\n",
    "   \n",
    "    # Create a PuLP problem with maximization\n",
    "    prob = LpProblem(\"Maximize_Expected_A\", LpMaximize)\n",
    "\n",
    "    # Define the binary variables k indexed by (i, j)\n",
    "    k = {(i, j): LpVariable(f'k_{i}_{j}', cat='Binary') for i in range(1, m_msgs+1) for j in range(1, n_tags+1)}\n",
    "\n",
    "    # Define the binary variables w indexed by j\n",
    "    w = {j: LpVariable(f'w_{j}', cat='Binary') for j in range(1, n_tags+1)}\n",
    "\n",
    "    # Define the continuous variables z indexed by j\n",
    "    z = {j: LpVariable(f'z_{j}', cat='Integer', lowBound=0) for j in range(1, n_tags+1)}\n",
    "\n",
    "    # Define the binary variables x indexed by (i, j)\n",
    "    x = {(i, j): LpVariable(f'x_{i}_{j}', cat='Binary') for i in range(1, m_msgs+1) for j in range(1, n_tags+1)}\n",
    "\n",
    "    # Constraints\n",
    "    for j in range(1, n_tags+1):\n",
    "        prob += lpSum(k[i, j] for i in range(1, m_msgs+1)) >= 1, f\"Tag_{j}_constraint\"\n",
    "\n",
    "    for i in range(1, m_msgs+1):\n",
    "        prob += lpSum(k[i, j] for j in range(1, n_tags+1)) >= 1, f\"Message_{i}_constraint\"\n",
    "\n",
    "    for j in range(1, n_tags+1):\n",
    "        prob += z[j] == lpSum(k[i, j] for i in range(1, m_msgs+1)), f\"Z_{j}_definition\"\n",
    "        prob += z[j] >= 1, f\"Z_{j}_non_zero\"\n",
    "        \n",
    "    prob += lpSum(w[j] for j in range(1, n_tags+1)) == 1, \"Sum_w_equals_1\"\n",
    "\n",
    "    for j in range(1, n_tags+1):\n",
    "        prob += z[j] - j <= M * w[j], f\"BigM_1_{j}\"\n",
    "        prob += j - z[j] <= M * (1 - w[j]), f\"BigM_2_{j}\"\n",
    "\n",
    "    for i in range(1, m_msgs+1):\n",
    "        for j in range(1, n_tags+1):\n",
    "            prob += x[i, j] <= k[i, j], f\"x_{i}_{j}_leq_k_{i}_{j}\"\n",
    "            prob += x[i, j] <= w[j], f\"x_{i}_{j}_leq_w_{j}\"\n",
    "            prob += x[i, j] >= k[i, j] + w[j] - 1, f\"x_{i}_{j}_geq_k_{i}_{j}_plus_w_{j}_minus_1\"\n",
    "\n",
    "\n",
    "    # Objective Function\n",
    "    prob += lpSum(x[i, j] * P[j+1] for i in range(1, m_msgs+1) for j in range(1, n_tags+1)), \"Maximize_E_A\"\n",
    "\n",
    "    # Solve the problem\n",
    "    prob.solve()\n",
    "\n",
    "    # Extract the optimal values of k_{ij}\n",
    "    k_values = np.zeros((m_msgs, n_tags), dtype=int)\n",
    "    for i in range(1, m_msgs+1):\n",
    "        for j in range(1, n_tags+1):\n",
    "            k_values[i-1, j-1] = value(k[i, j])\n",
    "\n",
    "    k_df = pd.DataFrame(k_values, columns=[f'k_{j}' for j in range(1, n_tags+1)], index=[f'Msg_{i}' for i in range(1, m_msgs+1)])\n",
    "    k_df.columns = [f't{i}' for i in range(1,n_tags+1)]\n",
    "    k_df.index = [f'm{i}' for i in range(1,m_msgs+1)]\n",
    "    print(k_df)\n",
    "\n",
    "    # Print the variable values\n",
    "    for v in prob.variables():\n",
    "        print(f\"{v.name} = {v.varValue}\")\n",
    "\n",
    "    # Print the objective value\n",
    "    print(f\"Objective value: {value(prob.objective)}\")\n",
    "    \n",
    "    return k_df\n"
   ]
  },
  {
   "cell_type": "code",
   "execution_count": null,
   "metadata": {},
   "outputs": [],
   "source": [
    "n_tags = 10  \n",
    "m_msgs = 15   \n",
    "p = 0.9     \n",
    "max_expected_A(n_tags, m_msgs, p)"
   ]
  },
  {
   "cell_type": "code",
   "execution_count": null,
   "metadata": {},
   "outputs": [],
   "source": [
    "P = {j: p**j for j in range(1, n_tags+2)}  # Example values, replace with actual p values\n",
    "P"
   ]
  }
 ],
 "metadata": {
  "kernelspec": {
   "display_name": "Python 3",
   "language": "python",
   "name": "python3"
  },
  "language_info": {
   "codemirror_mode": {
    "name": "ipython",
    "version": 3
   },
   "file_extension": ".py",
   "mimetype": "text/x-python",
   "name": "python",
   "nbconvert_exporter": "python",
   "pygments_lexer": "ipython3",
   "version": "3.10.11"
  }
 },
 "nbformat": 4,
 "nbformat_minor": 2
}
