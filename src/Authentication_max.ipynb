{
 "cells": [
  {
   "cell_type": "markdown",
   "metadata": {},
   "source": [
    "# Original Objective function\n",
    "$$\n",
    "E(A_{i}) = \\sum_{j \\in \\{1, \\ldots, n\\}}^{\\text{tag}} k_{ij} q_j \\prod_{i' \\in \\{1, \\ldots, m\\}}^{\\text{msg}} \\left( k_{i'j} p_{i'} + 0^{k_{i'j}} \\right)\n",
    "$$"
   ]
  },
  {
   "cell_type": "markdown",
   "metadata": {},
   "source": [
    "### Simplification assumption\n",
    "We assume probobility of recieving a tag $q_{j}$ is equal to probobility of recieving message $p_{i}$  \n",
    "$$q_{j} = p_{i} = p$$"
   ]
  },
  {
   "cell_type": "markdown",
   "metadata": {},
   "source": [
    "### C1 : Using all tags\n",
    "Each tag must verify at least one message\n",
    "$$\n",
    "\\sum_{i=1}^{m} k_{ij} \\geq 1 \\quad \\text{for each } j \\in \\{1, 2, \\ldots, \\text{|T|}\\}\n",
    "$$\n",
    "### C2: Using all messages\n",
    "Each message must be signed with at least one tag\n",
    "$$\n",
    "\\sum_{j=1}^{n} k_{ij} \\geq 1 \\quad \\text{for each } i \\in \\{1, 2, \\ldots, \\text{|M|}\\}\n",
    "$$"
   ]
  },
  {
   "cell_type": "markdown",
   "metadata": {},
   "source": [
    "### C3: Define auxiliary varible for number of messages each tag signs\n",
    "we define number of messages that each tag signs as an auxiliray variable to use later in transforming objective function to a linear model\n",
    "$$\n",
    "z_j = \\sum_{i=1}^{n} k_{ij} \\quad \\text{for each } j \\in \\{1, 2, \\ldots, \\text{tags}\\}\n",
    "$$\n",
    "$$\n",
    "z_j \\geq 1 \\quad \\text{for each } j \\in \\{1, 2, \\ldots, \\text{tags}\\}\n",
    "$$\n"
   ]
  },
  {
   "cell_type": "markdown",
   "metadata": {},
   "source": [
    "### C4: Re-writing the product part in linear\n",
    "After simplifying all probobilities to be equal the product part could be linearized using some auxiliary variable and constraints as follow:\n",
    "\n",
    "$$\n",
    "\\prod_{i' \\in \\{1, \\ldots, m\\}}^{\\text{msg}} \\left( k_{i'j} p_{i'} + 0^{k_{i'j}} \\right) = \\sum_{j \\in \\{1, \\ldots, n\\}}^{\\text{tag}} w_{j} p^j\n",
    "$$\n",
    "\n",
    "$$\n",
    " \\sum_{j \\in \\{1, \\ldots, n\\}}^{\\text{tag}} w_{j} = 1  \\quad j \\in \\{0,1\\}\n",
    "\n",
    "$$\n",
    "Now the next constraint should be define to force the correcponding $w_j = 1$ which can be done using another auxiliary variable and two constraints as follow\n",
    "$$z_{j} - w_{j} \\leq M y_j$$\n",
    "$$w_{j} - z_{j} \\leq M (1-y_j)$$\n"
   ]
  },
  {
   "cell_type": "markdown",
   "metadata": {},
   "source": [
    "## Simplified Objective function\n",
    "With linearizing product part, the objective function could be rewritten as: \n",
    "\n",
    "$$\n",
    "E(A_{i}) = \\sum_{j \\in \\{1, \\ldots, n\\}}^{\\text{tag}} k_{ij} p \\sum_{j \\in \\{1, \\ldots, n\\}}^{\\text{tag}} w_{j} p^j \n",
    "$$\n",
    "or even more simple as\n",
    "$$\n",
    "E(A_{i}) = \\sum_{j \\in \\{1, \\ldots, n\\}}^{\\text{tag}} k_{ij}\\text{ } w_{j}\\text{ } p^{(j+1)}\n",
    "\n",
    "$$"
   ]
  },
  {
   "cell_type": "markdown",
   "metadata": {},
   "source": [
    "The final part is linearizing the product of the two binary variables $k_{ij}w_{j}$ which could be done this way:\n",
    "\n",
    "$$x_{ij} \\leq k_{ij} $$\n",
    "$$x_{ij} \\leq w_{j} $$\n",
    "$$x_{ij} \\geq k_{ij} + w_{j} -1 $$\n",
    "$$x_{ij}\\in \\{0,1\\}$$"
   ]
  },
  {
   "cell_type": "markdown",
   "metadata": {},
   "source": [
    "# Linear Objective function\n",
    "$$\n",
    "E(A_{i}) = \\sum_{j \\in \\{1, \\ldots, n\\}}^{\\text{tag}} x_{ij}\\text{ } p^{(j+1)}$$"
   ]
  }
 ],
 "metadata": {
  "kernelspec": {
   "display_name": "Python 3",
   "language": "python",
   "name": "python3"
  },
  "language_info": {
   "codemirror_mode": {
    "name": "ipython",
    "version": 3
   },
   "file_extension": ".py",
   "mimetype": "text/x-python",
   "name": "python",
   "nbconvert_exporter": "python",
   "pygments_lexer": "ipython3",
   "version": "3.10.11"
  }
 },
 "nbformat": 4,
 "nbformat_minor": 2
}
