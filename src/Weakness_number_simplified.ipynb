{
 "cells": [
  {
   "cell_type": "code",
   "execution_count": null,
   "metadata": {},
   "outputs": [],
   "source": [
    "import numpy as np\n",
    "import pandas as pd\n",
    "from pulp import LpMinimize, LpProblem, LpVariable, lpSum, PULP_CBC_CMD\n"
   ]
  },
  {
   "cell_type": "code",
   "execution_count": null,
   "metadata": {},
   "outputs": [],
   "source": [
    "def  get_weakness_number(K):\n",
    "    n_msg, n_tag = K.shape\n",
    "    A = np.transpose(K)\n",
    "    B = np.ones(n_tag)\n",
    "    C = np.ones(n_msg)\n",
    "\n",
    "    prob = LpProblem(\"Binary LP Problem\", LpMinimize)\n",
    "\n",
    "    # Define the variables\n",
    "    x = [LpVariable(f'x{i}', cat='Binary') for i in range(len(C))]\n",
    "\n",
    "    # Define the objective function\n",
    "    prob += lpSum(C[i] * x[i] for i in range(len(C)))\n",
    "\n",
    "    # Define the constraints\n",
    "    for i in range(len(A)):\n",
    "        prob += lpSum(A[i][j] * x[j] for j in range(len(C))) >= B[i]\n",
    "\n",
    "    # Solve the problem\n",
    "    prob.solve(PULP_CBC_CMD())\n",
    "\n",
    "    # Print the results\n",
    "    #print(\"Status:\", prob.status)\n",
    "    #print(\"Objective value:\", prob.objective.value())\n",
    "\n",
    "    result = []\n",
    "    for i in range(len(C)):\n",
    "        #print(f\"x{i+1}:\", x[i].value())\n",
    "        if x[i].value() == 1:\n",
    "            result.append(i+1)\n",
    "    return result\n",
    "\n"
   ]
  },
  {
   "cell_type": "code",
   "execution_count": null,
   "metadata": {},
   "outputs": [],
   "source": [
    "K1 = np.array(\n",
    "    [[1,0,1,0,0],\n",
    "    [1,0,0,1,0],\n",
    "    [1,0,0,0,1],\n",
    "    [0,1,1,0,0],\n",
    "    [0,1,0,1,0],\n",
    "    [0,1,0,0,1]])\n",
    "get_weakness_number(K1)"
   ]
  },
  {
   "cell_type": "code",
   "execution_count": null,
   "metadata": {},
   "outputs": [],
   "source": [
    "K2 = np.array([[ 1,  0,  0,  0,  0,  0,  1,  0,  0], # m1\n",
    "              [ 1,  0,  0,  0,  0,  0,  0,  1,  0], # m2\n",
    "              [ 1,  0,  0,  0,  0,  0,  0,  0,  1], # m3\n",
    "              [ 0,  1,  0,  0,  0,  0,  1,  0,  0], # m4\n",
    "              [ 0,  1,  0,  0,  0,  0,  0,  1,  0], # m5\n",
    "              [ 0,  1,  0,  0,  0,  0,  0,  0,  1], # m6\n",
    "              [ 0,  0,  1,  0,  0,  0,  1,  0,  0], # m7\n",
    "              [ 0,  0,  1,  0,  0,  0,  0,  1,  0], # m8\n",
    "              [ 0,  0,  1,  0,  0,  0,  0,  0,  1], # m9\n",
    "              [ 0,  0,  0,  1,  0,  0,  1,  0,  0], # m10\n",
    "              [ 0,  0,  0,  1,  0,  0,  0,  1,  0], # m11\n",
    "              [ 0,  0,  0,  1,  0,  0,  0,  0,  1], # m12\n",
    "              [ 0,  0,  0,  0,  1,  0,  1,  0,  0], # m13\n",
    "              [ 0,  0,  0,  0,  1,  0,  0,  1,  0], # m14\n",
    "              [ 0,  0,  0,  0,  1,  0,  0,  0,  1], # m15\n",
    "              [ 0,  0,  0,  0,  0,  1,  1,  0,  0], # m16\n",
    "              [ 0,  0,  0,  0,  0,  1,  0,  1,  0], # m17\n",
    "              [ 0,  0,  0,  0,  0,  1,  0,  0,  1]]) # m18\n",
    "get_weakness_number(K2)"
   ]
  },
  {
   "cell_type": "code",
   "execution_count": null,
   "metadata": {},
   "outputs": [],
   "source": [
    "            #  t1  t2  t3  t4  t5  t6  t7  t8  t9\n",
    "K3 = np.array([[ 1,  0,  0,  0,  0,  0,  0,  0], # m1\n",
    "              [ 1,  1,  0,  0,  0,  0,  0,  0], # m2\n",
    "              [ 1,  1,  1,  0,  0,  0,  0,  0], # m3\n",
    "              [ 0,  1,  1,  1,  0,  0,  0,  0], # m4\n",
    "              [ 0,  0,  1,  1,  1,  0,  0,  0], # m5\n",
    "              [ 0,  0,  0,  1,  1,  1,  0,  0], # m6\n",
    "              [ 0,  0,  0,  0,  1,  1,  1,  0], # m7\n",
    "              [ 0,  0,  0,  0,  0,  1,  1,  1], # m8\n",
    "              [ 0,  0,  0,  0,  0,  0,  1,  1], # m9\n",
    "              [ 0,  0,  0,  0,  0,  0,  0,  1]]) # m10\n",
    "get_weakness_number(K3)"
   ]
  }
 ],
 "metadata": {
  "kernelspec": {
   "display_name": "Python 3",
   "language": "python",
   "name": "python3"
  },
  "language_info": {
   "codemirror_mode": {
    "name": "ipython",
    "version": 3
   },
   "file_extension": ".py",
   "mimetype": "text/x-python",
   "name": "python",
   "nbconvert_exporter": "python",
   "pygments_lexer": "ipython3",
   "version": "3.10.11"
  }
 },
 "nbformat": 4,
 "nbformat_minor": 2
}
