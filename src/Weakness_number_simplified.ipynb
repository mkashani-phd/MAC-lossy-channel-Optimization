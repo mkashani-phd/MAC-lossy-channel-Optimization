{
 "cells": [
  {
   "cell_type": "code",
   "execution_count": 40,
   "metadata": {},
   "outputs": [],
   "source": [
    "import numpy as np\n",
    "import pandas as pd\n",
    "from pulp import LpMinimize, LpProblem, LpVariable, lpSum, PULP_CBC_CMD\n"
   ]
  },
  {
   "cell_type": "code",
   "execution_count": 41,
   "metadata": {},
   "outputs": [],
   "source": [
    "def  get_weakness_number(K):\n",
    "    n_msg, n_tag = K.shape\n",
    "    A = np.transpose(K)\n",
    "    B = np.ones(n_tag)\n",
    "    C = np.ones(n_msg)\n",
    "\n",
    "    prob = LpProblem(\"Binary LP Problem\", LpMinimize)\n",
    "\n",
    "    # Define the variables\n",
    "    x = [LpVariable(f'x{i}', cat='Binary') for i in range(len(C))]\n",
    "\n",
    "    # Define the objective function\n",
    "    prob += lpSum(C[i] * x[i] for i in range(len(C)))\n",
    "\n",
    "    # Define the constraints\n",
    "    for i in range(len(A)):\n",
    "        prob += lpSum(A[i][j] * x[j] for j in range(len(C))) >= B[i]\n",
    "\n",
    "    # Solve the problem\n",
    "    prob.solve(PULP_CBC_CMD())\n",
    "\n",
    "    # Print the results\n",
    "    #print(\"Status:\", prob.status)\n",
    "    #print(\"Objective value:\", prob.objective.value())\n",
    "\n",
    "    result = []\n",
    "    for i in range(len(C)):\n",
    "        #print(f\"x{i+1}:\", x[i].value())\n",
    "        if x[i].value() == 1:\n",
    "            result.append(i+1)\n",
    "    return result\n",
    "\n"
   ]
  },
  {
   "cell_type": "code",
   "execution_count": 42,
   "metadata": {},
   "outputs": [
    {
     "ename": "TypeError",
     "evalue": "COIN_CMD.solve_CBC() got an unexpected keyword argument 'msg'",
     "output_type": "error",
     "traceback": [
      "\u001b[0;31m---------------------------------------------------------------------------\u001b[0m",
      "\u001b[0;31mTypeError\u001b[0m                                 Traceback (most recent call last)",
      "Cell \u001b[0;32mIn[42], line 8\u001b[0m\n\u001b[1;32m      1\u001b[0m K1 \u001b[38;5;241m=\u001b[39m np\u001b[38;5;241m.\u001b[39marray(\n\u001b[1;32m      2\u001b[0m     [[\u001b[38;5;241m1\u001b[39m,\u001b[38;5;241m0\u001b[39m,\u001b[38;5;241m1\u001b[39m,\u001b[38;5;241m0\u001b[39m,\u001b[38;5;241m0\u001b[39m],\n\u001b[1;32m      3\u001b[0m     [\u001b[38;5;241m1\u001b[39m,\u001b[38;5;241m0\u001b[39m,\u001b[38;5;241m0\u001b[39m,\u001b[38;5;241m1\u001b[39m,\u001b[38;5;241m0\u001b[39m],\n\u001b[0;32m   (...)\u001b[0m\n\u001b[1;32m      6\u001b[0m     [\u001b[38;5;241m0\u001b[39m,\u001b[38;5;241m1\u001b[39m,\u001b[38;5;241m0\u001b[39m,\u001b[38;5;241m1\u001b[39m,\u001b[38;5;241m0\u001b[39m],\n\u001b[1;32m      7\u001b[0m     [\u001b[38;5;241m0\u001b[39m,\u001b[38;5;241m1\u001b[39m,\u001b[38;5;241m0\u001b[39m,\u001b[38;5;241m0\u001b[39m,\u001b[38;5;241m1\u001b[39m]])\n\u001b[0;32m----> 8\u001b[0m \u001b[38;5;28mprint\u001b[39m   (\u001b[43mget_weakness_number\u001b[49m\u001b[43m(\u001b[49m\u001b[43mK1\u001b[49m\u001b[43m)\u001b[49m)\n",
      "Cell \u001b[0;32mIn[41], line 20\u001b[0m, in \u001b[0;36mget_weakness_number\u001b[0;34m(K)\u001b[0m\n\u001b[1;32m     17\u001b[0m     prob \u001b[38;5;241m+\u001b[39m\u001b[38;5;241m=\u001b[39m lpSum(A[i][j] \u001b[38;5;241m*\u001b[39m x[j] \u001b[38;5;28;01mfor\u001b[39;00m j \u001b[38;5;129;01min\u001b[39;00m \u001b[38;5;28mrange\u001b[39m(\u001b[38;5;28mlen\u001b[39m(C))) \u001b[38;5;241m>\u001b[39m\u001b[38;5;241m=\u001b[39m B[i]\n\u001b[1;32m     19\u001b[0m \u001b[38;5;66;03m# Solve the problem\u001b[39;00m\n\u001b[0;32m---> 20\u001b[0m \u001b[43mprob\u001b[49m\u001b[38;5;241;43m.\u001b[39;49m\u001b[43msolve\u001b[49m\u001b[43m(\u001b[49m\u001b[43mPULP_CBC_CMD\u001b[49m\u001b[43m(\u001b[49m\u001b[43m)\u001b[49m\u001b[43m,\u001b[49m\u001b[43m \u001b[49m\u001b[43mmsg\u001b[49m\u001b[38;5;241;43m=\u001b[39;49m\u001b[38;5;28;43;01mFalse\u001b[39;49;00m\u001b[43m)\u001b[49m\n\u001b[1;32m     22\u001b[0m \u001b[38;5;66;03m# Print the results\u001b[39;00m\n\u001b[1;32m     23\u001b[0m \u001b[38;5;66;03m#print(\"Status:\", prob.status)\u001b[39;00m\n\u001b[1;32m     24\u001b[0m \u001b[38;5;66;03m#print(\"Objective value:\", prob.objective.value())\u001b[39;00m\n\u001b[1;32m     26\u001b[0m result \u001b[38;5;241m=\u001b[39m []\n",
      "File \u001b[0;32m/Library/Frameworks/Python.framework/Versions/3.10/lib/python3.10/site-packages/pulp/pulp.py:1883\u001b[0m, in \u001b[0;36mLpProblem.solve\u001b[0;34m(self, solver, **kwargs)\u001b[0m\n\u001b[1;32m   1881\u001b[0m \u001b[38;5;66;03m# time it\u001b[39;00m\n\u001b[1;32m   1882\u001b[0m \u001b[38;5;28mself\u001b[39m\u001b[38;5;241m.\u001b[39mstartClock()\n\u001b[0;32m-> 1883\u001b[0m status \u001b[38;5;241m=\u001b[39m \u001b[43msolver\u001b[49m\u001b[38;5;241;43m.\u001b[39;49m\u001b[43mactualSolve\u001b[49m\u001b[43m(\u001b[49m\u001b[38;5;28;43mself\u001b[39;49m\u001b[43m,\u001b[49m\u001b[43m \u001b[49m\u001b[38;5;241;43m*\u001b[39;49m\u001b[38;5;241;43m*\u001b[39;49m\u001b[43mkwargs\u001b[49m\u001b[43m)\u001b[49m\n\u001b[1;32m   1884\u001b[0m \u001b[38;5;28mself\u001b[39m\u001b[38;5;241m.\u001b[39mstopClock()\n\u001b[1;32m   1885\u001b[0m \u001b[38;5;28mself\u001b[39m\u001b[38;5;241m.\u001b[39mrestoreObjective(wasNone, dummyVar)\n",
      "File \u001b[0;32m/Library/Frameworks/Python.framework/Versions/3.10/lib/python3.10/site-packages/pulp/apis/coin_api.py:112\u001b[0m, in \u001b[0;36mCOIN_CMD.actualSolve\u001b[0;34m(self, lp, **kwargs)\u001b[0m\n\u001b[1;32m    110\u001b[0m \u001b[38;5;28;01mdef\u001b[39;00m \u001b[38;5;21mactualSolve\u001b[39m(\u001b[38;5;28mself\u001b[39m, lp, \u001b[38;5;241m*\u001b[39m\u001b[38;5;241m*\u001b[39mkwargs):\n\u001b[1;32m    111\u001b[0m \u001b[38;5;250m    \u001b[39m\u001b[38;5;124;03m\"\"\"Solve a well formulated lp problem\"\"\"\u001b[39;00m\n\u001b[0;32m--> 112\u001b[0m     \u001b[38;5;28;01mreturn\u001b[39;00m \u001b[38;5;28;43mself\u001b[39;49m\u001b[38;5;241;43m.\u001b[39;49m\u001b[43msolve_CBC\u001b[49m\u001b[43m(\u001b[49m\u001b[43mlp\u001b[49m\u001b[43m,\u001b[49m\u001b[43m \u001b[49m\u001b[38;5;241;43m*\u001b[39;49m\u001b[38;5;241;43m*\u001b[39;49m\u001b[43mkwargs\u001b[49m\u001b[43m)\u001b[49m\n",
      "\u001b[0;31mTypeError\u001b[0m: COIN_CMD.solve_CBC() got an unexpected keyword argument 'msg'"
     ]
    }
   ],
   "source": [
    "K1 = np.array(\n",
    "    [[1,0,1,0,0],\n",
    "    [1,0,0,1,0],\n",
    "    [1,0,0,0,1],\n",
    "    [0,1,1,0,0],\n",
    "    [0,1,0,1,0],\n",
    "    [0,1,0,0,1]])\n",
    "print   (get_weakness_number(K1))"
   ]
  },
  {
   "cell_type": "code",
   "execution_count": null,
   "metadata": {},
   "outputs": [
    {
     "name": "stdout",
     "output_type": "stream",
     "text": [
      "Welcome to the CBC MILP Solver \n",
      "Version: 2.10.3 \n",
      "Build Date: Dec 15 2019 \n",
      "\n",
      "command line - /Library/Frameworks/Python.framework/Versions/3.10/lib/python3.10/site-packages/pulp/solverdir/cbc/osx/64/cbc /var/folders/jv/12n64fl91y1d9jr6561fpx2c0000gn/T/0f02c57669ed458889794151d1fd5f10-pulp.mps -timeMode elapsed -branch -printingOptions all -solution /var/folders/jv/12n64fl91y1d9jr6561fpx2c0000gn/T/0f02c57669ed458889794151d1fd5f10-pulp.sol (default strategy 1)\n",
      "At line 2 NAME          MODEL\n",
      "At line 3 ROWS\n",
      "At line 14 COLUMNS\n",
      "At line 105 RHS\n",
      "At line 115 BOUNDS\n",
      "At line 134 ENDATA\n",
      "Problem MODEL has 9 rows, 18 columns and 36 elements\n",
      "Coin0008I MODEL read with 0 errors\n",
      "Option for timeMode changed from cpu to elapsed\n",
      "Continuous objective value is 6 - 0.00 seconds\n",
      "Cgl0004I processed model has 9 rows, 18 columns (18 integer (18 of which binary)) and 36 elements\n",
      "Cutoff increment increased from 1e-05 to 0.9999\n",
      "Cbc0038I Initial state - 0 integers unsatisfied sum - 0\n",
      "Cbc0038I Solution found of 6\n",
      "Cbc0038I Before mini branch and bound, 18 integers at bound fixed and 0 continuous\n",
      "Cbc0038I Mini branch and bound did not improve solution (0.00 seconds)\n",
      "Cbc0038I After 0.00 seconds - Feasibility pump exiting with objective of 6 - took 0.00 seconds\n",
      "Cbc0012I Integer solution of 6 found by feasibility pump after 0 iterations and 0 nodes (0.00 seconds)\n",
      "Cbc0001I Search completed - best objective 6, took 0 iterations and 0 nodes (0.00 seconds)\n",
      "Cbc0035I Maximum depth 0, 0 variables fixed on reduced cost\n",
      "Cuts at root node changed objective from 6 to 6\n",
      "Probing was tried 0 times and created 0 cuts of which 0 were active after adding rounds of cuts (0.000 seconds)\n",
      "Gomory was tried 0 times and created 0 cuts of which 0 were active after adding rounds of cuts (0.000 seconds)\n",
      "Knapsack was tried 0 times and created 0 cuts of which 0 were active after adding rounds of cuts (0.000 seconds)\n",
      "Clique was tried 0 times and created 0 cuts of which 0 were active after adding rounds of cuts (0.000 seconds)\n",
      "MixedIntegerRounding2 was tried 0 times and created 0 cuts of which 0 were active after adding rounds of cuts (0.000 seconds)\n",
      "FlowCover was tried 0 times and created 0 cuts of which 0 were active after adding rounds of cuts (0.000 seconds)\n",
      "TwoMirCuts was tried 0 times and created 0 cuts of which 0 were active after adding rounds of cuts (0.000 seconds)\n",
      "ZeroHalf was tried 0 times and created 0 cuts of which 0 were active after adding rounds of cuts (0.000 seconds)\n",
      "\n",
      "Result - Optimal solution found\n",
      "\n",
      "Objective value:                6.00000000\n",
      "Enumerated nodes:               0\n",
      "Total iterations:               0\n",
      "Time (CPU seconds):             0.00\n",
      "Time (Wallclock seconds):       0.00\n",
      "\n",
      "Option for printingOptions changed from normal to all\n",
      "Total time (CPU seconds):       0.00   (Wallclock seconds):       0.00\n",
      "\n"
     ]
    },
    {
     "data": {
      "text/plain": [
       "[2, 6, 9, 12, 15, 16]"
      ]
     },
     "execution_count": 38,
     "metadata": {},
     "output_type": "execute_result"
    }
   ],
   "source": [
    "K2 = np.array([[ 1,  0,  0,  0,  0,  0,  1,  0,  0], # m1\n",
    "              [ 1,  0,  0,  0,  0,  0,  0,  1,  0], # m2\n",
    "              [ 1,  0,  0,  0,  0,  0,  0,  0,  1], # m3\n",
    "              [ 0,  1,  0,  0,  0,  0,  1,  0,  0], # m4\n",
    "              [ 0,  1,  0,  0,  0,  0,  0,  1,  0], # m5\n",
    "              [ 0,  1,  0,  0,  0,  0,  0,  0,  1], # m6\n",
    "              [ 0,  0,  1,  0,  0,  0,  1,  0,  0], # m7\n",
    "              [ 0,  0,  1,  0,  0,  0,  0,  1,  0], # m8\n",
    "              [ 0,  0,  1,  0,  0,  0,  0,  0,  1], # m9\n",
    "              [ 0,  0,  0,  1,  0,  0,  1,  0,  0], # m10\n",
    "              [ 0,  0,  0,  1,  0,  0,  0,  1,  0], # m11\n",
    "              [ 0,  0,  0,  1,  0,  0,  0,  0,  1], # m12\n",
    "              [ 0,  0,  0,  0,  1,  0,  1,  0,  0], # m13\n",
    "              [ 0,  0,  0,  0,  1,  0,  0,  1,  0], # m14\n",
    "              [ 0,  0,  0,  0,  1,  0,  0,  0,  1], # m15\n",
    "              [ 0,  0,  0,  0,  0,  1,  1,  0,  0], # m16\n",
    "              [ 0,  0,  0,  0,  0,  1,  0,  1,  0], # m17\n",
    "              [ 0,  0,  0,  0,  0,  1,  0,  0,  1]]) # m18\n",
    "get_weakness_number(K2)"
   ]
  },
  {
   "cell_type": "code",
   "execution_count": null,
   "metadata": {},
   "outputs": [
    {
     "name": "stdout",
     "output_type": "stream",
     "text": [
      "Welcome to the CBC MILP Solver \n",
      "Version: 2.10.3 \n",
      "Build Date: Dec 15 2019 \n",
      "\n",
      "command line - /Library/Frameworks/Python.framework/Versions/3.10/lib/python3.10/site-packages/pulp/solverdir/cbc/osx/64/cbc /var/folders/jv/12n64fl91y1d9jr6561fpx2c0000gn/T/467b0db9cdef40d181c813ee6df25b4f-pulp.mps -timeMode elapsed -branch -printingOptions all -solution /var/folders/jv/12n64fl91y1d9jr6561fpx2c0000gn/T/467b0db9cdef40d181c813ee6df25b4f-pulp.sol (default strategy 1)\n",
      "At line 2 NAME          MODEL\n",
      "At line 3 ROWS\n",
      "At line 13 COLUMNS\n",
      "At line 68 RHS\n",
      "At line 77 BOUNDS\n",
      "At line 88 ENDATA\n",
      "Problem MODEL has 8 rows, 10 columns and 24 elements\n",
      "Coin0008I MODEL read with 0 errors\n",
      "Option for timeMode changed from cpu to elapsed\n",
      "Continuous objective value is 3 - 0.00 seconds\n",
      "Cgl0004I processed model has 8 rows, 10 columns (10 integer (10 of which binary)) and 24 elements\n",
      "Cutoff increment increased from 1e-05 to 0.9999\n",
      "Cbc0038I Initial state - 0 integers unsatisfied sum - 0\n",
      "Cbc0038I Solution found of 3\n",
      "Cbc0038I Before mini branch and bound, 10 integers at bound fixed and 0 continuous\n",
      "Cbc0038I Mini branch and bound did not improve solution (0.00 seconds)\n",
      "Cbc0038I After 0.00 seconds - Feasibility pump exiting with objective of 3 - took 0.00 seconds\n",
      "Cbc0012I Integer solution of 3 found by feasibility pump after 0 iterations and 0 nodes (0.00 seconds)\n",
      "Cbc0001I Search completed - best objective 3, took 0 iterations and 0 nodes (0.00 seconds)\n",
      "Cbc0035I Maximum depth 0, 0 variables fixed on reduced cost\n",
      "Cuts at root node changed objective from 3 to 3\n",
      "Probing was tried 0 times and created 0 cuts of which 0 were active after adding rounds of cuts (0.000 seconds)\n",
      "Gomory was tried 0 times and created 0 cuts of which 0 were active after adding rounds of cuts (0.000 seconds)\n",
      "Knapsack was tried 0 times and created 0 cuts of which 0 were active after adding rounds of cuts (0.000 seconds)\n",
      "Clique was tried 0 times and created 0 cuts of which 0 were active after adding rounds of cuts (0.000 seconds)\n",
      "MixedIntegerRounding2 was tried 0 times and created 0 cuts of which 0 were active after adding rounds of cuts (0.000 seconds)\n",
      "FlowCover was tried 0 times and created 0 cuts of which 0 were active after adding rounds of cuts (0.000 seconds)\n",
      "TwoMirCuts was tried 0 times and created 0 cuts of which 0 were active after adding rounds of cuts (0.000 seconds)\n",
      "ZeroHalf was tried 0 times and created 0 cuts of which 0 were active after adding rounds of cuts (0.000 seconds)\n",
      "\n",
      "Result - Optimal solution found\n",
      "\n",
      "Objective value:                3.00000000\n",
      "Enumerated nodes:               0\n",
      "Total iterations:               0\n",
      "Time (CPU seconds):             0.00\n",
      "Time (Wallclock seconds):       0.00\n",
      "\n",
      "Option for printingOptions changed from normal to all\n",
      "Total time (CPU seconds):       0.00   (Wallclock seconds):       0.00\n",
      "\n"
     ]
    },
    {
     "data": {
      "text/plain": [
       "[2, 5, 8]"
      ]
     },
     "execution_count": 39,
     "metadata": {},
     "output_type": "execute_result"
    }
   ],
   "source": [
    "            #  t1  t2  t3  t4  t5  t6  t7  t8  t9\n",
    "K3 = np.array([[ 1,  0,  0,  0,  0,  0,  0,  0], # m1\n",
    "              [ 1,  1,  0,  0,  0,  0,  0,  0], # m2\n",
    "              [ 1,  1,  1,  0,  0,  0,  0,  0], # m3\n",
    "              [ 0,  1,  1,  1,  0,  0,  0,  0], # m4\n",
    "              [ 0,  0,  1,  1,  1,  0,  0,  0], # m5\n",
    "              [ 0,  0,  0,  1,  1,  1,  0,  0], # m6\n",
    "              [ 0,  0,  0,  0,  1,  1,  1,  0], # m7\n",
    "              [ 0,  0,  0,  0,  0,  1,  1,  1], # m8\n",
    "              [ 0,  0,  0,  0,  0,  0,  1,  1], # m9\n",
    "              [ 0,  0,  0,  0,  0,  0,  0,  1]]) # m10\n",
    "get_weakness_number(K3)"
   ]
  }
 ],
 "metadata": {
  "kernelspec": {
   "display_name": "Python 3",
   "language": "python",
   "name": "python3"
  },
  "language_info": {
   "codemirror_mode": {
    "name": "ipython",
    "version": 3
   },
   "file_extension": ".py",
   "mimetype": "text/x-python",
   "name": "python",
   "nbconvert_exporter": "python",
   "pygments_lexer": "ipython3",
   "version": "3.10.11"
  }
 },
 "nbformat": 4,
 "nbformat_minor": 2
}
