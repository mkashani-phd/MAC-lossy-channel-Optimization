{
 "cells": [
  {
   "cell_type": "code",
   "execution_count": 2,
   "metadata": {},
   "outputs": [
    {
     "name": "stderr",
     "output_type": "stream",
     "text": [
      "U"
     ]
    },
    {
     "ename": "KeyboardInterrupt",
     "evalue": "",
     "output_type": "error",
     "traceback": [
      "\u001b[0;31m---------------------------------------------------------------------------\u001b[0m",
      "\u001b[0;31mKeyboardInterrupt\u001b[0m                         Traceback (most recent call last)",
      "Cell \u001b[0;32mIn[2], line 27\u001b[0m\n\u001b[1;32m     23\u001b[0m \u001b[38;5;66;03m# center_freqs = [2.43e9, 2.44e9, 2.45e9 ,2.46e9] # Hz\u001b[39;00m\n\u001b[1;32m     24\u001b[0m \u001b[38;5;66;03m# center_freqs = 2.44e9 # Hz\u001b[39;00m\n\u001b[1;32m     25\u001b[0m \u001b[38;5;28;01mwhile\u001b[39;00m \u001b[38;5;28;01mTrue\u001b[39;00m:\n\u001b[1;32m     26\u001b[0m         \u001b[38;5;66;03m# for center_freq in center_freqs:\u001b[39;00m\n\u001b[0;32m---> 27\u001b[0m         \u001b[43musrp\u001b[49m\u001b[38;5;241;43m.\u001b[39;49m\u001b[43msend_waveform\u001b[49m\u001b[43m(\u001b[49m\u001b[43msamples\u001b[49m\u001b[43m,\u001b[49m\u001b[43m \u001b[49m\u001b[43mduration\u001b[49m\u001b[43m,\u001b[49m\u001b[43m \u001b[49m\u001b[43mcenter_freq\u001b[49m\u001b[43m,\u001b[49m\u001b[43m \u001b[49m\u001b[43msample_rate\u001b[49m\u001b[43m,\u001b[49m\u001b[43m \u001b[49m\u001b[43m[\u001b[49m\u001b[38;5;241;43m0\u001b[39;49m\u001b[43m]\u001b[49m\u001b[43m,\u001b[49m\u001b[43m \u001b[49m\u001b[43mgain\u001b[49m\u001b[43m)\u001b[49m\n",
      "File \u001b[0;32m/opt/local/Library/Frameworks/Python.framework/Versions/3.10/lib/python3.10/site-packages/uhd/usrp.py:121\u001b[0m, in \u001b[0;36mMultiUSRP.send_waveform\u001b[0;34m(self, waveform_proto, duration, freq, rate, channels, gain)\u001b[0m\n\u001b[1;32m    119\u001b[0m         samples \u001b[38;5;241m=\u001b[39m streamer\u001b[38;5;241m.\u001b[39msend(waveform_proto[:, :real_samps], metadata)\n\u001b[1;32m    120\u001b[0m     \u001b[38;5;28;01melse\u001b[39;00m:\n\u001b[0;32m--> 121\u001b[0m         samples \u001b[38;5;241m=\u001b[39m \u001b[43mstreamer\u001b[49m\u001b[38;5;241;43m.\u001b[39;49m\u001b[43msend\u001b[49m\u001b[43m(\u001b[49m\u001b[43mwaveform_proto\u001b[49m\u001b[43m,\u001b[49m\u001b[43m \u001b[49m\u001b[43mmetadata\u001b[49m\u001b[43m)\u001b[49m\n\u001b[1;32m    122\u001b[0m     send_samps \u001b[38;5;241m+\u001b[39m\u001b[38;5;241m=\u001b[39m samples\n\u001b[1;32m    124\u001b[0m \u001b[38;5;66;03m# Help the garbage collection\u001b[39;00m\n",
      "\u001b[0;31mKeyboardInterrupt\u001b[0m: "
     ]
    },
    {
     "ename": "",
     "evalue": "",
     "output_type": "error",
     "traceback": [
      "\u001b[1;31mThe Kernel crashed while executing code in the current cell or a previous cell. \n",
      "\u001b[1;31mPlease review the code in the cell(s) to identify a possible cause of the failure. \n",
      "\u001b[1;31mClick <a href='https://aka.ms/vscodeJupyterKernelCrash'>here</a> for more info. \n",
      "\u001b[1;31mView Jupyter <a href='command:jupyter.viewOutput'>log</a> for further details."
     ]
    }
   ],
   "source": [
    "import uhd\n",
    "import numpy as np\n",
    "import matplotlib.pyplot as plt\n",
    "\n",
    "usrp = uhd.usrp.MultiUSRP()\n",
    "\n",
    "num_samps = 10000000 # number of samples received\n",
    "center_freq = 2.44e9 # Hz\n",
    "sample_rate = 50e6 # Hz\n",
    "gain = 80 # dB\n",
    "\n",
    "usrp.set_rx_rate(sample_rate, 0)\n",
    "usrp.set_rx_freq(uhd.libpyuhd.types.tune_request(center_freq), 0)\n",
    "usrp.set_rx_gain(gain, 0)\n",
    "\n",
    "\n",
    "samples = np.random.randn(num_samps) + 1j*np.random.randn(num_samps) # create random signal\n",
    "squarwave = np.sign(np.sin(np.linspace(0, 2000000*np.pi, num_samps)))*.5 + .5 # create square wave \n",
    "# multiply signal by square wave to create on/off signal\n",
    "samples = samples * squarwave\n",
    "samples = samples.astype(np.complex64)\n",
    "duration = 10 # seconds\n",
    "# center_freqs = [2.43e9, 2.44e9, 2.45e9 ,2.46e9] # Hz\n",
    "# center_freqs = 2.44e9 # Hz\n",
    "while True:\n",
    "        # for center_freq in center_freqs:\n",
    "        usrp.send_waveform(samples, duration, center_freq, sample_rate, [0], gain)"
   ]
  },
  {
   "cell_type": "code",
   "execution_count": null,
   "metadata": {},
   "outputs": [
    {
     "name": "stderr",
     "output_type": "stream",
     "text": [
      "[INFO] [UHD] Mac OS; Clang version 15.0.0 (clang-1500.1.0.2.5); Boost_107100; UHD_3.15.0.0-MacPorts-Release\n",
      "[INFO] [B200] Detected Device: B210\n",
      "[INFO] [B200] Operating over USB 3.\n",
      "[INFO] [B200] Initialize CODEC control...\n",
      "[INFO] [B200] Initialize Radio control...\n",
      "[INFO] [B200] Performing register loopback test... \n",
      "[INFO] [B200] Register loopback test passed\n",
      "[INFO] [B200] Performing register loopback test... \n",
      "[INFO] [B200] Register loopback test passed\n",
      "[INFO] [B200] Setting master clock rate selection to 'automatic'.\n",
      "[INFO] [B200] Asking for clock rate 16.000000 MHz... \n",
      "[INFO] [B200] Actually got clock rate 16.000000 MHz.\n",
      "[INFO] [B200] Asking for clock rate 50.000000 MHz... \n",
      "[INFO] [B200] Actually got clock rate 50.000000 MHz.\n"
     ]
    }
   ],
   "source": [
    "import uhd\n",
    "import numpy as np\n",
    "import time\n",
    "\n",
    "# Configure the USRP device\n",
    "def configure_usrp(device_addr=\"\"):\n",
    "    usrp = uhd.usrp.MultiUSRP(device_addr)\n",
    "    \n",
    "    # Set the TX frequency for channel 0\n",
    "    tx_freq = 2.44e9  # 2.44 GHz\n",
    "    usrp.set_rx_freq(uhd.libpyuhd.types.tune_request(tx_freq), 0)  # Channel 0\n",
    "\n",
    "    # Set the TX sample rate\n",
    "    tx_rate = 50e6  # 50 MS/s\n",
    "    usrp.set_tx_rate(tx_rate)\n",
    "\n",
    "    # Set the TX gain for channel 0\n",
    "    tx_gain = 90  # in dB\n",
    "    usrp.set_tx_gain(tx_gain, 0)  # Channel 0\n",
    "\n",
    "    # Set the TX antenna for channel 0\n",
    "    usrp.set_tx_antenna(\"TX/RX\", 0)\n",
    "\n",
    "    # Set the TX bandwidth for channel 0\n",
    "    tx_bw = 40e6  # 1 MHz\n",
    "    usrp.set_tx_bandwidth(tx_bw, 0)  # Channel 0\n",
    "\n",
    "    return usrp\n",
    "\n",
    "# Generate a simple sine wave\n",
    "def generate_sine_wave(freq, sample_rate, duration, amplitude=0.5):\n",
    "    t = np.arange(0, duration, 1/sample_rate)\n",
    "    waveform = amplitude * np.exp(2j * np.pi * freq * t)\n",
    "    return waveform\n",
    "\n",
    "# Transmit the waveform\n",
    "def transmit_waveform(usrp, waveform, sample_rate):\n",
    "    st_args = uhd.usrp.StreamArgs(\"fc32\", \"sc16\")  # 32-bit floating complex\n",
    "    st_args.channels = [0]  # Channel 0\n",
    "    tx_streamer = usrp.get_tx_stream(st_args)\n",
    "\n",
    "    samples_per_buffer = tx_streamer.get_max_num_samps()\n",
    "    metadata = uhd.types.TXMetadata()\n",
    "\n",
    "    # Break the waveform into buffers of appropriate size\n",
    "    waveform_buffers = [\n",
    "        waveform[i:i + samples_per_buffer] for i in range(0, len(waveform), samples_per_buffer)\n",
    "    ]\n",
    "\n",
    "    # Transmit the buffers\n",
    "    for buf in waveform_buffers:\n",
    "        tx_streamer.send(buf,metadata)\n",
    "\n",
    "# Main function\n",
    "def main():\n",
    "    device_addr = \"type=b200\"  # Replace with your device address if necessary\n",
    "    usrp = configure_usrp(device_addr)\n",
    "    sample_rate = 50e6  # 50 MS/s\n",
    "    duration = 10 # 1 second\n",
    "    # Generate a sine wave at 1 kHz\n",
    "    num_samps = int(sample_rate*duration)\n",
    "    # sine_wave = generate_sine_wave(freq=1e3, sample_rate=1e6, duration=1)\n",
    "    sine_wave = np.random.randn(num_samps) + 1j*np.random.randn(num_samps) # create random signal\n",
    "\n",
    "    # Transmit the sine wave over channel 0\n",
    "    transmit_waveform(usrp, sine_wave, sample_rate=sample_rate)\n",
    "\n",
    "    print(\"Transmission complete!\")\n",
    "\n",
    "if __name__ == \"__main__\":\n",
    "    main()\n"
   ]
  }
 ],
 "metadata": {
  "kernelspec": {
   "display_name": "Python 3",
   "language": "python",
   "name": "python3"
  },
  "language_info": {
   "codemirror_mode": {
    "name": "ipython",
    "version": 3
   },
   "file_extension": ".py",
   "mimetype": "text/x-python",
   "name": "python",
   "nbconvert_exporter": "python",
   "pygments_lexer": "ipython3",
   "version": "3.10.14"
  }
 },
 "nbformat": 4,
 "nbformat_minor": 2
}
