{
 "cells": [
  {
   "cell_type": "code",
   "execution_count": 1,
   "metadata": {},
   "outputs": [],
   "source": [
    "import Book\n",
    "import Page\n",
    "import time\n",
    "import RX\n",
    "import numpy as np\n",
    "\n",
    "buffer  = Book.SlidingBook(num_pages=5, page_size=5)\n",
    "rx = RX.UDP_RX(buffer=buffer)"
   ]
  },
  {
   "cell_type": "code",
   "execution_count": 2,
   "metadata": {},
   "outputs": [
    {
     "data": {
      "text/plain": [
       "array([[b'0', b'message0', b'MAC', b'1725203704.3978302'],\n",
       "       [0, 0, 0, 0],\n",
       "       [0, 0, 0, 0],\n",
       "       [0, 0, 0, 0],\n",
       "       [0, 0, 0, 0]], dtype=object)"
      ]
     },
     "execution_count": 2,
     "metadata": {},
     "output_type": "execute_result"
    }
   ],
   "source": [
    "buffer.add_packet(np.array([0, b'message0', b'MAC', time.time()]))\n",
    "buffer.pages[0].packets"
   ]
  },
  {
   "cell_type": "code",
   "execution_count": 3,
   "metadata": {},
   "outputs": [
    {
     "name": "stdout",
     "output_type": "stream",
     "text": [
      "[0]\n",
      "[[b'0' b'message0' b'MAC' b'1725203704.3978302']\n",
      " [0 0 0 0]\n",
      " [0 0 0 0]\n",
      " [0 0 0 0]\n",
      " [0 0 0 0]]\n"
     ]
    }
   ],
   "source": [
    "buffer.pages[0].is_full()\n",
    "print(buffer.get_page_index())\n",
    "\n",
    "\n",
    "page = buffer.add_packet(np.array([26, b'message1', b'MAC', time.time()]))\n",
    "if page is not None:\n",
    "    print(page.packets)"
   ]
  },
  {
   "cell_type": "code",
   "execution_count": 5,
   "metadata": {},
   "outputs": [
    {
     "data": {
      "text/plain": [
       "array([[b'0', b'message0', b'MAC', b'1725203704.3978302'],\n",
       "       [b'1', 0, 0, b'1725203704.4111786'],\n",
       "       [b'2', 0, 0, b'1725203704.4111786'],\n",
       "       [b'3', 0, 0, b'1725203704.4111786'],\n",
       "       [b'4', 0, 0, b'1725203704.4111786']], dtype=object)"
      ]
     },
     "execution_count": 5,
     "metadata": {},
     "output_type": "execute_result"
    }
   ],
   "source": [
    "\n",
    "def fill_missing_packet_in_page(page: Page.Page) -> Page.Page:\n",
    "    if page.is_full():\n",
    "        return page\n",
    "    # Identify empty packets\n",
    "    empty_rows_mask = (page.packets[:, 0] == 0)\n",
    "    empty_indices = np.where(empty_rows_mask)[0]\n",
    "    # Sequence numbers of existing packets\n",
    "    existing_seq_nums = page.packets[~empty_rows_mask, 0].astype(int)\n",
    "    # Find the missing sequence numbers \n",
    "    missing_seq_nums = np.setdiff1d(np.arange(page.page_size), existing_seq_nums, assume_unique=True)\n",
    "    # If no missing sequence numbers, return the original page\n",
    "    # Create an array to store the missing rows\n",
    "    missing_data = np.zeros((len(missing_seq_nums), page.packets.shape[1]), dtype=object)\n",
    "    # Fill the missing data with sequence numbers and timestamps\n",
    "    missing_data[:, 0] = missing_seq_nums.astype(str).astype(bytes)\n",
    "    missing_data[:, 3] = str(time.time()).encode()\n",
    "    # Replace the empty rows with the missing data\n",
    "    page.packets[empty_indices[:len(missing_seq_nums)]] = missing_data\n",
    "    return page\n",
    "\n",
    "fill_missing_packet_in_page(page).packets\n",
    "\n"
   ]
  },
  {
   "cell_type": "code",
   "execution_count": 11,
   "metadata": {},
   "outputs": [
    {
     "name": "stdout",
     "output_type": "stream",
     "text": [
      "0 0\n",
      "1 1\n"
     ]
    }
   ],
   "source": [
    "X = np.array([[1,0], [0,1]])\n",
    "\n",
    "for t, p  in zip(*np.where(X == 1)):\n",
    "    print(t, p)"
   ]
  }
 ],
 "metadata": {
  "kernelspec": {
   "display_name": "Python 3",
   "language": "python",
   "name": "python3"
  },
  "language_info": {
   "codemirror_mode": {
    "name": "ipython",
    "version": 3
   },
   "file_extension": ".py",
   "mimetype": "text/x-python",
   "name": "python",
   "nbconvert_exporter": "python",
   "pygments_lexer": "ipython3",
   "version": "3.12.3"
  }
 },
 "nbformat": 4,
 "nbformat_minor": 2
}
