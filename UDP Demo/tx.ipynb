{
 "cells": [
  {
   "cell_type": "code",
   "execution_count": 1,
   "metadata": {},
   "outputs": [
    {
     "name": "stderr",
     "output_type": "stream",
     "text": [
      "[ WARN:0@0.494] global ./modules/videoio/src/cap_gstreamer.cpp (1405) open OpenCV | GStreamer warning: Cannot query video position: status=0, value=-1, duration=-1\n"
     ]
    },
    {
     "name": "stdout",
     "output_type": "stream",
     "text": [
      "frame per second:  26 fps ,data rate:  1067 KB/s\n",
      "frame per second:  31 fps ,data rate:  1282 KB/s\n",
      "frame per second:  30 fps ,data rate:  1260 KB/s\n",
      "frame per second:  31 fps ,data rate:  1289 KB/s\n",
      "frame per second:  31 fps ,data rate:  1281 KB/s\n",
      "frame per second:  31 fps ,data rate:  1285 KB/s\n",
      "frame per second:  30 fps ,data rate:  1230 KB/s\n",
      "frame per second:  31 fps ,data rate:  1271 KB/s\n",
      "frame per second:  31 fps ,data rate:  1271 KB/s\n",
      "frame per second:  31 fps ,data rate:  1271 KB/s\n",
      "frame per second:  31 fps ,data rate:  1273 KB/s\n",
      "frame per second:  30 fps ,data rate:  1231 KB/s\n",
      "frame per second:  31 fps ,data rate:  1291 KB/s\n",
      "frame per second:  31 fps ,data rate:  1302 KB/s\n",
      "frame per second:  30 fps ,data rate:  1260 KB/s\n",
      "frame per second:  30 fps ,data rate:  1260 KB/s\n",
      "frame per second:  31 fps ,data rate:  1302 KB/s\n",
      "frame per second:  31 fps ,data rate:  1302 KB/s\n",
      "frame per second:  30 fps ,data rate:  1260 KB/s\n",
      "frame per second:  31 fps ,data rate:  1302 KB/s\n",
      "frame per second:  30 fps ,data rate:  1260 KB/s\n",
      "frame per second:  30 fps ,data rate:  1260 KB/s\n",
      "frame per second:  31 fps ,data rate:  1302 KB/s\n",
      "frame per second:  31 fps ,data rate:  1302 KB/s\n",
      "frame per second:  30 fps ,data rate:  1260 KB/s\n"
     ]
    }
   ],
   "source": [
    "import src.TX as TX\n",
    "from src import MACGenerator, UDP_TX, SlidingBook\n",
    "import numpy as np\n",
    "import cv2\n",
    "import time\n",
    "import socket\n",
    "import struct\n",
    "\n",
    "#### parameters that needs to be exhanged between the sender and the receiver #####\n",
    "                # t1  t2  t3  t4  t5  t6  t7  t8  t9\n",
    "X = np.array(  [[ 1,  0,  0,  0,  0,  0,  1,  0,  0], # m1\n",
    "                [ 1,  0,  0,  0,  0,  0,  0,  1,  0], # m2\n",
    "                [ 1,  0,  0,  0,  0,  0,  0,  0,  1], # m3\n",
    "                [ 0,  1,  0,  0,  0,  0,  1,  0,  0], # m4\n",
    "                [ 0,  1,  0,  0,  0,  0,  0,  1,  0], # m5\n",
    "                [ 0,  1,  0,  0,  0,  0,  0,  0,  1], # m6\n",
    "                [ 0,  0,  1,  0,  0,  0,  1,  0,  0], # m7\n",
    "                [ 0,  0,  1,  0,  0,  0,  0,  1,  0], # m8\n",
    "                [ 0,  0,  1,  0,  0,  0,  0,  0,  1], # m9\n",
    "                [ 0,  0,  0,  1,  0,  0,  1,  0,  0], # m10\n",
    "                [ 0,  0,  0,  1,  0,  0,  0,  1,  0], # m11\n",
    "                [ 0,  0,  0,  1,  0,  0,  0,  0,  1], # m12\n",
    "                [ 0,  0,  0,  0,  1,  0,  1,  0,  0], # m13\n",
    "                [ 0,  0,  0,  0,  1,  0,  0,  1,  0], # m14\n",
    "                [ 0,  0,  0,  0,  1,  0,  0,  0,  1], # m15\n",
    "                [ 0,  0,  0,  0,  0,  1,  1,  0,  0], # m16\n",
    "                [ 0,  0,  0,  0,  0,  1,  0,  1,  0], # m17\n",
    "                [ 0,  0,  0,  0,  0,  1,  0,  0,  1]]) # m18\n",
    "                # t1  t2  t3  t4  t5  t6  t7  t8  t9\n",
    "Y = np.array(  [[ 0,  0,  0,  0,  0,  0,  1,  0,  0], # m1\n",
    "                [ 0,  0,  0,  0,  0,  0,  0,  1,  0], # m2\n",
    "                [ 1,  0,  0,  0,  0,  0,  0,  0,  0], # m3\n",
    "                [ 0,  0,  0,  0,  0,  0,  0,  0,  0], # m4\n",
    "                [ 0,  0,  0,  0,  0,  0,  0,  0,  0], # m5\n",
    "                [ 0,  1,  0,  0,  0,  0,  0,  0,  0], # m6\n",
    "                [ 0,  0,  0,  0,  0,  0,  0,  0,  0], # m7\n",
    "                [ 0,  0,  0,  0,  0,  0,  0,  0,  0], # m8\n",
    "                [ 0,  0,  1,  0,  0,  0,  0,  0,  0], # m9\n",
    "                [ 0,  0,  0,  0,  0,  0,  0,  0,  0], # m10\n",
    "                [ 0,  0,  0,  0,  0,  0,  0,  0,  0], # m11\n",
    "                [ 0,  0,  0,  1,  0,  0,  0,  0,  0], # m12\n",
    "                [ 0,  0,  0,  0,  0,  0,  0,  0,  0], # m13\n",
    "                [ 0,  0,  0,  0,  0,  0,  0,  0,  0], # m14\n",
    "                [ 0,  0,  0,  0,  1,  0,  0,  0,  0], # m15\n",
    "                [ 0,  0,  0,  0,  0,  0,  0,  0,  0], # m16\n",
    "                [ 0,  0,  0,  0,  0,  1,  0,  0,  0], # m17\n",
    "                [ 0,  0,  0,  0,  0,  0,  0,  0,  1]]) # m18\n",
    "KEY = b\"key\"\n",
    "DIGESTMOD = 'sha384' \n",
    "IP = \"10.42.0.15\"\n",
    "PORT = 23422\n",
    "Payload_Size_Byte = 128\n",
    "\n",
    "buffer = SlidingBook(num_pages=1000, page_size=X.shape[0])\n",
    "page_processor = MACGenerator(X = X, Y = Y, secret_key=KEY, digestmod=DIGESTMOD)\n",
    "udp_tx = UDP_TX(IP= IP, PORT= PORT, buffer=buffer, page_processor= page_processor, Payload_Size_Byte=Payload_Size_Byte)\n",
    "\n",
    "with socket.socket(socket.AF_INET, socket.SOCK_STREAM) as s:\n",
    "    s.connect((IP, PORT))\n",
    "    s.send(b\"start\")\n",
    "    time.sleep(.1)\n",
    "    data = time.time()\n",
    "    data = struct.pack('d', data)\n",
    "    s.send(data)\n",
    "\n",
    "\n",
    "\n",
    "# with open(\"send.txt\", \"rb\") as f:\n",
    "#     text = f.read()\n",
    "#     print(len(text))\n",
    "# 1/0\n",
    "\n",
    "cap = cv2.VideoCapture(0)  # Capture video from the default camera\n",
    "# Define the compression parameters for Progressive JPEG\n",
    "compression_params = [cv2.IMWRITE_JPEG_PROGRESSIVE, 1, cv2.IMWRITE_JPEG_QUALITY, 70]\n",
    "## counting the number of frames per second\n",
    "start_time = time.time()\n",
    "frame_counter = 0\n",
    "average_tx_size = 0\n",
    "while True:\n",
    "    ret, frame = cap.read()\n",
    "    # Encode the image to JPEG format in memory\n",
    "    success, encoded_frame = cv2.imencode('.jpg', frame, compression_params)\n",
    "    data = encoded_frame.tobytes()\n",
    "    average_tx_size+=len(data)//1000\n",
    "    buffer = SlidingBook(num_pages=40, page_size=X.shape[0])\n",
    "    page_processor = MACGenerator(X = X, Y = Y, secret_key=KEY, digestmod=DIGESTMOD)\n",
    "    udp_tx = UDP_TX(IP= IP, PORT= PORT, buffer=buffer, page_processor= page_processor, Payload_Size_Byte=1024)\n",
    "    pages = udp_tx.segment_to_pages(data)\n",
    "    udp_tx.transmit(pages)\n",
    "    cv2.imshow('Webcam', frame)\n",
    "    if cv2.waitKey(1) & 0xFF == ord('q'):  # Press 'q' to quit\n",
    "        break\n",
    "    time.sleep(.01)\n",
    "    frame_counter += 1\n",
    "    if time.time() - start_time >= 1:\n",
    "        print(\"frame per second: \", frame_counter, \"fps ,data rate: \", average_tx_size, \"KB/s\")\n",
    "        frame_counter = 0\n",
    "        start_time = time.time()\n",
    "        average_tx_size = 0\n",
    "cap.release()\n",
    "\n"
   ]
  },
  {
   "cell_type": "code",
   "execution_count": null,
   "metadata": {},
   "outputs": [
    {
     "data": {
      "text/plain": [
       "1725068286.1887634"
      ]
     },
     "execution_count": 3,
     "metadata": {},
     "output_type": "execute_result"
    }
   ],
   "source": [
    "import time\n",
    "\n",
    "time.time()"
   ]
  }
 ],
 "metadata": {
  "kernelspec": {
   "display_name": "Python 3",
   "language": "python",
   "name": "python3"
  },
  "language_info": {
   "codemirror_mode": {
    "name": "ipython",
    "version": 3
   },
   "file_extension": ".py",
   "mimetype": "text/x-python",
   "name": "python",
   "nbconvert_exporter": "python",
   "pygments_lexer": "ipython3",
   "version": "3.12.3"
  }
 },
 "nbformat": 4,
 "nbformat_minor": 2
}
