{
 "cells": [
  {
   "cell_type": "code",
   "execution_count": 4,
   "metadata": {},
   "outputs": [
    {
     "ename": "ZeroDivisionError",
     "evalue": "division by zero",
     "output_type": "error",
     "traceback": [
      "\u001b[0;31m---------------------------------------------------------------------------\u001b[0m",
      "\u001b[0;31mZeroDivisionError\u001b[0m                         Traceback (most recent call last)",
      "Cell \u001b[0;32mIn[4], line 63\u001b[0m\n\u001b[1;32m     60\u001b[0m     pages \u001b[38;5;241m=\u001b[39m udp_tx\u001b[38;5;241m.\u001b[39msegment_to_pages(f\u001b[38;5;241m.\u001b[39mread())\n\u001b[1;32m     61\u001b[0m     udp_tx\u001b[38;5;241m.\u001b[39mtransmit(pages)\n\u001b[0;32m---> 63\u001b[0m \u001b[38;5;241;43m1\u001b[39;49m\u001b[38;5;241;43m/\u001b[39;49m\u001b[38;5;241;43m0\u001b[39;49m\n\u001b[1;32m     65\u001b[0m cap \u001b[38;5;241m=\u001b[39m cv2\u001b[38;5;241m.\u001b[39mVideoCapture(\u001b[38;5;241m0\u001b[39m)  \u001b[38;5;66;03m# Capture video from the default camera\u001b[39;00m\n\u001b[1;32m     66\u001b[0m \u001b[38;5;66;03m# Define the compression parameters for Progressive JPEG\u001b[39;00m\n",
      "\u001b[0;31mZeroDivisionError\u001b[0m: division by zero"
     ]
    }
   ],
   "source": [
    "import src.TX as TX\n",
    "from src import MACGenerator, UDP_TX, SlidingBook\n",
    "import numpy as np\n",
    "import cv2\n",
    "import time\n",
    "\n",
    "#### parameters that needs to be exhanged between the sender and the receiver #####\n",
    "                # t1  t2  t3  t4  t5  t6  t7  t8  t9\n",
    "X = np.array(  [[ 1,  0,  0,  0,  0,  0,  1,  0,  0], # m1\n",
    "                [ 1,  0,  0,  0,  0,  0,  0,  1,  0], # m2\n",
    "                [ 1,  0,  0,  0,  0,  0,  0,  0,  1], # m3\n",
    "                [ 0,  1,  0,  0,  0,  0,  1,  0,  0], # m4\n",
    "                [ 0,  1,  0,  0,  0,  0,  0,  1,  0], # m5\n",
    "                [ 0,  1,  0,  0,  0,  0,  0,  0,  1], # m6\n",
    "                [ 0,  0,  1,  0,  0,  0,  1,  0,  0], # m7\n",
    "                [ 0,  0,  1,  0,  0,  0,  0,  1,  0], # m8\n",
    "                [ 0,  0,  1,  0,  0,  0,  0,  0,  1], # m9\n",
    "                [ 0,  0,  0,  1,  0,  0,  1,  0,  0], # m10\n",
    "                [ 0,  0,  0,  1,  0,  0,  0,  1,  0], # m11\n",
    "                [ 0,  0,  0,  1,  0,  0,  0,  0,  1], # m12\n",
    "                [ 0,  0,  0,  0,  1,  0,  1,  0,  0], # m13\n",
    "                [ 0,  0,  0,  0,  1,  0,  0,  1,  0], # m14\n",
    "                [ 0,  0,  0,  0,  1,  0,  0,  0,  1], # m15\n",
    "                [ 0,  0,  0,  0,  0,  1,  1,  0,  0], # m16\n",
    "                [ 0,  0,  0,  0,  0,  1,  0,  1,  0], # m17\n",
    "                [ 0,  0,  0,  0,  0,  1,  0,  0,  1]]) # m18\n",
    "                # t1  t2  t3  t4  t5  t6  t7  t8  t9\n",
    "Y = np.array(  [[ 0,  0,  0,  0,  0,  0,  1,  0,  0], # m1\n",
    "                [ 0,  0,  0,  0,  0,  0,  0,  1,  0], # m2\n",
    "                [ 1,  0,  0,  0,  0,  0,  0,  0,  0], # m3\n",
    "                [ 0,  0,  0,  0,  0,  0,  0,  0,  0], # m4\n",
    "                [ 0,  0,  0,  0,  0,  0,  0,  0,  0], # m5\n",
    "                [ 0,  1,  0,  0,  0,  0,  0,  0,  0], # m6\n",
    "                [ 0,  0,  0,  0,  0,  0,  0,  0,  0], # m7\n",
    "                [ 0,  0,  0,  0,  0,  0,  0,  0,  0], # m8\n",
    "                [ 0,  0,  1,  0,  0,  0,  0,  0,  0], # m9\n",
    "                [ 0,  0,  0,  0,  0,  0,  0,  0,  0], # m10\n",
    "                [ 0,  0,  0,  0,  0,  0,  0,  0,  0], # m11\n",
    "                [ 0,  0,  0,  1,  0,  0,  0,  0,  0], # m12\n",
    "                [ 0,  0,  0,  0,  0,  0,  0,  0,  0], # m13\n",
    "                [ 0,  0,  0,  0,  0,  0,  0,  0,  0], # m14\n",
    "                [ 0,  0,  0,  0,  1,  0,  0,  0,  0], # m15\n",
    "                [ 0,  0,  0,  0,  0,  0,  0,  0,  0], # m16\n",
    "                [ 0,  0,  0,  0,  0,  1,  0,  0,  0], # m17\n",
    "                [ 0,  0,  0,  0,  0,  0,  0,  0,  1]]) # m18\n",
    "KEY = b\"key\"\n",
    "DIGESTMOD = 'sha1' \n",
    "IP = \"0.0.0.0\"\n",
    "PORT = 23422\n",
    "\n",
    "buffer = SlidingBook(num_pages=10, page_size=X.shape[0])\n",
    "page_processor = MACGenerator(X = X, Y = Y, secret_key=KEY, digestmod=DIGESTMOD)\n",
    "udp_tx = UDP_TX(IP= IP, PORT= PORT, buffer=buffer, page_processor= page_processor, Payload_Size_Byte=18)\n",
    "\n",
    "\n",
    "\n",
    "\n",
    "\n",
    "# with open(\"send.txt\", \"rb\") as f:\n",
    "#     pages = udp_tx.segment_to_pages(f.read())\n",
    "#     udp_tx.transmit(pages)\n",
    "\n",
    "1/0\n",
    "\n",
    "cap = cv2.VideoCapture(0)  # Capture video from the default camera\n",
    "# Define the compression parameters for Progressive JPEG\n",
    "compression_params = [cv2.IMWRITE_JPEG_PROGRESSIVE, 1, cv2.IMWRITE_JPEG_QUALITY, 30]\n",
    "## counting the number of frames per second\n",
    "start_time = time.time()\n",
    "frame_counter = 0\n",
    "average_tx_size = 0\n",
    "while True:\n",
    "    ret, frame = cap.read()\n",
    "    # Encode the image to JPEG format in memory\n",
    "    success, encoded_frame = cv2.imencode('.jpg', frame, compression_params)\n",
    "    data = encoded_frame.tobytes()\n",
    "    average_tx_size+=len(data)//1000\n",
    "    udp_tx.transmit(data)\n",
    "    cv2.imshow('Webcam', frame)\n",
    "    if cv2.waitKey(1) & 0xFF == ord('q'):  # Press 'q' to quit\n",
    "        break\n",
    "    time.sleep(.01)\n",
    "    frame_counter += 1\n",
    "    if time.time() - start_time >= 1:\n",
    "        print(\"frame per second: \", frame_counter, \"fps ,data rate: \", average_tx_size, \"KB/s\")\n",
    "        frame_counter = 0\n",
    "        start_time = time.time()\n",
    "        average_tx_size = 0\n",
    "cap.release()\n",
    "\n"
   ]
  },
  {
   "cell_type": "code",
   "execution_count": null,
   "metadata": {},
   "outputs": [
    {
     "data": {
      "text/plain": [
       "1725068286.1887634"
      ]
     },
     "execution_count": 3,
     "metadata": {},
     "output_type": "execute_result"
    }
   ],
   "source": [
    "import time\n",
    "\n",
    "time.time()"
   ]
  }
 ],
 "metadata": {
  "kernelspec": {
   "display_name": "Python 3",
   "language": "python",
   "name": "python3"
  },
  "language_info": {
   "codemirror_mode": {
    "name": "ipython",
    "version": 3
   },
   "file_extension": ".py",
   "mimetype": "text/x-python",
   "name": "python",
   "nbconvert_exporter": "python",
   "pygments_lexer": "ipython3",
   "version": "3.12.3"
  }
 },
 "nbformat": 4,
 "nbformat_minor": 2
}
