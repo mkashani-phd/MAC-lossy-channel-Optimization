{
 "cells": [
  {
   "cell_type": "code",
   "execution_count": 1,
   "metadata": {},
   "outputs": [
    {
     "name": "stderr",
     "output_type": "stream",
     "text": [
      "[ WARN:0@0.370] global ./modules/videoio/src/cap_gstreamer.cpp (1405) open OpenCV | GStreamer warning: Cannot query video position: status=0, value=-1, duration=-1\n"
     ]
    },
    {
     "name": "stdout",
     "output_type": "stream",
     "text": [
      "frame per second:  21 fps ,data rate:  2624 KB/s\n",
      "frame per second:  22 fps ,data rate:  2750 KB/s\n",
      "frame per second:  19 fps ,data rate:  2375 KB/s\n",
      "frame per second:  24 fps ,data rate:  3000 KB/s\n",
      "frame per second:  22 fps ,data rate:  2750 KB/s\n",
      "frame per second:  22 fps ,data rate:  2750 KB/s\n",
      "frame per second:  24 fps ,data rate:  3000 KB/s\n",
      "frame per second:  21 fps ,data rate:  2625 KB/s\n",
      "frame per second:  21 fps ,data rate:  2625 KB/s\n",
      "frame per second:  15 fps ,data rate:  1875 KB/s\n",
      "frame per second:  14 fps ,data rate:  1750 KB/s\n",
      "frame per second:  16 fps ,data rate:  2000 KB/s\n",
      "frame per second:  28 fps ,data rate:  3500 KB/s\n",
      "frame per second:  28 fps ,data rate:  3500 KB/s\n",
      "frame per second:  27 fps ,data rate:  3375 KB/s\n",
      "frame per second:  29 fps ,data rate:  3625 KB/s\n",
      "frame per second:  28 fps ,data rate:  3470 KB/s\n",
      "frame per second:  29 fps ,data rate:  3528 KB/s\n",
      "frame per second:  30 fps ,data rate:  3676 KB/s\n",
      "frame per second:  31 fps ,data rate:  3804 KB/s\n",
      "frame per second:  11 fps ,data rate:  1357 KB/s\n",
      "frame per second:  29 fps ,data rate:  3570 KB/s\n",
      "frame per second:  26 fps ,data rate:  3180 KB/s\n",
      "frame per second:  27 fps ,data rate:  3333 KB/s\n",
      "frame per second:  12 fps ,data rate:  1497 KB/s\n",
      "frame per second:  27 fps ,data rate:  3326 KB/s\n",
      "frame per second:  28 fps ,data rate:  3470 KB/s\n",
      "frame per second:  29 fps ,data rate:  3657 KB/s\n",
      "frame per second:  30 fps ,data rate:  3813 KB/s\n",
      "frame per second:  29 fps ,data rate:  3626 KB/s\n"
     ]
    }
   ],
   "source": [
    "import src.TX as TX\n",
    "import numpy as np\n",
    "import cv2\n",
    "import time\n",
    "\n",
    "#### parameters that needs to be exhanged between the sender and the receiver #####\n",
    "IP = \"10.42.0.15\"\n",
    "# IP = \"0.0.0.0\"\n",
    "PORT = 23422\n",
    "            #  t1  t2  t3  t4  t5  t6  t7  t8  t9\n",
    "X = np.array([[ 1,  0,  0,  0,  0,  0,  1,  0,  0], # m1\n",
    "              [ 1,  0,  0,  0,  0,  0,  0,  1,  0], # m2\n",
    "              [ 1,  0,  0,  0,  0,  0,  0,  0,  1], # m3\n",
    "              [ 0,  1,  0,  0,  0,  0,  1,  0,  0], # m4\n",
    "              [ 0,  1,  0,  0,  0,  0,  0,  1,  0], # m5\n",
    "              [ 0,  1,  0,  0,  0,  0,  0,  0,  1], # m6\n",
    "              [ 0,  0,  1,  0,  0,  0,  1,  0,  0], # m7\n",
    "              [ 0,  0,  1,  0,  0,  0,  0,  1,  0], # m8\n",
    "              [ 0,  0,  1,  0,  0,  0,  0,  0,  1], # m9\n",
    "              [ 0,  0,  0,  1,  0,  0,  1,  0,  0], # m10\n",
    "              [ 0,  0,  0,  1,  0,  0,  0,  1,  0], # m11\n",
    "              [ 0,  0,  0,  1,  0,  0,  0,  0,  1], # m12\n",
    "              [ 0,  0,  0,  0,  1,  0,  1,  0,  0], # m13\n",
    "              [ 0,  0,  0,  0,  1,  0,  0,  1,  0], # m14\n",
    "              [ 0,  0,  0,  0,  1,  0,  0,  0,  1], # m15\n",
    "              [ 0,  0,  0,  0,  0,  1,  1,  0,  0], # m16\n",
    "              [ 0,  0,  0,  0,  0,  1,  0,  1,  0], # m17\n",
    "              [ 0,  0,  0,  0,  0,  1,  0,  0,  1]]) # m18\n",
    "            #  t1  t2  t3  t4  t5  t6  t7  t8  t9\n",
    "Y = np.array([[ 0,  0,  0,  0,  0,  0,  1,  0,  0], # m1\n",
    "              [ 0,  0,  0,  0,  0,  0,  0,  1,  0], # m2\n",
    "              [ 1,  0,  0,  0,  0,  0,  0,  0,  0], # m3\n",
    "              [ 0,  0,  0,  0,  0,  0,  0,  0,  0], # m4\n",
    "              [ 0,  0,  0,  0,  0,  0,  0,  0,  0], # m5\n",
    "              [ 0,  1,  0,  0,  0,  0,  0,  0,  0], # m6\n",
    "              [ 0,  0,  0,  0,  0,  0,  0,  0,  0], # m7\n",
    "              [ 0,  0,  0,  0,  0,  0,  0,  0,  0], # m8\n",
    "              [ 0,  0,  1,  0,  0,  0,  0,  0,  0], # m9\n",
    "              [ 0,  0,  0,  0,  0,  0,  0,  0,  0], # m10\n",
    "              [ 0,  0,  0,  0,  0,  0,  0,  0,  0], # m11\n",
    "              [ 0,  0,  0,  1,  0,  0,  0,  0,  0], # m12\n",
    "              [ 0,  0,  0,  0,  0,  0,  0,  0,  0], # m13\n",
    "              [ 0,  0,  0,  0,  0,  0,  0,  0,  0], # m14\n",
    "              [ 0,  0,  0,  0,  1,  0,  0,  0,  0], # m15\n",
    "              [ 0,  0,  0,  0,  0,  0,  0,  0,  0], # m16\n",
    "              [ 0,  0,  0,  0,  0,  1,  0,  0,  0], # m17\n",
    "              [ 0,  0,  0,  0,  0,  0,  0,  0,  1]]) # m18\n",
    "\n",
    "\n",
    "X_eye = np.eye(18)\n",
    "Y_eye = np.eye(18)\n",
    "chunk_size_Byte = 1024\n",
    "key = b\"key\"\n",
    "digestmod = 'sha384'\n",
    "\n",
    "\n",
    "udp_tx = TX.UDP_TX(IP=IP, PORT=PORT, X=X, Y=Y, chunk_size_Byte=chunk_size_Byte, KEY=key, digestmod=digestmod)\n",
    "\n",
    "# with open(\"send.txt\", \"rb\") as f:\n",
    "#     udp_tx.transmit(f.read())\n",
    "\n",
    "# udp_tx.transmit(b\"Hello World this is not working and this is bad, but I think I need a bigger text to transmit\", attack=[0])\n",
    "# 1/0\n",
    "\n",
    "cap = cv2.VideoCapture(0)  # Capture video from the default camera\n",
    "# Define the compression parameters for Progressive JPEG\n",
    "compression_params = [cv2.IMWRITE_JPEG_PROGRESSIVE, 1, cv2.IMWRITE_JPEG_QUALITY, 95]\n",
    "## counting the number of frames per second\n",
    "start_time = time.time()\n",
    "frame_counter = 0\n",
    "average_tx_size = 0\n",
    "while True:\n",
    "    ret, frame = cap.read()\n",
    "    # Encode the image to JPEG format in memory\n",
    "    success, encoded_frame = cv2.imencode('.jpg', frame, compression_params)\n",
    "    data = encoded_frame.tobytes()\n",
    "    average_tx_size+=len(data)//1000\n",
    "    udp_tx.transmit(data)\n",
    "    cv2.imshow('Webcam', frame)\n",
    "    if cv2.waitKey(1) & 0xFF == ord('q'):  # Press 'q' to quit\n",
    "        break\n",
    "    time.sleep(.01)\n",
    "    frame_counter += 1\n",
    "    if time.time() - start_time >= 1:\n",
    "        print(\"frame per second: \", frame_counter, \"fps ,data rate: \", average_tx_size, \"KB/s\")\n",
    "        frame_counter = 0\n",
    "        start_time = time.time()\n",
    "        average_tx_size = 0\n",
    "cap.release()\n",
    "\n"
   ]
  },
  {
   "cell_type": "code",
   "execution_count": null,
   "metadata": {},
   "outputs": [
    {
     "data": {
      "text/plain": [
       "1725068286.1887634"
      ]
     },
     "execution_count": 3,
     "metadata": {},
     "output_type": "execute_result"
    }
   ],
   "source": [
    "import time\n",
    "\n",
    "time.time()"
   ]
  }
 ],
 "metadata": {
  "kernelspec": {
   "display_name": "Python 3",
   "language": "python",
   "name": "python3"
  },
  "language_info": {
   "codemirror_mode": {
    "name": "ipython",
    "version": 3
   },
   "file_extension": ".py",
   "mimetype": "text/x-python",
   "name": "python",
   "nbconvert_exporter": "python",
   "pygments_lexer": "ipython3",
   "version": "3.12.3"
  }
 },
 "nbformat": 4,
 "nbformat_minor": 2
}
