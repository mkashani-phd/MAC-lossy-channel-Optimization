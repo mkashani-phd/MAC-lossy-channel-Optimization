{
 "cells": [
  {
   "cell_type": "code",
   "execution_count": 5,
   "metadata": {},
   "outputs": [
    {
     "name": "stdout",
     "output_type": "stream",
     "text": [
      "Sent chunk  0  of  78012\n",
      "modify, sequence number =  4789\n",
      "Sent chunk  10000  of  78012\n",
      "modify, sequence number =  13044\n",
      "Sent chunk  20000  of  78012\n",
      "modify, sequence number =  21694\n",
      "Sent chunk  30000  of  78012\n",
      "modify, sequence number =  38578\n",
      "Sent chunk  40000  of  78012\n",
      "Sent chunk  50000  of  78012\n",
      "Sent chunk  60000  of  78012\n",
      "modify, sequence number =  61044\n",
      "modify, sequence number =  67357\n",
      "Sent chunk  70000  of  78012\n",
      "Image sent\n"
     ]
    },
    {
     "data": {
      "text/plain": [
       "78012"
      ]
     },
     "execution_count": 5,
     "metadata": {},
     "output_type": "execute_result"
    }
   ],
   "source": [
    "import socket\n",
    "import time\n",
    "import numpy as np\n",
    "from PIL import Image\n",
    "import hmac\n",
    "\n",
    "\n",
    "\n",
    "# Divide the image into into 920 bit chunks\n",
    "def divide_image_into_pixel_groups(image_path, group_pixel_count=30):\n",
    "    # Step 1: Loading the Image\n",
    "    with Image.open(image_path).convert('RGB') as img:\n",
    "        width, height = img.size\n",
    "        \n",
    "\n",
    "        # Step 2: Calculating Group Dimensions\n",
    "        # Find a suitable width and height for the groups that would approximately contain 1024 pixels\n",
    "        group_width = int(np.sqrt(group_pixel_count))\n",
    "        group_height = group_pixel_count // group_width\n",
    "\n",
    "        # Adjust group_height in case group_width * group_height < 1024\n",
    "        if group_width * group_height < group_pixel_count:\n",
    "            group_height += 1\n",
    "\n",
    "        groups = []\n",
    "\n",
    "        # Step 3: Dividing the Image\n",
    "        for y in range(0, height, group_height):\n",
    "            for x in range(0, width, group_width):\n",
    "                # Define the bounding box for each group\n",
    "                box = (x, y, x + group_width, y + group_height)\n",
    "                # Crop the image to the box to get the group\n",
    "                group = img.crop(box)\n",
    "                groups.append(group)\n",
    "\n",
    "        return groups\n",
    "    \n",
    "def add_MAC(groups):\n",
    "    for i in range(len(groups)):\n",
    "        mac = hmac.new(b'key', groups[i].tobytes(), 'sha384').digest()\n",
    "        groups[i] = groups[i].tobytes() + mac\n",
    "    return groups\n",
    "\n",
    "\n",
    "def send_bmp_image(file_path, ip, port, p):\n",
    "    groups = divide_image_into_pixel_groups(file_path)\n",
    "    groups = add_MAC(groups)\n",
    "\n",
    "    # Create a UDP socket\n",
    "    sock = socket.socket(socket.AF_INET, socket.SOCK_DGRAM)\n",
    "\n",
    "    i =0\n",
    "    try:\n",
    "        for pixel_group in groups:\n",
    "  \n",
    "            \n",
    "            # Send chunk index and chunk data\n",
    "            if np.random.rand() < p:\n",
    "                sock.sendto(i.to_bytes(4, 'big') + pixel_group , (ip, port))\n",
    "                time.sleep(0.0001)\n",
    "            else:\n",
    "                print(\"modify, sequence number = \", i)\n",
    "                mac = hmac.new(b'key', b'modified', 'sha384').digest()\n",
    "                if np.random.rand() < .5:\n",
    "                    sock.sendto(i.to_bytes(4, 'big') + b'b' + mac, (ip, port))\n",
    "                time.sleep(0.0001)\n",
    "            if i % 10000 == 0:\n",
    "                print(\"Sent chunk \", i, \" of \", len(groups))\n",
    "            i += 1\n",
    "            \n",
    "\n",
    "        # Send a final message indicating completion\n",
    "        sock.sendto(b'END', (ip, port))\n",
    "    finally:\n",
    "        print(\"Image sent\")\n",
    "        sock.close()\n",
    "    return i\n",
    "\n",
    "# Example usage\n",
    "file_path = 'output.png'\n",
    "destination_ip = '0.0.0.0'\n",
    "destination_port = 23423\n",
    "\n",
    "\n",
    "# packet success probability\n",
    "p = .9999\n",
    "\n",
    "send_bmp_image(file_path, destination_ip, destination_port, p = p)\n"
   ]
  },
  {
   "cell_type": "code",
   "execution_count": 6,
   "metadata": {},
   "outputs": [
    {
     "data": {
      "text/plain": [
       "78012"
      ]
     },
     "execution_count": 6,
     "metadata": {},
     "output_type": "execute_result"
    }
   ],
   "source": [
    "groups = divide_image_into_pixel_groups(\"output.png\", group_pixel_count=30)\n",
    "# combine the groups into a single image\n",
    "\n",
    "len(groups)\n",
    "\n",
    "\n"
   ]
  },
  {
   "cell_type": "code",
   "execution_count": 7,
   "metadata": {},
   "outputs": [
    {
     "data": {
      "text/plain": [
       "(6, 5, 3)"
      ]
     },
     "execution_count": 7,
     "metadata": {},
     "output_type": "execute_result"
    }
   ],
   "source": [
    "# groups[0] = Image.fromarray(np.zeros(np.array(groups[1]).shape, dtype=np.uint8))\n",
    "# groups[0]\n",
    "np.array(groups[1]).shape"
   ]
  },
  {
   "cell_type": "code",
   "execution_count": 8,
   "metadata": {},
   "outputs": [
    {
     "data": {
      "text/plain": [
       "48"
      ]
     },
     "execution_count": 8,
     "metadata": {},
     "output_type": "execute_result"
    }
   ],
   "source": [
    "import hmac\n",
    "\n",
    "len(hmac.new(b'key', b'message', 'sha384').digest())\n"
   ]
  },
  {
   "cell_type": "code",
   "execution_count": null,
   "metadata": {},
   "outputs": [],
   "source": []
  }
 ],
 "metadata": {
  "kernelspec": {
   "display_name": "Python 3",
   "language": "python",
   "name": "python3"
  },
  "language_info": {
   "codemirror_mode": {
    "name": "ipython",
    "version": 3
   },
   "file_extension": ".py",
   "mimetype": "text/x-python",
   "name": "python",
   "nbconvert_exporter": "python",
   "pygments_lexer": "ipython3",
   "version": "3.9.6"
  }
 },
 "nbformat": 4,
 "nbformat_minor": 2
}
