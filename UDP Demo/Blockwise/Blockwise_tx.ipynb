{
 "cells": [
  {
   "cell_type": "code",
   "execution_count": 4,
   "metadata": {},
   "outputs": [
    {
     "name": "stdout",
     "output_type": "stream",
     "text": [
      "Transmission Time: 6.019026279449463 seconds\n",
      "Total Goodput: 11182328 bits\n"
     ]
    }
   ],
   "source": [
    "import socket\n",
    "import hmac\n",
    "import numpy as np\n",
    "import time\n",
    "\n",
    "def divide_text(text, block_size_bytes=1024):\n",
    "    blocks = [text[i:i + block_size_bytes] for i in range(0, len(text), block_size_bytes)]\n",
    "    return blocks\n",
    "\n",
    "def send_segments(text, sock, ip, port, key, block_size_bytes=1024):\n",
    "    blocks = divide_text(text.encode('utf-8'), block_size_bytes)\n",
    "    total_payload_sent = 0  # Track goodput (useful data)\n",
    "\n",
    "    start_time = time.time()  # Start time of transmission\n",
    "\n",
    "    for i, block in enumerate(blocks):\n",
    "        mac = hmac.new(key, block, digestmod='sha384').digest()\n",
    "        message = i.to_bytes(4, 'big') + block + mac  # Prepend block index and append MAC\n",
    "        total_payload_sent += len(block)  # Count only the useful data\n",
    "        sock.sendto(message, (ip, port))\n",
    "\n",
    "    sock.sendto(b'END', (ip, port))  # Indicate end of transmission\n",
    "\n",
    "    end_time = time.time()  # End time of transmission\n",
    "    transmission_time = end_time - start_time  # Calculate total transmission time\n",
    "\n",
    "    print(f\"Transmission Time: {transmission_time} seconds\")\n",
    "    print(f\"Total Goodput: {total_payload_sent * 8} bits\")  # Convert KB to bits\n",
    "\n",
    "# Example usage\n",
    "ip = \"10.42.0.15\"\n",
    "port = 23422\n",
    "sock = socket.socket(socket.AF_INET, socket.SOCK_DGRAM)\n",
    "\n",
    "key = b'secret_key'\n",
    "with open('send.txt', 'r') as file:\n",
    "    text = file.read()\n",
    "\n",
    "send_segments(text, sock, ip, port, key)\n",
    "sock.close()\n"
   ]
  }
 ],
 "metadata": {
  "kernelspec": {
   "display_name": "Python 3",
   "language": "python",
   "name": "python3"
  },
  "language_info": {
   "codemirror_mode": {
    "name": "ipython",
    "version": 3
   },
   "file_extension": ".py",
   "mimetype": "text/x-python",
   "name": "python",
   "nbconvert_exporter": "python",
   "pygments_lexer": "ipython3",
   "version": "3.12.3"
  }
 },
 "nbformat": 4,
 "nbformat_minor": 2
}
