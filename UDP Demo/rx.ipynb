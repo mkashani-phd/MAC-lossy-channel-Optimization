{
 "cells": [
  {
   "cell_type": "code",
   "execution_count": 1,
   "metadata": {},
   "outputs": [
    {
     "name": "stderr",
     "output_type": "stream",
     "text": [
      "2024-09-04 13:01:23.091 Python[1611:17658] WARNING: Secure coding is automatically enabled for restorable state! However, not on all supported macOS versions of this application. Opt-in to secure coding explicitly by implementing NSApplicationDelegate.applicationSupportsSecureRestorableState:.\n",
      "/Users/mohammadkashani/Library/Python/3.9/lib/python/site-packages/numpy/lib/function_base.py:520: RuntimeWarning: Mean of empty slice.\n",
      "  avg = a.mean(axis, **keepdims_kw)\n",
      "/Users/mohammadkashani/Library/Python/3.9/lib/python/site-packages/numpy/core/_methods.py:129: RuntimeWarning: invalid value encountered in scalar divide\n",
      "  ret = ret.dtype.type(ret / rcount)\n"
     ]
    },
    {
     "name": "stdout",
     "output_type": "stream",
     "text": [
      "avg_verification: 1.0, latency: -0.05945810794830322\n",
      "10 fps\n",
      "17 fps\n",
      "17 fps\n",
      "19 fps\n",
      "avg_verification: nan, latency: nan\n",
      "17 fps\n",
      "19 fps\n",
      "18 fps\n",
      "18 fps\n",
      "17 fps\n",
      "avg_verification: nan, latency: nan\n",
      "Creating a new file\n"
     ]
    }
   ],
   "source": [
    "from src import UDP_RX, SlidingBook, MACChecker\n",
    "import matplotlib.pyplot as plt\n",
    "import numpy as np\n",
    "import cv2\n",
    "import time\n",
    "import json\n",
    "import socket\n",
    "import struct\n",
    "import pickle\n",
    "\n",
    "\n",
    "\n",
    "\n",
    "\n",
    "# Getting the Parameters from the sender and Calculating the offset\n",
    "def receive_param(IP, PORT):\n",
    "    with socket.socket(socket.AF_INET, socket.SOCK_STREAM) as s:\n",
    "        s.bind((IP, PORT))\n",
    "        s.listen()\n",
    "        conn, addr = s.accept()\n",
    "        with conn:\n",
    "\n",
    "            param = b''\n",
    "            while True:\n",
    "                data = conn.recv(1024)\n",
    "                if not data or data == b'END':\n",
    "                    break\n",
    "                param += data\n",
    "            # print(param)\n",
    "            data2 = conn.recv(16)\n",
    "            # print(data2)\n",
    "            offset = time.time() - struct.unpack('d', data2)[0]\n",
    "            \n",
    "        param = json.loads(param.decode('utf-8'))\n",
    "        param['OFFSET'] = offset \n",
    "        return param\n",
    "\n",
    "\n",
    "def run_experiment(IP, PORT, param):\n",
    "    total_avg_verification = []\n",
    "    goodput_total = []\n",
    "    total_latency = []\n",
    "    framecnt_total = []\n",
    "\n",
    "    cnt = 0\n",
    "    framecnt = 0\n",
    "    start_frame_cnt = time.time()\n",
    "    start = time.time()\n",
    "\n",
    "    while True:\n",
    "\n",
    "        buffer =  SlidingBook(num_pages=100, page_size=len(param['X']))\n",
    "        page_processor = MACChecker(X = param['X'], Y = param['Y'], secret_key=param['KEY'].encode(), digestmod=param['DIGESTMOD'])\n",
    "        udp_rx = UDP_RX(IP= IP, PORT= PORT, buffer=buffer, page_processor= page_processor, Payload_Size_Byte=param['PAYLOAD_SIZE_BYTE'])\n",
    "\n",
    "        msg, verification_count, latency, goodput = udp_rx.receive()\n",
    "        total_avg_verification.append(np.average(verification_count))\n",
    "        total_latency.append(np.average(latency))\n",
    "        goodput_total.append(goodput)\n",
    "\n",
    "\n",
    "        if msg is not None and len(msg) > 0:  # Ensure rec is not None and has valid data\n",
    "            nparr = np.frombuffer(msg, np.uint8)\n",
    "            \n",
    "            if nparr is not None and len(nparr) > 0:  # Check if nparr is valid\n",
    "                try:\n",
    "                    frame = cv2.imdecode(nparr, cv2.IMREAD_COLOR)\n",
    "                    \n",
    "                    if frame is not None:  # Ensure that the frame is successfully decoded\n",
    "                        cv2.imshow('Received Video', frame)\n",
    "                        framecnt += 1\n",
    "                        if time.time() - start_frame_cnt > 1:\n",
    "                            framecnt_total.append(framecnt)\n",
    "                            start_frame_cnt = time.time()\n",
    "                            print(f\"{framecnt} fps\")\n",
    "                            framecnt = 0\n",
    "                            \n",
    "                        if cv2.waitKey(1) & 0xFF == ord('q'):\n",
    "                            break\n",
    "                    else:\n",
    "                        # print(\"Failed to decode frame.\")\n",
    "                        pass\n",
    "                except Exception as e:\n",
    "                    # print(f\"Error decoding frame: {e}\")\n",
    "                    pass\n",
    "            else:\n",
    "                # print(\"Empty or invalid buffer received.\")\n",
    "                pass\n",
    "        else:\n",
    "            # print(\"Received an empty or invalid page.\")\n",
    "            pass\n",
    "\n",
    "        if cnt % 100 == 0:\n",
    "            print(f\"avg_verification: {np.average(total_avg_verification)}, latency: {np.average(total_latency)}\")\n",
    "        cnt += 1\n",
    "        \n",
    "        if cv2.waitKey(1) & 0xFF == ord('q'):\n",
    "            break\n",
    "        if time.time() - start > param['DURATION']:\n",
    "            break\n",
    "\n",
    "    cv2.destroyAllWindows()\n",
    "\n",
    "    ## saving the parameters and the results as a json file\n",
    "\n",
    "    results = {\n",
    "        \"avg_verification\": total_avg_verification,\n",
    "        \"latency\": total_latency,\n",
    "        \"goodput\": goodput_total,\n",
    "        \"frame_rate\": framecnt_total,\n",
    "        \"param\": param\n",
    "    }   \n",
    "\n",
    "    # read a pickle file to get the previous results\n",
    "\n",
    "    try:\n",
    "        with open(\"results.pkl\", 'rb') as f:\n",
    "            file = pickle.load(f)\n",
    "            experiment_nr = len(file)\n",
    "            file[experiment_nr]=results\n",
    "            with open(\"results.pkl\", 'wb') as f:\n",
    "                pickle.dump(file, f)\n",
    "    except:\n",
    "        # create a new file\n",
    "        print(\"Creating a new file\")\n",
    "        file = {0:results}\n",
    "        with open(\"results.pkl\", 'wb') as f:\n",
    "            pickle.dump(file, f)\n",
    "\n",
    "\n",
    "#### parameters that needs to be exhanged between the sender and the receiver #####\n",
    "IP = \"0.0.0.0\"\n",
    "PORT = 23422\n",
    "#################################################################################### \n",
    "## test the receiver\n",
    "param = receive_param(IP=IP, PORT=PORT)\n",
    "run_experiment(IP=IP, PORT=PORT, param=param)"
   ]
  },
  {
   "cell_type": "code",
   "execution_count": 2,
   "metadata": {},
   "outputs": [
    {
     "name": "stdout",
     "output_type": "stream",
     "text": [
      "avg_verification: 10.0, latency: -0.053886698274051445\n",
      "11 fps\n",
      "16 fps\n",
      "17 fps\n",
      "15 fps\n",
      "avg_verification: nan, latency: nan\n",
      "16 fps\n",
      "17 fps\n",
      "16 fps\n",
      "avg_verification: nan, latency: nan\n",
      "18 fps\n",
      "16 fps\n",
      "16 fps\n",
      "14 fps\n",
      "avg_verification: nan, latency: nan\n",
      "17 fps\n",
      "13 fps\n",
      "16 fps\n",
      "17 fps\n",
      "avg_verification: nan, latency: nan\n",
      "16 fps\n",
      "17 fps\n",
      "15 fps\n",
      "15 fps\n",
      "avg_verification: nan, latency: nan\n",
      "16 fps\n",
      "19 fps\n",
      "18 fps\n",
      "avg_verification: nan, latency: nan\n",
      "16 fps\n",
      "18 fps\n",
      "16 fps\n",
      "17 fps\n",
      "avg_verification: nan, latency: nan\n",
      "16 fps\n",
      "17 fps\n",
      "avg_verification: 10.0, latency: -0.020389767487843834\n",
      "9 fps\n",
      "16 fps\n",
      "16 fps\n",
      "17 fps\n",
      "avg_verification: nan, latency: nan\n",
      "16 fps\n",
      "15 fps\n",
      "18 fps\n",
      "15 fps\n",
      "avg_verification: nan, latency: nan\n",
      "16 fps\n",
      "18 fps\n",
      "15 fps\n",
      "13 fps\n",
      "avg_verification: nan, latency: nan\n",
      "15 fps\n",
      "16 fps\n",
      "14 fps\n",
      "15 fps\n",
      "avg_verification: nan, latency: nan\n",
      "17 fps\n",
      "15 fps\n",
      "14 fps\n",
      "17 fps\n",
      "avg_verification: nan, latency: nan\n",
      "17 fps\n",
      "14 fps\n",
      "14 fps\n",
      "16 fps\n",
      "avg_verification: nan, latency: nan\n",
      "15 fps\n",
      "15 fps\n",
      "18 fps\n",
      "16 fps\n",
      "avg_verification: nan, latency: nan\n",
      "15 fps\n"
     ]
    },
    {
     "name": "stderr",
     "output_type": "stream",
     "text": [
      "Corrupt JPEG data: premature end of data segment\n",
      "Corrupt JPEG data: bad Huffman code\n",
      "Corrupt JPEG data: premature end of data segment\n"
     ]
    },
    {
     "name": "stdout",
     "output_type": "stream",
     "text": [
      "avg_verification: 7.133333333333334, latency: -0.19542668597275287\n"
     ]
    },
    {
     "name": "stderr",
     "output_type": "stream",
     "text": [
      "Corrupt JPEG data: bad Huffman code\n",
      "Corrupt JPEG data: bad Huffman code\n",
      "Corrupt JPEG data: bad Huffman code\n",
      "Corrupt JPEG data: bad Huffman code\n",
      "Corrupt JPEG data: bad Huffman code\n",
      "Corrupt JPEG data: 2629 extraneous bytes before marker 0xc4\n",
      "Corrupt JPEG data: 7 extraneous bytes before marker 0xda\n",
      "Corrupt JPEG data: bad Huffman code\n",
      "Corrupt JPEG data: premature end of data segment\n"
     ]
    },
    {
     "name": "stdout",
     "output_type": "stream",
     "text": [
      "7 fps\n"
     ]
    },
    {
     "name": "stderr",
     "output_type": "stream",
     "text": [
      "Corrupt JPEG data: bad Huffman code\n",
      "Corrupt JPEG data: 344 extraneous bytes before marker 0xda\n",
      "Corrupt JPEG data: bad Huffman code\n",
      "Corrupt JPEG data: bad Huffman code\n",
      "Corrupt JPEG data: bad Huffman code\n",
      "Corrupt JPEG data: premature end of data segment\n",
      "Corrupt JPEG data: bad Huffman code\n",
      "Corrupt JPEG data: premature end of data segment\n",
      "Corrupt JPEG data: bad Huffman code\n",
      "Corrupt JPEG data: bad Huffman code\n",
      "Corrupt JPEG data: bad Huffman code\n",
      "Corrupt JPEG data: bad Huffman code\n",
      "Corrupt JPEG data: premature end of data segment\n",
      "Corrupt JPEG data: premature end of data segment\n",
      "Corrupt JPEG data: bad Huffman code\n",
      "Corrupt JPEG data: bad Huffman code\n",
      "Corrupt JPEG data: 5 extraneous bytes before marker 0xc2\n",
      "Corrupt JPEG data: bad Huffman code\n",
      "Corrupt JPEG data: premature end of data segment\n",
      "Corrupt JPEG data: premature end of data segment\n",
      "Corrupt JPEG data: bad Huffman code\n",
      "Corrupt JPEG data: bad Huffman code\n",
      "Corrupt JPEG data: bad Huffman code\n"
     ]
    },
    {
     "name": "stdout",
     "output_type": "stream",
     "text": [
      "10 fps\n"
     ]
    },
    {
     "name": "stderr",
     "output_type": "stream",
     "text": [
      "Corrupt JPEG data: bad Huffman code\n",
      "Corrupt JPEG data: bad Huffman code\n",
      "Corrupt JPEG data: bad Huffman code\n",
      "Corrupt JPEG data: bad Huffman code\n",
      "Corrupt JPEG data: bad Huffman code\n",
      "Corrupt JPEG data: premature end of data segment\n",
      "Corrupt JPEG data: premature end of data segment\n",
      "Corrupt JPEG data: premature end of data segment\n",
      "Corrupt JPEG data: bad Huffman code\n",
      "Corrupt JPEG data: premature end of data segment\n",
      "Corrupt JPEG data: bad Huffman code\n",
      "Corrupt JPEG data: bad Huffman code\n",
      "Corrupt JPEG data: premature end of data segment\n",
      "Corrupt JPEG data: bad Huffman code\n",
      "Corrupt JPEG data: bad Huffman code\n",
      "Corrupt JPEG data: premature end of data segment\n",
      "Corrupt JPEG data: bad Huffman code\n"
     ]
    },
    {
     "name": "stdout",
     "output_type": "stream",
     "text": [
      "13 fps\n"
     ]
    },
    {
     "name": "stderr",
     "output_type": "stream",
     "text": [
      "Corrupt JPEG data: bad Huffman code\n",
      "Corrupt JPEG data: bad Huffman code\n",
      "Corrupt JPEG data: bad Huffman code\n",
      "Corrupt JPEG data: bad Huffman code\n",
      "Corrupt JPEG data: bad Huffman code\n",
      "Corrupt JPEG data: 5 extraneous bytes before marker 0xc2\n",
      "Corrupt JPEG data: bad Huffman code\n",
      "Corrupt JPEG data: premature end of data segment\n",
      "Corrupt JPEG data: 7 extraneous bytes before marker 0xda\n",
      "Corrupt JPEG data: premature end of data segment\n",
      "Corrupt JPEG data: bad Huffman code\n",
      "Corrupt JPEG data: bad Huffman code\n",
      "Corrupt JPEG data: premature end of data segment\n",
      "Corrupt JPEG data: bad Huffman code\n",
      "Corrupt JPEG data: bad Huffman code\n",
      "Corrupt JPEG data: premature end of data segment\n"
     ]
    },
    {
     "name": "stdout",
     "output_type": "stream",
     "text": [
      "avg_verification: nan, latency: nan\n"
     ]
    },
    {
     "name": "stderr",
     "output_type": "stream",
     "text": [
      "Corrupt JPEG data: 5 extraneous bytes before marker 0xc2\n",
      "Corrupt JPEG data: bad Huffman code\n",
      "Corrupt JPEG data: bad Huffman code\n",
      "Corrupt JPEG data: bad Huffman code\n"
     ]
    },
    {
     "name": "stdout",
     "output_type": "stream",
     "text": [
      "12 fps\n"
     ]
    },
    {
     "name": "stderr",
     "output_type": "stream",
     "text": [
      "Corrupt JPEG data: bad Huffman code\n",
      "Corrupt JPEG data: bad Huffman code\n",
      "Corrupt JPEG data: bad Huffman code\n",
      "Corrupt JPEG data: bad Huffman code\n",
      "Corrupt JPEG data: bad Huffman code\n",
      "Corrupt JPEG data: premature end of data segment\n",
      "Corrupt JPEG data: premature end of data segment\n",
      "Corrupt JPEG data: 1741 extraneous bytes before marker 0xc4\n",
      "Corrupt JPEG data: bad Huffman code\n",
      "Corrupt JPEG data: bad Huffman code\n",
      "Corrupt JPEG data: 7 extraneous bytes before marker 0xda\n",
      "Corrupt JPEG data: bad Huffman code\n",
      "Corrupt JPEG data: bad Huffman code\n",
      "Corrupt JPEG data: bad Huffman code\n",
      "Corrupt JPEG data: bad Huffman code\n",
      "Corrupt JPEG data: bad Huffman code\n",
      "Corrupt JPEG data: bad Huffman code\n",
      "Corrupt JPEG data: bad Huffman code\n",
      "Corrupt JPEG data: bad Huffman code\n",
      "Corrupt JPEG data: bad Huffman code\n",
      "Corrupt JPEG data: 7 extraneous bytes before marker 0xda\n",
      "Corrupt JPEG data: bad Huffman code\n"
     ]
    },
    {
     "name": "stdout",
     "output_type": "stream",
     "text": [
      "13 fps\n"
     ]
    },
    {
     "name": "stderr",
     "output_type": "stream",
     "text": [
      "Corrupt JPEG data: premature end of data segment\n",
      "Corrupt JPEG data: bad Huffman code\n",
      "Corrupt JPEG data: bad Huffman code\n",
      "Corrupt JPEG data: premature end of data segment\n",
      "Corrupt JPEG data: bad Huffman code\n",
      "Corrupt JPEG data: bad Huffman code\n",
      "Corrupt JPEG data: 6 extraneous bytes before marker 0xda\n",
      "Corrupt JPEG data: bad Huffman code\n",
      "Corrupt JPEG data: bad Huffman code\n",
      "Corrupt JPEG data: 6 extraneous bytes before marker 0xda\n",
      "Corrupt JPEG data: bad Huffman code\n",
      "Corrupt JPEG data: bad Huffman code\n",
      "Corrupt JPEG data: bad Huffman code\n",
      "Corrupt JPEG data: 5 extraneous bytes before marker 0xc2\n",
      "Corrupt JPEG data: bad Huffman code\n",
      "Corrupt JPEG data: bad Huffman code\n",
      "Corrupt JPEG data: bad Huffman code\n",
      "Corrupt JPEG data: premature end of data segment\n",
      "Corrupt JPEG data: bad Huffman code\n"
     ]
    },
    {
     "name": "stdout",
     "output_type": "stream",
     "text": [
      "10 fps\n"
     ]
    },
    {
     "name": "stderr",
     "output_type": "stream",
     "text": [
      "Corrupt JPEG data: bad Huffman code\n",
      "Corrupt JPEG data: premature end of data segment\n",
      "Corrupt JPEG data: bad Huffman code\n",
      "Corrupt JPEG data: bad Huffman code\n",
      "Corrupt JPEG data: bad Huffman code\n",
      "Corrupt JPEG data: bad Huffman code\n",
      "Corrupt JPEG data: premature end of data segment\n",
      "Corrupt JPEG data: bad Huffman code\n",
      "Corrupt JPEG data: bad Huffman code\n",
      "Corrupt JPEG data: 5 extraneous bytes before marker 0xc2\n",
      "Corrupt JPEG data: premature end of data segment\n",
      "Corrupt JPEG data: bad Huffman code\n",
      "Corrupt JPEG data: bad Huffman code\n",
      "Corrupt JPEG data: bad Huffman code\n",
      "Corrupt JPEG data: bad Huffman code\n",
      "Corrupt JPEG data: bad Huffman code\n",
      "Corrupt JPEG data: bad Huffman code\n"
     ]
    },
    {
     "name": "stdout",
     "output_type": "stream",
     "text": [
      "11 fps\n"
     ]
    },
    {
     "name": "stderr",
     "output_type": "stream",
     "text": [
      "Corrupt JPEG data: bad Huffman code\n",
      "Corrupt JPEG data: premature end of data segment\n",
      "Corrupt JPEG data: premature end of data segment\n",
      "Corrupt JPEG data: bad Huffman code\n",
      "Corrupt JPEG data: bad Huffman code\n",
      "Corrupt JPEG data: premature end of data segment\n",
      "Corrupt JPEG data: bad Huffman code\n",
      "Corrupt JPEG data: bad Huffman code\n"
     ]
    },
    {
     "name": "stdout",
     "output_type": "stream",
     "text": [
      "avg_verification: nan, latency: nan\n"
     ]
    },
    {
     "name": "stderr",
     "output_type": "stream",
     "text": [
      "Corrupt JPEG data: bad Huffman code\n",
      "Corrupt JPEG data: bad Huffman code\n",
      "Corrupt JPEG data: bad Huffman code\n",
      "Corrupt JPEG data: bad Huffman code\n",
      "Corrupt JPEG data: bad Huffman code\n",
      "Corrupt JPEG data: 6 extraneous bytes before marker 0xda\n",
      "Corrupt JPEG data: bad Huffman code\n",
      "Corrupt JPEG data: 293 extraneous bytes before marker 0xc4\n",
      "Corrupt JPEG data: premature end of data segment\n",
      "Corrupt JPEG data: bad Huffman code\n",
      "Corrupt JPEG data: 5 extraneous bytes before marker 0xc2\n",
      "Corrupt JPEG data: bad Huffman code\n",
      "Corrupt JPEG data: bad Huffman code\n"
     ]
    },
    {
     "name": "stdout",
     "output_type": "stream",
     "text": [
      "13 fps\n"
     ]
    },
    {
     "name": "stderr",
     "output_type": "stream",
     "text": [
      "Corrupt JPEG data: bad Huffman code\n",
      "Corrupt JPEG data: bad Huffman code\n",
      "Corrupt JPEG data: premature end of data segment\n",
      "Corrupt JPEG data: premature end of data segment\n",
      "Corrupt JPEG data: bad Huffman code\n",
      "Corrupt JPEG data: bad Huffman code\n",
      "Corrupt JPEG data: 7 extraneous bytes before marker 0xda\n",
      "Corrupt JPEG data: bad Huffman code\n",
      "Corrupt JPEG data: bad Huffman code\n",
      "Corrupt JPEG data: bad Huffman code\n",
      "Corrupt JPEG data: premature end of data segment\n",
      "Corrupt JPEG data: premature end of data segment\n",
      "Corrupt JPEG data: 7 extraneous bytes before marker 0xda\n",
      "Corrupt JPEG data: premature end of data segment\n",
      "Corrupt JPEG data: bad Huffman code\n",
      "Corrupt JPEG data: bad Huffman code\n",
      "Corrupt JPEG data: bad Huffman code\n",
      "Corrupt JPEG data: premature end of data segment\n",
      "Corrupt JPEG data: bad Huffman code\n"
     ]
    },
    {
     "name": "stdout",
     "output_type": "stream",
     "text": [
      "11 fps\n"
     ]
    },
    {
     "name": "stderr",
     "output_type": "stream",
     "text": [
      "Corrupt JPEG data: bad Huffman code\n",
      "Corrupt JPEG data: bad Huffman code\n",
      "Corrupt JPEG data: bad Huffman code\n",
      "Corrupt JPEG data: bad Huffman code\n",
      "Corrupt JPEG data: bad Huffman code\n",
      "Corrupt JPEG data: bad Huffman code\n",
      "Corrupt JPEG data: premature end of data segment\n",
      "Corrupt JPEG data: premature end of data segment\n",
      "Corrupt JPEG data: premature end of data segment\n",
      "Corrupt JPEG data: bad Huffman code\n",
      "Corrupt JPEG data: bad Huffman code\n",
      "Corrupt JPEG data: bad Huffman code\n",
      "Corrupt JPEG data: premature end of data segment\n",
      "Corrupt JPEG data: 5 extraneous bytes before marker 0xc2\n",
      "Corrupt JPEG data: bad Huffman code\n",
      "Corrupt JPEG data: 7 extraneous bytes before marker 0xda\n",
      "Corrupt JPEG data: bad Huffman code\n",
      "Corrupt JPEG data: 7 extraneous bytes before marker 0xda\n",
      "Corrupt JPEG data: bad Huffman code\n",
      "Corrupt JPEG data: bad Huffman code\n"
     ]
    },
    {
     "name": "stdout",
     "output_type": "stream",
     "text": [
      "12 fps\n"
     ]
    },
    {
     "name": "stderr",
     "output_type": "stream",
     "text": [
      "Corrupt JPEG data: premature end of data segment\n",
      "Corrupt JPEG data: bad Huffman code\n",
      "Corrupt JPEG data: bad Huffman code\n",
      "Corrupt JPEG data: bad Huffman code\n",
      "Corrupt JPEG data: bad Huffman code\n",
      "Corrupt JPEG data: bad Huffman code\n",
      "Corrupt JPEG data: 5 extraneous bytes before marker 0xc2\n",
      "Corrupt JPEG data: bad Huffman code\n",
      "Corrupt JPEG data: premature end of data segment\n",
      "Corrupt JPEG data: bad Huffman code\n",
      "Corrupt JPEG data: bad Huffman code\n",
      "Corrupt JPEG data: 12 extraneous bytes before marker 0xda\n",
      "Corrupt JPEG data: bad Huffman code\n",
      "Corrupt JPEG data: bad Huffman code\n",
      "Corrupt JPEG data: bad Huffman code\n",
      "Corrupt JPEG data: bad Huffman code\n",
      "Corrupt JPEG data: bad Huffman code\n",
      "Corrupt JPEG data: bad Huffman code\n"
     ]
    },
    {
     "name": "stdout",
     "output_type": "stream",
     "text": [
      "avg_verification: nan, latency: nan\n",
      "9 fps\n"
     ]
    },
    {
     "name": "stderr",
     "output_type": "stream",
     "text": [
      "Corrupt JPEG data: bad Huffman code\n",
      "Corrupt JPEG data: bad Huffman code\n",
      "Corrupt JPEG data: bad Huffman code\n",
      "Corrupt JPEG data: 438 extraneous bytes before marker 0xc4\n",
      "Corrupt JPEG data: 7 extraneous bytes before marker 0xda\n",
      "Corrupt JPEG data: bad Huffman code\n",
      "Corrupt JPEG data: bad Huffman code\n",
      "Corrupt JPEG data: bad Huffman code\n",
      "Corrupt JPEG data: bad Huffman code\n",
      "Corrupt JPEG data: bad Huffman code\n",
      "Corrupt JPEG data: bad Huffman code\n",
      "Corrupt JPEG data: 7 extraneous bytes before marker 0xda\n",
      "Corrupt JPEG data: bad Huffman code\n",
      "Corrupt JPEG data: bad Huffman code\n",
      "Corrupt JPEG data: premature end of data segment\n",
      "Corrupt JPEG data: bad Huffman code\n",
      "Corrupt JPEG data: 1992 extraneous bytes before marker 0xc4\n",
      "Corrupt JPEG data: 7 extraneous bytes before marker 0xda\n",
      "Corrupt JPEG data: bad Huffman code\n",
      "Corrupt JPEG data: premature end of data segment\n",
      "Corrupt JPEG data: bad Huffman code\n"
     ]
    },
    {
     "name": "stdout",
     "output_type": "stream",
     "text": [
      "10 fps\n"
     ]
    },
    {
     "name": "stderr",
     "output_type": "stream",
     "text": [
      "Corrupt JPEG data: premature end of data segment\n",
      "Corrupt JPEG data: bad Huffman code\n",
      "Corrupt JPEG data: bad Huffman code\n",
      "Corrupt JPEG data: premature end of data segment\n",
      "Corrupt JPEG data: bad Huffman code\n",
      "Corrupt JPEG data: bad Huffman code\n",
      "Corrupt JPEG data: bad Huffman code\n",
      "Corrupt JPEG data: bad Huffman code\n",
      "Corrupt JPEG data: bad Huffman code\n",
      "Corrupt JPEG data: premature end of data segment\n",
      "Corrupt JPEG data: bad Huffman code\n",
      "Corrupt JPEG data: bad Huffman code\n",
      "Corrupt JPEG data: premature end of data segment\n",
      "Corrupt JPEG data: bad Huffman code\n",
      "Corrupt JPEG data: premature end of data segment\n",
      "Corrupt JPEG data: premature end of data segment\n",
      "Corrupt JPEG data: 12 extraneous bytes before marker 0xda\n",
      "Corrupt JPEG data: bad Huffman code\n",
      "Corrupt JPEG data: bad Huffman code\n",
      "Corrupt JPEG data: bad Huffman code\n",
      "Corrupt JPEG data: premature end of data segment\n",
      "Corrupt JPEG data: bad Huffman code\n",
      "Corrupt JPEG data: 5 extraneous bytes before marker 0xc2\n"
     ]
    },
    {
     "name": "stdout",
     "output_type": "stream",
     "text": [
      "9 fps\n"
     ]
    },
    {
     "name": "stderr",
     "output_type": "stream",
     "text": [
      "Corrupt JPEG data: premature end of data segment\n",
      "Corrupt JPEG data: bad Huffman code\n",
      "Corrupt JPEG data: premature end of data segment\n",
      "Corrupt JPEG data: 11 extraneous bytes before marker 0xda\n",
      "Corrupt JPEG data: bad Huffman code\n",
      "Corrupt JPEG data: bad Huffman code\n",
      "Corrupt JPEG data: 3165 extraneous bytes before marker 0xc4\n",
      "Corrupt JPEG data: premature end of data segment\n",
      "Corrupt JPEG data: bad Huffman code\n",
      "Corrupt JPEG data: bad Huffman code\n",
      "Corrupt JPEG data: bad Huffman code\n",
      "Corrupt JPEG data: 5 extraneous bytes before marker 0xc2\n",
      "Corrupt JPEG data: bad Huffman code\n",
      "Corrupt JPEG data: premature end of data segment\n",
      "Corrupt JPEG data: premature end of data segment\n",
      "Corrupt JPEG data: bad Huffman code\n",
      "Corrupt JPEG data: bad Huffman code\n"
     ]
    },
    {
     "name": "stdout",
     "output_type": "stream",
     "text": [
      "9 fps\n"
     ]
    },
    {
     "name": "stderr",
     "output_type": "stream",
     "text": [
      "Corrupt JPEG data: premature end of data segment\n",
      "Corrupt JPEG data: bad Huffman code\n",
      "Corrupt JPEG data: premature end of data segment\n",
      "Corrupt JPEG data: bad Huffman code\n",
      "Corrupt JPEG data: bad Huffman code\n",
      "Corrupt JPEG data: 7 extraneous bytes before marker 0xda\n",
      "Corrupt JPEG data: bad Huffman code\n",
      "Corrupt JPEG data: bad Huffman code\n",
      "Corrupt JPEG data: bad Huffman code\n",
      "Corrupt JPEG data: premature end of data segment\n"
     ]
    },
    {
     "name": "stdout",
     "output_type": "stream",
     "text": [
      "avg_verification: nan, latency: nan\n"
     ]
    },
    {
     "name": "stderr",
     "output_type": "stream",
     "text": [
      "Corrupt JPEG data: bad Huffman code\n",
      "Corrupt JPEG data: premature end of data segment\n",
      "Corrupt JPEG data: 5 extraneous bytes before marker 0xc2\n",
      "Corrupt JPEG data: bad Huffman code\n",
      "Corrupt JPEG data: 12 extraneous bytes before marker 0xda\n",
      "Corrupt JPEG data: bad Huffman code\n",
      "Corrupt JPEG data: bad Huffman code\n",
      "Corrupt JPEG data: premature end of data segment\n",
      "Corrupt JPEG data: premature end of data segment\n",
      "Corrupt JPEG data: bad Huffman code\n",
      "Corrupt JPEG data: bad Huffman code\n",
      "Corrupt JPEG data: premature end of data segment\n"
     ]
    },
    {
     "name": "stdout",
     "output_type": "stream",
     "text": [
      "9 fps\n"
     ]
    },
    {
     "name": "stderr",
     "output_type": "stream",
     "text": [
      "Corrupt JPEG data: bad Huffman code\n",
      "Corrupt JPEG data: bad Huffman code\n",
      "Corrupt JPEG data: premature end of data segment\n",
      "Corrupt JPEG data: premature end of data segment\n",
      "Corrupt JPEG data: bad Huffman code\n",
      "Corrupt JPEG data: bad Huffman code\n",
      "Corrupt JPEG data: 2348 extraneous bytes before marker 0xc4\n",
      "Corrupt JPEG data: bad Huffman code\n",
      "Corrupt JPEG data: bad Huffman code\n",
      "Corrupt JPEG data: bad Huffman code\n",
      "Corrupt JPEG data: bad Huffman code\n",
      "Corrupt JPEG data: 5 extraneous bytes before marker 0xc2\n",
      "Corrupt JPEG data: 7 extraneous bytes before marker 0xda\n",
      "Corrupt JPEG data: 5 extraneous bytes before marker 0xc2\n",
      "Corrupt JPEG data: bad Huffman code\n",
      "Corrupt JPEG data: bad Huffman code\n",
      "Corrupt JPEG data: premature end of data segment\n",
      "Corrupt JPEG data: bad Huffman code\n"
     ]
    },
    {
     "name": "stdout",
     "output_type": "stream",
     "text": [
      "11 fps\n"
     ]
    },
    {
     "name": "stderr",
     "output_type": "stream",
     "text": [
      "Corrupt JPEG data: premature end of data segment\n",
      "Corrupt JPEG data: premature end of data segment\n",
      "Corrupt JPEG data: bad Huffman code\n",
      "Corrupt JPEG data: premature end of data segment\n",
      "Corrupt JPEG data: premature end of data segment\n",
      "Corrupt JPEG data: bad Huffman code\n",
      "Corrupt JPEG data: premature end of data segment\n",
      "Corrupt JPEG data: premature end of data segment\n",
      "Corrupt JPEG data: bad Huffman code\n",
      "Corrupt JPEG data: premature end of data segment\n",
      "Corrupt JPEG data: premature end of data segment\n",
      "Corrupt JPEG data: 5 extraneous bytes before marker 0xc2\n",
      "Corrupt JPEG data: bad Huffman code\n",
      "Corrupt JPEG data: premature end of data segment\n",
      "Corrupt JPEG data: bad Huffman code\n",
      "Corrupt JPEG data: 5 extraneous bytes before marker 0xc2\n",
      "Corrupt JPEG data: premature end of data segment\n",
      "Corrupt JPEG data: bad Huffman code\n",
      "Corrupt JPEG data: bad Huffman code\n",
      "Corrupt JPEG data: bad Huffman code\n",
      "Corrupt JPEG data: premature end of data segment\n",
      "Corrupt JPEG data: premature end of data segment\n"
     ]
    },
    {
     "name": "stdout",
     "output_type": "stream",
     "text": [
      "10 fps\n"
     ]
    },
    {
     "name": "stderr",
     "output_type": "stream",
     "text": [
      "Corrupt JPEG data: premature end of data segment\n",
      "Corrupt JPEG data: 5 extraneous bytes before marker 0xc2\n",
      "Corrupt JPEG data: bad Huffman code\n",
      "Corrupt JPEG data: bad Huffman code\n",
      "Corrupt JPEG data: bad Huffman code\n",
      "Corrupt JPEG data: premature end of data segment\n",
      "Corrupt JPEG data: bad Huffman code\n",
      "Corrupt JPEG data: bad Huffman code\n",
      "Corrupt JPEG data: bad Huffman code\n",
      "Corrupt JPEG data: bad Huffman code\n",
      "Corrupt JPEG data: bad Huffman code\n",
      "Corrupt JPEG data: premature end of data segment\n",
      "Corrupt JPEG data: bad Huffman code\n",
      "Corrupt JPEG data: premature end of data segment\n"
     ]
    },
    {
     "name": "stdout",
     "output_type": "stream",
     "text": [
      "avg_verification: nan, latency: nan\n"
     ]
    },
    {
     "name": "stderr",
     "output_type": "stream",
     "text": [
      "Corrupt JPEG data: bad Huffman code\n",
      "Corrupt JPEG data: 7 extraneous bytes before marker 0xda\n",
      "Corrupt JPEG data: premature end of data segment\n",
      "Corrupt JPEG data: premature end of data segment\n",
      "Corrupt JPEG data: bad Huffman code\n",
      "Corrupt JPEG data: bad Huffman code\n",
      "Corrupt JPEG data: premature end of data segment\n",
      "Corrupt JPEG data: premature end of data segment\n",
      "Corrupt JPEG data: bad Huffman code\n"
     ]
    },
    {
     "name": "stdout",
     "output_type": "stream",
     "text": [
      "9 fps\n"
     ]
    },
    {
     "name": "stderr",
     "output_type": "stream",
     "text": [
      "Corrupt JPEG data: bad Huffman code\n",
      "Corrupt JPEG data: premature end of data segment\n",
      "Corrupt JPEG data: premature end of data segment\n",
      "Corrupt JPEG data: bad Huffman code\n",
      "Corrupt JPEG data: premature end of data segment\n",
      "Corrupt JPEG data: premature end of data segment\n",
      "Corrupt JPEG data: premature end of data segment\n",
      "Corrupt JPEG data: 5 extraneous bytes before marker 0xc2\n",
      "Corrupt JPEG data: bad Huffman code\n",
      "Corrupt JPEG data: bad Huffman code\n",
      "Corrupt JPEG data: premature end of data segment\n",
      "Corrupt JPEG data: premature end of data segment\n",
      "Corrupt JPEG data: premature end of data segment\n",
      "Corrupt JPEG data: 7 extraneous bytes before marker 0xda\n",
      "Corrupt JPEG data: premature end of data segment\n",
      "Corrupt JPEG data: premature end of data segment\n",
      "Corrupt JPEG data: premature end of data segment\n"
     ]
    },
    {
     "name": "stdout",
     "output_type": "stream",
     "text": [
      "11 fps\n"
     ]
    },
    {
     "name": "stderr",
     "output_type": "stream",
     "text": [
      "Corrupt JPEG data: bad Huffman code\n",
      "Corrupt JPEG data: premature end of data segment\n",
      "Corrupt JPEG data: bad Huffman code\n",
      "Corrupt JPEG data: bad Huffman code\n",
      "Corrupt JPEG data: bad Huffman code\n",
      "Corrupt JPEG data: premature end of data segment\n",
      "Corrupt JPEG data: bad Huffman code\n",
      "Corrupt JPEG data: premature end of data segment\n",
      "Corrupt JPEG data: bad Huffman code\n",
      "Corrupt JPEG data: premature end of data segment\n",
      "Corrupt JPEG data: premature end of data segment\n",
      "Corrupt JPEG data: 7 extraneous bytes before marker 0xda\n",
      "Corrupt JPEG data: bad Huffman code\n",
      "Corrupt JPEG data: bad Huffman code\n",
      "Corrupt JPEG data: premature end of data segment\n",
      "Corrupt JPEG data: bad Huffman code\n",
      "Corrupt JPEG data: 5 extraneous bytes before marker 0xc2\n",
      "Corrupt JPEG data: premature end of data segment\n"
     ]
    },
    {
     "name": "stdout",
     "output_type": "stream",
     "text": [
      "16 fps\n"
     ]
    },
    {
     "name": "stderr",
     "output_type": "stream",
     "text": [
      "Corrupt JPEG data: premature end of data segment\n",
      "Corrupt JPEG data: premature end of data segment\n",
      "Corrupt JPEG data: premature end of data segment\n",
      "Corrupt JPEG data: bad Huffman code\n",
      "Corrupt JPEG data: bad Huffman code\n",
      "Corrupt JPEG data: premature end of data segment\n",
      "Corrupt JPEG data: premature end of data segment\n",
      "Corrupt JPEG data: 5 extraneous bytes before marker 0xc2\n",
      "Corrupt JPEG data: premature end of data segment\n",
      "Corrupt JPEG data: bad Huffman code\n",
      "Corrupt JPEG data: bad Huffman code\n",
      "Corrupt JPEG data: bad Huffman code\n",
      "Corrupt JPEG data: bad Huffman code\n",
      "Corrupt JPEG data: bad Huffman code\n",
      "Corrupt JPEG data: premature end of data segment\n",
      "Corrupt JPEG data: premature end of data segment\n",
      "Corrupt JPEG data: bad Huffman code\n",
      "Corrupt JPEG data: bad Huffman code\n",
      "Corrupt JPEG data: bad Huffman code\n",
      "Corrupt JPEG data: bad Huffman code\n",
      "Corrupt JPEG data: 2591 extraneous bytes before marker 0xc4\n",
      "Corrupt JPEG data: bad Huffman code\n",
      "Corrupt JPEG data: premature end of data segment\n"
     ]
    },
    {
     "name": "stdout",
     "output_type": "stream",
     "text": [
      "13 fps\n",
      "avg_verification: nan, latency: nan\n"
     ]
    },
    {
     "name": "stderr",
     "output_type": "stream",
     "text": [
      "Corrupt JPEG data: 5 extraneous bytes before marker 0xc2\n",
      "Corrupt JPEG data: bad Huffman code\n",
      "Corrupt JPEG data: premature end of data segment\n",
      "Corrupt JPEG data: 5 extraneous bytes before marker 0xc2\n",
      "Corrupt JPEG data: bad Huffman code\n",
      "Corrupt JPEG data: bad Huffman code\n",
      "Corrupt JPEG data: 5 extraneous bytes before marker 0xc2\n",
      "Corrupt JPEG data: bad Huffman code\n",
      "Corrupt JPEG data: premature end of data segment\n",
      "Corrupt JPEG data: premature end of data segment\n",
      "Corrupt JPEG data: bad Huffman code\n",
      "Corrupt JPEG data: bad Huffman code\n",
      "Corrupt JPEG data: premature end of data segment\n",
      "Corrupt JPEG data: premature end of data segment\n",
      "Corrupt JPEG data: premature end of data segment\n",
      "Corrupt JPEG data: premature end of data segment\n",
      "Corrupt JPEG data: premature end of data segment\n",
      "Corrupt JPEG data: premature end of data segment\n"
     ]
    },
    {
     "name": "stdout",
     "output_type": "stream",
     "text": [
      "12 fps\n"
     ]
    },
    {
     "name": "stderr",
     "output_type": "stream",
     "text": [
      "Corrupt JPEG data: premature end of data segment\n",
      "Corrupt JPEG data: 7 extraneous bytes before marker 0xda\n",
      "Corrupt JPEG data: bad Huffman code\n",
      "Corrupt JPEG data: bad Huffman code\n",
      "Corrupt JPEG data: premature end of data segment\n",
      "Corrupt JPEG data: bad Huffman code\n",
      "Corrupt JPEG data: premature end of data segment\n",
      "Corrupt JPEG data: 5 extraneous bytes before marker 0xc2\n",
      "Corrupt JPEG data: bad Huffman code\n",
      "Corrupt JPEG data: premature end of data segment\n",
      "Corrupt JPEG data: 7 extraneous bytes before marker 0xda\n",
      "Corrupt JPEG data: premature end of data segment\n",
      "Corrupt JPEG data: premature end of data segment\n",
      "Corrupt JPEG data: premature end of data segment\n",
      "Corrupt JPEG data: bad Huffman code\n",
      "Corrupt JPEG data: bad Huffman code\n",
      "Corrupt JPEG data: bad Huffman code\n",
      "Corrupt JPEG data: premature end of data segment\n",
      "Corrupt JPEG data: premature end of data segment\n"
     ]
    },
    {
     "name": "stdout",
     "output_type": "stream",
     "text": [
      "11 fps\n"
     ]
    },
    {
     "name": "stderr",
     "output_type": "stream",
     "text": [
      "Corrupt JPEG data: bad Huffman code\n",
      "Corrupt JPEG data: premature end of data segment\n",
      "Corrupt JPEG data: premature end of data segment\n",
      "Corrupt JPEG data: 7 extraneous bytes before marker 0xda\n",
      "Corrupt JPEG data: bad Huffman code\n",
      "Corrupt JPEG data: bad Huffman code\n",
      "Corrupt JPEG data: bad Huffman code\n",
      "Corrupt JPEG data: 7 extraneous bytes before marker 0xda\n",
      "Corrupt JPEG data: premature end of data segment\n",
      "Corrupt JPEG data: bad Huffman code\n",
      "Corrupt JPEG data: premature end of data segment\n",
      "Corrupt JPEG data: premature end of data segment\n",
      "Corrupt JPEG data: bad Huffman code\n",
      "Corrupt JPEG data: bad Huffman code\n",
      "Corrupt JPEG data: premature end of data segment\n",
      "Corrupt JPEG data: bad Huffman code\n",
      "Corrupt JPEG data: premature end of data segment\n",
      "Corrupt JPEG data: bad Huffman code\n",
      "Corrupt JPEG data: bad Huffman code\n",
      "Corrupt JPEG data: bad Huffman code\n",
      "Corrupt JPEG data: bad Huffman code\n"
     ]
    },
    {
     "name": "stdout",
     "output_type": "stream",
     "text": [
      "8 fps\n"
     ]
    },
    {
     "name": "stderr",
     "output_type": "stream",
     "text": [
      "Corrupt JPEG data: 2334 extraneous bytes before marker 0xc4\n",
      "Corrupt JPEG data: 7 extraneous bytes before marker 0xda\n",
      "Corrupt JPEG data: bad Huffman code\n",
      "Corrupt JPEG data: premature end of data segment\n",
      "Corrupt JPEG data: bad Huffman code\n",
      "Corrupt JPEG data: premature end of data segment\n",
      "Corrupt JPEG data: premature end of data segment\n",
      "Corrupt JPEG data: premature end of data segment\n",
      "Corrupt JPEG data: bad Huffman code\n"
     ]
    },
    {
     "name": "stdout",
     "output_type": "stream",
     "text": [
      "avg_verification: nan, latency: nan\n"
     ]
    },
    {
     "name": "stderr",
     "output_type": "stream",
     "text": [
      "Corrupt JPEG data: 12 extraneous bytes before marker 0xda\n",
      "Corrupt JPEG data: premature end of data segment\n",
      "Corrupt JPEG data: bad Huffman code\n",
      "Corrupt JPEG data: bad Huffman code\n",
      "Corrupt JPEG data: premature end of data segment\n",
      "Corrupt JPEG data: premature end of data segment\n",
      "Corrupt JPEG data: bad Huffman code\n",
      "Corrupt JPEG data: bad Huffman code\n",
      "Corrupt JPEG data: premature end of data segment\n"
     ]
    },
    {
     "name": "stdout",
     "output_type": "stream",
     "text": [
      "14 fps\n"
     ]
    },
    {
     "name": "stderr",
     "output_type": "stream",
     "text": [
      "Corrupt JPEG data: premature end of data segment\n",
      "Corrupt JPEG data: premature end of data segment\n",
      "Corrupt JPEG data: 7 extraneous bytes before marker 0xda\n",
      "Corrupt JPEG data: bad Huffman code\n",
      "Corrupt JPEG data: bad Huffman code\n",
      "Corrupt JPEG data: premature end of data segment\n",
      "Corrupt JPEG data: bad Huffman code\n",
      "Corrupt JPEG data: premature end of data segment\n",
      "Corrupt JPEG data: 5 extraneous bytes before marker 0xc2\n",
      "Corrupt JPEG data: bad Huffman code\n",
      "Corrupt JPEG data: bad Huffman code\n",
      "Corrupt JPEG data: bad Huffman code\n",
      "Corrupt JPEG data: premature end of data segment\n",
      "Corrupt JPEG data: premature end of data segment\n",
      "Corrupt JPEG data: premature end of data segment\n",
      "Corrupt JPEG data: 5 extraneous bytes before marker 0xc2\n",
      "Corrupt JPEG data: 7 extraneous bytes before marker 0xda\n",
      "Corrupt JPEG data: 5 extraneous bytes before marker 0xc2\n",
      "Corrupt JPEG data: bad Huffman code\n",
      "Corrupt JPEG data: premature end of data segment\n"
     ]
    },
    {
     "name": "stdout",
     "output_type": "stream",
     "text": [
      "11 fps\n"
     ]
    },
    {
     "name": "stderr",
     "output_type": "stream",
     "text": [
      "Corrupt JPEG data: premature end of data segment\n",
      "Corrupt JPEG data: bad Huffman code\n",
      "Corrupt JPEG data: 5 extraneous bytes before marker 0xc2\n",
      "Corrupt JPEG data: premature end of data segment\n",
      "Corrupt JPEG data: bad Huffman code\n",
      "Corrupt JPEG data: bad Huffman code\n",
      "Corrupt JPEG data: premature end of data segment\n",
      "Corrupt JPEG data: bad Huffman code\n",
      "Corrupt JPEG data: premature end of data segment\n",
      "Corrupt JPEG data: premature end of data segment\n",
      "Corrupt JPEG data: bad Huffman code\n",
      "Corrupt JPEG data: premature end of data segment\n",
      "Corrupt JPEG data: bad Huffman code\n",
      "Corrupt JPEG data: bad Huffman code\n",
      "Corrupt JPEG data: bad Huffman code\n",
      "Corrupt JPEG data: premature end of data segment\n",
      "Corrupt JPEG data: 7 extraneous bytes before marker 0xda\n",
      "Corrupt JPEG data: bad Huffman code\n",
      "Corrupt JPEG data: bad Huffman code\n"
     ]
    },
    {
     "name": "stdout",
     "output_type": "stream",
     "text": [
      "8 fps\n"
     ]
    },
    {
     "name": "stderr",
     "output_type": "stream",
     "text": [
      "Corrupt JPEG data: 5 extraneous bytes before marker 0xc2\n",
      "Corrupt JPEG data: premature end of data segment\n",
      "Corrupt JPEG data: premature end of data segment\n",
      "Corrupt JPEG data: 7 extraneous bytes before marker 0xda\n",
      "Corrupt JPEG data: bad Huffman code\n",
      "Corrupt JPEG data: 5 extraneous bytes before marker 0xc2\n",
      "Corrupt JPEG data: bad Huffman code\n",
      "Corrupt JPEG data: bad Huffman code\n",
      "Corrupt JPEG data: premature end of data segment\n",
      "Corrupt JPEG data: premature end of data segment\n",
      "Corrupt JPEG data: premature end of data segment\n",
      "Corrupt JPEG data: premature end of data segment\n"
     ]
    },
    {
     "name": "stdout",
     "output_type": "stream",
     "text": [
      "avg_verification: nan, latency: nan\n"
     ]
    },
    {
     "name": "stderr",
     "output_type": "stream",
     "text": [
      "Corrupt JPEG data: premature end of data segment\n",
      "Corrupt JPEG data: premature end of data segment\n",
      "Corrupt JPEG data: bad Huffman code\n",
      "Corrupt JPEG data: 7 extraneous bytes before marker 0xda\n",
      "Corrupt JPEG data: premature end of data segment\n",
      "Corrupt JPEG data: premature end of data segment\n",
      "Corrupt JPEG data: bad Huffman code\n",
      "Corrupt JPEG data: bad Huffman code\n",
      "Corrupt JPEG data: bad Huffman code\n"
     ]
    },
    {
     "name": "stdout",
     "output_type": "stream",
     "text": [
      "avg_verification: 6.40625, latency: -0.1582665964002498\n"
     ]
    },
    {
     "name": "stderr",
     "output_type": "stream",
     "text": [
      "Corrupt JPEG data: bad Huffman code\n",
      "Corrupt JPEG data: 7 extraneous bytes before marker 0xda\n",
      "Corrupt JPEG data: bad Huffman code\n",
      "Corrupt JPEG data: bad Huffman code\n",
      "Corrupt JPEG data: bad Huffman code\n",
      "Corrupt JPEG data: bad Huffman code\n",
      "Corrupt JPEG data: premature end of data segment\n",
      "Corrupt JPEG data: bad Huffman code\n",
      "Corrupt JPEG data: premature end of data segment\n"
     ]
    },
    {
     "name": "stdout",
     "output_type": "stream",
     "text": [
      "6 fps\n"
     ]
    },
    {
     "name": "stderr",
     "output_type": "stream",
     "text": [
      "Corrupt JPEG data: 5 extraneous bytes before marker 0xc2\n",
      "Corrupt JPEG data: premature end of data segment\n",
      "Corrupt JPEG data: bad Huffman code\n",
      "Corrupt JPEG data: bad Huffman code\n",
      "Corrupt JPEG data: bad Huffman code\n",
      "Corrupt JPEG data: 12 extraneous bytes before marker 0xda\n",
      "Corrupt JPEG data: bad Huffman code\n",
      "Corrupt JPEG data: bad Huffman code\n",
      "Corrupt JPEG data: 7 extraneous bytes before marker 0xda\n",
      "Corrupt JPEG data: bad Huffman code\n",
      "Corrupt JPEG data: premature end of data segment\n",
      "Corrupt JPEG data: bad Huffman code\n",
      "Corrupt JPEG data: bad Huffman code\n",
      "Corrupt JPEG data: 2367 extraneous bytes before marker 0xc4\n",
      "Corrupt JPEG data: bad Huffman code\n",
      "Corrupt JPEG data: bad Huffman code\n",
      "Corrupt JPEG data: bad Huffman code\n",
      "Corrupt JPEG data: premature end of data segment\n",
      "Corrupt JPEG data: bad Huffman code\n",
      "Corrupt JPEG data: premature end of data segment\n"
     ]
    },
    {
     "name": "stdout",
     "output_type": "stream",
     "text": [
      "10 fps\n"
     ]
    },
    {
     "name": "stderr",
     "output_type": "stream",
     "text": [
      "Corrupt JPEG data: bad Huffman code\n",
      "Corrupt JPEG data: 2425 extraneous bytes before marker 0xc4\n",
      "Corrupt JPEG data: bad Huffman code\n",
      "Corrupt JPEG data: bad Huffman code\n",
      "Corrupt JPEG data: premature end of data segment\n",
      "Corrupt JPEG data: bad Huffman code\n",
      "Corrupt JPEG data: bad Huffman code\n",
      "Corrupt JPEG data: premature end of data segment\n",
      "Corrupt JPEG data: premature end of data segment\n",
      "Corrupt JPEG data: premature end of data segment\n",
      "Corrupt JPEG data: premature end of data segment\n",
      "Corrupt JPEG data: bad Huffman code\n"
     ]
    },
    {
     "name": "stdout",
     "output_type": "stream",
     "text": [
      "8 fps\n"
     ]
    },
    {
     "name": "stderr",
     "output_type": "stream",
     "text": [
      "Corrupt JPEG data: premature end of data segment\n",
      "Corrupt JPEG data: premature end of data segment\n",
      "Corrupt JPEG data: premature end of data segment\n",
      "Corrupt JPEG data: premature end of data segment\n",
      "Corrupt JPEG data: bad Huffman code\n",
      "Corrupt JPEG data: bad Huffman code\n",
      "Corrupt JPEG data: premature end of data segment\n",
      "Corrupt JPEG data: premature end of data segment\n",
      "Corrupt JPEG data: premature end of data segment\n",
      "Corrupt JPEG data: bad Huffman code\n",
      "Corrupt JPEG data: 5 extraneous bytes before marker 0xc2\n",
      "Corrupt JPEG data: 5 extraneous bytes before marker 0xc2\n",
      "Corrupt JPEG data: 5 extraneous bytes before marker 0xc2\n",
      "Corrupt JPEG data: bad Huffman code\n"
     ]
    },
    {
     "name": "stdout",
     "output_type": "stream",
     "text": [
      "avg_verification: nan, latency: nan\n",
      "9 fps\n"
     ]
    },
    {
     "name": "stderr",
     "output_type": "stream",
     "text": [
      "Corrupt JPEG data: premature end of data segment\n",
      "Corrupt JPEG data: premature end of data segment\n",
      "Corrupt JPEG data: bad Huffman code\n",
      "Corrupt JPEG data: bad Huffman code\n",
      "Corrupt JPEG data: 7 extraneous bytes before marker 0xda\n",
      "Corrupt JPEG data: premature end of data segment\n",
      "Corrupt JPEG data: bad Huffman code\n",
      "Corrupt JPEG data: premature end of data segment\n",
      "Corrupt JPEG data: bad Huffman code\n",
      "Corrupt JPEG data: bad Huffman code\n",
      "Corrupt JPEG data: premature end of data segment\n",
      "Corrupt JPEG data: premature end of data segment\n",
      "Corrupt JPEG data: premature end of data segment\n",
      "Corrupt JPEG data: premature end of data segment\n",
      "Corrupt JPEG data: premature end of data segment\n",
      "Corrupt JPEG data: bad Huffman code\n",
      "Corrupt JPEG data: premature end of data segment\n",
      "Corrupt JPEG data: premature end of data segment\n",
      "Corrupt JPEG data: bad Huffman code\n",
      "Corrupt JPEG data: 5 extraneous bytes before marker 0xc2\n",
      "Corrupt JPEG data: bad Huffman code\n",
      "Corrupt JPEG data: premature end of data segment\n",
      "Corrupt JPEG data: bad Huffman code\n",
      "Corrupt JPEG data: bad Huffman code\n"
     ]
    },
    {
     "name": "stdout",
     "output_type": "stream",
     "text": [
      "10 fps\n"
     ]
    },
    {
     "name": "stderr",
     "output_type": "stream",
     "text": [
      "Corrupt JPEG data: bad Huffman code\n",
      "Corrupt JPEG data: premature end of data segment\n",
      "Corrupt JPEG data: bad Huffman code\n",
      "Corrupt JPEG data: bad Huffman code\n",
      "Corrupt JPEG data: bad Huffman code\n",
      "Corrupt JPEG data: 7 extraneous bytes before marker 0xda\n",
      "Corrupt JPEG data: premature end of data segment\n",
      "Corrupt JPEG data: premature end of data segment\n",
      "Corrupt JPEG data: premature end of data segment\n",
      "Corrupt JPEG data: bad Huffman code\n",
      "Corrupt JPEG data: bad Huffman code\n",
      "Corrupt JPEG data: premature end of data segment\n",
      "Corrupt JPEG data: premature end of data segment\n",
      "Corrupt JPEG data: 7 extraneous bytes before marker 0xda\n",
      "Corrupt JPEG data: bad Huffman code\n",
      "Corrupt JPEG data: bad Huffman code\n",
      "Corrupt JPEG data: bad Huffman code\n"
     ]
    },
    {
     "name": "stdout",
     "output_type": "stream",
     "text": [
      "9 fps\n"
     ]
    },
    {
     "name": "stderr",
     "output_type": "stream",
     "text": [
      "Corrupt JPEG data: premature end of data segment\n",
      "Corrupt JPEG data: bad Huffman code\n",
      "Corrupt JPEG data: 11 extraneous bytes before marker 0xda\n",
      "Corrupt JPEG data: bad Huffman code\n",
      "Corrupt JPEG data: bad Huffman code\n",
      "Corrupt JPEG data: 7 extraneous bytes before marker 0xda\n",
      "Corrupt JPEG data: bad Huffman code\n",
      "Corrupt JPEG data: bad Huffman code\n",
      "Corrupt JPEG data: bad Huffman code\n",
      "Corrupt JPEG data: bad Huffman code\n",
      "Corrupt JPEG data: 5 extraneous bytes before marker 0xc2\n",
      "Corrupt JPEG data: bad Huffman code\n",
      "Corrupt JPEG data: premature end of data segment\n",
      "Corrupt JPEG data: premature end of data segment\n",
      "Corrupt JPEG data: premature end of data segment\n",
      "Corrupt JPEG data: 7 extraneous bytes before marker 0xda\n",
      "Corrupt JPEG data: 5 extraneous bytes before marker 0xc2\n",
      "Corrupt JPEG data: bad Huffman code\n"
     ]
    },
    {
     "name": "stdout",
     "output_type": "stream",
     "text": [
      "12 fps\n"
     ]
    },
    {
     "name": "stderr",
     "output_type": "stream",
     "text": [
      "Corrupt JPEG data: bad Huffman code\n",
      "Corrupt JPEG data: bad Huffman code\n",
      "Corrupt JPEG data: premature end of data segment\n",
      "Corrupt JPEG data: premature end of data segment\n",
      "Corrupt JPEG data: bad Huffman code\n",
      "Corrupt JPEG data: premature end of data segment\n",
      "Corrupt JPEG data: 5 extraneous bytes before marker 0xc2\n",
      "Corrupt JPEG data: 5 extraneous bytes before marker 0xc2\n",
      "Corrupt JPEG data: premature end of data segment\n",
      "Corrupt JPEG data: bad Huffman code\n"
     ]
    },
    {
     "name": "stdout",
     "output_type": "stream",
     "text": [
      "avg_verification: nan, latency: nan\n"
     ]
    },
    {
     "name": "stderr",
     "output_type": "stream",
     "text": [
      "Corrupt JPEG data: premature end of data segment\n",
      "Corrupt JPEG data: premature end of data segment\n",
      "Corrupt JPEG data: bad Huffman code\n",
      "Corrupt JPEG data: premature end of data segment\n",
      "Corrupt JPEG data: bad Huffman code\n",
      "Corrupt JPEG data: premature end of data segment\n",
      "Corrupt JPEG data: premature end of data segment\n",
      "Corrupt JPEG data: bad Huffman code\n",
      "Corrupt JPEG data: 5 extraneous bytes before marker 0xc2\n",
      "Corrupt JPEG data: 5 extraneous bytes before marker 0xc2\n",
      "Corrupt JPEG data: bad Huffman code\n",
      "Corrupt JPEG data: premature end of data segment\n"
     ]
    },
    {
     "name": "stdout",
     "output_type": "stream",
     "text": [
      "10 fps\n"
     ]
    },
    {
     "name": "stderr",
     "output_type": "stream",
     "text": [
      "Corrupt JPEG data: bad Huffman code\n",
      "Corrupt JPEG data: bad Huffman code\n",
      "Corrupt JPEG data: 12 extraneous bytes before marker 0xda\n",
      "Corrupt JPEG data: 5 extraneous bytes before marker 0xc2\n",
      "Corrupt JPEG data: premature end of data segment\n",
      "Corrupt JPEG data: bad Huffman code\n",
      "Corrupt JPEG data: premature end of data segment\n",
      "Corrupt JPEG data: 5 extraneous bytes before marker 0xc2\n",
      "Corrupt JPEG data: 5 extraneous bytes before marker 0xc2\n",
      "Corrupt JPEG data: 12 extraneous bytes before marker 0xda\n",
      "Corrupt JPEG data: premature end of data segment\n",
      "Corrupt JPEG data: premature end of data segment\n",
      "Corrupt JPEG data: bad Huffman code\n",
      "Corrupt JPEG data: premature end of data segment\n",
      "Corrupt JPEG data: bad Huffman code\n",
      "Corrupt JPEG data: premature end of data segment\n",
      "Corrupt JPEG data: bad Huffman code\n",
      "Corrupt JPEG data: bad Huffman code\n"
     ]
    },
    {
     "name": "stdout",
     "output_type": "stream",
     "text": [
      "9 fps\n"
     ]
    },
    {
     "name": "stderr",
     "output_type": "stream",
     "text": [
      "Corrupt JPEG data: bad Huffman code\n",
      "Corrupt JPEG data: premature end of data segment\n",
      "Corrupt JPEG data: bad Huffman code\n",
      "Corrupt JPEG data: premature end of data segment\n",
      "Corrupt JPEG data: bad Huffman code\n",
      "Corrupt JPEG data: 986 extraneous bytes before marker 0xc4\n",
      "Corrupt JPEG data: premature end of data segment\n",
      "Corrupt JPEG data: premature end of data segment\n",
      "Corrupt JPEG data: bad Huffman code\n",
      "Corrupt JPEG data: bad Huffman code\n",
      "Corrupt JPEG data: bad Huffman code\n",
      "Corrupt JPEG data: bad Huffman code\n",
      "Corrupt JPEG data: bad Huffman code\n",
      "Corrupt JPEG data: premature end of data segment\n",
      "Corrupt JPEG data: bad Huffman code\n",
      "Corrupt JPEG data: bad Huffman code\n",
      "Corrupt JPEG data: premature end of data segment\n",
      "Corrupt JPEG data: bad Huffman code\n"
     ]
    },
    {
     "name": "stdout",
     "output_type": "stream",
     "text": [
      "15 fps\n"
     ]
    },
    {
     "name": "stderr",
     "output_type": "stream",
     "text": [
      "Corrupt JPEG data: premature end of data segment\n",
      "Corrupt JPEG data: premature end of data segment\n",
      "Corrupt JPEG data: 5 extraneous bytes before marker 0xc2\n",
      "Corrupt JPEG data: bad Huffman code\n",
      "Corrupt JPEG data: premature end of data segment\n",
      "Corrupt JPEG data: premature end of data segment\n",
      "Corrupt JPEG data: premature end of data segment\n",
      "Corrupt JPEG data: premature end of data segment\n",
      "Corrupt JPEG data: premature end of data segment\n",
      "Corrupt JPEG data: 2912 extraneous bytes before marker 0xda\n",
      "Corrupt JPEG data: premature end of data segment\n",
      "Corrupt JPEG data: bad Huffman code\n"
     ]
    },
    {
     "name": "stdout",
     "output_type": "stream",
     "text": [
      "avg_verification: nan, latency: nan\n"
     ]
    },
    {
     "name": "stderr",
     "output_type": "stream",
     "text": [
      "Corrupt JPEG data: premature end of data segment\n",
      "Corrupt JPEG data: bad Huffman code\n",
      "Corrupt JPEG data: 5 extraneous bytes before marker 0xc2\n",
      "Corrupt JPEG data: bad Huffman code\n",
      "Corrupt JPEG data: bad Huffman code\n",
      "Corrupt JPEG data: premature end of data segment\n",
      "Corrupt JPEG data: premature end of data segment\n",
      "Corrupt JPEG data: bad Huffman code\n"
     ]
    },
    {
     "name": "stdout",
     "output_type": "stream",
     "text": [
      "13 fps\n"
     ]
    },
    {
     "name": "stderr",
     "output_type": "stream",
     "text": [
      "Corrupt JPEG data: bad Huffman code\n",
      "Corrupt JPEG data: 5 extraneous bytes before marker 0xc2\n",
      "Corrupt JPEG data: premature end of data segment\n",
      "Corrupt JPEG data: bad Huffman code\n",
      "Corrupt JPEG data: premature end of data segment\n",
      "Corrupt JPEG data: bad Huffman code\n",
      "Corrupt JPEG data: bad Huffman code\n",
      "Corrupt JPEG data: bad Huffman code\n",
      "Corrupt JPEG data: bad Huffman code\n",
      "Corrupt JPEG data: bad Huffman code\n",
      "Corrupt JPEG data: premature end of data segment\n",
      "Corrupt JPEG data: 5 extraneous bytes before marker 0xc2\n",
      "Corrupt JPEG data: premature end of data segment\n",
      "Corrupt JPEG data: bad Huffman code\n",
      "Corrupt JPEG data: bad Huffman code\n",
      "Corrupt JPEG data: bad Huffman code\n",
      "Corrupt JPEG data: 12 extraneous bytes before marker 0xda\n",
      "Corrupt JPEG data: premature end of data segment\n",
      "Corrupt JPEG data: bad Huffman code\n"
     ]
    },
    {
     "name": "stdout",
     "output_type": "stream",
     "text": [
      "14 fps\n"
     ]
    },
    {
     "name": "stderr",
     "output_type": "stream",
     "text": [
      "Corrupt JPEG data: bad Huffman code\n",
      "Corrupt JPEG data: bad Huffman code\n",
      "Corrupt JPEG data: bad Huffman code\n",
      "Corrupt JPEG data: bad Huffman code\n",
      "Corrupt JPEG data: bad Huffman code\n",
      "Corrupt JPEG data: bad Huffman code\n",
      "Corrupt JPEG data: bad Huffman code\n",
      "Corrupt JPEG data: premature end of data segment\n",
      "Corrupt JPEG data: 5 extraneous bytes before marker 0xc2\n",
      "Corrupt JPEG data: premature end of data segment\n",
      "Corrupt JPEG data: premature end of data segment\n",
      "Corrupt JPEG data: bad Huffman code\n",
      "Corrupt JPEG data: bad Huffman code\n",
      "Corrupt JPEG data: premature end of data segment\n",
      "Corrupt JPEG data: premature end of data segment\n",
      "Corrupt JPEG data: premature end of data segment\n",
      "Corrupt JPEG data: 7 extraneous bytes before marker 0xda\n",
      "Corrupt JPEG data: premature end of data segment\n"
     ]
    },
    {
     "name": "stdout",
     "output_type": "stream",
     "text": [
      "7 fps\n"
     ]
    },
    {
     "name": "stderr",
     "output_type": "stream",
     "text": [
      "Corrupt JPEG data: bad Huffman code\n",
      "Corrupt JPEG data: premature end of data segment\n",
      "Corrupt JPEG data: bad Huffman code\n",
      "Corrupt JPEG data: bad Huffman code\n",
      "Corrupt JPEG data: premature end of data segment\n",
      "Corrupt JPEG data: premature end of data segment\n",
      "Corrupt JPEG data: 7 extraneous bytes before marker 0xda\n",
      "Corrupt JPEG data: premature end of data segment\n",
      "Corrupt JPEG data: bad Huffman code\n",
      "Corrupt JPEG data: premature end of data segment\n",
      "Corrupt JPEG data: 5 extraneous bytes before marker 0xc2\n",
      "Corrupt JPEG data: 5 extraneous bytes before marker 0xc2\n",
      "Corrupt JPEG data: premature end of data segment\n",
      "Corrupt JPEG data: 2726 extraneous bytes before marker 0xc4\n",
      "Corrupt JPEG data: bad Huffman code\n",
      "Corrupt JPEG data: bad Huffman code\n",
      "Corrupt JPEG data: premature end of data segment\n",
      "Corrupt JPEG data: bad Huffman code\n"
     ]
    },
    {
     "name": "stdout",
     "output_type": "stream",
     "text": [
      "10 fps\n",
      "avg_verification: nan, latency: nan\n"
     ]
    },
    {
     "name": "stderr",
     "output_type": "stream",
     "text": [
      "Corrupt JPEG data: premature end of data segment\n",
      "Corrupt JPEG data: bad Huffman code\n",
      "Corrupt JPEG data: bad Huffman code\n",
      "Corrupt JPEG data: 2386 extraneous bytes before marker 0xc4\n",
      "Corrupt JPEG data: premature end of data segment\n",
      "Corrupt JPEG data: premature end of data segment\n",
      "Corrupt JPEG data: 7 extraneous bytes before marker 0xda\n",
      "Corrupt JPEG data: bad Huffman code\n",
      "Corrupt JPEG data: premature end of data segment\n",
      "Corrupt JPEG data: premature end of data segment\n",
      "Corrupt JPEG data: 5 extraneous bytes before marker 0xc2\n",
      "Corrupt JPEG data: premature end of data segment\n",
      "Corrupt JPEG data: bad Huffman code\n",
      "Corrupt JPEG data: premature end of data segment\n",
      "Corrupt JPEG data: 2559 extraneous bytes before marker 0xda\n",
      "Corrupt JPEG data: 5 extraneous bytes before marker 0xc2\n",
      "Corrupt JPEG data: 5 extraneous bytes before marker 0xc2\n",
      "Corrupt JPEG data: 5 extraneous bytes before marker 0xc2\n",
      "Corrupt JPEG data: bad Huffman code\n",
      "Corrupt JPEG data: 7 extraneous bytes before marker 0xda\n",
      "Corrupt JPEG data: bad Huffman code\n",
      "Corrupt JPEG data: bad Huffman code\n",
      "Corrupt JPEG data: bad Huffman code\n"
     ]
    },
    {
     "name": "stdout",
     "output_type": "stream",
     "text": [
      "9 fps\n"
     ]
    },
    {
     "name": "stderr",
     "output_type": "stream",
     "text": [
      "Corrupt JPEG data: bad Huffman code\n",
      "Corrupt JPEG data: bad Huffman code\n",
      "Corrupt JPEG data: bad Huffman code\n",
      "Corrupt JPEG data: 5 extraneous bytes before marker 0xc2\n",
      "Corrupt JPEG data: bad Huffman code\n",
      "Corrupt JPEG data: premature end of data segment\n",
      "Corrupt JPEG data: bad Huffman code\n",
      "Corrupt JPEG data: premature end of data segment\n",
      "Corrupt JPEG data: bad Huffman code\n",
      "Corrupt JPEG data: bad Huffman code\n",
      "Corrupt JPEG data: bad Huffman code\n",
      "Corrupt JPEG data: bad Huffman code\n",
      "Corrupt JPEG data: premature end of data segment\n",
      "Corrupt JPEG data: bad Huffman code\n",
      "Corrupt JPEG data: premature end of data segment\n",
      "Corrupt JPEG data: bad Huffman code\n"
     ]
    },
    {
     "name": "stdout",
     "output_type": "stream",
     "text": [
      "7 fps\n"
     ]
    },
    {
     "name": "stderr",
     "output_type": "stream",
     "text": [
      "Corrupt JPEG data: premature end of data segment\n",
      "Corrupt JPEG data: premature end of data segment\n",
      "Corrupt JPEG data: bad Huffman code\n",
      "Corrupt JPEG data: bad Huffman code\n",
      "Corrupt JPEG data: bad Huffman code\n",
      "Corrupt JPEG data: 7 extraneous bytes before marker 0xda\n",
      "Corrupt JPEG data: premature end of data segment\n",
      "Corrupt JPEG data: 7 extraneous bytes before marker 0xda\n",
      "Corrupt JPEG data: bad Huffman code\n",
      "Corrupt JPEG data: bad Huffman code\n",
      "Corrupt JPEG data: bad Huffman code\n",
      "Corrupt JPEG data: bad Huffman code\n",
      "Corrupt JPEG data: bad Huffman code\n",
      "Corrupt JPEG data: 7 extraneous bytes before marker 0xda\n",
      "Corrupt JPEG data: bad Huffman code\n"
     ]
    },
    {
     "name": "stdout",
     "output_type": "stream",
     "text": [
      "12 fps\n"
     ]
    },
    {
     "name": "stderr",
     "output_type": "stream",
     "text": [
      "Corrupt JPEG data: bad Huffman code\n",
      "Corrupt JPEG data: premature end of data segment\n",
      "Corrupt JPEG data: bad Huffman code\n"
     ]
    },
    {
     "name": "stdout",
     "output_type": "stream",
     "text": [
      "avg_verification: nan, latency: nan\n"
     ]
    },
    {
     "name": "stderr",
     "output_type": "stream",
     "text": [
      "Corrupt JPEG data: bad Huffman code\n",
      "Corrupt JPEG data: premature end of data segment\n",
      "Corrupt JPEG data: premature end of data segment\n",
      "Corrupt JPEG data: 7 extraneous bytes before marker 0xda\n",
      "Corrupt JPEG data: bad Huffman code\n",
      "Corrupt JPEG data: bad Huffman code\n",
      "Corrupt JPEG data: bad Huffman code\n",
      "Corrupt JPEG data: bad Huffman code\n",
      "Corrupt JPEG data: bad Huffman code\n",
      "Corrupt JPEG data: bad Huffman code\n",
      "Corrupt JPEG data: bad Huffman code\n",
      "Corrupt JPEG data: bad Huffman code\n"
     ]
    },
    {
     "name": "stdout",
     "output_type": "stream",
     "text": [
      "11 fps\n"
     ]
    },
    {
     "name": "stderr",
     "output_type": "stream",
     "text": [
      "Corrupt JPEG data: 12 extraneous bytes before marker 0xda\n",
      "Corrupt JPEG data: premature end of data segment\n",
      "Corrupt JPEG data: bad Huffman code\n",
      "Corrupt JPEG data: 296 extraneous bytes before marker 0xda\n",
      "Corrupt JPEG data: 5 extraneous bytes before marker 0xc2\n",
      "Corrupt JPEG data: premature end of data segment\n",
      "Corrupt JPEG data: premature end of data segment\n",
      "Corrupt JPEG data: bad Huffman code\n",
      "Corrupt JPEG data: 11 extraneous bytes before marker 0xda\n",
      "Corrupt JPEG data: bad Huffman code\n",
      "Corrupt JPEG data: bad Huffman code\n",
      "Corrupt JPEG data: premature end of data segment\n",
      "Corrupt JPEG data: bad Huffman code\n",
      "Corrupt JPEG data: 7 extraneous bytes before marker 0xda\n",
      "Corrupt JPEG data: bad Huffman code\n",
      "Corrupt JPEG data: 7 extraneous bytes before marker 0xda\n",
      "Corrupt JPEG data: premature end of data segment\n",
      "Corrupt JPEG data: 7 extraneous bytes before marker 0xda\n",
      "Corrupt JPEG data: 5 extraneous bytes before marker 0xc2\n",
      "Corrupt JPEG data: bad Huffman code\n",
      "Corrupt JPEG data: bad Huffman code\n",
      "Corrupt JPEG data: bad Huffman code\n",
      "Corrupt JPEG data: bad Huffman code\n"
     ]
    },
    {
     "name": "stdout",
     "output_type": "stream",
     "text": [
      "10 fps\n"
     ]
    },
    {
     "name": "stderr",
     "output_type": "stream",
     "text": [
      "Corrupt JPEG data: premature end of data segment\n",
      "Corrupt JPEG data: bad Huffman code\n",
      "Corrupt JPEG data: premature end of data segment\n",
      "Corrupt JPEG data: bad Huffman code\n",
      "Corrupt JPEG data: premature end of data segment\n",
      "Corrupt JPEG data: bad Huffman code\n",
      "Corrupt JPEG data: premature end of data segment\n",
      "Corrupt JPEG data: premature end of data segment\n",
      "Corrupt JPEG data: bad Huffman code\n",
      "Corrupt JPEG data: premature end of data segment\n",
      "Corrupt JPEG data: bad Huffman code\n",
      "Corrupt JPEG data: 5 extraneous bytes before marker 0xc2\n",
      "Corrupt JPEG data: premature end of data segment\n",
      "Corrupt JPEG data: premature end of data segment\n",
      "Corrupt JPEG data: premature end of data segment\n"
     ]
    },
    {
     "name": "stdout",
     "output_type": "stream",
     "text": [
      "10 fps\n"
     ]
    },
    {
     "name": "stderr",
     "output_type": "stream",
     "text": [
      "Corrupt JPEG data: premature end of data segment\n",
      "Corrupt JPEG data: bad Huffman code\n",
      "Corrupt JPEG data: premature end of data segment\n",
      "Corrupt JPEG data: bad Huffman code\n",
      "Corrupt JPEG data: 5 extraneous bytes before marker 0xc2\n",
      "Corrupt JPEG data: 7 extraneous bytes before marker 0xda\n",
      "Corrupt JPEG data: bad Huffman code\n",
      "Corrupt JPEG data: bad Huffman code\n",
      "Corrupt JPEG data: bad Huffman code\n",
      "Corrupt JPEG data: 5 extraneous bytes before marker 0xc2\n",
      "Corrupt JPEG data: premature end of data segment\n",
      "Corrupt JPEG data: premature end of data segment\n",
      "Corrupt JPEG data: premature end of data segment\n"
     ]
    },
    {
     "name": "stdout",
     "output_type": "stream",
     "text": [
      "avg_verification: nan, latency: nan\n"
     ]
    },
    {
     "name": "stderr",
     "output_type": "stream",
     "text": [
      "Corrupt JPEG data: premature end of data segment\n",
      "Corrupt JPEG data: bad Huffman code\n",
      "Corrupt JPEG data: premature end of data segment\n",
      "Corrupt JPEG data: bad Huffman code\n",
      "Corrupt JPEG data: premature end of data segment\n"
     ]
    },
    {
     "name": "stdout",
     "output_type": "stream",
     "text": [
      "11 fps\n"
     ]
    },
    {
     "name": "stderr",
     "output_type": "stream",
     "text": [
      "Corrupt JPEG data: 7 extraneous bytes before marker 0xda\n",
      "Corrupt JPEG data: premature end of data segment\n",
      "Corrupt JPEG data: premature end of data segment\n",
      "Corrupt JPEG data: bad Huffman code\n",
      "Corrupt JPEG data: bad Huffman code\n",
      "Corrupt JPEG data: premature end of data segment\n",
      "Corrupt JPEG data: premature end of data segment\n",
      "Corrupt JPEG data: bad Huffman code\n",
      "Corrupt JPEG data: premature end of data segment\n",
      "Corrupt JPEG data: bad Huffman code\n",
      "Corrupt JPEG data: premature end of data segment\n",
      "Corrupt JPEG data: premature end of data segment\n",
      "Corrupt JPEG data: premature end of data segment\n",
      "Corrupt JPEG data: bad Huffman code\n",
      "Corrupt JPEG data: bad Huffman code\n",
      "Corrupt JPEG data: bad Huffman code\n",
      "Corrupt JPEG data: bad Huffman code\n",
      "Corrupt JPEG data: premature end of data segment\n",
      "Corrupt JPEG data: premature end of data segment\n",
      "Corrupt JPEG data: premature end of data segment\n",
      "Corrupt JPEG data: bad Huffman code\n"
     ]
    },
    {
     "name": "stdout",
     "output_type": "stream",
     "text": [
      "15 fps\n"
     ]
    },
    {
     "name": "stderr",
     "output_type": "stream",
     "text": [
      "Corrupt JPEG data: bad Huffman code\n",
      "Corrupt JPEG data: bad Huffman code\n",
      "Corrupt JPEG data: premature end of data segment\n",
      "Corrupt JPEG data: bad Huffman code\n",
      "Corrupt JPEG data: 5 extraneous bytes before marker 0xc2\n",
      "Corrupt JPEG data: premature end of data segment\n",
      "Corrupt JPEG data: premature end of data segment\n",
      "Corrupt JPEG data: bad Huffman code\n",
      "Corrupt JPEG data: bad Huffman code\n",
      "Corrupt JPEG data: bad Huffman code\n",
      "Corrupt JPEG data: bad Huffman code\n",
      "Corrupt JPEG data: bad Huffman code\n",
      "Corrupt JPEG data: premature end of data segment\n",
      "Corrupt JPEG data: bad Huffman code\n",
      "Corrupt JPEG data: bad Huffman code\n",
      "Corrupt JPEG data: bad Huffman code\n"
     ]
    },
    {
     "name": "stdout",
     "output_type": "stream",
     "text": [
      "11 fps\n"
     ]
    },
    {
     "name": "stderr",
     "output_type": "stream",
     "text": [
      "Corrupt JPEG data: bad Huffman code\n",
      "Corrupt JPEG data: bad Huffman code\n",
      "Corrupt JPEG data: premature end of data segment\n",
      "Corrupt JPEG data: premature end of data segment\n",
      "Corrupt JPEG data: bad Huffman code\n",
      "Corrupt JPEG data: bad Huffman code\n",
      "Corrupt JPEG data: bad Huffman code\n",
      "Corrupt JPEG data: premature end of data segment\n",
      "Corrupt JPEG data: bad Huffman code\n",
      "Corrupt JPEG data: bad Huffman code\n",
      "Corrupt JPEG data: 5 extraneous bytes before marker 0xc2\n",
      "Corrupt JPEG data: 5 extraneous bytes before marker 0xc2\n",
      "Corrupt JPEG data: bad Huffman code\n",
      "Corrupt JPEG data: bad Huffman code\n",
      "Corrupt JPEG data: bad Huffman code\n",
      "Corrupt JPEG data: bad Huffman code\n",
      "Corrupt JPEG data: premature end of data segment\n",
      "Corrupt JPEG data: 7 extraneous bytes before marker 0xda\n",
      "Corrupt JPEG data: premature end of data segment\n"
     ]
    },
    {
     "name": "stdout",
     "output_type": "stream",
     "text": [
      "11 fps\n"
     ]
    },
    {
     "name": "stderr",
     "output_type": "stream",
     "text": [
      "Corrupt JPEG data: bad Huffman code\n",
      "Corrupt JPEG data: premature end of data segment\n",
      "Corrupt JPEG data: bad Huffman code\n",
      "Corrupt JPEG data: bad Huffman code\n",
      "Corrupt JPEG data: bad Huffman code\n"
     ]
    },
    {
     "name": "stdout",
     "output_type": "stream",
     "text": [
      "avg_verification: nan, latency: nan\n"
     ]
    },
    {
     "name": "stderr",
     "output_type": "stream",
     "text": [
      "Corrupt JPEG data: bad Huffman code\n",
      "Corrupt JPEG data: 5 extraneous bytes before marker 0xc2\n",
      "Corrupt JPEG data: bad Huffman code\n",
      "Corrupt JPEG data: bad Huffman code\n",
      "Corrupt JPEG data: bad Huffman code\n",
      "Corrupt JPEG data: bad Huffman code\n",
      "Corrupt JPEG data: bad Huffman code\n",
      "Corrupt JPEG data: 5 extraneous bytes before marker 0xc2\n",
      "Corrupt JPEG data: bad Huffman code\n",
      "Corrupt JPEG data: bad Huffman code\n",
      "Corrupt JPEG data: premature end of data segment\n",
      "Corrupt JPEG data: premature end of data segment\n",
      "Corrupt JPEG data: premature end of data segment\n",
      "Corrupt JPEG data: premature end of data segment\n"
     ]
    },
    {
     "name": "stdout",
     "output_type": "stream",
     "text": [
      "12 fps\n"
     ]
    },
    {
     "name": "stderr",
     "output_type": "stream",
     "text": [
      "Corrupt JPEG data: premature end of data segment\n",
      "Corrupt JPEG data: bad Huffman code\n",
      "Corrupt JPEG data: premature end of data segment\n",
      "Corrupt JPEG data: premature end of data segment\n",
      "Corrupt JPEG data: premature end of data segment\n",
      "Corrupt JPEG data: bad Huffman code\n",
      "Corrupt JPEG data: 2250 extraneous bytes before marker 0xc4\n",
      "Corrupt JPEG data: bad Huffman code\n",
      "Corrupt JPEG data: premature end of data segment\n",
      "Corrupt JPEG data: bad Huffman code\n",
      "Corrupt JPEG data: premature end of data segment\n",
      "Corrupt JPEG data: bad Huffman code\n",
      "Corrupt JPEG data: premature end of data segment\n",
      "Corrupt JPEG data: bad Huffman code\n",
      "Corrupt JPEG data: bad Huffman code\n",
      "Corrupt JPEG data: bad Huffman code\n",
      "Corrupt JPEG data: bad Huffman code\n",
      "Corrupt JPEG data: bad Huffman code\n",
      "Corrupt JPEG data: premature end of data segment\n",
      "Corrupt JPEG data: bad Huffman code\n",
      "Corrupt JPEG data: bad Huffman code\n",
      "Corrupt JPEG data: bad Huffman code\n"
     ]
    },
    {
     "name": "stdout",
     "output_type": "stream",
     "text": [
      "14 fps\n"
     ]
    },
    {
     "name": "stderr",
     "output_type": "stream",
     "text": [
      "Corrupt JPEG data: premature end of data segment\n",
      "Corrupt JPEG data: premature end of data segment\n",
      "Corrupt JPEG data: bad Huffman code\n",
      "Corrupt JPEG data: 5 extraneous bytes before marker 0xc2\n",
      "Corrupt JPEG data: bad Huffman code\n",
      "Corrupt JPEG data: bad Huffman code\n",
      "Corrupt JPEG data: bad Huffman code\n",
      "Corrupt JPEG data: bad Huffman code\n",
      "Corrupt JPEG data: bad Huffman code\n",
      "Corrupt JPEG data: bad Huffman code\n",
      "Corrupt JPEG data: bad Huffman code\n",
      "Corrupt JPEG data: bad Huffman code\n",
      "Corrupt JPEG data: premature end of data segment\n",
      "Corrupt JPEG data: bad Huffman code\n",
      "Corrupt JPEG data: premature end of data segment\n"
     ]
    },
    {
     "name": "stdout",
     "output_type": "stream",
     "text": [
      "12 fps\n"
     ]
    },
    {
     "name": "stderr",
     "output_type": "stream",
     "text": [
      "Corrupt JPEG data: premature end of data segment\n",
      "Corrupt JPEG data: bad Huffman code\n",
      "Corrupt JPEG data: premature end of data segment\n",
      "Corrupt JPEG data: premature end of data segment\n",
      "Corrupt JPEG data: 5 extraneous bytes before marker 0xc2\n",
      "Corrupt JPEG data: bad Huffman code\n",
      "Corrupt JPEG data: premature end of data segment\n"
     ]
    },
    {
     "name": "stdout",
     "output_type": "stream",
     "text": [
      "avg_verification: nan, latency: nan\n"
     ]
    },
    {
     "name": "stderr",
     "output_type": "stream",
     "text": [
      "Corrupt JPEG data: bad Huffman code\n",
      "Corrupt JPEG data: premature end of data segment\n",
      "Corrupt JPEG data: premature end of data segment\n",
      "Corrupt JPEG data: bad Huffman code\n",
      "Corrupt JPEG data: premature end of data segment\n",
      "Corrupt JPEG data: bad Huffman code\n",
      "Corrupt JPEG data: 5 extraneous bytes before marker 0xc2\n",
      "Corrupt JPEG data: bad Huffman code\n",
      "Corrupt JPEG data: premature end of data segment\n",
      "Corrupt JPEG data: premature end of data segment\n"
     ]
    },
    {
     "name": "stdout",
     "output_type": "stream",
     "text": [
      "10 fps\n"
     ]
    },
    {
     "name": "stderr",
     "output_type": "stream",
     "text": [
      "Corrupt JPEG data: premature end of data segment\n",
      "Corrupt JPEG data: premature end of data segment\n",
      "Corrupt JPEG data: bad Huffman code\n",
      "Corrupt JPEG data: bad Huffman code\n",
      "Corrupt JPEG data: premature end of data segment\n",
      "Corrupt JPEG data: bad Huffman code\n",
      "Corrupt JPEG data: bad Huffman code\n"
     ]
    },
    {
     "name": "stdout",
     "output_type": "stream",
     "text": [
      "avg_verification: 3.8529411764705883, latency: nan\n"
     ]
    },
    {
     "name": "stderr",
     "output_type": "stream",
     "text": [
      "Corrupt JPEG data: bad Huffman code\n",
      "Corrupt JPEG data: bad Huffman code\n",
      "Corrupt JPEG data: premature end of data segment\n",
      "Corrupt JPEG data: bad Huffman code\n",
      "Corrupt JPEG data: premature end of data segment\n",
      "Corrupt JPEG data: bad Huffman code\n",
      "Corrupt JPEG data: premature end of data segment\n",
      "Corrupt JPEG data: bad Huffman code\n",
      "Corrupt JPEG data: 12 extraneous bytes before marker 0xda\n",
      "Corrupt JPEG data: bad Huffman code\n",
      "Corrupt JPEG data: premature end of data segment\n"
     ]
    },
    {
     "name": "stdout",
     "output_type": "stream",
     "text": [
      "5 fps\n"
     ]
    },
    {
     "name": "stderr",
     "output_type": "stream",
     "text": [
      "Corrupt JPEG data: bad Huffman code\n",
      "Corrupt JPEG data: 5 extraneous bytes before marker 0xc2\n",
      "Corrupt JPEG data: bad Huffman code\n",
      "Corrupt JPEG data: bad Huffman code\n",
      "Corrupt JPEG data: bad Huffman code\n",
      "Corrupt JPEG data: bad Huffman code\n",
      "Corrupt JPEG data: premature end of data segment\n",
      "Corrupt JPEG data: bad Huffman code\n",
      "Corrupt JPEG data: bad Huffman code\n",
      "Corrupt JPEG data: 12 extraneous bytes before marker 0xda\n",
      "Corrupt JPEG data: bad Huffman code\n",
      "Corrupt JPEG data: 7 extraneous bytes before marker 0xda\n",
      "Corrupt JPEG data: premature end of data segment\n",
      "Corrupt JPEG data: bad Huffman code\n",
      "Corrupt JPEG data: premature end of data segment\n",
      "Corrupt JPEG data: bad Huffman code\n",
      "Corrupt JPEG data: bad Huffman code\n",
      "Corrupt JPEG data: premature end of data segment\n",
      "Corrupt JPEG data: 5 extraneous bytes before marker 0xc2\n",
      "Corrupt JPEG data: bad Huffman code\n",
      "Corrupt JPEG data: bad Huffman code\n",
      "Corrupt JPEG data: premature end of data segment\n",
      "Corrupt JPEG data: bad Huffman code\n",
      "Corrupt JPEG data: premature end of data segment\n"
     ]
    },
    {
     "name": "stdout",
     "output_type": "stream",
     "text": [
      "7 fps\n"
     ]
    },
    {
     "name": "stderr",
     "output_type": "stream",
     "text": [
      "Corrupt JPEG data: 7 extraneous bytes before marker 0xda\n",
      "Corrupt JPEG data: bad Huffman code\n",
      "Corrupt JPEG data: bad Huffman code\n",
      "Corrupt JPEG data: bad Huffman code\n",
      "Corrupt JPEG data: premature end of data segment\n",
      "Corrupt JPEG data: premature end of data segment\n",
      "Corrupt JPEG data: 7163 extraneous bytes before marker 0xda\n",
      "Corrupt JPEG data: bad Huffman code\n",
      "Corrupt JPEG data: 7 extraneous bytes before marker 0xda\n",
      "Corrupt JPEG data: bad Huffman code\n",
      "Corrupt JPEG data: bad Huffman code\n",
      "Corrupt JPEG data: 5 extraneous bytes before marker 0xc2\n",
      "Corrupt JPEG data: premature end of data segment\n",
      "Corrupt JPEG data: premature end of data segment\n",
      "Corrupt JPEG data: bad Huffman code\n",
      "Corrupt JPEG data: premature end of data segment\n"
     ]
    },
    {
     "name": "stdout",
     "output_type": "stream",
     "text": [
      "6 fps\n",
      "avg_verification: nan, latency: nan\n"
     ]
    },
    {
     "name": "stderr",
     "output_type": "stream",
     "text": [
      "Corrupt JPEG data: bad Huffman code\n",
      "Corrupt JPEG data: premature end of data segment\n",
      "Corrupt JPEG data: premature end of data segment\n",
      "Corrupt JPEG data: bad Huffman code\n",
      "Corrupt JPEG data: premature end of data segment\n",
      "Corrupt JPEG data: bad Huffman code\n",
      "Corrupt JPEG data: premature end of data segment\n",
      "Corrupt JPEG data: premature end of data segment\n",
      "Corrupt JPEG data: 12 extraneous bytes before marker 0xda\n",
      "Corrupt JPEG data: premature end of data segment\n",
      "Corrupt JPEG data: 2138 extraneous bytes before marker 0xc4\n",
      "Corrupt JPEG data: bad Huffman code\n",
      "Corrupt JPEG data: bad Huffman code\n",
      "Corrupt JPEG data: bad Huffman code\n",
      "Corrupt JPEG data: 7 extraneous bytes before marker 0xda\n",
      "Corrupt JPEG data: bad Huffman code\n",
      "Corrupt JPEG data: 7 extraneous bytes before marker 0xda\n",
      "Corrupt JPEG data: premature end of data segment\n",
      "Corrupt JPEG data: bad Huffman code\n",
      "Corrupt JPEG data: bad Huffman code\n",
      "Corrupt JPEG data: bad Huffman code\n",
      "Corrupt JPEG data: premature end of data segment\n",
      "Corrupt JPEG data: 5 extraneous bytes before marker 0xc2\n",
      "Corrupt JPEG data: bad Huffman code\n",
      "Corrupt JPEG data: 2254 extraneous bytes before marker 0xda\n",
      "Corrupt JPEG data: bad Huffman code\n"
     ]
    },
    {
     "name": "stdout",
     "output_type": "stream",
     "text": [
      "10 fps\n"
     ]
    },
    {
     "name": "stderr",
     "output_type": "stream",
     "text": [
      "Corrupt JPEG data: premature end of data segment\n",
      "Corrupt JPEG data: 1829 extraneous bytes before marker 0xc4\n",
      "Corrupt JPEG data: bad Huffman code\n",
      "Corrupt JPEG data: 7 extraneous bytes before marker 0xda\n",
      "Corrupt JPEG data: 5 extraneous bytes before marker 0xc2\n",
      "Corrupt JPEG data: bad Huffman code\n",
      "Corrupt JPEG data: bad Huffman code\n",
      "Corrupt JPEG data: premature end of data segment\n",
      "Corrupt JPEG data: 5 extraneous bytes before marker 0xc2\n",
      "Corrupt JPEG data: bad Huffman code\n",
      "Corrupt JPEG data: bad Huffman code\n",
      "Corrupt JPEG data: premature end of data segment\n",
      "Corrupt JPEG data: premature end of data segment\n",
      "Corrupt JPEG data: bad Huffman code\n",
      "Corrupt JPEG data: bad Huffman code\n",
      "Corrupt JPEG data: bad Huffman code\n",
      "Corrupt JPEG data: premature end of data segment\n",
      "Corrupt JPEG data: bad Huffman code\n",
      "Corrupt JPEG data: premature end of data segment\n",
      "Corrupt JPEG data: 7 extraneous bytes before marker 0xda\n"
     ]
    },
    {
     "name": "stdout",
     "output_type": "stream",
     "text": [
      "3 fps\n"
     ]
    },
    {
     "name": "stderr",
     "output_type": "stream",
     "text": [
      "Corrupt JPEG data: premature end of data segment\n",
      "Corrupt JPEG data: bad Huffman code\n",
      "Corrupt JPEG data: premature end of data segment\n",
      "Corrupt JPEG data: bad Huffman code\n",
      "Corrupt JPEG data: bad Huffman code\n",
      "Corrupt JPEG data: bad Huffman code\n",
      "Corrupt JPEG data: bad Huffman code\n",
      "Corrupt JPEG data: bad Huffman code\n",
      "Corrupt JPEG data: bad Huffman code\n",
      "Corrupt JPEG data: bad Huffman code\n",
      "Corrupt JPEG data: bad Huffman code\n",
      "Corrupt JPEG data: bad Huffman code\n",
      "Corrupt JPEG data: 5 extraneous bytes before marker 0xc2\n",
      "Corrupt JPEG data: 5 extraneous bytes before marker 0xc2\n",
      "Corrupt JPEG data: bad Huffman code\n"
     ]
    },
    {
     "name": "stdout",
     "output_type": "stream",
     "text": [
      "avg_verification: nan, latency: nan\n"
     ]
    },
    {
     "name": "stderr",
     "output_type": "stream",
     "text": [
      "Corrupt JPEG data: bad Huffman code\n",
      "Corrupt JPEG data: 5 extraneous bytes before marker 0xc2\n",
      "Corrupt JPEG data: bad Huffman code\n",
      "Corrupt JPEG data: bad Huffman code\n",
      "Corrupt JPEG data: 12 extraneous bytes before marker 0xda\n"
     ]
    },
    {
     "name": "stdout",
     "output_type": "stream",
     "text": [
      "6 fps\n"
     ]
    },
    {
     "name": "stderr",
     "output_type": "stream",
     "text": [
      "Corrupt JPEG data: 1657 extraneous bytes before marker 0xc4\n",
      "Corrupt JPEG data: bad Huffman code\n",
      "Corrupt JPEG data: bad Huffman code\n",
      "Corrupt JPEG data: bad Huffman code\n",
      "Corrupt JPEG data: bad Huffman code\n",
      "Corrupt JPEG data: bad Huffman code\n",
      "Corrupt JPEG data: 5 extraneous bytes before marker 0xc2\n",
      "Corrupt JPEG data: bad Huffman code\n",
      "Corrupt JPEG data: bad Huffman code\n",
      "Corrupt JPEG data: bad Huffman code\n",
      "Corrupt JPEG data: bad Huffman code\n",
      "Corrupt JPEG data: bad Huffman code\n"
     ]
    },
    {
     "name": "stdout",
     "output_type": "stream",
     "text": [
      "6 fps\n"
     ]
    },
    {
     "name": "stderr",
     "output_type": "stream",
     "text": [
      "Corrupt JPEG data: premature end of data segment\n",
      "Corrupt JPEG data: 5 extraneous bytes before marker 0xc2\n",
      "Corrupt JPEG data: bad Huffman code\n",
      "Corrupt JPEG data: bad Huffman code\n",
      "Corrupt JPEG data: 2273 extraneous bytes before marker 0xac\n",
      "Corrupt JPEG data: bad Huffman code\n",
      "Corrupt JPEG data: bad Huffman code\n",
      "Corrupt JPEG data: bad Huffman code\n",
      "Corrupt JPEG data: 2034 extraneous bytes before marker 0xda\n",
      "Corrupt JPEG data: bad Huffman code\n",
      "Corrupt JPEG data: premature end of data segment\n",
      "Corrupt JPEG data: bad Huffman code\n",
      "Corrupt JPEG data: bad Huffman code\n",
      "Corrupt JPEG data: bad Huffman code\n",
      "Corrupt JPEG data: premature end of data segment\n",
      "Corrupt JPEG data: 5 extraneous bytes before marker 0xc2\n",
      "Corrupt JPEG data: bad Huffman code\n",
      "Corrupt JPEG data: bad Huffman code\n",
      "Corrupt JPEG data: premature end of data segment\n",
      "Corrupt JPEG data: bad Huffman code\n",
      "Corrupt JPEG data: bad Huffman code\n"
     ]
    },
    {
     "name": "stdout",
     "output_type": "stream",
     "text": [
      "10 fps\n"
     ]
    },
    {
     "name": "stderr",
     "output_type": "stream",
     "text": [
      "Corrupt JPEG data: 12 extraneous bytes before marker 0xda\n",
      "Corrupt JPEG data: bad Huffman code\n",
      "Corrupt JPEG data: 5 extraneous bytes before marker 0xc2\n",
      "Corrupt JPEG data: 12 extraneous bytes before marker 0xda\n",
      "Corrupt JPEG data: 5 extraneous bytes before marker 0xc2\n",
      "Corrupt JPEG data: bad Huffman code\n",
      "Corrupt JPEG data: bad Huffman code\n",
      "Corrupt JPEG data: premature end of data segment\n",
      "Corrupt JPEG data: bad Huffman code\n",
      "Corrupt JPEG data: bad Huffman code\n",
      "Corrupt JPEG data: bad Huffman code\n",
      "Corrupt JPEG data: bad Huffman code\n",
      "Corrupt JPEG data: bad Huffman code\n",
      "Corrupt JPEG data: bad Huffman code\n",
      "Corrupt JPEG data: bad Huffman code\n",
      "Corrupt JPEG data: bad Huffman code\n",
      "Corrupt JPEG data: bad Huffman code\n",
      "Corrupt JPEG data: premature end of data segment\n",
      "Corrupt JPEG data: 7 extraneous bytes before marker 0xda\n",
      "Corrupt JPEG data: 11 extraneous bytes before marker 0xda\n",
      "Corrupt JPEG data: bad Huffman code\n"
     ]
    },
    {
     "name": "stdout",
     "output_type": "stream",
     "text": [
      "7 fps\n",
      "avg_verification: nan, latency: nan\n"
     ]
    },
    {
     "name": "stderr",
     "output_type": "stream",
     "text": [
      "Corrupt JPEG data: 12 extraneous bytes before marker 0xda\n",
      "Corrupt JPEG data: bad Huffman code\n",
      "Corrupt JPEG data: bad Huffman code\n",
      "Corrupt JPEG data: bad Huffman code\n",
      "Corrupt JPEG data: bad Huffman code\n",
      "Corrupt JPEG data: bad Huffman code\n",
      "Corrupt JPEG data: 12 extraneous bytes before marker 0xda\n",
      "Corrupt JPEG data: 5 extraneous bytes before marker 0xc2\n",
      "Corrupt JPEG data: bad Huffman code\n",
      "Corrupt JPEG data: 5 extraneous bytes before marker 0xc2\n",
      "Corrupt JPEG data: bad Huffman code\n",
      "Corrupt JPEG data: bad Huffman code\n",
      "Corrupt JPEG data: bad Huffman code\n",
      "Corrupt JPEG data: bad Huffman code\n"
     ]
    },
    {
     "name": "stdout",
     "output_type": "stream",
     "text": [
      "4 fps\n"
     ]
    },
    {
     "name": "stderr",
     "output_type": "stream",
     "text": [
      "Corrupt JPEG data: bad Huffman code\n",
      "Corrupt JPEG data: premature end of data segment\n",
      "Corrupt JPEG data: 11 extraneous bytes before marker 0xda\n",
      "Corrupt JPEG data: bad Huffman code\n",
      "Corrupt JPEG data: bad Huffman code\n",
      "Corrupt JPEG data: bad Huffman code\n",
      "Corrupt JPEG data: bad Huffman code\n",
      "Corrupt JPEG data: bad Huffman code\n",
      "Corrupt JPEG data: 5 extraneous bytes before marker 0xc2\n",
      "Corrupt JPEG data: bad Huffman code\n",
      "Corrupt JPEG data: bad Huffman code\n",
      "Corrupt JPEG data: bad Huffman code\n",
      "Corrupt JPEG data: bad Huffman code\n",
      "Corrupt JPEG data: bad Huffman code\n",
      "Corrupt JPEG data: premature end of data segment\n",
      "Corrupt JPEG data: bad Huffman code\n",
      "Corrupt JPEG data: bad Huffman code\n",
      "Corrupt JPEG data: bad Huffman code\n"
     ]
    },
    {
     "name": "stdout",
     "output_type": "stream",
     "text": [
      "3 fps\n"
     ]
    },
    {
     "name": "stderr",
     "output_type": "stream",
     "text": [
      "Corrupt JPEG data: 5 extraneous bytes before marker 0xc2\n",
      "Corrupt JPEG data: bad Huffman code\n",
      "Corrupt JPEG data: bad Huffman code\n",
      "Corrupt JPEG data: bad Huffman code\n",
      "Corrupt JPEG data: bad Huffman code\n",
      "Corrupt JPEG data: bad Huffman code\n",
      "Corrupt JPEG data: bad Huffman code\n",
      "Corrupt JPEG data: 5 extraneous bytes before marker 0xc2\n",
      "Corrupt JPEG data: bad Huffman code\n",
      "Corrupt JPEG data: bad Huffman code\n",
      "Corrupt JPEG data: 5 extraneous bytes before marker 0xc2\n",
      "Corrupt JPEG data: bad Huffman code\n",
      "Corrupt JPEG data: bad Huffman code\n",
      "Corrupt JPEG data: bad Huffman code\n",
      "Corrupt JPEG data: bad Huffman code\n",
      "Corrupt JPEG data: bad Huffman code\n",
      "Corrupt JPEG data: 7 extraneous bytes before marker 0xda\n",
      "Corrupt JPEG data: bad Huffman code\n",
      "Corrupt JPEG data: bad Huffman code\n",
      "Corrupt JPEG data: bad Huffman code\n"
     ]
    },
    {
     "name": "stdout",
     "output_type": "stream",
     "text": [
      "5 fps\n",
      "avg_verification: nan, latency: nan\n"
     ]
    },
    {
     "name": "stderr",
     "output_type": "stream",
     "text": [
      "Corrupt JPEG data: bad Huffman code\n",
      "Corrupt JPEG data: bad Huffman code\n",
      "Corrupt JPEG data: 5 extraneous bytes before marker 0xc2\n",
      "Corrupt JPEG data: bad Huffman code\n",
      "Corrupt JPEG data: bad Huffman code\n",
      "Corrupt JPEG data: bad Huffman code\n",
      "Corrupt JPEG data: bad Huffman code\n",
      "Corrupt JPEG data: bad Huffman code\n",
      "Corrupt JPEG data: 5 extraneous bytes before marker 0xc2\n",
      "Corrupt JPEG data: 7 extraneous bytes before marker 0xda\n",
      "Corrupt JPEG data: 5 extraneous bytes before marker 0xc2\n",
      "Corrupt JPEG data: bad Huffman code\n",
      "Corrupt JPEG data: 2461 extraneous bytes before marker 0xc4\n",
      "Corrupt JPEG data: 5 extraneous bytes before marker 0xc2\n",
      "Corrupt JPEG data: bad Huffman code\n",
      "Corrupt JPEG data: bad Huffman code\n",
      "Corrupt JPEG data: bad Huffman code\n",
      "Corrupt JPEG data: bad Huffman code\n",
      "Corrupt JPEG data: bad Huffman code\n",
      "Corrupt JPEG data: 12 extraneous bytes before marker 0xda\n",
      "Corrupt JPEG data: bad Huffman code\n",
      "Corrupt JPEG data: bad Huffman code\n",
      "Corrupt JPEG data: bad Huffman code\n",
      "Corrupt JPEG data: bad Huffman code\n",
      "Corrupt JPEG data: 5 extraneous bytes before marker 0xc2\n"
     ]
    },
    {
     "name": "stdout",
     "output_type": "stream",
     "text": [
      "7 fps\n"
     ]
    },
    {
     "name": "stderr",
     "output_type": "stream",
     "text": [
      "Corrupt JPEG data: bad Huffman code\n",
      "Corrupt JPEG data: 2600 extraneous bytes before marker 0xc4\n",
      "Corrupt JPEG data: bad Huffman code\n",
      "Corrupt JPEG data: bad Huffman code\n",
      "Corrupt JPEG data: bad Huffman code\n",
      "Corrupt JPEG data: bad Huffman code\n",
      "Corrupt JPEG data: 5 extraneous bytes before marker 0xc2\n",
      "Corrupt JPEG data: bad Huffman code\n",
      "Corrupt JPEG data: bad Huffman code\n",
      "Corrupt JPEG data: 5 extraneous bytes before marker 0xc2\n",
      "Corrupt JPEG data: bad Huffman code\n",
      "Corrupt JPEG data: bad Huffman code\n",
      "Corrupt JPEG data: 5 extraneous bytes before marker 0xc2\n",
      "Corrupt JPEG data: bad Huffman code\n",
      "Corrupt JPEG data: bad Huffman code\n",
      "Corrupt JPEG data: 12 extraneous bytes before marker 0xda\n",
      "Corrupt JPEG data: bad Huffman code\n",
      "Corrupt JPEG data: 7 extraneous bytes before marker 0xda\n",
      "Corrupt JPEG data: bad Huffman code\n"
     ]
    },
    {
     "name": "stdout",
     "output_type": "stream",
     "text": [
      "5 fps\n"
     ]
    },
    {
     "name": "stderr",
     "output_type": "stream",
     "text": [
      "Corrupt JPEG data: 7 extraneous bytes before marker 0xda\n",
      "Corrupt JPEG data: bad Huffman code\n",
      "Corrupt JPEG data: 7 extraneous bytes before marker 0xda\n",
      "Corrupt JPEG data: bad Huffman code\n",
      "Corrupt JPEG data: bad Huffman code\n",
      "Corrupt JPEG data: bad Huffman code\n",
      "Corrupt JPEG data: bad Huffman code\n",
      "Corrupt JPEG data: 5 extraneous bytes before marker 0xc2\n",
      "Corrupt JPEG data: bad Huffman code\n",
      "Corrupt JPEG data: bad Huffman code\n",
      "Corrupt JPEG data: 5 extraneous bytes before marker 0xc2\n",
      "Corrupt JPEG data: premature end of data segment\n",
      "Corrupt JPEG data: bad Huffman code\n",
      "Corrupt JPEG data: bad Huffman code\n",
      "Corrupt JPEG data: 5 extraneous bytes before marker 0xc2\n",
      "Corrupt JPEG data: 12 extraneous bytes before marker 0xda\n",
      "Corrupt JPEG data: bad Huffman code\n"
     ]
    },
    {
     "name": "stdout",
     "output_type": "stream",
     "text": [
      "5 fps\n",
      "avg_verification: nan, latency: nan\n"
     ]
    },
    {
     "name": "stderr",
     "output_type": "stream",
     "text": [
      "Corrupt JPEG data: bad Huffman code\n",
      "Corrupt JPEG data: bad Huffman code\n",
      "Corrupt JPEG data: bad Huffman code\n",
      "Corrupt JPEG data: bad Huffman code\n",
      "Corrupt JPEG data: bad Huffman code\n",
      "Corrupt JPEG data: bad Huffman code\n",
      "Corrupt JPEG data: bad Huffman code\n",
      "Corrupt JPEG data: 5 extraneous bytes before marker 0xc2\n",
      "Corrupt JPEG data: bad Huffman code\n",
      "Corrupt JPEG data: bad Huffman code\n",
      "Corrupt JPEG data: bad Huffman code\n",
      "Corrupt JPEG data: 7 extraneous bytes before marker 0xda\n",
      "Corrupt JPEG data: bad Huffman code\n",
      "Corrupt JPEG data: bad Huffman code\n",
      "Corrupt JPEG data: bad Huffman code\n",
      "Corrupt JPEG data: bad Huffman code\n",
      "Corrupt JPEG data: bad Huffman code\n",
      "Corrupt JPEG data: bad Huffman code\n",
      "Corrupt JPEG data: bad Huffman code\n",
      "Corrupt JPEG data: bad Huffman code\n",
      "Corrupt JPEG data: bad Huffman code\n",
      "Corrupt JPEG data: 12 extraneous bytes before marker 0xda\n",
      "Corrupt JPEG data: bad Huffman code\n"
     ]
    },
    {
     "name": "stdout",
     "output_type": "stream",
     "text": [
      "7 fps\n"
     ]
    }
   ],
   "source": [
    "#### parameters that needs to be exhanged between the sender and the receiver #####\n",
    "IP = \"0.0.0.0\"\n",
    "PORT = 23422\n",
    "#################################################################################### \n",
    "while True:\n",
    "    param = receive_param(IP=IP, PORT=PORT)\n",
    "    run_experiment(IP=IP, PORT=PORT, param=param)\n",
    "    time.sleep(.1)"
   ]
  },
  {
   "cell_type": "code",
   "execution_count": null,
   "metadata": {},
   "outputs": [
    {
     "name": "stdout",
     "output_type": "stream",
     "text": [
      "Experiment 0\n"
     ]
    },
    {
     "data": {
      "image/png": "[encoded data removed]",
      "text/plain": [
       "<Figure size 640x480 with 1 Axes>"
      ]
     },
     "metadata": {},
     "output_type": "display_data"
    },
    {
     "data": {
      "image/png": "[encoded data removed]",
      "text/plain": [
       "<Figure size 640x480 with 1 Axes>"
      ]
     },
     "metadata": {},
     "output_type": "display_data"
    },
    {
     "data": {
      "image/png": "[encoded data removed]",
      "text/plain": [
       "<Figure size 640x480 with 1 Axes>"
      ]
     },
     "metadata": {},
     "output_type": "display_data"
    },
    {
     "data": {
      "image/png": "[encoded data removed]",
      "text/plain": [
       "<Figure size 640x480 with 1 Axes>"
      ]
     },
     "metadata": {},
     "output_type": "display_data"
    },
    {
     "name": "stdout",
     "output_type": "stream",
     "text": [
      "{'X': [[1.0, 0.0, 0.0, 0.0, 0.0, 0.0, 0.0, 0.0, 0.0, 0.0], [0.0, 1.0, 0.0, 0.0, 0.0, 0.0, 0.0, 0.0, 0.0, 0.0], [0.0, 0.0, 1.0, 0.0, 0.0, 0.0, 0.0, 0.0, 0.0, 0.0], [0.0, 0.0, 0.0, 1.0, 0.0, 0.0, 0.0, 0.0, 0.0, 0.0], [0.0, 0.0, 0.0, 0.0, 1.0, 0.0, 0.0, 0.0, 0.0, 0.0], [0.0, 0.0, 0.0, 0.0, 0.0, 1.0, 0.0, 0.0, 0.0, 0.0], [0.0, 0.0, 0.0, 0.0, 0.0, 0.0, 1.0, 0.0, 0.0, 0.0], [0.0, 0.0, 0.0, 0.0, 0.0, 0.0, 0.0, 1.0, 0.0, 0.0], [0.0, 0.0, 0.0, 0.0, 0.0, 0.0, 0.0, 0.0, 1.0, 0.0], [0.0, 0.0, 0.0, 0.0, 0.0, 0.0, 0.0, 0.0, 0.0, 1.0]], 'Y': [[1.0, 0.0, 0.0, 0.0, 0.0, 0.0, 0.0, 0.0, 0.0, 0.0], [0.0, 1.0, 0.0, 0.0, 0.0, 0.0, 0.0, 0.0, 0.0, 0.0], [0.0, 0.0, 1.0, 0.0, 0.0, 0.0, 0.0, 0.0, 0.0, 0.0], [0.0, 0.0, 0.0, 1.0, 0.0, 0.0, 0.0, 0.0, 0.0, 0.0], [0.0, 0.0, 0.0, 0.0, 1.0, 0.0, 0.0, 0.0, 0.0, 0.0], [0.0, 0.0, 0.0, 0.0, 0.0, 1.0, 0.0, 0.0, 0.0, 0.0], [0.0, 0.0, 0.0, 0.0, 0.0, 0.0, 1.0, 0.0, 0.0, 0.0], [0.0, 0.0, 0.0, 0.0, 0.0, 0.0, 0.0, 1.0, 0.0, 0.0], [0.0, 0.0, 0.0, 0.0, 0.0, 0.0, 0.0, 0.0, 1.0, 0.0], [0.0, 0.0, 0.0, 0.0, 0.0, 0.0, 0.0, 0.0, 0.0, 1.0]], 'KEY': 'key', 'DIGESTMOD': 'sha384', 'PAYLOAD_SIZE_BYTE': 1024, 'QUALITY': 70, 'ATTACK_PROBABILITY': 0.0, 'DURATION': 10, 'OFFSET': -0.0364680290222168}\n"
     ]
    }
   ],
   "source": [
    "# opening the pickle file and plotting the results\n",
    "with open(\"results.pkl\", 'rb') as f:\n",
    "    results = pickle.load(f)\n",
    "    for i in range(max(len(results)- 10,0), len(results)):\n",
    "        print(f\"Experiment {i}\")\n",
    "        plt.plot(results[i]['avg_verification'], label=f\"Experiment {i}\")\n",
    "        plt.xlabel('Time')\n",
    "        plt.ylabel('Verification Count')\n",
    "        plt.title('Verification Count vs Time')\n",
    "        plt.legend()\n",
    "        plt.show()\n",
    "\n",
    "        plt.plot(np.array(results[i]['latency']) - results[i]['param'][\"OFFSET\"], label=f\"Experiment {i}\")\n",
    "        plt.xlabel('Time')\n",
    "        plt.ylabel('Latency')\n",
    "        plt.title('Latency vs Time')\n",
    "        plt.legend()\n",
    "        plt.show()\n",
    "\n",
    "        plt.plot(results[i]['goodput'], label=f\"Experiment {i}\")\n",
    "        plt.xlabel('Time')\n",
    "        plt.ylabel('Goodput')\n",
    "        plt.title('Goodput vs Time')\n",
    "        plt.legend()\n",
    "        plt.show()\n",
    "\n",
    "        plt.plot(results[i]['frame_rate'], label=f\"Experiment {i}\")\n",
    "        plt.xlabel('Time')\n",
    "        plt.ylabel('Frame Rate')\n",
    "        plt.title('Frame Rate vs Time')\n",
    "        plt.legend()\n",
    "        plt.show()\n",
    "    print(results[0]['param'])"
   ]
  }
 ],
 "metadata": {
  "kernelspec": {
   "display_name": "Python 3",
   "language": "python",
   "name": "python3"
  },
  "language_info": {
   "codemirror_mode": {
    "name": "ipython",
    "version": 3
   },
   "file_extension": ".py",
   "mimetype": "text/x-python",
   "name": "python",
   "nbconvert_exporter": "python",
   "pygments_lexer": "ipython3",
   "version": "3.9.6"
  }
 },
 "nbformat": 4,
 "nbformat_minor": 2
}
