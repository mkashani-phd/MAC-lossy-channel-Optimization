{
 "cells": [
  {
   "cell_type": "code",
   "execution_count": 3,
   "metadata": {},
   "outputs": [
    {
     "name": "stderr",
     "output_type": "stream",
     "text": [
      "UUUUUUUUUUUUUUUUUUUUUUUUUUUUUUUUUUUUUUUUUUUUUUU"
     ]
    },
    {
     "ename": "KeyboardInterrupt",
     "evalue": "",
     "output_type": "error",
     "traceback": [
      "\u001b[0;31m---------------------------------------------------------------------------\u001b[0m",
      "\u001b[0;31mKeyboardInterrupt\u001b[0m                         Traceback (most recent call last)",
      "Cell \u001b[0;32mIn[3], line 20\u001b[0m\n\u001b[1;32m     18\u001b[0m duration \u001b[38;5;241m=\u001b[39m \u001b[38;5;241m1\u001b[39m \u001b[38;5;66;03m# seconds\u001b[39;00m\n\u001b[1;32m     19\u001b[0m \u001b[38;5;28;01mwhile\u001b[39;00m \u001b[38;5;28;01mTrue\u001b[39;00m:\n\u001b[0;32m---> 20\u001b[0m     \u001b[43musrp\u001b[49m\u001b[38;5;241;43m.\u001b[39;49m\u001b[43msend_waveform\u001b[49m\u001b[43m(\u001b[49m\u001b[43msamples\u001b[49m\u001b[43m,\u001b[49m\u001b[43m \u001b[49m\u001b[43mduration\u001b[49m\u001b[43m,\u001b[49m\u001b[43m \u001b[49m\u001b[43mcenter_freq\u001b[49m\u001b[43m,\u001b[49m\u001b[43m \u001b[49m\u001b[43msample_rate\u001b[49m\u001b[43m,\u001b[49m\u001b[43m \u001b[49m\u001b[43m[\u001b[49m\u001b[38;5;241;43m0\u001b[39;49m\u001b[43m]\u001b[49m\u001b[43m,\u001b[49m\u001b[43m \u001b[49m\u001b[43mgain\u001b[49m\u001b[43m)\u001b[49m\n",
      "File \u001b[0;32m/opt/local/Library/Frameworks/Python.framework/Versions/3.10/lib/python3.10/site-packages/uhd/usrp.py:98\u001b[0m, in \u001b[0;36mMultiUSRP.send_waveform\u001b[0;34m(self, waveform_proto, duration, freq, rate, channels, gain)\u001b[0m\n\u001b[1;32m     95\u001b[0m st_args \u001b[38;5;241m=\u001b[39m lib\u001b[38;5;241m.\u001b[39musrp\u001b[38;5;241m.\u001b[39mstream_args(\u001b[38;5;124m\"\u001b[39m\u001b[38;5;124mfc32\u001b[39m\u001b[38;5;124m\"\u001b[39m, \u001b[38;5;124m\"\u001b[39m\u001b[38;5;124msc16\u001b[39m\u001b[38;5;124m\"\u001b[39m)\n\u001b[1;32m     96\u001b[0m st_args\u001b[38;5;241m.\u001b[39mchannels \u001b[38;5;241m=\u001b[39m channels\n\u001b[0;32m---> 98\u001b[0m streamer \u001b[38;5;241m=\u001b[39m \u001b[38;5;28;43msuper\u001b[39;49m\u001b[43m(\u001b[49m\u001b[43mMultiUSRP\u001b[49m\u001b[43m,\u001b[49m\u001b[43m \u001b[49m\u001b[38;5;28;43mself\u001b[39;49m\u001b[43m)\u001b[49m\u001b[38;5;241;43m.\u001b[39;49m\u001b[43mget_tx_stream\u001b[49m\u001b[43m(\u001b[49m\u001b[43mst_args\u001b[49m\u001b[43m)\u001b[49m\n\u001b[1;32m     99\u001b[0m buffer_samps \u001b[38;5;241m=\u001b[39m streamer\u001b[38;5;241m.\u001b[39mget_max_num_samps()\n\u001b[1;32m    100\u001b[0m proto_len \u001b[38;5;241m=\u001b[39m waveform_proto\u001b[38;5;241m.\u001b[39mshape[\u001b[38;5;241m-\u001b[39m\u001b[38;5;241m1\u001b[39m]\n",
      "\u001b[0;31mKeyboardInterrupt\u001b[0m: "
     ]
    },
    {
     "ename": "",
     "evalue": "",
     "output_type": "error",
     "traceback": [
      "\u001b[1;31mThe Kernel crashed while executing code in the current cell or a previous cell. \n",
      "\u001b[1;31mPlease review the code in the cell(s) to identify a possible cause of the failure. \n",
      "\u001b[1;31mClick <a href='https://aka.ms/vscodeJupyterKernelCrash'>here</a> for more info. \n",
      "\u001b[1;31mView Jupyter <a href='command:jupyter.viewOutput'>log</a> for further details."
     ]
    }
   ],
   "source": [
    "import uhd\n",
    "import numpy as np\n",
    "import matplotlib.pyplot as plt\n",
    "\n",
    "usrp = uhd.usrp.MultiUSRP()\n",
    "\n",
    "num_samps = 10000000 # number of samples received\n",
    "center_freq = 2.44e9 # Hz\n",
    "sample_rate = 50e6 # Hz\n",
    "gain = 80 # dB\n",
    "\n",
    "usrp.set_rx_rate(sample_rate, 0)\n",
    "usrp.set_rx_freq(uhd.libpyuhd.types.tune_request(center_freq), 0)\n",
    "usrp.set_rx_gain(gain, 0)\n",
    "\n",
    "\n",
    "samples = 0.1*np.random.randn(1000000) + 0.1j*np.random.randn(1000000) # create random signal\n",
    "duration = 1 # seconds\n",
    "while True:\n",
    "    usrp.send_waveform(samples, duration, center_freq, sample_rate, [0], gain)\n"
   ]
  }
 ],
 "metadata": {
  "kernelspec": {
   "display_name": "Python 3",
   "language": "python",
   "name": "python3"
  },
  "language_info": {
   "codemirror_mode": {
    "name": "ipython",
    "version": 3
   },
   "file_extension": ".py",
   "mimetype": "text/x-python",
   "name": "python",
   "nbconvert_exporter": "python",
   "pygments_lexer": "ipython3",
   "version": "3.10.14"
  }
 },
 "nbformat": 4,
 "nbformat_minor": 2
}
