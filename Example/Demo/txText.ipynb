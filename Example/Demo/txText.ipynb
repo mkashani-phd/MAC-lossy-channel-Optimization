{
 "cells": [
  {
   "cell_type": "code",
   "execution_count": 1,
   "metadata": {},
   "outputs": [],
   "source": [
    "import socket\n",
    "import time\n",
    "import numpy as np\n",
    "import hmac"
   ]
  },
  {
   "cell_type": "code",
   "execution_count": 2,
   "metadata": {},
   "outputs": [
    {
     "data": {
      "text/plain": [
       "b'sds'"
      ]
     },
     "execution_count": 2,
     "metadata": {},
     "output_type": "execute_result"
    }
   ],
   "source": [
    "\"sds\".encode(\"utf-8\")"
   ]
  },
  {
   "cell_type": "code",
   "execution_count": 3,
   "metadata": {},
   "outputs": [],
   "source": [
    "text = \"\"\"112233445566778899\"\"\"\n",
    "\n",
    "def divide_text(text, block_size_bits = 16, X= None):\n",
    "    text = text.encode('utf-8')\n",
    "    blocks = np.array([])\n",
    "    for i in range(0, len(text), block_size_bits//8):\n",
    "       blocks = np.append(blocks,text[i:i+block_size_bits//8])\n",
    "    #append b'' to block make the len of blocks to be a multiple of xsahpe\n",
    "    if X.shape[0] is not None and len(blocks)%X.shape[0]!=0:\n",
    "        for i in range(X.shape[0] - len(blocks)%X.shape[0]):\n",
    "            blocks = np.append(blocks,b'')\n",
    "    return blocks\n",
    "\n",
    "def mac_for_block(blocks:np.array, key:str, X:np.array, Y:np.array):\n",
    "    res = {}\n",
    "    for msg in range(X.shape[0]):\n",
    "        res[msg] = blocks[msg]\n",
    "    for tags in range(X.shape[1]):\n",
    "        data = b''.join(blocks[np.where(X[:,tags] == 1)]) \n",
    "        res[np.where(Y[:,tags] == 1)[0][0]] =  blocks[np.where(Y[:,tags] == 1)] + hmac.new(key, data, digestmod='sha256').digest()\n",
    "    return res\n",
    "\n",
    "def send_msg(FN, msg, sock, dest):\n",
    "    # sock.sendto(FN.to_bytes(4, 'big')+ msg, dest)\n",
    "    print(FN.to_bytes(4, 'big')+ msg)\n",
    "\n",
    "# mac_for_block(divide_text(text), b\"key\")\n"
   ]
  },
  {
   "cell_type": "code",
   "execution_count": 6,
   "metadata": {},
   "outputs": [
    {
     "name": "stdout",
     "output_type": "stream",
     "text": [
      "[b'\\x00\\x00\\x00\\x0111d\\xb98&\\x83\\x97\\x91\\xe7\\xc2\\xcc1\\n\\xef\\xdb3}\\xd1u\\x84\\x88\\x94o\\xe96.z\\xa3\\xe9\\xee!\\x8a\\x90']\n",
      "[b'\\x00\\x00\\x00\\x0222\\xc7\\x1dA&@??\\x02\\x1e\\xb9\\xaf\\x08\\xd9JMA\\xdd\\xef\\x96h\\x82b[\\x06\\x95\\x1d\\x84\\xd1\\x80\\x95\\x8a\\xa3']\n",
      "[b'\\x00\\x00\\x00\\x0333\\x92H\\xed\\x0b\\x9c\\xcbH\\x8a\\xd4V\\x88I|\\xba\\x08\\xcbh\\xc4\\x82\\xe3\\xab\\x1f6\\x94\\xec\\x80\\xff\\xc4T:\\xaaZ']\n",
      "[b'\\x00\\x00\\x00\\x0444\\x9d\\x9f\\xd4b\\xe4\\xd2\\xfeyr\\x9e\\x04ce\\x9d\\xa0\\xf0\\xd6\\xd3\\xb5\\xfaE\\t\\x80\\x10\\xdd\\xce\\xd7\\xcb\\x12*\\xd9\\x8a']\n",
      "[b'\\x00\\x00\\x00\\x0555\\xf5\\xfee\\xb3\\xcc\\x11\\xf1 \\xd5\\xe9\\r\\xbaMW\\xb2\\xe5\\x92\\xe9\\x9ccP\\xaf~\\xba\\x80\\xdfB\\x87\\np\\xe9?']\n",
      "[b'\\x00\\x00\\x00\\x0666\\x0f\\xe9\\xac\\xd2\\xa4\\x06s\\xfa\\x0f\\xf4\\xca\\x1f\\xb4\\xba\\x81`\\xaf\\xcb:N \\xa1,\\xb4\\xf1gJ&\\xa0\\xf5\\x124']\n",
      "[b'\\x00\\x00\\x00\\x0777\\xdaW\\x92^\\xd4\\x0e\\xe9\\x02\\xe5\\xa3A\\xb0\\x1a\\xf7\\xe0\\x96EN\\xb02;\\x0e}7gy\\xa9\\tU  \\xe3']\n",
      "[b'\\x00\\x00\\x00\\x0888\\x95L\\x8c\\xed;\\xb8kc@\\xde\\ti\\xa1\\xf9=\\xf9\\x00\\xa4\\x87v8\\xffO\\xfb\\x03\\xe2\\xc1\\x8eObk2']\n",
      "[b\"\\x00\\x00\\x00\\t99\\xf1\\xc7\\xec\\xf5\\xfe\\x8b`\\xc51\\xa0z\\xaa;\\x1a\\x06v\\xf2\\xc7z\\xc8f\\xbeB\\xe4\\xf0]'*UY\\xf8\\x14\"]\n"
     ]
    }
   ],
   "source": [
    "X = np.array([[1,0,0],[0,1,0],[0,0,1]]) # tag generation matrix\n",
    "Y = np.array([[1,0,0],[0,1,0],[0,0,1]]) # tag assignment matrix\n",
    "sock = socket.socket(socket.AF_INET, socket.SOCK_DGRAM)\n",
    "ip = \"0.0.0.0\"\n",
    "port = 23422\n",
    "\n",
    "\n",
    "blocks= divide_text(text, block_size_bits=16, X = X)\n",
    "FN = 1\n",
    "for i in range(len(blocks)//X.shape[0]):\n",
    "    for msg in mac_for_block(blocks[i*3:i*3+3], key = b\"key\", X = X, Y = Y).values():\n",
    "        send_msg(FN, msg, sock, (ip,port) )\n",
    "        FN += 1 \n",
    "        time.sleep(0.0001)\n",
    "\n"
   ]
  },
  {
   "cell_type": "code",
   "execution_count": 5,
   "metadata": {},
   "outputs": [
    {
     "ename": "SyntaxError",
     "evalue": "invalid syntax (545498869.py, line 2)",
     "output_type": "error",
     "traceback": [
      "\u001b[0;36m  Cell \u001b[0;32mIn[5], line 2\u001b[0;36m\u001b[0m\n\u001b[0;31m    |\u001b[0m\n\u001b[0m    ^\u001b[0m\n\u001b[0;31mSyntaxError\u001b[0m\u001b[0;31m:\u001b[0m invalid syntax\n"
     ]
    }
   ],
   "source": [
    "text\n",
    "|\n",
    "v\n",
    "divide the text\n",
    "|\n",
    "v\n",
    "calcualte the mac for each block\n",
    "|\n",
    "v\n",
    "transmit the block and the mac\n",
    "\n"
   ]
  }
 ],
 "metadata": {
  "kernelspec": {
   "display_name": "Python 3",
   "language": "python",
   "name": "python3"
  },
  "language_info": {
   "codemirror_mode": {
    "name": "ipython",
    "version": 3
   },
   "file_extension": ".py",
   "mimetype": "text/x-python",
   "name": "python",
   "nbconvert_exporter": "python",
   "pygments_lexer": "ipython3",
   "version": "3.9.6"
  }
 },
 "nbformat": 4,
 "nbformat_minor": 2
}
