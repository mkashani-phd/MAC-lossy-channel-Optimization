{
 "cells": [
  {
   "cell_type": "code",
   "execution_count": 1,
   "metadata": {},
   "outputs": [],
   "source": [
    "import socket\n",
    "import time\n",
    "import numpy as np\n",
    "import hmac\n",
    "import time"
   ]
  },
  {
   "cell_type": "code",
   "execution_count": 2,
   "metadata": {},
   "outputs": [],
   "source": [
    "\n",
    "def divide_text(text, block_size_bits = 16, X= None):\n",
    "    text = text.encode('utf-8') \n",
    "    blocks = np.array([])\n",
    "    for i in range(0, len(text), block_size_bits//8):\n",
    "       blocks = np.append(blocks,text[i:i+block_size_bits//8])\n",
    "    #append b'' to block make the len of blocks to be a multiple of xsahpe\n",
    "    if X.shape[0] is not None and len(blocks)%X.shape[0]!=0:\n",
    "        for i in range(X.shape[0] - len(blocks)%X.shape[0]):\n",
    "            blocks = np.append(blocks,b'')\n",
    "    return blocks\n",
    "\n",
    "def mac_for_block(blocks:np.array, key:str, X:np.array, Y:np.array):\n",
    "    res = {}\n",
    "    for msg in range(X.shape[0]):\n",
    "        res[msg] = blocks[msg].tobytes()\n",
    "    for tags in range(X.shape[1]):\n",
    "        data = b''.join(blocks[np.where(X[:,tags] == 1)]) \n",
    "        res[np.where(Y[:,tags] == 1)[0][0]] =  blocks[np.where(Y[:,tags] == 1)][0] + hmac.new(key, data, digestmod='sha384').digest()\n",
    "    return res\n",
    "\n",
    "def send_msg(FN, msg, sock, dest):\n",
    "    sock.sendto(FN.to_bytes(4, 'big')+ msg, dest)\n",
    "    # print(FN.to_bytes(4, 'big')+ msg)\n",
    "\n",
    "\n",
    "def tx(text, sock, ip, port, X, Y, block_size_bits = 128, attack = []):\n",
    "    blocks= divide_text(text, block_size_bits=block_size_bits, X = X)\n",
    "    FN = 1\n",
    "    for i in range(len(blocks)//X.shape[0]):\n",
    "        block = mac_for_block(blocks[i*X.shape[0]:i*X.shape[0]+X.shape[0]], key = b\"key\", X = X, Y = Y)\n",
    "        for msg in block.values():\n",
    "            if FN in attack:\n",
    "                # print(\"Dropped\")\n",
    "                FN += 1\n",
    "                continue\n",
    "            else:\n",
    "                send_msg(FN, msg, sock, (ip,port) )\n",
    "                FN += 1 \n",
    "                time.sleep(0.01)\n",
    "\n",
    "    sock.sendto(b'END', (ip,port))\n",
    "    sock.close()\n",
    "    time.sleep(1)\n",
    "\n",
    "# mac_for_block(divide_text(text), b\"key\")\n"
   ]
  },
  {
   "cell_type": "code",
   "execution_count": 3,
   "metadata": {},
   "outputs": [
    {
     "name": "stdout",
     "output_type": "stream",
     "text": [
      "36.0\n",
      "Attacking on paccket numbers [27 13 33]\n",
      "Transmitting text: This test shows  2D integrity check is better than  blockwise integrity.\n",
      "\n",
      "\n",
      "transmitting in 2D mode ...\n"
     ]
    }
   ],
   "source": [
    "            #  t1  t2  t3  t4  t5  t6  t7  t8  t9\n",
    "X = np.array([[ 1,  0,  0,  0,  0,  0,  1,  0,  0], # m1\n",
    "              [ 1,  0,  0,  0,  0,  0,  0,  1,  0], # m2\n",
    "              [ 1,  0,  0,  0,  0,  0,  0,  0,  1], # m3\n",
    "              [ 0,  1,  0,  0,  0,  0,  1,  0,  0], # m4\n",
    "              [ 0,  1,  0,  0,  0,  0,  0,  1,  0], # m5\n",
    "              [ 0,  1,  0,  0,  0,  0,  0,  0,  1], # m6\n",
    "              [ 0,  0,  1,  0,  0,  0,  1,  0,  0], # m7\n",
    "              [ 0,  0,  1,  0,  0,  0,  0,  1,  0], # m8\n",
    "              [ 0,  0,  1,  0,  0,  0,  0,  0,  1], # m9\n",
    "              [ 0,  0,  0,  1,  0,  0,  1,  0,  0], # m10\n",
    "              [ 0,  0,  0,  1,  0,  0,  0,  1,  0], # m11\n",
    "              [ 0,  0,  0,  1,  0,  0,  0,  0,  1], # m12\n",
    "              [ 0,  0,  0,  0,  1,  0,  1,  0,  0], # m13\n",
    "              [ 0,  0,  0,  0,  1,  0,  0,  1,  0], # m14\n",
    "              [ 0,  0,  0,  0,  1,  0,  0,  0,  1], # m15\n",
    "              [ 0,  0,  0,  0,  0,  1,  1,  0,  0], # m16\n",
    "              [ 0,  0,  0,  0,  0,  1,  0,  1,  0], # m17\n",
    "              [ 0,  0,  0,  0,  0,  1,  0,  0,  1]]) # m18\n",
    "            #  t1  t2  t3  t4  t5  t6  t7  t8  t9\n",
    "Y = np.array([[ 0,  0,  0,  0,  0,  0,  1,  0,  0], # m1\n",
    "              [ 0,  0,  0,  0,  0,  0,  0,  1,  0], # m2\n",
    "              [ 1,  0,  0,  0,  0,  0,  0,  0,  0], # m3\n",
    "              [ 0,  0,  0,  0,  0,  0,  0,  0,  0], # m4\n",
    "              [ 0,  0,  0,  0,  0,  0,  0,  0,  0], # m5\n",
    "              [ 0,  1,  0,  0,  0,  0,  0,  0,  0], # m6\n",
    "              [ 0,  0,  0,  0,  0,  0,  0,  0,  0], # m7\n",
    "              [ 0,  0,  0,  0,  0,  0,  0,  0,  0], # m8\n",
    "              [ 0,  0,  1,  0,  0,  0,  0,  0,  0], # m9\n",
    "              [ 0,  0,  0,  0,  0,  0,  0,  0,  0], # m10\n",
    "              [ 0,  0,  0,  0,  0,  0,  0,  0,  0], # m11\n",
    "              [ 0,  0,  0,  1,  0,  0,  0,  0,  0], # m12\n",
    "              [ 0,  0,  0,  0,  0,  0,  0,  0,  0], # m13\n",
    "              [ 0,  0,  0,  0,  0,  0,  0,  0,  0], # m14\n",
    "              [ 0,  0,  0,  0,  1,  0,  0,  0,  0], # m15\n",
    "              [ 0,  0,  0,  0,  0,  0,  0,  0,  0], # m16\n",
    "              [ 0,  0,  0,  0,  0,  1,  0,  0,  0], # m17\n",
    "              [ 0,  0,  0,  0,  0,  0,  0,  0,  1]]) # m18\n",
    "\n",
    "# randomly selecting a message of 18 messages to drop\n",
    "\n",
    "sock = socket.socket(socket.AF_INET, socket.SOCK_DGRAM)\n",
    "ip = \"0.0.0.0\"\n",
    "port = 23422\n",
    "\n",
    "\n",
    "text = \"\"\"This test shows  2D integrity check is better than  blockwise integrity.\"\"\"\n",
    "attack = np.random.randint(1,len(divide_text(text,16, X)),3)\n",
    "print(len(text)/2)\n",
    "\n",
    "print(f'Attacking on paccket numbers {attack}\\nTransmitting text: {text}\\n\\n')\n",
    "\n",
    "\n",
    "\n",
    "print('transmitting in 2D mode ...')\n",
    "tx(text, sock, ip, port, X, Y,block_size_bits = 16, attack = attack)"
   ]
  },
  {
   "cell_type": "code",
   "execution_count": 4,
   "metadata": {},
   "outputs": [
    {
     "name": "stdout",
     "output_type": "stream",
     "text": [
      "transmitting in blockwise tag mode ...\n"
     ]
    }
   ],
   "source": [
    "X = np.array([[1,0],\n",
    "              [0,1]]) # tag generation matrix\n",
    "\n",
    "Y = np.array([[1,0],\n",
    "              [0,1]]) # tag assignment matrix\n",
    "\n",
    "sock = socket.socket(socket.AF_INET, socket.SOCK_DGRAM)\n",
    "ip = \"0.0.0.0\"\n",
    "port = 23422\n",
    "\n",
    "\n",
    "text = \"\"\"Hello World! this is a test show, how 2D is better than 1D integrity check.\"\"\"\n",
    "print('transmitting in blockwise tag mode ...')\n",
    "tx(text, sock, ip, port, X, Y,block_size_bits = 16, attack = attack)\n",
    "\n"
   ]
  }
 ],
 "metadata": {
  "kernelspec": {
   "display_name": "Python 3",
   "language": "python",
   "name": "python3"
  },
  "language_info": {
   "codemirror_mode": {
    "name": "ipython",
    "version": 3
   },
   "file_extension": ".py",
   "mimetype": "text/x-python",
   "name": "python",
   "nbconvert_exporter": "python",
   "pygments_lexer": "ipython3",
   "version": "3.9.6"
  }
 },
 "nbformat": 4,
 "nbformat_minor": 2
}
