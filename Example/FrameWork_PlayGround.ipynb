{
 "cells": [
  {
   "cell_type": "code",
   "execution_count": 2,
   "metadata": {},
   "outputs": [],
   "source": [
    "import sys\n",
    "sys.path.append('../')\n",
    "import src.Auth as Auth\n",
    "import numpy as np"
   ]
  },
  {
   "cell_type": "markdown",
   "metadata": {},
   "source": [
    "### 2D MAC \n",
    "\n",
    "structering the Messages in a 2D array and calculating the tags for each column and each row."
   ]
  },
  {
   "cell_type": "code",
   "execution_count": 5,
   "metadata": {},
   "outputs": [
    {
     "name": "stdout",
     "output_type": "stream",
     "text": [
      "A = \n",
      "[[1.26 1.26 1.26]\n",
      " [1.26 1.26 1.26]\n",
      " [1.26 1.26 1.26]\n",
      " [1.26 1.26 1.26]\n",
      " [1.26 1.26 1.26]\n",
      " [1.26 1.26 1.26]]\n",
      "L = \n",
      "[[2 1 0]\n",
      " [2 1 0]\n",
      " [2 1 0]\n",
      " [2 1 0]\n",
      " [2 1 0]\n",
      " [2 1 0]]\n"
     ]
    }
   ],
   "source": [
    "m_nr,t_nr = Auth.X.shape\n",
    "probability_of_success_message = .9\n",
    "probability_of_success_tag = 1\n",
    "\n",
    "m = np.array([probability_of_success_message]*m_nr)\n",
    "t = np.array([probability_of_success_tag]*t_nr)\n",
    "\n",
    "A = Auth.validate(Auth.X,m,t)\n",
    "\n",
    "print(\"A = \")\n",
    "print(np.round(A,3).reshape(6,-1))\n",
    "\n",
    "L = Auth.Latency(X=Auth.X,m=np.ones(m_nr),t=np.ones(t_nr))\n",
    "print(\"L = \")\n",
    "print(np.round(L,3).reshape(6,-1))"
   ]
  },
  {
   "cell_type": "code",
   "execution_count": 22,
   "metadata": {},
   "outputs": [
    {
     "data": {
      "image/png": "[encoded data removed]",
      "text/plain": [
       "<Figure size 640x480 with 2 Axes>"
      ]
     },
     "metadata": {},
     "output_type": "display_data"
    }
   ],
   "source": [
    "import matplotlib.pyplot as plt\n",
    "\n",
    "probability_of_success_message = .5\n",
    "probability_of_success_tag = 1\n",
    "\n",
    "for i in range(1):\n",
    "\n",
    "    m_nr,t_nr = 40,20\n",
    "    p_fill_Xs = np.linspace(0.1,0.99,13000)\n",
    "    As = []\n",
    "    Xs = []\n",
    "    for p_fill_X in p_fill_Xs:\n",
    "        X = Auth.random_binary_array(shape = (m_nr,t_nr), probability_of_one = p_fill_X)\n",
    "        m = np.array([probability_of_success_message]*m_nr)\n",
    "        t = np.array([probability_of_success_tag]*t_nr)\n",
    "        A = Auth.validate(X,m,t)\n",
    "        L = Auth.Latency(X,np.ones(m_nr),np.ones(t_nr))\n",
    "\n",
    "        As.append(np.sum(A))#- sum(L))\n",
    "    \n",
    "        Xs.append(X)\n",
    "\n",
    "    # plt.plot(p_fill_Xs,As)\n",
    "    # plt.show()\n",
    "\n",
    "    plt.imshow(Xs[np.argmax(As)], cmap= 'hot', interpolation='nearest')\n",
    "    plt.colorbar()\n",
    "    plt.title('{}'.format(As[np.argmax(As)]))\n",
    "    plt.show()\n",
    "\n"
   ]
  }
 ],
 "metadata": {
  "kernelspec": {
   "display_name": "Python 3",
   "language": "python",
   "name": "python3"
  },
  "language_info": {
   "codemirror_mode": {
    "name": "ipython",
    "version": 3
   },
   "file_extension": ".py",
   "mimetype": "text/x-python",
   "name": "python",
   "nbconvert_exporter": "python",
   "pygments_lexer": "ipython3",
   "version": "3.9.6"
  }
 },
 "nbformat": 4,
 "nbformat_minor": 2
}
