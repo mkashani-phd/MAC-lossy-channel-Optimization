{
 "cells": [
  {
   "cell_type": "markdown",
   "metadata": {},
   "source": [
    "## Import the Model"
   ]
  },
  {
   "cell_type": "code",
   "execution_count": 1,
   "metadata": {},
   "outputs": [],
   "source": [
    "import sys\n",
    "sys.path.append('../')\n",
    "\n",
    "import src.TagModel as model\n",
    "import src.TagModel_lat as model_latency\n",
    "import src.Auth as Auth\n",
    "import utils.utils as utils\n",
    "import numpy as np\n",
    "import matplotlib.pyplot as plt "
   ]
  },
  {
   "cell_type": "markdown",
   "metadata": {},
   "source": [
    "### Run the Model\n",
    "\n",
    "Just considering the E[A]"
   ]
  },
  {
   "cell_type": "code",
   "execution_count": 2,
   "metadata": {},
   "outputs": [
    {
     "name": "stdout",
     "output_type": "stream",
     "text": [
      "Set parameter Username\n",
      "Academic license - for non-commercial use only - expires 2025-06-06\n",
      "Status: 1\n",
      "Objective value: 5.0\n",
      "Experiment saved as experiment number 0\n"
     ]
    },
    {
     "data": {
      "text/plain": [
       "{'A': array([1.6384, 1.6384, 1.6384, 1.6384, 1.6384, 1.6384, 1.6384, 1.6384,\n",
       "        1.6384, 1.6384, 1.6384, 1.6384, 1.6384, 1.6384, 1.6384, 1.6384,\n",
       "        1.6384, 1.6384, 1.6384, 1.6384]),\n",
       " 'L': array([10, 15, 11, 11,  6,  8,  4,  3,  8,  4,  0,  4,  1,  0,  0,  0,  0,\n",
       "         0,  0,  0]),\n",
       " 'average_A': 1.6384000000000007,\n",
       " 'average_L': 4.25,\n",
       " 'computation_(tag to message ratio)': 1.0,\n",
       " 'goodput_without_tag_adjustment': 0.8,\n",
       " 'goodput_with_tag_adjustment': 0.8677966101694915,\n",
       " 'security_goodput': 0.32768000000000014,\n",
       " 'rows_that_breaks_the_verification': [2, 4, 5, 6, 9]}"
      ]
     },
     "execution_count": 2,
     "metadata": {},
     "output_type": "execute_result"
    }
   ],
   "source": [
    "\n",
    "parameters = {'m_size':1024, 't_size':256,\n",
    "              'm_nr': 20, 't_nr': 20, \n",
    "              'p': 0.8, 'q': 1, \n",
    "              'TagEveryMessage': True, \n",
    "              'AtLeastOnce': False, \n",
    "              'EquivalentA': True}\n",
    "\n",
    "exp = utils.Run_Experiment(model = model.math_model,\n",
    "                           parameters = parameters,\n",
    "                           eval=Auth.evaluate,\n",
    "                           save=True)\n",
    "exp['eval']"
   ]
  },
  {
   "cell_type": "code",
   "execution_count": 13,
   "metadata": {},
   "outputs": [
    {
     "name": "stdout",
     "output_type": "stream",
     "text": [
      "Status: 1\n",
      "Objective value: 5.0\n"
     ]
    },
    {
     "data": {
      "text/plain": [
       "{'A': array([2.3616, 1.9712, 1.7408, 1.6384, 1.6384, 1.6384, 1.6384, 1.6384,\n",
       "        1.6384, 1.6384, 1.6384, 1.6384, 1.6384, 1.6384, 1.6384, 1.6384,\n",
       "        1.6384, 1.2288, 0.8192, 0.4096]),\n",
       " 'L': array([0, 0, 0, 0, 0, 0, 0, 0, 0, 0, 0, 0, 0, 0, 0, 0, 0, 0, 0, 0]),\n",
       " 'average_A': 1.5734400000000004,\n",
       " 'average_L': 0.0,\n",
       " 'computation_(tag to message ratio)': 1.0,\n",
       " 'goodput_without_tag_adjustment': 0.8,\n",
       " 'goodput_with_tag_adjustment': 0.863406408094435,\n",
       " 'security_goodput': 0.4252540540540542,\n",
       " 'rows_that_breaks_the_verification': [1, 5, 9, 13, 17]}"
      ]
     },
     "execution_count": 13,
     "metadata": {},
     "output_type": "execute_result"
    }
   ],
   "source": [
    "parameters = {'m_nr': 20, 't_nr': 20,\n",
    "                'p': 0.8, 'q': 1}\n",
    "exp = Auth.ProMAC_experiment(parameters=parameters, x = 4)\n",
    "Auth.evaluate(exp)"
   ]
  },
  {
   "cell_type": "markdown",
   "metadata": {},
   "source": [
    "### Run the optimizer With Latency"
   ]
  },
  {
   "cell_type": "code",
   "execution_count": 5,
   "metadata": {},
   "outputs": [
    {
     "name": "stdout",
     "output_type": "stream",
     "text": [
      "Set parameter Username\n"
     ]
    },
    {
     "name": "stdout",
     "output_type": "stream",
     "text": [
      "Academic license - for non-commercial use only - expires 2025-06-06\n",
      "\n",
      "Interrupt request received\n",
      "Status: -1\n",
      "Objective value: 6.0\n",
      "Experiment saved as experiment number 2\n"
     ]
    },
    {
     "data": {
      "text/plain": [
       "{'A': array([1.44, 1.44, 1.92, 5.12, 0.64, 0.64, 0.64, 0.64, 0.64, 0.64, 0.64,\n",
       "        1.44, 0.64, 0.64, 0.64, 0.64, 1.28, 0.64, 1.44, 0.64]),\n",
       " 'L': array([0, 0, 7, 1, 0, 0, 0, 0, 0, 0, 0, 0, 0, 0, 0, 1, 0, 0, 0, 0]),\n",
       " 'average_A': 1.1200000000000003,\n",
       " 'average_L': 0.45,\n",
       " 'computation_(tag to message ratio)': 1.0,\n",
       " 'goodput_without_tag_adjustment': 0.8,\n",
       " 'goodput_with_tag_adjustment': 0.8178913738019169,\n",
       " 'security_goodput': 0.6588235294117649,\n",
       " 'rows_that_breaks_the_verification': [1, 2, 3, 4, 17, 19]}"
      ]
     },
     "execution_count": 5,
     "metadata": {},
     "output_type": "execute_result"
    }
   ],
   "source": [
    "parameters = {'m_nr': 20, 't_nr': 20,\n",
    "                'p': 0.8, 'q': 1,\n",
    "                'TagEveryMessage': True,\n",
    "                'AtLeastOnce': False,\n",
    "                'EquivalentA': True,\n",
    "                'weight_A': 5,\n",
    "                'weight_L': .1}\n",
    "\n",
    "exp = utils.Run_Experiment(model = model_latency.math_model,\n",
    "                            parameters = parameters,\n",
    "                            eval=Auth.evaluate,\n",
    "                            save=True)\n",
    "exp['eval']"
   ]
  },
  {
   "cell_type": "markdown",
   "metadata": {},
   "source": []
  }
 ],
 "metadata": {
  "kernelspec": {
   "display_name": "Python 3",
   "language": "python",
   "name": "python3"
  },
  "language_info": {
   "codemirror_mode": {
    "name": "ipython",
    "version": 3
   },
   "file_extension": ".py",
   "mimetype": "text/x-python",
   "name": "python",
   "nbconvert_exporter": "python",
   "pygments_lexer": "ipython3",
   "version": "3.9.6"
  }
 },
 "nbformat": 4,
 "nbformat_minor": 4
}
