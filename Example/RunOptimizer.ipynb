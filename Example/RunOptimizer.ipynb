{
 "cells": [
  {
   "cell_type": "markdown",
   "metadata": {},
   "source": [
    "## Import the Model"
   ]
  },
  {
   "cell_type": "code",
   "execution_count": 23,
   "metadata": {},
   "outputs": [],
   "source": [
    "import sys\n",
    "sys.path.append('../')\n",
    "\n",
    "import src.TagModel\n",
    "import src.Auth\n",
    "import numpy as np\n",
    "import matplotlib.pyplot as plt "
   ]
  },
  {
   "cell_type": "markdown",
   "metadata": {},
   "source": [
    "### Run the Model"
   ]
  },
  {
   "cell_type": "code",
   "execution_count": 37,
   "metadata": {},
   "outputs": [
    {
     "name": "stdout",
     "output_type": "stream",
     "text": [
      "Set parameter TimeLimit to value 21600\n",
      "Gurobi Optimizer version 11.0.2 build v11.0.2rc0 (mac64[arm] - Darwin 23.4.0 23E224)\n",
      "\n",
      "CPU model: Apple M3\n",
      "Thread count: 8 physical cores, 8 logical processors, using up to 8 threads\n",
      "\n",
      "Optimize a model with 6192 rows, 6490 columns and 18819 nonzeros\n",
      "Model fingerprint: 0xcf61e1bc\n",
      "Variable types: 3079 continuous, 3411 integer (3411 binary)\n",
      "Coefficient statistics:\n",
      "  Matrix range     [2e-02, 2e+01]\n",
      "  Objective range  [2e-02, 8e-01]\n",
      "  Bounds range     [1e+00, 1e+00]\n",
      "  RHS range        [1e+00, 1e+00]\n",
      "Found heuristic solution: objective -0.0000000\n",
      "Presolve removed 3240 rows and 3249 columns\n",
      "Presolve time: 0.02s\n",
      "Presolved: 2952 rows, 3241 columns, 12168 nonzeros\n",
      "Variable types: 1 continuous, 3240 integer (3240 binary)\n",
      "\n",
      "Root relaxation: objective 3.196225e+02, 3317 iterations, 0.02 seconds (0.04 work units)\n",
      "\n",
      "    Nodes    |    Current Node    |     Objective Bounds      |     Work\n",
      " Expl Unexpl |  Obj  Depth IntInf | Incumbent    BestBd   Gap | It/Node Time\n",
      "\n",
      "     0     0  319.62250    0 2754   -0.00000  319.62250      -     -    0s\n",
      "H    0     0                       7.3728000  319.62250  4235%     -    0s\n",
      "     0     0  106.52462    0  906    7.37280  106.52462  1345%     -    0s\n",
      "     0     0   95.77230    0  974    7.37280   95.77230  1199%     -    0s\n",
      "     0     0   94.54446    0  970    7.37280   94.54446  1182%     -    0s\n",
      "     0     0   94.07826    0  965    7.37280   94.07826  1176%     -    0s\n",
      "     0     0   89.69082    0 1022    7.37280   89.69082  1117%     -    0s\n",
      "     0     0   86.42635    0  932    7.37280   86.42635  1072%     -    0s\n",
      "     0     0   86.41988    0  958    7.37280   86.41988  1072%     -    0s\n",
      "     0     0   82.82586    0  935    7.37280   82.82586  1023%     -    1s\n",
      "     0     0   82.17239    0  972    7.37280   82.17239  1015%     -    1s\n",
      "     0     0   81.73905    0  994    7.37280   81.73905  1009%     -    1s\n",
      "     0     0   80.96699    0  990    7.37280   80.96699   998%     -    1s\n",
      "     0     0   79.97171    0 1002    7.37280   79.97171   985%     -    1s\n",
      "     0     0   79.73449    0 1045    7.37280   79.73449   981%     -    1s\n",
      "     0     0   68.46523    0 1039    7.37280   68.46523   829%     -    1s\n",
      "     0     0   67.66582    0 1094    7.37280   67.66582   818%     -    1s\n",
      "     0     0   67.49191    0 1043    7.37280   67.49191   815%     -    1s\n",
      "     0     0   64.42648    0  963    7.37280   64.42648   774%     -    2s\n",
      "     0     0   64.40089    0  963    7.37280   64.40089   773%     -    2s\n",
      "H    0     0                      11.7964800   64.40089   446%     -    2s\n",
      "     0     2   64.39337    0  963   11.79648   64.39337   446%     -    2s\n",
      "H   31    40                      11.7964825   55.35573   369%   770    3s\n",
      "H   36    40                      11.7964828   55.35573   369%   746    3s\n",
      "  1108  1085   28.85422   13  233   11.79648   55.34150   369%  84.5    5s\n",
      "H 1640  1372                      13.2710400   14.90417  12.3%  66.9    9s\n",
      "H 1642  1304                      14.7456000   14.74560  0.00%  66.9    9s\n",
      "\n",
      "Cutting planes:\n",
      "  Gomory: 183\n",
      "  Lift-and-project: 1\n",
      "  Cover: 14\n",
      "  Clique: 623\n",
      "  Zero half: 6\n",
      "  RLT: 221\n",
      "\n",
      "Explored 1642 nodes (140145 simplex iterations) in 9.43 seconds (25.20 work units)\n",
      "Thread count was 8 (of 8 available processors)\n",
      "\n",
      "Solution count 7: 14.7456 13.271 11.7965 ... -0\n",
      "\n",
      "Optimal solution found (tolerance 1.00e-04)\n",
      "Best objective 1.474560000000e+01, best bound 1.474560000000e+01, gap 0.0000%\n"
     ]
    }
   ],
   "source": [
    "m, n = 18, 9  # number of messages and tags\n",
    "p, q = 0.8, 1 # probability of a message and probability of a tag being correct\n",
    "varInfo = src.TagModel.math_model(M_size=m, \n",
    "                                  T_size=n, \n",
    "                                  p=p, q=q, \n",
    "                                  TagEveryMessage=False, \n",
    "                                  AtLeastOnce=False, \n",
    "                                  EquivalentA=True)"
   ]
  },
  {
   "cell_type": "code",
   "execution_count": 38,
   "metadata": {},
   "outputs": [
    {
     "data": {
      "image/png": "[encoded data removed]",
      "text/plain": [
       "<Figure size 640x480 with 1 Axes>"
      ]
     },
     "metadata": {},
     "output_type": "display_data"
    }
   ],
   "source": [
    "K = src.TagModel.get_K(varInfo, m, n)\n",
    "#heatmap\n",
    "plt.imshow(K, cmap= 'hot')\n",
    "# plt.colorbar()\n",
    "plt.show()"
   ]
  },
  {
   "cell_type": "code",
   "execution_count": 39,
   "metadata": {},
   "outputs": [
    {
     "name": "stdout",
     "output_type": "stream",
     "text": [
      "[0.774144 0.774144 0.774144 0.774144 0.774144 0.774144 0.774144 0.774144\n",
      " 0.774144 0.774144 0.774144 0.774144 0.774144 0.774144 0.774144 0.774144\n",
      " 0.774144 0.774144]\n",
      "[ 0  3  6  9 13 17]\n",
      "1.0\n",
      "[2 1 0 2 1 0 2 1 0 2 1 0 2 1 0 2 1 0]\n"
     ]
    }
   ],
   "source": [
    "print(src.Auth.validate(src.Auth.k, np.array([p]*18), np.array([q]*9)))\n",
    "print(src.Auth.Strength_Number(np.array(src.Auth.k,dtype=int)))\n",
    "\n",
    "L = src.Auth.Latency(np.array(src.Auth.k,dtype=int), np.ones(m), np.ones(n))\n",
    "print(np.average(L))\n",
    "print(L)\n",
    "\n"
   ]
  },
  {
   "cell_type": "code",
   "execution_count": 33,
   "metadata": {},
   "outputs": [
    {
     "name": "stdout",
     "output_type": "stream",
     "text": [
      "average A: 0.8192000000000003\n",
      "A =  [0.8192 0.8192 0.8192 0.8192 0.8192 0.8192 0.8192 0.8192 0.8192 0.8192\n",
      " 0.8192 0.8192 0.8192 0.8192 0.8192 0.8192 0.8192 0.8192]\n",
      "average L: 6.777777777777778\n",
      "L = [17 16 13 14 11 10  9  7  4  3  4  5  5  2  2  0  0  0]\n",
      "Rows that breaks the verification [ 0  1  2  3 14]\n"
     ]
    }
   ],
   "source": [
    "A = src.Auth.validate(K, np.array([p]*m), np.array([q]*n))\n",
    "print('average A:',np.average(A))\n",
    "print (\"A = \", A)\n",
    "\n",
    "L = src.Auth.Latency(K, np.ones(m), np.ones(n))\n",
    "print('average L:', np.average(L))\n",
    "print(\"L =\", L)\n",
    "\n",
    "print(\"Rows that breaks the verification\",src.Auth.Strength_Number(np.array(K,dtype=int)))"
   ]
  },
  {
   "cell_type": "markdown",
   "metadata": {},
   "source": [
    "Case 1: Make the result all equal to each other.\n",
    "\n",
    "Case 1.5: Priorotize the messages for the differet application like emergency \n",
    "\n",
    "Case 2: Add a new constraint that include a value for the E(A). \n",
    "\n",
    "describe the trends of the results."
   ]
  },
  {
   "cell_type": "markdown",
   "metadata": {},
   "source": []
  }
 ],
 "metadata": {
  "kernelspec": {
   "display_name": "Python 3",
   "language": "python",
   "name": "python3"
  },
  "language_info": {
   "codemirror_mode": {
    "name": "ipython",
    "version": 3
   },
   "file_extension": ".py",
   "mimetype": "text/x-python",
   "name": "python",
   "nbconvert_exporter": "python",
   "pygments_lexer": "ipython3",
   "version": "3.9.6"
  }
 },
 "nbformat": 4,
 "nbformat_minor": 4
}
