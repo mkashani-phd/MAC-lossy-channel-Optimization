{
 "cells": [
  {
   "cell_type": "markdown",
   "metadata": {},
   "source": [
    "## Import the Model"
   ]
  },
  {
   "cell_type": "code",
   "execution_count": 1,
   "metadata": {},
   "outputs": [],
   "source": [
    "import sys\n",
    "sys.path.append('../')\n",
    "\n",
    "import src.TagModel as model\n",
    "import src.TagModel_lat as model_latency\n",
    "import src.Auth as Auth\n",
    "import utils.utils as utils\n",
    "import numpy as np\n",
    "import matplotlib.pyplot as plt "
   ]
  },
  {
   "cell_type": "markdown",
   "metadata": {},
   "source": [
    "### Run the Model\n",
    "\n",
    "Just considering the E[A]"
   ]
  },
  {
   "cell_type": "code",
   "execution_count": 3,
   "metadata": {},
   "outputs": [
    {
     "name": "stdout",
     "output_type": "stream",
     "text": [
      "Set parameter TimeLimit to value 21600\n",
      "Gurobi Optimizer version 11.0.2 build v11.0.2rc0 (mac64[arm] - Darwin 23.4.0 23E224)\n",
      "\n",
      "CPU model: Apple M3\n",
      "Thread count: 8 physical cores, 8 logical processors, using up to 8 threads\n",
      "\n",
      "Optimize a model with 55920 rows, 57631 columns and 170160 nonzeros\n",
      "Model fingerprint: 0x80343c33\n",
      "Variable types: 27901 continuous, 29730 integer (29730 binary)\n",
      "Coefficient statistics:\n",
      "  Matrix range     [2e-01, 3e+01]\n",
      "  Objective range  [2e-01, 9e-01]\n",
      "  Bounds range     [1e+00, 1e+00]\n",
      "  RHS range        [1e+00, 1e+00]\n",
      "Found heuristic solution: objective -0.0000000\n",
      "Presolve removed 28800 rows and 28830 columns\n",
      "Presolve time: 0.08s\n",
      "Presolved: 27120 rows, 28801 columns, 111630 nonzeros\n",
      "Variable types: 1 continuous, 28800 integer (28800 binary)\n",
      "\n",
      "Use crossover to convert LP symmetric solution to basic solution...\n",
      "\n",
      "Root relaxation: objective 6.811426e+03, 921 iterations, 0.04 seconds (0.07 work units)\n",
      "\n",
      "    Nodes    |    Current Node    |     Objective Bounds      |     Work\n",
      " Expl Unexpl |  Obj  Depth IntInf | Incumbent    BestBd   Gap | It/Node Time\n",
      "\n",
      "     0     0 6811.42601    0 26100   -0.00000 6811.42601      -     -    0s\n",
      "H    0     0                     167.4182359 6811.42601  3969%     -    0s\n",
      "     0     0  931.65499    0 4308  167.41824  931.65499   456%     -    2s\n",
      "H    0     0                     193.1748875  919.25440   376%     -    3s\n",
      "     0     0  919.25440    0 4070  193.17489  919.25440   376%     -    3s\n",
      "     0     0  867.75669    0 4215  193.17489  867.75669   349%     -    3s\n",
      "     0     0  859.58018    0 4210  193.17489  859.58018   345%     -    4s\n",
      "     0     0  856.62373    0 4232  193.17489  856.62373   343%     -    4s\n",
      "     0     0  849.80724    0 4263  193.17489  849.80724   340%     -    4s\n",
      "     0     0  849.80033    0 4298  193.17489  849.80033   340%     -    4s\n",
      "     0     0  797.15504    0 6470  193.17489  797.15504   313%     -    6s\n",
      "     0     0  780.94751    0 4973  193.17489  780.94751   304%     -    8s\n",
      "     0     0  778.27803    0 4275  193.17489  778.27803   303%     -   11s\n",
      "     0     0  754.43488    0 5006  193.17489  754.43488   291%     -   22s\n",
      "     0     0  722.61578    0 7436  193.17489  722.61578   274%     -   38s\n",
      "     0     0  712.43571    0 8097  193.17489  712.43571   269%     -   42s\n",
      "     0     0  712.32127    0 8112  193.17489  712.32127   269%     -   43s\n",
      "     0     0  711.35272    0 8030  193.17489  711.35272   268%     -   44s\n",
      "     0     0  699.49458    0 7511  193.17489  699.49458   262%     -   49s\n",
      "     0     0  699.49075    0 7511  193.17489  699.49075   262%     -   49s\n",
      "     0     2  699.49075    0 7511  193.17489  699.49075   262%     -  115s\n",
      "     1     4  687.14187    1 7211  193.17489  699.47577   262% 22512  127s\n",
      "     3     8  675.69178    2 6509  193.17489  698.25309   261%  9913  133s\n",
      "     7    16  656.83522    3 5636  193.17489  691.99918   258%  7838  147s\n",
      "    15    24  616.27194    4 4778  193.17489  685.41104   255%  7705  158s\n",
      "    23    32  648.17349    4 5849  193.17489  685.37911   255%  7959  175s\n",
      "    31    40  644.59051    5 6002  193.17489  676.64668   250%  8865  182s\n",
      "    39    48  641.33742    6 5976  193.17489  676.64142   250%  7675  186s\n",
      "    47    60  635.03443    7 5930  193.17489  674.18298   249%  6902  192s\n",
      "    59    68  629.39030    8 5703  193.17489  674.18298   249%  5956  208s\n",
      "    67    78  622.34686    8 5473  193.17489  674.18298   249%  6053  213s\n",
      "    77    90  623.62931    9 5576  193.17489  674.18298   249%  5557  218s\n",
      "    89   108  618.50150   10 5476  193.17489  674.18298   249%  5131  225s\n",
      "   107   124  612.45627   11 5509  193.17489  674.18298   249%  4588  230s\n",
      "   123   144  606.21732   12 5482  193.17489  674.18298   249%  4209  237s\n",
      "   143   157  594.48734   14 5563  193.17489  674.18298   249%  3885  242s\n",
      "   156   171  589.48671   14 5070  193.17489  674.18298   249%  3738  247s\n",
      "   170   189  581.30021   16 5336  193.17489  674.18298   249%  3579  254s\n",
      "   188   211  545.63280   18 5220  193.17489  674.18298   249%  3426  261s\n",
      "   210   224  529.57018   19 4976  193.17489  674.18298   249%  3249  270s\n",
      "   223   238  490.76490   20 3497  193.17489  674.18298   249%  3225  276s\n",
      "   237   261  497.35685   21 4491  193.17489  674.18298   249%  3204  284s\n",
      "   260   288  447.63475   23 3043  193.17489  674.18298   249%  3087  295s\n",
      "   287   305  420.82267   25 2787  193.17489  674.18298   249%  2952  305s\n",
      "   304   325  405.09484   26 2639  193.17489  674.18298   249%  2864  311s\n",
      "   324   340  385.96811   29 2519  193.17489  674.18298   249%  2800  319s\n",
      "H  338   340                     194.1952986  674.18298   247%  2754  319s\n",
      "   339   373  394.95598   30 3182  194.19530  674.18298   247%  2747  327s\n",
      "   372   410  354.71321   33 2222  194.19530  674.18298   247%  2647  332s\n",
      "   409   463  333.96884   40 1894  194.19530  674.18298   247%  2505  339s\n",
      "   462   517  323.33602   47 1799  194.19530  674.18298   247%  2313  345s\n",
      "   516   589  319.09562   50 1839  194.19530  674.18298   247%  2151  352s\n",
      "   588   654  306.70684   58 1520  194.19530  674.18298   247%  1958  357s\n",
      "   653   750  277.41734   67  972  194.19530  674.18298   247%  1826  364s\n",
      "   749   870  268.75764   72  887  194.19530  674.18298   247%  1645  371s\n",
      "   883  1018  251.46511   81  816  194.19530  674.18298   247%  1432  382s\n",
      "  1041  1177  242.87984   95  779  194.19530  674.18298   247%  1245  391s\n",
      "  1206  1292  223.91789  113  741  194.19530  674.18298   247%  1100  404s\n",
      "  1355  1336  210.53888  129  686  194.19530  674.18298   247%  1009  418s\n",
      "H 1383  1331                     195.2157097  674.18298   245%   989  418s\n",
      "  1411  1386  200.57380  148  696  195.21571  671.33981   244%   992  433s\n",
      "  1496  1426  633.13270    6 7028  195.21571  671.33981   244%   977  443s\n",
      "  1536  1476  583.36759    9 6398  195.21571  671.33981   244%   990  454s\n",
      "\n",
      "Interrupt request received\n",
      "\n",
      "Cutting planes:\n",
      "  Gomory: 4\n",
      "  Cover: 28184\n",
      "  Clique: 484\n",
      "  MIR: 3\n",
      "  Zero half: 1154\n",
      "\n",
      "Explored 1588 nodes (1658071 simplex iterations) in 457.50 seconds (1462.55 work units)\n",
      "Thread count was 8 (of 8 available processors)\n",
      "\n",
      "Solution count 5: 195.216 194.195 193.175 ... -0\n",
      "\n",
      "Solve interrupted\n",
      "Best objective 1.952157096851e+02, best bound 6.713398065369e+02, gap 243.8964%\n",
      "Status: 1\n",
      "Objective value: 2.0\n",
      "Experiment saved as experiment number 11\n"
     ]
    },
    {
     "data": {
      "text/plain": [
       "{'A': array([6.50719032, 6.50719032, 6.50719032, 6.50719032, 6.50719032,\n",
       "        6.50719032, 6.50719032, 6.50719032, 6.50719032, 6.50719032,\n",
       "        6.50719032, 6.50719032, 6.50719032, 6.50719032, 6.50719032,\n",
       "        6.50719032, 6.50719032, 6.50719032, 6.50719032, 6.50719032,\n",
       "        6.50719032, 6.50719032, 6.50719032, 6.50719032, 6.50719032,\n",
       "        6.50719032, 6.50719032, 6.50719032, 6.50719032, 6.50719032]),\n",
       " 'L': array([28, 27, 22, 25, 20, 19, 18, 21, 16, 15, 14, 18, 16, 16, 15,  9, 12,\n",
       "        12,  6,  5,  4,  3,  2,  1,  0,  4,  2,  2,  0,  0]),\n",
       " 'average_A': 6.507190322835872,\n",
       " 'average_L': 11.733333333333333,\n",
       " 'computation_(tag to message ratio)': 1.0,\n",
       " 'goodput_without_tag_adjustment': 0.8,\n",
       " 'goodput_with_tag_adjustment': 0.9633113828786454,\n",
       " 'security_goodput': 1.0,\n",
       " 'rows_that_breaks_the_verification': [5, 8]}"
      ]
     },
     "execution_count": 3,
     "metadata": {},
     "output_type": "execute_result"
    }
   ],
   "source": [
    "\n",
    "parameters = {'m_nr': 30, 't_nr': 30, \n",
    "              'p': 0.95, 'q': 1, \n",
    "              'TagEveryMessage': True, \n",
    "              'AtLeastOnce': False, \n",
    "              'EquivalentA': True}\n",
    "\n",
    "exp = utils.Run_Experiment(model        = model.math_model,\n",
    "                           parameters   = parameters,\n",
    "                           eval         = Auth.evaluate,\n",
    "                           m_size       = 1024,\n",
    "                           t_size       = 256,\n",
    "                           save         = True)\n",
    "exp['eval']\n",
    "\n",
    "\n"
   ]
  },
  {
   "cell_type": "code",
   "execution_count": 5,
   "metadata": {},
   "outputs": [],
   "source": [
    "exp = utils.Load_Experiments()\n",
    "exp[8]\n",
    "#delet exp[8]\n",
    "del exp[8]\n",
    "import pickle\n",
    "with open('Xs.pkl', 'wb') as f:\n",
    "    pickle.dump(exp, f)"
   ]
  },
  {
   "cell_type": "code",
   "execution_count": 5,
   "metadata": {},
   "outputs": [
    {
     "name": "stdout",
     "output_type": "stream",
     "text": [
      "Status: 1\n",
      "Objective value: 12.0\n"
     ]
    },
    {
     "data": {
      "text/plain": [
       "{'A': array([5.5132156 , 5.00063609, 4.57805658, 4.23647707, 3.96779756,\n",
       "        3.76472804, 3.62070753, 3.52983112, 3.4867844 , 3.4867844 ,\n",
       "        3.4867844 , 3.4867844 , 3.4867844 , 3.4867844 , 3.4867844 ,\n",
       "        3.4867844 , 3.4867844 , 3.4867844 , 3.4867844 , 3.4867844 ,\n",
       "        3.4867844 , 3.4867844 , 3.4867844 , 3.4867844 , 3.4867844 ,\n",
       "        3.4867844 , 3.4867844 , 3.4867844 , 3.4867844 , 3.4867844 ,\n",
       "        3.4867844 , 3.4867844 , 3.4867844 , 3.4867844 , 3.4867844 ,\n",
       "        3.4867844 , 3.4867844 , 3.4867844 , 3.4867844 , 3.4867844 ,\n",
       "        3.4867844 , 3.4867844 , 3.4867844 , 3.4867844 , 3.4867844 ,\n",
       "        3.4867844 , 3.4867844 , 3.4867844 , 3.4867844 , 3.4867844 ,\n",
       "        3.4867844 , 3.4867844 , 3.4867844 , 3.4867844 , 3.4867844 ,\n",
       "        3.4867844 , 3.4867844 , 3.4867844 , 3.4867844 , 3.4867844 ,\n",
       "        3.4867844 , 3.4867844 , 3.4867844 , 3.4867844 , 3.4867844 ,\n",
       "        3.4867844 , 3.4867844 , 3.4867844 , 3.4867844 , 3.4867844 ,\n",
       "        3.4867844 , 3.4867844 , 3.4867844 , 3.4867844 , 3.4867844 ,\n",
       "        3.4867844 , 3.4867844 , 3.4867844 , 3.4867844 , 3.4867844 ,\n",
       "        3.4867844 , 3.4867844 , 3.4867844 , 3.4867844 , 3.4867844 ,\n",
       "        3.4867844 , 3.4867844 , 3.4867844 , 3.4867844 , 3.4867844 ,\n",
       "        3.4867844 , 3.4867844 , 3.09936391, 2.71194342, 2.32452293,\n",
       "        1.93710245, 1.54968196, 1.16226147, 0.77484098, 0.38742049]),\n",
       " 'L': array([0, 0, 0, 0, 0, 0, 0, 0, 0, 0, 0, 0, 0, 0, 0, 0, 0, 0, 0, 0, 0, 0,\n",
       "        0, 0, 0, 0, 0, 0, 0, 0, 0, 0, 0, 0, 0, 0, 0, 0, 0, 0, 0, 0, 0, 0,\n",
       "        0, 0, 0, 0, 0, 0, 0, 0, 0, 0, 0, 0, 0, 0, 0, 0, 0, 0, 0, 0, 0, 0,\n",
       "        0, 0, 0, 0, 0, 0, 0, 0, 0, 0, 0, 0, 0, 0, 0, 0, 0, 0, 0, 0, 0, 0,\n",
       "        0, 0, 0, 0, 0, 0, 0, 0, 0, 0, 0, 0]),\n",
       " 'average_A': 3.4104847687200017,\n",
       " 'average_L': 0.0,\n",
       " 'computation_(tag to message ratio)': 1.0,\n",
       " 'goodput_without_tag_adjustment': 0.9411764705882353,\n",
       " 'goodput_with_tag_adjustment': 0.9317561419472248,\n",
       " 'security_goodput': 0.8526211921800004,\n",
       " 'rows_that_breaks_the_verification': [1,\n",
       "  8,\n",
       "  16,\n",
       "  25,\n",
       "  34,\n",
       "  43,\n",
       "  52,\n",
       "  61,\n",
       "  70,\n",
       "  79,\n",
       "  87,\n",
       "  94]}"
      ]
     },
     "execution_count": 5,
     "metadata": {},
     "output_type": "execute_result"
    }
   ],
   "source": [
    "parameters = {'m_nr': 100, 't_nr': 100,\n",
    "                'p': 0.9, 'q': 1,\n",
    "                'x': 4}\n",
    "exp = Auth.ProMAC_experiment(parameters=parameters, x = 9)\n",
    "Auth.evaluate(exp,m_size=1024,t_size=int(256/4), b = 256 )"
   ]
  },
  {
   "cell_type": "markdown",
   "metadata": {},
   "source": [
    "### Run the optimizer With Latency"
   ]
  },
  {
   "cell_type": "code",
   "execution_count": null,
   "metadata": {},
   "outputs": [
    {
     "name": "stdout",
     "output_type": "stream",
     "text": [
      "Set parameter Username\n"
     ]
    },
    {
     "name": "stdout",
     "output_type": "stream",
     "text": [
      "Academic license - for non-commercial use only - expires 2025-06-06\n",
      "\n",
      "Interrupt request received\n",
      "Status: -1\n",
      "Objective value: 6.0\n",
      "Experiment saved as experiment number 2\n"
     ]
    },
    {
     "data": {
      "text/plain": [
       "{'A': array([1.44, 1.44, 1.92, 5.12, 0.64, 0.64, 0.64, 0.64, 0.64, 0.64, 0.64,\n",
       "        1.44, 0.64, 0.64, 0.64, 0.64, 1.28, 0.64, 1.44, 0.64]),\n",
       " 'L': array([0, 0, 7, 1, 0, 0, 0, 0, 0, 0, 0, 0, 0, 0, 0, 1, 0, 0, 0, 0]),\n",
       " 'average_A': 1.1200000000000003,\n",
       " 'average_L': 0.45,\n",
       " 'computation_(tag to message ratio)': 1.0,\n",
       " 'goodput_without_tag_adjustment': 0.8,\n",
       " 'goodput_with_tag_adjustment': 0.8178913738019169,\n",
       " 'security_goodput': 0.6588235294117649,\n",
       " 'rows_that_breaks_the_verification': [1, 2, 3, 4, 17, 19]}"
      ]
     },
     "execution_count": 5,
     "metadata": {},
     "output_type": "execute_result"
    }
   ],
   "source": [
    "parameters = {'m_nr': 20, 't_nr': 20,\n",
    "                'p': 0.8, 'q': 1,\n",
    "                'TagEveryMessage': True,\n",
    "                'AtLeastOnce': False,\n",
    "                'EquivalentA': True,\n",
    "                'weight_A': 5,\n",
    "                'weight_L': .1}\n",
    "\n",
    "exp = utils.Run_Experiment(model = model_latency.math_model,\n",
    "                            parameters = parameters,\n",
    "                            eval=Auth.evaluate,\n",
    "                            save=True)\n",
    "exp['eval']"
   ]
  },
  {
   "cell_type": "markdown",
   "metadata": {},
   "source": []
  }
 ],
 "metadata": {
  "kernelspec": {
   "display_name": "Python 3",
   "language": "python",
   "name": "python3"
  },
  "language_info": {
   "codemirror_mode": {
    "name": "ipython",
    "version": 3
   },
   "file_extension": ".py",
   "mimetype": "text/x-python",
   "name": "python",
   "nbconvert_exporter": "python",
   "pygments_lexer": "ipython3",
   "version": "3.9.6"
  }
 },
 "nbformat": 4,
 "nbformat_minor": 4
}
