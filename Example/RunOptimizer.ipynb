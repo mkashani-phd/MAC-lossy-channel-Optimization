{
 "cells": [
  {
   "cell_type": "markdown",
   "metadata": {},
   "source": [
    "## Import the Model"
   ]
  },
  {
   "cell_type": "code",
   "execution_count": 1,
   "metadata": {},
   "outputs": [],
   "source": [
    "import sys\n",
    "sys.path.append('../')\n",
    "\n",
    "import src.TagModel as model\n",
    "import src.TagModel_lat as model_latency\n",
    "import src.Auth as Auth\n",
    "import utils.utils as utils\n",
    "import numpy as np\n",
    "import matplotlib.pyplot as plt "
   ]
  },
  {
   "cell_type": "markdown",
   "metadata": {},
   "source": [
    "### Run the Model\n",
    "\n",
    "Just considering the E[A]"
   ]
  },
  {
   "cell_type": "code",
   "execution_count": 2,
   "metadata": {},
   "outputs": [
    {
     "name": "stdout",
     "output_type": "stream",
     "text": [
      "Set parameter Username\n",
      "Academic license - for non-commercial use only - expires 2025-06-06\n",
      "Set parameter TimeLimit to value 21600\n",
      "Gurobi Optimizer version 11.0.2 build v11.0.2rc0 (mac64[arm] - Darwin 23.4.0 23E224)\n",
      "\n",
      "CPU model: Apple M3\n",
      "Thread count: 8 physical cores, 8 logical processors, using up to 8 threads\n",
      "\n",
      "Optimize a model with 131360 rows, 134441 columns and 398480 nonzeros\n",
      "Model fingerprint: 0xd2e39309\n",
      "Variable types: 65601 continuous, 68840 integer (68840 binary)\n",
      "Coefficient statistics:\n",
      "  Matrix range     [1e-01, 4e+01]\n",
      "  Objective range  [1e-01, 9e-01]\n",
      "  Bounds range     [1e+00, 1e+00]\n",
      "  RHS range        [1e+00, 1e+00]\n",
      "Found heuristic solution: objective -0.0000000\n",
      "Presolve removed 67200 rows and 67240 columns\n",
      "Presolve time: 0.22s\n",
      "Presolved: 64160 rows, 67201 columns, 262440 nonzeros\n",
      "Variable types: 1 continuous, 67200 integer (67200 binary)\n",
      "\n",
      "Use crossover to convert LP symmetric solution to basic solution...\n",
      "\n",
      "Root relaxation: objective 1.334942e+04, 1625 iterations, 0.10 seconds (0.18 work units)\n",
      "\n",
      "    Nodes    |    Current Node    |     Objective Bounds      |     Work\n",
      " Expl Unexpl |  Obj  Depth IntInf | Incumbent    BestBd   Gap | It/Node Time\n",
      "\n",
      "     0     0 13349.4249    0 62400   -0.00000 13349.4249      -     -    0s\n",
      "H    0     0                     205.6194505 13349.4249  6392%     -    3s\n",
      "     0     0 1509.18962    0 7730  205.61945 1509.18962   634%     -    8s\n",
      "     0     0 1499.06528    0 8229  205.61945 1499.06528   629%     -   13s\n",
      "     0     0 1499.02048    0 8243  205.61945 1499.02048   629%     -   13s\n",
      "H    0     0                     207.5133139 1499.02048   622%     -   14s\n",
      "     0     0 1419.41959    0 8635  207.51331 1419.41959   584%     -   16s\n",
      "     0     0 1392.63450    0 8499  207.51331 1392.63450   571%     -   33s\n",
      "     0     0 1380.28043    0 8912  207.51331 1380.28043   565%     -   35s\n",
      "     0     0 1379.19561    0 9540  207.51331 1379.19561   565%     -   36s\n",
      "     0     0 1376.19427    0 8024  207.51331 1376.19427   563%     -   39s\n",
      "     0     0 1375.96992    0 7976  207.51331 1375.96992   563%     -   42s\n",
      "     0     2 1375.24075    0 7976  207.51331 1375.24075   563%     -  100s\n",
      "     1     4 1355.47574    1 8394  207.51331 1375.24075   563%  9512  107s\n",
      "     3     8 1289.59757    2 7250  207.51331 1374.14579   562%  6263  113s\n",
      "     7    16 1237.30043    3 6087  207.51331 1371.99998   561%  6528  141s\n"
     ]
    }
   ],
   "source": [
    "\n",
    "parameters = {'m_nr': 40, 't_nr': 40, \n",
    "              'p': 0.95, 'q': 1, \n",
    "              'TagEveryMessage': True, \n",
    "              'AtLeastOnce': False, \n",
    "              'EquivalentA': True}\n",
    "\n",
    "exp = utils.Run_Experiment(model        = model.math_model,\n",
    "                           parameters   = parameters,\n",
    "                           eval         = Auth.evaluate,\n",
    "                           m_size       = 1024,\n",
    "                           t_size       = 256,\n",
    "                           save         = True)\n",
    "exp['eval']\n"
   ]
  },
  {
   "cell_type": "code",
   "execution_count": 5,
   "metadata": {},
   "outputs": [
    {
     "name": "stdout",
     "output_type": "stream",
     "text": [
      "Status: 1\n",
      "Objective value: 12.0\n"
     ]
    },
    {
     "data": {
      "text/plain": [
       "{'A': array([5.5132156 , 5.00063609, 4.57805658, 4.23647707, 3.96779756,\n",
       "        3.76472804, 3.62070753, 3.52983112, 3.4867844 , 3.4867844 ,\n",
       "        3.4867844 , 3.4867844 , 3.4867844 , 3.4867844 , 3.4867844 ,\n",
       "        3.4867844 , 3.4867844 , 3.4867844 , 3.4867844 , 3.4867844 ,\n",
       "        3.4867844 , 3.4867844 , 3.4867844 , 3.4867844 , 3.4867844 ,\n",
       "        3.4867844 , 3.4867844 , 3.4867844 , 3.4867844 , 3.4867844 ,\n",
       "        3.4867844 , 3.4867844 , 3.4867844 , 3.4867844 , 3.4867844 ,\n",
       "        3.4867844 , 3.4867844 , 3.4867844 , 3.4867844 , 3.4867844 ,\n",
       "        3.4867844 , 3.4867844 , 3.4867844 , 3.4867844 , 3.4867844 ,\n",
       "        3.4867844 , 3.4867844 , 3.4867844 , 3.4867844 , 3.4867844 ,\n",
       "        3.4867844 , 3.4867844 , 3.4867844 , 3.4867844 , 3.4867844 ,\n",
       "        3.4867844 , 3.4867844 , 3.4867844 , 3.4867844 , 3.4867844 ,\n",
       "        3.4867844 , 3.4867844 , 3.4867844 , 3.4867844 , 3.4867844 ,\n",
       "        3.4867844 , 3.4867844 , 3.4867844 , 3.4867844 , 3.4867844 ,\n",
       "        3.4867844 , 3.4867844 , 3.4867844 , 3.4867844 , 3.4867844 ,\n",
       "        3.4867844 , 3.4867844 , 3.4867844 , 3.4867844 , 3.4867844 ,\n",
       "        3.4867844 , 3.4867844 , 3.4867844 , 3.4867844 , 3.4867844 ,\n",
       "        3.4867844 , 3.4867844 , 3.4867844 , 3.4867844 , 3.4867844 ,\n",
       "        3.4867844 , 3.4867844 , 3.09936391, 2.71194342, 2.32452293,\n",
       "        1.93710245, 1.54968196, 1.16226147, 0.77484098, 0.38742049]),\n",
       " 'L': array([0, 0, 0, 0, 0, 0, 0, 0, 0, 0, 0, 0, 0, 0, 0, 0, 0, 0, 0, 0, 0, 0,\n",
       "        0, 0, 0, 0, 0, 0, 0, 0, 0, 0, 0, 0, 0, 0, 0, 0, 0, 0, 0, 0, 0, 0,\n",
       "        0, 0, 0, 0, 0, 0, 0, 0, 0, 0, 0, 0, 0, 0, 0, 0, 0, 0, 0, 0, 0, 0,\n",
       "        0, 0, 0, 0, 0, 0, 0, 0, 0, 0, 0, 0, 0, 0, 0, 0, 0, 0, 0, 0, 0, 0,\n",
       "        0, 0, 0, 0, 0, 0, 0, 0, 0, 0, 0, 0]),\n",
       " 'average_A': 3.4104847687200017,\n",
       " 'average_L': 0.0,\n",
       " 'computation_(tag to message ratio)': 1.0,\n",
       " 'goodput_without_tag_adjustment': 0.9411764705882353,\n",
       " 'goodput_with_tag_adjustment': 0.9317561419472248,\n",
       " 'security_goodput': 0.8526211921800004,\n",
       " 'rows_that_breaks_the_verification': [1,\n",
       "  8,\n",
       "  16,\n",
       "  25,\n",
       "  34,\n",
       "  43,\n",
       "  52,\n",
       "  61,\n",
       "  70,\n",
       "  79,\n",
       "  87,\n",
       "  94]}"
      ]
     },
     "execution_count": 5,
     "metadata": {},
     "output_type": "execute_result"
    }
   ],
   "source": [
    "parameters = {'m_nr': 100, 't_nr': 100,\n",
    "                'p': 0.9, 'q': 1,\n",
    "                'x': 4}\n",
    "exp = Auth.ProMAC_experiment(parameters=parameters, x = 9)\n",
    "Auth.evaluate(exp,m_size=1024,t_size=int(256/4), b = 256 )"
   ]
  },
  {
   "cell_type": "markdown",
   "metadata": {},
   "source": [
    "### Run the optimizer With Latency"
   ]
  },
  {
   "cell_type": "code",
   "execution_count": null,
   "metadata": {},
   "outputs": [
    {
     "name": "stdout",
     "output_type": "stream",
     "text": [
      "Set parameter Username\n"
     ]
    },
    {
     "name": "stdout",
     "output_type": "stream",
     "text": [
      "Academic license - for non-commercial use only - expires 2025-06-06\n",
      "\n",
      "Interrupt request received\n",
      "Status: -1\n",
      "Objective value: 6.0\n",
      "Experiment saved as experiment number 2\n"
     ]
    },
    {
     "data": {
      "text/plain": [
       "{'A': array([1.44, 1.44, 1.92, 5.12, 0.64, 0.64, 0.64, 0.64, 0.64, 0.64, 0.64,\n",
       "        1.44, 0.64, 0.64, 0.64, 0.64, 1.28, 0.64, 1.44, 0.64]),\n",
       " 'L': array([0, 0, 7, 1, 0, 0, 0, 0, 0, 0, 0, 0, 0, 0, 0, 1, 0, 0, 0, 0]),\n",
       " 'average_A': 1.1200000000000003,\n",
       " 'average_L': 0.45,\n",
       " 'computation_(tag to message ratio)': 1.0,\n",
       " 'goodput_without_tag_adjustment': 0.8,\n",
       " 'goodput_with_tag_adjustment': 0.8178913738019169,\n",
       " 'security_goodput': 0.6588235294117649,\n",
       " 'rows_that_breaks_the_verification': [1, 2, 3, 4, 17, 19]}"
      ]
     },
     "execution_count": 5,
     "metadata": {},
     "output_type": "execute_result"
    }
   ],
   "source": [
    "parameters = {'m_nr': 20, 't_nr': 20,\n",
    "                'p': 0.8, 'q': 1,\n",
    "                'TagEveryMessage': True,\n",
    "                'AtLeastOnce': False,\n",
    "                'EquivalentA': True,\n",
    "                'weight_A': 5,\n",
    "                'weight_L': .1}\n",
    "\n",
    "exp = utils.Run_Experiment(model = model_latency.math_model,\n",
    "                            parameters = parameters,\n",
    "                            eval=Auth.evaluate,\n",
    "                            save=True)\n",
    "exp['eval']"
   ]
  },
  {
   "cell_type": "markdown",
   "metadata": {},
   "source": []
  }
 ],
 "metadata": {
  "kernelspec": {
   "display_name": "Python 3",
   "language": "python",
   "name": "python3"
  },
  "language_info": {
   "codemirror_mode": {
    "name": "ipython",
    "version": 3
   },
   "file_extension": ".py",
   "mimetype": "text/x-python",
   "name": "python",
   "nbconvert_exporter": "python",
   "pygments_lexer": "ipython3",
   "version": "3.9.6"
  }
 },
 "nbformat": 4,
 "nbformat_minor": 4
}
