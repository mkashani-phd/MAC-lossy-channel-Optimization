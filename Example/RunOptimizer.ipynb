{
 "cells": [
  {
   "cell_type": "markdown",
   "metadata": {},
   "source": [
    "## Import the Model"
   ]
  },
  {
   "cell_type": "code",
   "execution_count": 1,
   "metadata": {},
   "outputs": [],
   "source": [
    "import sys\n",
    "sys.path.append('../')\n",
    "\n",
    "import src.TagModel\n",
    "import src.Auth\n",
    "import numpy as np\n",
    "import matplotlib.pyplot as plt "
   ]
  },
  {
   "cell_type": "markdown",
   "metadata": {},
   "source": [
    "### Run the Model"
   ]
  },
  {
   "cell_type": "code",
   "execution_count": 2,
   "metadata": {},
   "outputs": [
    {
     "name": "stdout",
     "output_type": "stream",
     "text": [
      "Set parameter Username\n",
      "Academic license - for non-commercial use only - expires 2025-06-06\n",
      "Set parameter TimeLimit to value 21600\n",
      "Gurobi Optimizer version 11.0.2 build v11.0.2rc0 (mac64[arm] - Darwin 23.4.0 23E224)\n",
      "\n",
      "CPU model: Apple M3\n",
      "Thread count: 8 physical cores, 8 logical processors, using up to 8 threads\n",
      "\n",
      "Optimize a model with 16880 rows, 17621 columns and 51640 nonzeros\n",
      "Model fingerprint: 0x0253120f\n",
      "Variable types: 8401 continuous, 9220 integer (9220 binary)\n",
      "Coefficient statistics:\n",
      "  Matrix range     [1e-01, 2e+01]\n",
      "  Objective range  [1e-01, 9e-01]\n",
      "  Bounds range     [1e+00, 1e+00]\n",
      "  RHS range        [1e+00, 1e+00]\n",
      "Found heuristic solution: objective -0.0000000\n",
      "Presolve removed 8800 rows and 8820 columns\n",
      "Presolve time: 0.03s\n",
      "Presolved: 8080 rows, 8801 columns, 33620 nonzeros\n",
      "Variable types: 1 continuous, 8800 integer (8800 binary)\n",
      "\n",
      "Root relaxation: objective 1.605477e+03, 8400 iterations, 0.15 seconds (0.46 work units)\n",
      "\n",
      "    Nodes    |    Current Node    |     Objective Bounds      |     Work\n",
      " Expl Unexpl |  Obj  Depth IntInf | Incumbent    BestBd   Gap | It/Node Time\n",
      "\n",
      "     0     0 1605.47735    0 7600   -0.00000 1605.47735      -     -    0s\n",
      "H    0     0                      48.6306618 1605.47735  3201%     -    0s\n",
      "     0     0  396.30775    0 2274   48.63066  396.30775   715%     -    0s\n",
      "     0     0  327.79868    0 2054   48.63066  327.79868   574%     -    1s\n",
      "     0     0  320.54308    0 2177   48.63066  320.54308   559%     -    1s\n",
      "     0     0  319.09430    0 2213   48.63066  319.09430   556%     -    1s\n",
      "     0     0  319.04793    0 2212   48.63066  319.04793   556%     -    1s\n",
      "     0     0  298.99985    0 2081   48.63066  298.99985   515%     -    2s\n",
      "     0     0  283.89135    0 2490   48.63066  283.89135   484%     -    3s\n",
      "     0     0  283.76039    0 2524   48.63066  283.76039   484%     -    3s\n",
      "H    0     0                      48.7481433  270.75630   455%     -    4s\n",
      "H    0     0                      49.4161864  270.75630   448%     -    4s\n",
      "     0     0  270.75630    0 2964   49.41619  270.75630   448%     -    4s\n",
      "     0     0  269.47767    0 2993   49.41619  269.47767   445%     -    4s\n",
      "     0     0  256.85779    0 2764   49.41619  256.85779   420%     -    5s\n",
      "     0     0  255.96172    0 2862   49.41619  255.96172   418%     -    6s\n",
      "     0     0  244.31429    0 2869   49.41619  244.31429   394%     -    7s\n",
      "     0     0  244.28052    0 2869   49.41619  244.28052   394%     -    7s\n",
      "     0     2  244.28052    0 2869   49.41619  244.28052   394%     -    9s\n",
      "     3     8  239.29060    2 2542   49.41619  241.33817   388%  1766   10s\n",
      "H   33    40                      50.0438076  229.58932   359%  1747   13s\n",
      "    95   108  209.20894    8 1979   50.04381  228.14966   356%  1001   15s\n",
      "   397   406  103.40057   35  500   50.04381  228.14966   356%   478   20s\n",
      "   726   829   76.77526   73  180   50.04381  228.14966   356%   306   25s\n",
      "H 2348  2209                      50.0438080  226.09023   352%   123   35s\n",
      "  2351  2211   59.56103  168 2919   50.04381  226.09023   352%   123   41s\n",
      "  2362  2219   78.38405   57  967   50.04381   86.03197  71.9%   122   45s\n",
      "H 2373  2114                      51.1395045   69.73569  36.4%   122   50s\n",
      "H 2374  2009                      51.4569533   69.73569  35.5%   122   50s\n",
      "H 2375  1908                      65.0866422   69.73569  7.14%   122   51s\n",
      "H 2379  1815                      65.8614831   69.73569  5.88%   121   54s\n",
      "  2382  1817   65.86148  164   56   65.86148   69.73569  5.88%   121   55s\n",
      "  2390  1823   65.86148  125  991   65.86148   69.73569  5.88%   156   60s\n",
      "  2407  1835   69.73569   34   66   65.86148   69.73569  5.88%   155   65s\n",
      "  2417  1841   65.86148  190   98   65.86148   69.73569  5.88%   154   71s\n",
      "* 2428  1757              30      69.7356910   69.73569  0.00%   191   74s\n",
      "\n",
      "Cutting planes:\n",
      "  Gomory: 59\n",
      "  Cover: 6\n",
      "  Implied bound: 13\n",
      "  MIR: 8\n",
      "  GUB cover: 1\n",
      "  Zero half: 1\n",
      "  RLT: 635\n",
      "  BQP: 4\n",
      "\n",
      "Explored 2432 nodes (502222 simplex iterations) in 74.19 seconds (201.84 work units)\n",
      "Thread count was 8 (of 8 available processors)\n",
      "\n",
      "Solution count 10: 69.7357 69.7357 65.8615 ... 48.7481\n",
      "No other solutions better than 69.7357\n",
      "\n",
      "Optimal solution found (tolerance 1.00e-04)\n",
      "Warning: max constraint violation (1.5127e-06) exceeds tolerance\n",
      "Best objective 6.973569183522e+01, best bound 6.973569183522e+01, gap 0.0000%\n"
     ]
    }
   ],
   "source": [
    "m, n = 20, 20 # number of messages and tags\n",
    "p, q = 0.9, 1 # probability of a message and probability of a tag being correct\n",
    "varInfo = src.TagModel.math_model(M_size=m, T_size=n, p=p, q=q, TagEveryMessage=1, AtLeastOnce=False, EquivalentA=True)\n",
    "K = src.TagModel.get_K(varInfo)\n",
    "#heatmap\n",
    "plt.imshow(K, cmap= 'hot', interpolation='nearest')\n",
    "plt.colorbar()\n",
    "plt.show()"
   ]
  },
  {
   "cell_type": "code",
   "execution_count": 5,
   "metadata": {},
   "outputs": [
    {
     "ename": "NameError",
     "evalue": "name 'varInfo' is not defined",
     "output_type": "error",
     "traceback": [
      "\u001b[0;31m---------------------------------------------------------------------------\u001b[0m",
      "\u001b[0;31mNameError\u001b[0m                                 Traceback (most recent call last)",
      "Cell \u001b[0;32mIn[5], line 1\u001b[0m\n\u001b[0;32m----> 1\u001b[0m \u001b[38;5;28;01mfor\u001b[39;00m var \u001b[38;5;129;01min\u001b[39;00m \u001b[43mvarInfo\u001b[49m:\n\u001b[1;32m      2\u001b[0m     \u001b[38;5;28;01mif\u001b[39;00m var[\u001b[38;5;241m0\u001b[39m]\u001b[38;5;241m.\u001b[39mstartswith(\u001b[38;5;124m'\u001b[39m\u001b[38;5;124mx\u001b[39m\u001b[38;5;124m'\u001b[39m):\n\u001b[1;32m      3\u001b[0m         temp \u001b[38;5;241m=\u001b[39m var[\u001b[38;5;241m0\u001b[39m][\u001b[38;5;241m1\u001b[39m:]\u001b[38;5;241m.\u001b[39mstrip(\u001b[38;5;124m'\u001b[39m\u001b[38;5;124m][\u001b[39m\u001b[38;5;124m'\u001b[39m)\u001b[38;5;241m.\u001b[39msplit(\u001b[38;5;124m'\u001b[39m\u001b[38;5;124m,\u001b[39m\u001b[38;5;124m'\u001b[39m)\n",
      "\u001b[0;31mNameError\u001b[0m: name 'varInfo' is not defined"
     ]
    }
   ],
   "source": []
  },
  {
   "cell_type": "code",
   "execution_count": null,
   "metadata": {},
   "outputs": [],
   "source": [
    "print(src.Auth.validate(src.Auth.k, np.array([p]*18), np.array([q]*9)))\n",
    "print(src.Auth.Strength_Number(np.array(src.Auth.k,dtype=int)))\n",
    "\n"
   ]
  },
  {
   "cell_type": "code",
   "execution_count": null,
   "metadata": {},
   "outputs": [],
   "source": [
    "A = src.Auth.validate(K, np.array([p]*m), np.array([q]*n))\n",
    "print(np.average(A))\n",
    "print (A)\n",
    "\n",
    "print(src.Auth.Strength_Number(np.array(K,dtype=int)))"
   ]
  },
  {
   "cell_type": "code",
   "execution_count": null,
   "metadata": {},
   "outputs": [],
   "source": []
  },
  {
   "cell_type": "markdown",
   "metadata": {},
   "source": [
    "Case 1: Make the result all equal to each other.\n",
    "\n",
    "Case 1.5: Priorotize the messages for the differet application like emergency \n",
    "\n",
    "Case 2: Add a new constraint that include a value for the E(A). \n",
    "\n",
    "describe the trends of the results."
   ]
  },
  {
   "cell_type": "markdown",
   "metadata": {},
   "source": []
  }
 ],
 "metadata": {
  "kernelspec": {
   "display_name": "Python 3",
   "language": "python",
   "name": "python3"
  },
  "language_info": {
   "codemirror_mode": {
    "name": "ipython",
    "version": 3
   },
   "file_extension": ".py",
   "mimetype": "text/x-python",
   "name": "python",
   "nbconvert_exporter": "python",
   "pygments_lexer": "ipython3",
   "version": "3.9.6"
  }
 },
 "nbformat": 4,
 "nbformat_minor": 4
}
