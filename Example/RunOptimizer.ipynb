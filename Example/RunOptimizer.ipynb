{
 "cells": [
  {
   "cell_type": "markdown",
   "metadata": {},
   "source": [
    "## Import the Model"
   ]
  },
  {
   "cell_type": "code",
   "execution_count": 4,
   "metadata": {},
   "outputs": [],
   "source": [
    "import sys\n",
    "sys.path.append('../')\n",
    "\n",
    "import src.TagModel\n",
    "import src.Auth\n",
    "import numpy as np\n",
    "import matplotlib.pyplot as plt "
   ]
  },
  {
   "cell_type": "markdown",
   "metadata": {},
   "source": [
    "### Run the Model"
   ]
  },
  {
   "cell_type": "code",
   "execution_count": 5,
   "metadata": {},
   "outputs": [
    {
     "name": "stdout",
     "output_type": "stream",
     "text": [
      "Set parameter TimeLimit to value 21600\n",
      "Gurobi Optimizer version 11.0.2 build v11.0.2rc0 (mac64[arm] - Darwin 23.4.0 23E224)\n",
      "\n",
      "CPU model: Apple M3\n",
      "Thread count: 8 physical cores, 8 logical processors, using up to 8 threads\n",
      "\n",
      "Optimize a model with 32880 rows, 34420 columns and 101620 nonzeros\n",
      "Model fingerprint: 0x4d5f27e5\n",
      "Variable types: 0 continuous, 34420 integer (34420 binary)\n",
      "Coefficient statistics:\n",
      "  Matrix range     [1e+00, 4e+01]\n",
      "  Objective range  [1e-02, 9e-01]\n",
      "  Bounds range     [1e+00, 1e+00]\n",
      "  RHS range        [1e+00, 1e+00]\n",
      "Found heuristic solution: objective 31.1243283\n",
      "Presolve removed 800 rows and 820 columns\n",
      "Presolve time: 0.07s\n",
      "Presolved: 32080 rows, 33600 columns, 99200 nonzeros\n",
      "Variable types: 0 continuous, 33600 integer (33600 binary)\n",
      "\n",
      "Root relaxation: objective 3.552701e+03, 34450 iterations, 0.23 seconds (0.40 work units)\n",
      "\n",
      "    Nodes    |    Current Node    |     Objective Bounds      |     Work\n",
      " Expl Unexpl |  Obj  Depth IntInf | Incumbent    BestBd   Gap | It/Node Time\n",
      "\n",
      "     0     0 3552.70117    0 31200   31.12433 3552.70117      -     -    0s\n",
      "H    0     0                      64.1021335 3552.70117  5442%     -    0s\n",
      "H    0     0                      67.1195218 3552.70117  5193%     -    0s\n",
      "     0     0 3286.03392    0 29624   67.11952 3286.03392  4796%     -    2s\n",
      "     0     0 2241.78658    0 27175   67.11952 2241.78658  3240%     -    5s\n",
      "     0     0 2241.78658    0 27140   67.11952 2241.78658  3240%     -    5s\n",
      "     0     0 1756.21074    0 24728   67.11952 1756.21074  2517%     -    5s\n",
      "     0     0 1519.05057    0 22255   67.11952 1519.05057  2163%     -    5s\n",
      "     0     0 1288.31039    0 20059   67.11952 1288.31039  1819%     -    6s\n",
      "     0     0 1288.31039    0 17946   67.11952 1288.31039  1819%     -    6s\n",
      "     0     0 1041.01503    0 15762   67.11952 1041.01503  1451%     -    6s\n",
      "     0     0  836.80596    0 13683   67.11952  836.80596  1147%     -    6s\n",
      "     0     0  526.12706    0 11227   67.11952  526.12706   684%     -    7s\n",
      "     0     0  525.19859    0 9391   67.11952  525.19859   682%     -    7s\n",
      "     0     0  525.19859    0 7173   67.11952  525.19859   682%     -    7s\n",
      "     0     0  519.22139    0 6516   67.11952  519.22139   674%     -    8s\n",
      "     0     0  519.22139    0 6460   67.11952  519.22139   674%     -    8s\n",
      "     0     0  515.61319    0 5677   67.11952  515.61319   668%     -    8s\n",
      "     0     0  512.64364    0 5566   67.11952  512.64364   664%     -    8s\n",
      "     0     0  504.58637    0 5293   67.11952  504.58637   652%     -    9s\n",
      "     0     0  504.58637    0 5293   67.11952  504.58637   652%     -    9s\n",
      "     0     2  504.22721    0 5292   67.11952  504.22721   651%     -   10s\n"
     ]
    }
   ],
   "source": [
    "m, n = 40, 20 # number of messages and tags\n",
    "p, q = 0.9, 1 # probability of a message and probability of a tag being correct\n",
    "K = src.TagModel.math_model(M_size=m, T_size=n, p=p, q=q, TagEveryMessage=1, AtLeastOnce=False)\n",
    "#heatmap\n",
    "plt.imshow(K, cmap= 'hot', interpolation='nearest')\n",
    "plt.colorbar()\n",
    "plt.show()"
   ]
  },
  {
   "cell_type": "code",
   "execution_count": null,
   "metadata": {},
   "outputs": [
    {
     "data": {
      "text/plain": [
       "array([2.27737266, 1.92869422, 2.00617832, 2.35485676, 3.05221364,\n",
       "       0.73609893, 1.43345581, 3.05221364, 1.61875783, 2.51823318,\n",
       "       1.27007939, 1.96743627, 0.53398046, 2.7035352 , 1.23133734,\n",
       "       0.8826589 , 0.53398046, 0.69735688, 2.31611471, 1.23133734])"
      ]
     },
     "execution_count": 3,
     "metadata": {},
     "output_type": "execute_result"
    }
   ],
   "source": [
    "src.Auth.validate(K, np.array([p]*m), np.array([q]*n))"
   ]
  }
 ],
 "metadata": {
  "kernelspec": {
   "display_name": "Python 3",
   "language": "python",
   "name": "python3"
  },
  "language_info": {
   "codemirror_mode": {
    "name": "ipython",
    "version": 3
   },
   "file_extension": ".py",
   "mimetype": "text/x-python",
   "name": "python",
   "nbconvert_exporter": "python",
   "pygments_lexer": "ipython3",
   "version": "3.9.6"
  }
 },
 "nbformat": 4,
 "nbformat_minor": 4
}
