{
 "cells": [
  {
   "cell_type": "markdown",
   "metadata": {},
   "source": [
    "## Import the Model"
   ]
  },
  {
   "cell_type": "code",
   "execution_count": 1,
   "metadata": {},
   "outputs": [],
   "source": [
    "import sys\n",
    "sys.path.append('../')\n",
    "\n",
    "import src.TagModel as model\n",
    "import src.TagModel_lat as model_latency\n",
    "import src.Auth as Auth\n",
    "import utils.utils as utils\n",
    "import numpy as np\n",
    "import matplotlib.pyplot as plt "
   ]
  },
  {
   "cell_type": "markdown",
   "metadata": {},
   "source": [
    "### Run the Model\n",
    "\n",
    "Just considering the E[A]"
   ]
  },
  {
   "cell_type": "code",
   "execution_count": 2,
   "metadata": {},
   "outputs": [
    {
     "name": "stdout",
     "output_type": "stream",
     "text": [
      "Set parameter Username\n",
      "Academic license - for non-commercial use only - expires 2025-06-06\n",
      "Set parameter TimeLimit to value 21600\n",
      "Gurobi Optimizer version 11.0.2 build v11.0.2rc0 (mac64[arm] - Darwin 23.4.0 23E224)\n",
      "\n",
      "CPU model: Apple M3\n",
      "Thread count: 8 physical cores, 8 logical processors, using up to 8 threads\n",
      "\n",
      "Optimize a model with 18680 rows, 19211 columns and 56740 nonzeros\n",
      "Model fingerprint: 0x4b5ddb0e\n",
      "Variable types: 9301 continuous, 9910 integer (9910 binary)\n",
      "Coefficient statistics:\n",
      "  Matrix range     [2e-01, 3e+01]\n",
      "  Objective range  [2e-01, 9e-01]\n",
      "  Bounds range     [1e+00, 1e+00]\n",
      "  RHS range        [1e+00, 1e+00]\n",
      "Found heuristic solution: objective -0.0000000\n",
      "Presolve removed 9600 rows and 9610 columns\n",
      "Presolve time: 0.03s\n",
      "Presolved: 9080 rows, 9601 columns, 37230 nonzeros\n",
      "Variable types: 1 continuous, 9600 integer (9600 binary)\n",
      "\n",
      "Root relaxation: objective 2.270475e+03, 9478 iterations, 0.22 seconds (0.69 work units)\n",
      "\n",
      "    Nodes    |    Current Node    |     Objective Bounds      |     Work\n",
      " Expl Unexpl |  Obj  Depth IntInf | Incumbent    BestBd   Gap | It/Node Time\n",
      "\n",
      "     0     0 2270.47534    0 8700   -0.00000 2270.47534      -     -    0s\n",
      "H    0     0                      64.3916292 2270.47534  3426%     -    0s\n",
      "     0     0  473.44522    0 2555   64.39163  473.44522   635%     -    1s\n",
      "     0     0  267.38708    0 1371   64.39163  267.38708   315%     -    4s\n",
      "     0     0  255.13662    0 1674   64.39163  255.13662   296%     -    4s\n",
      "     0     0  254.94056    0 1695   64.39163  254.94056   296%     -    4s\n",
      "     0     0  249.81416    0 2043   64.39163  249.81416   288%     -    5s\n",
      "     0     0  249.64410    0 2122   64.39163  249.64410   288%     -    6s\n",
      "     0     0  244.52547    0 2231   64.39163  244.52547   280%     -    6s\n",
      "     0     0  244.44713    0 1772   64.39163  244.44713   280%     -    7s\n",
      "     0     2  244.34858    0 1659   64.39163  244.34858   279%     -    9s\n",
      "     3     8  238.72957    2 2020   64.39163  241.37284   275%  6296   11s\n",
      "     7    16  224.43482    3 1558   64.39163  238.28250   270%  7468   15s\n",
      "    23    32  203.23721    4 2015   64.39163  227.12140   253%  7460   20s\n",
      "    47    61  204.97467    6 2039   64.39163  211.86790   229%  5050   26s\n",
      "   121   128  179.57642   11 1489   64.39163  211.86790   229%  2330   31s\n",
      "H  124   128                      64.7171034  211.86790   227%  2276   31s\n",
      "H  125   128                      66.5832958  211.86790   218%  2275   31s\n",
      "H  328   331                      66.9087700  211.86790   217%  1040   38s\n",
      "   600   670  113.82383   60  617   66.90877  211.86790   217%   618   40s\n",
      "  1424  1386   78.20023  170  131   66.90877  211.52788   216%   312   45s\n",
      "  1931  1912  111.80447   38  533   66.90877  211.52788   216%   272   50s\n",
      "  2027  1913  126.88849   35 1772   66.90877  211.52788   216%   266   60s\n",
      "  2030  1915  110.45319   23 1257   66.90877  110.45319  65.1%   266   68s\n",
      "  2045  1925   95.87499   77  651   66.90877   95.87499  43.3%   264   70s\n",
      "  2059  1934   75.72519   45  852   66.90877   75.72519  13.2%   262   76s\n",
      "  2064  1938   73.89308   28 1036   66.90877   73.89308  10.4%   261   81s\n",
      "  2072  1944   71.82719   42 2189   66.90877   71.82719  7.35%   301   86s\n",
      "  2076  1947   71.82719   26  783   66.90877   71.82719  7.35%   300   90s\n",
      "  2081  1950   71.82719   92  949   66.90877   71.82719  7.35%   299   95s\n",
      "  2090  1956   71.82719   28  711   66.90877   71.82719  7.35%   298  100s\n",
      "H 2097  1862                      67.3576181   71.69718  6.44%   297  105s\n",
      "  2103  1869   71.69718   22   66   67.35762   71.69718  6.44%   334  110s\n",
      "  2109  1879   71.52608   24  161   67.35762   71.69718  6.44%   337  115s\n",
      "  2133  1895   71.38435   26  225   67.35762   71.68742  6.43%   346  121s\n",
      "  2171  1920   71.46333   28  175   67.35762   71.68702  6.43%   349  129s\n",
      "  2179  1931   71.52608   28  118   67.35762   71.68702  6.43%   349  130s\n",
      "  2294  2013   71.52425   37   72   67.35762   71.68702  6.43%   350  135s\n",
      "  2483  2153   71.52425   50   70   67.35762   71.68702  6.43%   334  140s\n",
      "  2652  2272   71.52425   60   70   67.35762   71.68702  6.43%   326  145s\n",
      "H 2708  2182                      67.9236485   71.68702  5.54%   321  148s\n",
      "  2764  2259   71.52231   67   76   67.92365   71.68702  5.54%   318  150s\n",
      "  2948  2347   71.51834   73  108   67.92365   71.68702  5.54%   313  159s\n",
      "* 2998  2087              97      71.5179415   71.68702  0.24%   313  159s\n",
      "  3000  2130     cutoff   74        71.51794   71.68674  0.24%   313  162s\n",
      "  3191  2174   71.63309   36  104   71.51794   71.68460  0.23%   299  167s\n",
      "  3383  2163   71.55379   37 1772   71.51794   71.68460  0.23%   290  173s\n",
      "  3386  2165   71.53587   86  422   71.51794   71.68460  0.23%   290  175s\n",
      "  3393  2171   71.63551   32 1772   71.51794   71.68460  0.23%   308  180s\n",
      "  3400  2176   71.53582  115  560   71.51794   71.68460  0.23%   307  185s\n",
      "  3410  2184   71.58353   54  393   71.51794   71.68460  0.23%   324  190s\n",
      "  3418  2194   71.68460   63  597   71.51794   71.68460  0.23%   346  195s\n",
      "  4212  2621   71.68460   88  276   71.51794   71.68460  0.23%   306  200s\n",
      "  4787  2868   71.61768  125  114   71.51794   71.68460  0.23%   273  205s\n",
      "  6072  3297   71.54008  133   68   71.51794   71.68460  0.23%   233  210s\n",
      "  8128  4025   71.57787  109   76   71.51794   71.68460  0.23%   194  215s\n",
      " 10224  4853   71.60945   94  120   71.51794   71.68460  0.23%   173  220s\n",
      " 12995  6558   71.59481  102  126   71.51794   71.68460  0.23%   156  225s\n",
      " 15771  8047   71.52676  126  112   71.51794   71.68460  0.23%   143  230s\n",
      " 18535  9605 infeasible  131        71.51794   71.68460  0.23%   133  235s\n",
      " 21293 11254   71.68460  102  263   71.51794   71.68460  0.23%   127  241s\n",
      " 22642 12108   71.56475  130  126   71.51794   71.68460  0.23%   126  245s\n",
      " 25574 13594     cutoff  115        71.51794   71.68460  0.23%   121  250s\n",
      " 28588 15420   71.59579  108   82   71.51794   71.68460  0.23%   117  256s\n",
      " 29607 15421   71.57996  110 1772   71.51794   71.68460  0.23%   116  262s\n",
      " 29613 15425   71.52640  102  450   71.51794   71.68460  0.23%   116  265s\n",
      " 29618 15428   71.53621  115  512   71.51794   71.68460  0.23%   116  270s\n",
      " 29621 15433   71.68460   77  496   71.51794   71.68460  0.23%   119  275s\n",
      " 29689 15488   71.68460   83  756   71.51794   71.68460  0.23%   123  280s\n",
      " 29753 15506   71.68460   85  764   71.51794   71.68460  0.23%   125  285s\n",
      " 29986 15570   71.68460   91  803   71.51794   71.68460  0.23%   128  290s\n",
      " 30325 15780   71.68460  101  767   71.51794   71.68460  0.23%   129  295s\n",
      " 31262 16217   71.68460  128  304   71.51794   71.68460  0.23%   128  300s\n",
      " 31640 16389   71.54768  140  116   71.51794   71.68460  0.23%   129  305s\n",
      " 31995 16446   71.68460   82  764   71.51794   71.68460  0.23%   129  310s\n",
      " 32481 16695   71.68460  106  678   71.51794   71.68460  0.23%   130  315s\n",
      " 33300 17112   71.68460   90  691   71.51794   71.68460  0.23%   130  320s\n",
      " 34539 17397   71.68460  107  700   71.51794   71.68460  0.23%   129  325s\n",
      " 35829 17745   71.68460  100  832   71.51794   71.68460  0.23%   130  331s\n",
      " 37065 18395   71.54963  178   64   71.51794   71.68460  0.23%   130  337s\n",
      "\n",
      "Interrupt request received\n",
      "\n",
      "Cutting planes:\n",
      "  Gomory: 336\n",
      "  Cover: 45\n",
      "  Implied bound: 4\n",
      "  MIR: 174\n",
      "  StrongCG: 16\n",
      "  Flow cover: 28\n",
      "  Zero half: 4\n",
      "  RLT: 354\n",
      "  BQP: 9\n",
      "\n",
      "Explored 37979 nodes (4952561 simplex iterations) in 338.39 seconds (992.67 work units)\n",
      "Thread count was 8 (of 8 available processors)\n",
      "\n",
      "Solution count 9: 71.5179 67.9236 67.3576 ... -0\n",
      "\n",
      "Solve interrupted\n",
      "Best objective 7.151794152050e+01, best bound 7.168460447012e+01, gap 0.2330%\n",
      "Status: 1\n",
      "Objective value: 2.0\n",
      "Experiment saved as experiment number 10\n"
     ]
    },
    {
     "data": {
      "text/plain": [
       "{'A': array([2.38393138, 2.38393138, 2.38393138, 2.38393138, 2.38393138,\n",
       "        2.38393138, 2.38393138, 2.38393138, 2.38393138, 2.38393138,\n",
       "        2.38393138, 2.38393138, 2.38393138, 2.38393138, 2.38393138,\n",
       "        2.38393138, 2.38393138, 2.38393138, 2.38393138, 2.38393138,\n",
       "        2.38393138, 2.38393138, 2.38393138, 2.38393138, 2.38393138,\n",
       "        2.38393138, 2.38393138, 2.38393138, 2.38393138, 2.38393138]),\n",
       " 'L': array([28, 25, 24, 23, 24, 23, 20, 19, 18, 17, 16, 15, 14, 15, 12, 11, 10,\n",
       "         9,  8,  9,  6,  5,  6,  3,  2,  1,  0,  1,  0,  0]),\n",
       " 'average_A': 2.3839313840168033,\n",
       " 'average_L': 12.133333333333333,\n",
       " 'computation_(tag to message ratio)': 0.3333333333333333,\n",
       " 'goodput_without_tag_adjustment': 0.9230769230769231,\n",
       " 'goodput_with_tag_adjustment': 0.966341616860648,\n",
       " 'security_goodput': 1.0,\n",
       " 'rows_that_breaks_the_verification': [11, 29]}"
      ]
     },
     "execution_count": 2,
     "metadata": {},
     "output_type": "execute_result"
    }
   ],
   "source": [
    "\n",
    "parameters = {'m_nr': 30, 't_nr': 30, \n",
    "              'p': 0.95, 'q': 1, \n",
    "              'TagEveryMessage': True, \n",
    "              'AtLeastOnce': False, \n",
    "              'EquivalentA': True}\n",
    "\n",
    "exp = utils.Run_Experiment(model        = model.math_model,\n",
    "                           parameters   = parameters,\n",
    "                           eval         = Auth.evaluate,\n",
    "                           m_size       = 1024,\n",
    "                           t_size       = 256,\n",
    "                           save         = True)\n",
    "exp['eval']\n",
    "\n",
    "\n"
   ]
  },
  {
   "cell_type": "code",
   "execution_count": 5,
   "metadata": {},
   "outputs": [],
   "source": [
    "exp = utils.Load_Experiments()\n",
    "exp[8]\n",
    "#delet exp[8]\n",
    "del exp[8]\n",
    "import pickle\n",
    "with open('Xs.pkl', 'wb') as f:\n",
    "    pickle.dump(exp, f)"
   ]
  },
  {
   "cell_type": "code",
   "execution_count": 5,
   "metadata": {},
   "outputs": [
    {
     "name": "stdout",
     "output_type": "stream",
     "text": [
      "Status: 1\n",
      "Objective value: 12.0\n"
     ]
    },
    {
     "data": {
      "text/plain": [
       "{'A': array([5.5132156 , 5.00063609, 4.57805658, 4.23647707, 3.96779756,\n",
       "        3.76472804, 3.62070753, 3.52983112, 3.4867844 , 3.4867844 ,\n",
       "        3.4867844 , 3.4867844 , 3.4867844 , 3.4867844 , 3.4867844 ,\n",
       "        3.4867844 , 3.4867844 , 3.4867844 , 3.4867844 , 3.4867844 ,\n",
       "        3.4867844 , 3.4867844 , 3.4867844 , 3.4867844 , 3.4867844 ,\n",
       "        3.4867844 , 3.4867844 , 3.4867844 , 3.4867844 , 3.4867844 ,\n",
       "        3.4867844 , 3.4867844 , 3.4867844 , 3.4867844 , 3.4867844 ,\n",
       "        3.4867844 , 3.4867844 , 3.4867844 , 3.4867844 , 3.4867844 ,\n",
       "        3.4867844 , 3.4867844 , 3.4867844 , 3.4867844 , 3.4867844 ,\n",
       "        3.4867844 , 3.4867844 , 3.4867844 , 3.4867844 , 3.4867844 ,\n",
       "        3.4867844 , 3.4867844 , 3.4867844 , 3.4867844 , 3.4867844 ,\n",
       "        3.4867844 , 3.4867844 , 3.4867844 , 3.4867844 , 3.4867844 ,\n",
       "        3.4867844 , 3.4867844 , 3.4867844 , 3.4867844 , 3.4867844 ,\n",
       "        3.4867844 , 3.4867844 , 3.4867844 , 3.4867844 , 3.4867844 ,\n",
       "        3.4867844 , 3.4867844 , 3.4867844 , 3.4867844 , 3.4867844 ,\n",
       "        3.4867844 , 3.4867844 , 3.4867844 , 3.4867844 , 3.4867844 ,\n",
       "        3.4867844 , 3.4867844 , 3.4867844 , 3.4867844 , 3.4867844 ,\n",
       "        3.4867844 , 3.4867844 , 3.4867844 , 3.4867844 , 3.4867844 ,\n",
       "        3.4867844 , 3.4867844 , 3.09936391, 2.71194342, 2.32452293,\n",
       "        1.93710245, 1.54968196, 1.16226147, 0.77484098, 0.38742049]),\n",
       " 'L': array([0, 0, 0, 0, 0, 0, 0, 0, 0, 0, 0, 0, 0, 0, 0, 0, 0, 0, 0, 0, 0, 0,\n",
       "        0, 0, 0, 0, 0, 0, 0, 0, 0, 0, 0, 0, 0, 0, 0, 0, 0, 0, 0, 0, 0, 0,\n",
       "        0, 0, 0, 0, 0, 0, 0, 0, 0, 0, 0, 0, 0, 0, 0, 0, 0, 0, 0, 0, 0, 0,\n",
       "        0, 0, 0, 0, 0, 0, 0, 0, 0, 0, 0, 0, 0, 0, 0, 0, 0, 0, 0, 0, 0, 0,\n",
       "        0, 0, 0, 0, 0, 0, 0, 0, 0, 0, 0, 0]),\n",
       " 'average_A': 3.4104847687200017,\n",
       " 'average_L': 0.0,\n",
       " 'computation_(tag to message ratio)': 1.0,\n",
       " 'goodput_without_tag_adjustment': 0.9411764705882353,\n",
       " 'goodput_with_tag_adjustment': 0.9317561419472248,\n",
       " 'security_goodput': 0.8526211921800004,\n",
       " 'rows_that_breaks_the_verification': [1,\n",
       "  8,\n",
       "  16,\n",
       "  25,\n",
       "  34,\n",
       "  43,\n",
       "  52,\n",
       "  61,\n",
       "  70,\n",
       "  79,\n",
       "  87,\n",
       "  94]}"
      ]
     },
     "execution_count": 5,
     "metadata": {},
     "output_type": "execute_result"
    }
   ],
   "source": [
    "parameters = {'m_nr': 100, 't_nr': 100,\n",
    "                'p': 0.9, 'q': 1,\n",
    "                'x': 4}\n",
    "exp = Auth.ProMAC_experiment(parameters=parameters, x = 9)\n",
    "Auth.evaluate(exp,m_size=1024,t_size=int(256/4), b = 256 )"
   ]
  },
  {
   "cell_type": "markdown",
   "metadata": {},
   "source": [
    "### Run the optimizer With Latency"
   ]
  },
  {
   "cell_type": "code",
   "execution_count": null,
   "metadata": {},
   "outputs": [
    {
     "name": "stdout",
     "output_type": "stream",
     "text": [
      "Set parameter Username\n"
     ]
    },
    {
     "name": "stdout",
     "output_type": "stream",
     "text": [
      "Academic license - for non-commercial use only - expires 2025-06-06\n",
      "\n",
      "Interrupt request received\n",
      "Status: -1\n",
      "Objective value: 6.0\n",
      "Experiment saved as experiment number 2\n"
     ]
    },
    {
     "data": {
      "text/plain": [
       "{'A': array([1.44, 1.44, 1.92, 5.12, 0.64, 0.64, 0.64, 0.64, 0.64, 0.64, 0.64,\n",
       "        1.44, 0.64, 0.64, 0.64, 0.64, 1.28, 0.64, 1.44, 0.64]),\n",
       " 'L': array([0, 0, 7, 1, 0, 0, 0, 0, 0, 0, 0, 0, 0, 0, 0, 1, 0, 0, 0, 0]),\n",
       " 'average_A': 1.1200000000000003,\n",
       " 'average_L': 0.45,\n",
       " 'computation_(tag to message ratio)': 1.0,\n",
       " 'goodput_without_tag_adjustment': 0.8,\n",
       " 'goodput_with_tag_adjustment': 0.8178913738019169,\n",
       " 'security_goodput': 0.6588235294117649,\n",
       " 'rows_that_breaks_the_verification': [1, 2, 3, 4, 17, 19]}"
      ]
     },
     "execution_count": 5,
     "metadata": {},
     "output_type": "execute_result"
    }
   ],
   "source": [
    "parameters = {'m_nr': 20, 't_nr': 20,\n",
    "                'p': 0.8, 'q': 1,\n",
    "                'TagEveryMessage': True,\n",
    "                'AtLeastOnce': False,\n",
    "                'EquivalentA': True,\n",
    "                'weight_A': 5,\n",
    "                'weight_L': .1}\n",
    "\n",
    "exp = utils.Run_Experiment(model = model_latency.math_model,\n",
    "                            parameters = parameters,\n",
    "                            eval=Auth.evaluate,\n",
    "                            save=True)\n",
    "exp['eval']"
   ]
  },
  {
   "cell_type": "markdown",
   "metadata": {},
   "source": []
  }
 ],
 "metadata": {
  "kernelspec": {
   "display_name": "Python 3",
   "language": "python",
   "name": "python3"
  },
  "language_info": {
   "codemirror_mode": {
    "name": "ipython",
    "version": 3
   },
   "file_extension": ".py",
   "mimetype": "text/x-python",
   "name": "python",
   "nbconvert_exporter": "python",
   "pygments_lexer": "ipython3",
   "version": "3.9.6"
  }
 },
 "nbformat": 4,
 "nbformat_minor": 4
}
