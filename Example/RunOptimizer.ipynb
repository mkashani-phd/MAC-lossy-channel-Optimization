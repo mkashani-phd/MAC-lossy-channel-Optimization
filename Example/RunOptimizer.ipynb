{
 "cells": [
  {
   "cell_type": "markdown",
   "metadata": {},
   "source": [
    "## Import the Model"
   ]
  },
  {
   "cell_type": "code",
   "execution_count": 24,
   "metadata": {},
   "outputs": [],
   "source": [
    "import sys\n",
    "sys.path.append('../')\n",
    "\n",
    "import src.TagModel\n",
    "import src.Auth\n",
    "import numpy as np\n",
    "import matplotlib.pyplot as plt "
   ]
  },
  {
   "cell_type": "markdown",
   "metadata": {},
   "source": [
    "### Run the Model"
   ]
  },
  {
   "cell_type": "code",
   "execution_count": 25,
   "metadata": {},
   "outputs": [
    {
     "name": "stdout",
     "output_type": "stream",
     "text": [
      "Set parameter TimeLimit to value 21600\n",
      "Gurobi Optimizer version 11.0.2 build v11.0.2rc0 (mac64[arm] - Darwin 23.4.0 23E224)\n",
      "\n",
      "CPU model: Apple M3\n",
      "Thread count: 8 physical cores, 8 logical processors, using up to 8 threads\n",
      "\n",
      "Optimize a model with 3114 rows, 3411 columns and 9891 nonzeros\n",
      "Model fingerprint: 0x8e5a2849\n",
      "Variable types: 0 continuous, 3411 integer (3411 binary)\n",
      "Coefficient statistics:\n",
      "  Matrix range     [1e+00, 2e+01]\n",
      "  Objective range  [2e-01, 9e-01]\n",
      "  Bounds range     [1e+00, 1e+00]\n",
      "  RHS range        [1e+00, 1e+00]\n",
      "Found heuristic solution: objective 14.0319000\n",
      "Presolve removed 162 rows and 171 columns\n",
      "Presolve time: 0.01s\n",
      "Presolved: 2952 rows, 3240 columns, 9396 nonzeros\n",
      "Variable types: 0 continuous, 3240 integer (3240 binary)\n",
      "\n",
      "Root relaxation: objective 6.317387e+02, 3752 iterations, 0.02 seconds (0.03 work units)\n",
      "\n",
      "    Nodes    |    Current Node    |     Objective Bounds      |     Work\n",
      " Expl Unexpl |  Obj  Depth IntInf | Incumbent    BestBd   Gap | It/Node Time\n",
      "\n",
      "     0     0  631.73868    0 2754   14.03190  631.73868  4402%     -    0s\n",
      "H    0     0                      24.3153309  631.73868  2498%     -    0s\n",
      "H    0     0                      25.4191006  631.73868  2385%     -    0s\n",
      "H    0     0                      28.4151727  631.28868  2122%     -    0s\n",
      "H    0     0                      28.8484580  631.28868  2088%     -    0s\n",
      "     0     0  406.86487    0 2223   28.84846  406.86487  1310%     -    0s\n",
      "     0     0  197.97658    0 1946   28.84846  197.97658   586%     -    0s\n",
      "     0     0  118.51490    0 1387   28.84846  118.51490   311%     -    0s\n",
      "     0     0  117.90738    0 1359   28.84846  117.90738   309%     -    0s\n",
      "     0     0  113.27920    0 1219   28.84846  113.27920   293%     -    0s\n",
      "H    0     0                      29.0894447  113.27920   289%     -    0s\n",
      "     0     0  113.08591    0 1236   29.08944  113.08591   289%     -    0s\n",
      "H    0     0                      29.3485501  110.03869   275%     -    0s\n",
      "     0     0  110.03869    0 1199   29.34855  110.03869   275%     -    0s\n",
      "H    0     0                      30.1342370  110.03869   265%     -    0s\n",
      "     0     0  110.03869    0 1199   30.13424  110.03869   265%     -    0s\n",
      "H    0     0                      30.8242646  110.03726   257%     -    0s\n",
      "     0     2  110.03726    0 1199   30.82426  110.03726   257%     -    0s\n",
      "H   31    40                      31.1016768  100.25475   222%   232    0s\n",
      "H  164   173                      31.2834296  100.25475   220%   106    0s\n",
      "H  221   227                      31.3461918  100.25475   220%  81.4    0s\n",
      "H  222   227                      31.3810596  100.25475   219%  81.0    0s\n",
      "H 1252   794                      31.3810599   90.60311   189%  38.1    2s\n",
      "H 2154  1190                      31.3810604   36.17287  15.3%  32.8    3s\n",
      "\n",
      "Cutting planes:\n",
      "  Gomory: 106\n",
      "  Cover: 3\n",
      "  Implied bound: 12\n",
      "  RLT: 249\n",
      "\n",
      "Explored 2159 nodes (89559 simplex iterations) in 4.07 seconds (7.62 work units)\n",
      "Thread count was 8 (of 8 available processors)\n",
      "\n",
      "Solution count 10: 31.3811 31.3811 31.3811 ... 29.0894\n",
      "\n",
      "Optimal solution found (tolerance 1.00e-04)\n",
      "Best objective 3.138106040062e+01, best bound 3.138359247639e+01, gap 0.0081%\n"
     ]
    },
    {
     "data": {
      "image/png": "[encoded data removed]",
      "text/plain": [
       "<Figure size 640x480 with 2 Axes>"
      ]
     },
     "metadata": {},
     "output_type": "display_data"
    }
   ],
   "source": [
    "m, n = 18, 9 # number of messages and tags\n",
    "p, q = 0.9, 1 # probability of a message and probability of a tag being correct\n",
    "K = src.TagModel.math_model(M_size=m, T_size=n, p=p, q=q, TagEveryMessage=1, AtLeastOnce=False)\n",
    "#heatmap\n",
    "plt.imshow(K, cmap= 'hot', interpolation='nearest')\n",
    "plt.colorbar()\n",
    "plt.show()"
   ]
  },
  {
   "cell_type": "code",
   "execution_count": 26,
   "metadata": {},
   "outputs": [
    {
     "data": {
      "text/plain": [
       "array([1.260441, 1.260441, 1.260441, 1.260441, 1.260441, 1.260441,\n",
       "       1.260441, 1.260441, 1.260441, 1.260441, 1.260441, 1.260441,\n",
       "       1.260441, 1.260441, 1.260441, 1.260441, 1.260441, 1.260441])"
      ]
     },
     "execution_count": 26,
     "metadata": {},
     "output_type": "execute_result"
    }
   ],
   "source": [
    "src.Auth.validate(src.Auth.k, np.array([p]*18), np.array([q]*9))"
   ]
  },
  {
   "cell_type": "code",
   "execution_count": 30,
   "metadata": {},
   "outputs": [
    {
     "name": "stdout",
     "output_type": "stream",
     "text": [
      "1.7332611547126509\n",
      "[2.73367771 2.69493566 1.04603532 2.73367771 1.78213425 2.38499927\n",
      " 1.64890034 1.68764239 1.3002219  0.69735688 0.60286502 1.68764239\n",
      " 1.39471376 1.68764239 1.7433922  1.64890034 2.38499927 1.33896395]\n"
     ]
    }
   ],
   "source": [
    "A = src.Auth.validate(K, np.array([p]*m), np.array([q]*n))\n",
    "print(np.average(A))\n",
    "print (A)"
   ]
  }
 ],
 "metadata": {
  "kernelspec": {
   "display_name": "Python 3",
   "language": "python",
   "name": "python3"
  },
  "language_info": {
   "codemirror_mode": {
    "name": "ipython",
    "version": 3
   },
   "file_extension": ".py",
   "mimetype": "text/x-python",
   "name": "python",
   "nbconvert_exporter": "python",
   "pygments_lexer": "ipython3",
   "version": "3.9.6"
  }
 },
 "nbformat": 4,
 "nbformat_minor": 4
}
