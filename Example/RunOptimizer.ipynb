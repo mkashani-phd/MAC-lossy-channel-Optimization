{
 "cells": [
  {
   "cell_type": "markdown",
   "metadata": {},
   "source": [
    "## Import the Model"
   ]
  },
  {
   "cell_type": "code",
   "execution_count": 1,
   "metadata": {},
   "outputs": [],
   "source": [
    "import sys\n",
    "sys.path.append('../')\n",
    "\n",
    "import src.TagModel\n",
    "import src.Auth\n",
    "import numpy as np\n",
    "import matplotlib.pyplot as plt "
   ]
  },
  {
   "cell_type": "markdown",
   "metadata": {},
   "source": [
    "### Run the Model"
   ]
  },
  {
   "cell_type": "code",
   "execution_count": 2,
   "metadata": {},
   "outputs": [
    {
     "name": "stdout",
     "output_type": "stream",
     "text": [
      "Set parameter Username\n",
      "Academic license - for non-commercial use only - expires 2025-06-06\n",
      "Set parameter TimeLimit to value 21600\n",
      "Gurobi Optimizer version 11.0.2 build v11.0.2rc0 (mac64[arm] - Darwin 23.4.0 23E224)\n",
      "\n",
      "CPU model: Apple M3\n",
      "Thread count: 8 physical cores, 8 logical processors, using up to 8 threads\n",
      "\n",
      "Optimize a model with 16880 rows, 17621 columns and 51640 nonzeros\n",
      "Model fingerprint: 0xa9987d29\n",
      "Variable types: 8401 continuous, 9220 integer (9220 binary)\n",
      "Coefficient statistics:\n",
      "  Matrix range     [1e-06, 2e+01]\n",
      "  Objective range  [1e-06, 5e-01]\n",
      "  Bounds range     [1e+00, 1e+00]\n",
      "  RHS range        [1e+00, 1e+00]\n",
      "Found heuristic solution: objective -0.0000000\n",
      "Presolve removed 8800 rows and 8820 columns\n",
      "Presolve time: 0.03s\n",
      "Presolved: 8080 rows, 8801 columns, 33620 nonzeros\n",
      "Variable types: 1 continuous, 8800 integer (8800 binary)\n",
      "\n",
      "Root relaxation: objective 2.000000e+02, 8825 iterations, 0.06 seconds (0.15 work units)\n",
      "\n",
      "    Nodes    |    Current Node    |     Objective Bounds      |     Work\n",
      " Expl Unexpl |  Obj  Depth IntInf | Incumbent    BestBd   Gap | It/Node Time\n",
      "\n",
      "     0     0  200.00000    0 7600   -0.00000  200.00000      -     -    0s\n",
      "H    0     0                       0.6250000  200.00000      -     -    0s\n",
      "     0     0  141.40763    0 3867    0.62500  141.40763      -     -    0s\n",
      "H    0     0                       0.6251526  141.37750      -     -    1s\n",
      "     0     0  118.09411    0 3878    0.62515  118.09411      -     -    1s\n",
      "     0     0  118.09411    0 3640    0.62515  118.09411      -     -    1s\n",
      "     0     0  118.09411    0 3217    0.62515  118.09411      -     -    2s\n",
      "     0     0  115.28380    0 2757    0.62515  115.28380      -     -    2s\n",
      "     0     0  110.78741    0 1805    0.62515  110.78741      -     -    2s\n",
      "     0     0  102.14244    0 1938    0.62515  102.14244      -     -    2s\n",
      "     0     0  101.15537    0 1984    0.62515  101.15537      -     -    3s\n",
      "     0     0  101.15536    0 1980    0.62515  101.15536      -     -    3s\n",
      "     0     0   97.20509    0 1299    0.62515   97.20509      -     -    3s\n",
      "     0     0   95.00108    0 1446    0.62515   95.00108      -     -    3s\n",
      "     0     0   94.24085    0 1489    0.62515   94.24085      -     -    4s\n",
      "     0     0   93.77376    0 1445    0.62515   93.77376      -     -    4s\n",
      "     0     0   93.56178    0 1490    0.62515   93.56178      -     -    4s\n",
      "     0     0   93.54520    0 1484    0.62515   93.54520      -     -    4s\n",
      "     0     0   69.15946    0 1550    0.62515   69.15946      -     -    4s\n",
      "     0     0   67.61242    0 1467    0.62515   67.61242      -     -    5s\n",
      "     0     0   67.39187    0 1437    0.62515   67.39187      -     -    5s\n",
      "     0     0   55.84693    0 1724    0.62515   55.84693  8833%     -    6s\n",
      "     0     0   52.67173    0 1676    0.62515   52.67173  8325%     -    6s\n",
      "     0     0   51.90243    0 1757    0.62515   51.90243  8202%     -    6s\n",
      "     0     0   51.76766    0 1707    0.62515   51.76766  8181%     -    7s\n",
      "     0     0   43.35604    0 1591    0.62515   43.35604  6835%     -    7s\n",
      "     0     0   42.40146    0 1503    0.62515   42.40146  6683%     -    8s\n",
      "     0     0   42.14659    0 1491    0.62515   42.14659  6642%     -    8s\n",
      "     0     0   35.71155    0 1563    0.62515   35.71155  5612%     -    9s\n",
      "     0     0   34.38197    0 1599    0.62515   34.38197  5400%     -    9s\n",
      "     0     0   34.01163    0 1590    0.62515   34.01163  5341%     -    9s\n",
      "     0     0   33.86938    0 1605    0.62515   33.86938  5318%     -    9s\n",
      "     0     0   31.73555    0 1729    0.62515   31.73555  4976%     -   10s\n",
      "     0     0   30.72813    0 1711    0.62515   30.72813  4815%     -   11s\n",
      "     0     0   30.47568    0 1767    0.62515   30.47568  4775%     -   11s\n",
      "     0     0   29.42233    0 1784    0.62515   29.42233  4606%     -   12s\n",
      "     0     0   29.40556    0 1784    0.62515   29.40556  4604%     -   12s\n",
      "H    0     0                       5.0000381   29.39038   488%     -   17s\n",
      "     0     2   29.39038    0 1784    5.00004   29.39038   488%     -   18s\n",
      "    15    24   26.90941    4 1588    5.00004   28.12662   463%  1838   20s\n",
      "    63    72   25.31059    8 1347    5.00004   27.84449   457%  1064   25s\n",
      "H   72    81                       5.0000725   27.84449   457%  1022   25s\n",
      "   404   416 infeasible   36         5.00007   27.84449   457%   408   30s\n",
      "   731   659   20.10556   11  547    5.00007   27.25561   445%   317   35s\n",
      "   987   895 infeasible   23         5.00007   27.13725   443%   301   40s\n",
      "H 1152   974                       5.0196037   27.13725   441%   289   42s\n",
      "  1186  1012   18.01266   13  760    5.01960   27.13725   441%   295   45s\n",
      "* 1249   966              67       7.5000000   27.13725   262%   293   45s\n",
      "H 1321  1016                       7.5000191   27.13725   262%   299   47s\n",
      "H 1332  1014                       7.5000725   26.74848   257%   299   47s\n",
      "H 1363   772                      10.0000000   26.74848   167%   294   47s\n",
      "  1441   858   19.43310    9  648   10.00000   26.74848   167%   314   51s\n",
      "  1648   949   14.32302    7 1373   10.00000   26.47000   165%   334   55s\n",
      "  1912  1077   13.29178   24 1784   10.00000   25.92659   159%   329   65s\n",
      "\n",
      "Cutting planes:\n",
      "  Gomory: 55\n",
      "  Lift-and-project: 1\n",
      "  Cover: 7\n",
      "  Implied bound: 3\n",
      "  Clique: 293\n",
      "  MIR: 5\n",
      "  Zero half: 40\n",
      "  RLT: 643\n",
      "\n",
      "Explored 1917 nodes (714026 simplex iterations) in 67.95 seconds (222.81 work units)\n",
      "Thread count was 8 (of 8 available processors)\n",
      "\n",
      "Solution count 10: 10 7.50007 7.50002 ... -0\n",
      "\n",
      "Optimal solution found (tolerance 1.00e-04)\n",
      "Best objective 1.000000000000e+01, best bound 1.000000000000e+01, gap 0.0000%\n"
     ]
    }
   ],
   "source": [
    "m, n = 20, 20  # number of messages and tags\n",
    "p, q = 0.5, 1 # probability of a message and probability of a tag being correct\n",
    "\n",
    "varInfo = src.TagModel.math_model(M_size=m, \n",
    "                                  T_size=n, \n",
    "                                  p=p, q=q, \n",
    "                                  TagEveryMessage=True, \n",
    "                                  AtLeastOnce=False, \n",
    "                                  EquivalentA=True)"
   ]
  },
  {
   "cell_type": "code",
   "execution_count": 3,
   "metadata": {},
   "outputs": [
    {
     "data": {
      "image/png": "[encoded data removed]",
      "text/plain": [
       "<Figure size 640x480 with 1 Axes>"
      ]
     },
     "metadata": {},
     "output_type": "display_data"
    }
   ],
   "source": [
    "X = src.TagModel.get_X(varInfo, m, n)\n",
    "#heatmap\n",
    "plt.imshow(X, cmap= 'hot')\n",
    "# plt.colorbar()\n",
    "plt.show()"
   ]
  },
  {
   "cell_type": "code",
   "execution_count": 8,
   "metadata": {},
   "outputs": [
    {
     "data": {
      "text/plain": [
       "array([[1., 0., 0., 0., 0., 0., 0., 0., 0., 0., 0., 0., 0., 1., 0., 0.,\n",
       "        0., 0., 0., 0.],\n",
       "       [0., 0., 0., 0., 0., 0., 0., 1., 0., 0., 0., 0., 0., 0., 0., 1.,\n",
       "        0., 0., 0., 0.],\n",
       "       [0., 0., 0., 0., 0., 0., 0., 0., 0., 0., 0., 0., 1., 0., 0., 0.,\n",
       "        0., 0., 0., 1.],\n",
       "       [0., 0., 0., 0., 1., 0., 0., 0., 0., 0., 0., 0., 0., 0., 0., 0.,\n",
       "        0., 0., 0., 0.],\n",
       "       [0., 0., 0., 0., 0., 0., 0., 0., 0., 0., 0., 1., 0., 0., 0., 1.,\n",
       "        0., 0., 0., 0.],\n",
       "       [0., 0., 0., 0., 0., 0., 0., 0., 0., 0., 1., 0., 0., 0., 1., 0.,\n",
       "        0., 0., 0., 0.],\n",
       "       [0., 1., 0., 0., 0., 0., 0., 0., 0., 0., 0., 0., 0., 0., 1., 0.,\n",
       "        0., 0., 0., 0.],\n",
       "       [1., 0., 0., 0., 0., 0., 0., 0., 0., 0., 0., 0., 1., 0., 0., 0.,\n",
       "        0., 0., 0., 0.],\n",
       "       [0., 0., 0., 0., 0., 1., 0., 0., 0., 0., 0., 0., 0., 0., 0., 0.,\n",
       "        0., 0., 1., 0.],\n",
       "       [0., 0., 0., 0., 0., 0., 0., 1., 0., 0., 0., 1., 0., 0., 0., 0.,\n",
       "        0., 0., 0., 0.],\n",
       "       [0., 0., 0., 0., 0., 0., 0., 0., 1., 0., 0., 0., 0., 0., 0., 0.,\n",
       "        0., 0., 0., 0.],\n",
       "       [0., 0., 0., 1., 0., 1., 0., 0., 0., 0., 0., 0., 0., 0., 0., 0.,\n",
       "        0., 0., 0., 0.],\n",
       "       [0., 0., 1., 1., 0., 0., 0., 0., 0., 0., 0., 0., 0., 0., 0., 0.,\n",
       "        0., 0., 0., 0.],\n",
       "       [0., 0., 0., 0., 0., 0., 0., 0., 0., 0., 0., 0., 0., 0., 0., 0.,\n",
       "        0., 1., 1., 0.],\n",
       "       [0., 0., 0., 0., 0., 0., 0., 0., 0., 0., 1., 0., 0., 0., 0., 0.,\n",
       "        1., 0., 0., 0.],\n",
       "       [0., 0., 1., 0., 0., 0., 0., 0., 0., 0., 0., 0., 0., 0., 0., 0.,\n",
       "        0., 0., 0., 1.],\n",
       "       [0., 1., 0., 0., 0., 0., 1., 0., 0., 0., 0., 0., 0., 0., 0., 0.,\n",
       "        0., 0., 0., 0.],\n",
       "       [0., 0., 0., 0., 0., 0., 0., 0., 0., 1., 0., 0., 0., 1., 0., 0.,\n",
       "        0., 0., 0., 0.],\n",
       "       [0., 0., 0., 0., 0., 0., 0., 0., 0., 0., 0., 0., 0., 0., 0., 0.,\n",
       "        1., 1., 0., 0.],\n",
       "       [0., 0., 0., 0., 0., 0., 1., 0., 0., 1., 0., 0., 0., 0., 0., 0.,\n",
       "        0., 0., 0., 0.]])"
      ]
     },
     "execution_count": 8,
     "metadata": {},
     "output_type": "execute_result"
    }
   ],
   "source": [
    "X"
   ]
  },
  {
   "cell_type": "code",
   "execution_count": 5,
   "metadata": {},
   "outputs": [
    {
     "name": "stdout",
     "output_type": "stream",
     "text": [
      "[0.140625 0.140625 0.140625 0.140625 0.140625 0.140625 0.140625 0.140625\n",
      " 0.140625 0.140625 0.140625 0.140625 0.140625 0.140625 0.140625 0.140625\n",
      " 0.140625 0.140625]\n",
      "[ 0  3  6  9 13 17]\n",
      "average Latency:  1.0\n",
      "L: [2 1 0 2 1 0 2 1 0 2 1 0 2 1 0 2 1 0]\n"
     ]
    }
   ],
   "source": [
    "print(src.Auth.validate(src.Auth.X, np.array([p]*18), np.array([q]*9)))\n",
    "print(src.Auth.Strength_Number(np.array(src.Auth.X,dtype=int)))\n",
    "\n",
    "L = src.Auth.Latency(np.array(src.Auth.X,dtype=int), np.ones(18), np.ones(9))\n",
    "print('average Latency: ', np.average(L))\n",
    "print('L:', L)\n",
    "\n"
   ]
  },
  {
   "cell_type": "code",
   "execution_count": 6,
   "metadata": {},
   "outputs": [
    {
     "name": "stdout",
     "output_type": "stream",
     "text": [
      "average A: 0.5\n",
      "A =  [0.5 0.5 0.5 0.5 0.5 0.5 0.5 0.5 0.5 0.5 0.5 0.5 0.5 0.5 0.5 0.5 0.5 0.5\n",
      " 0.5 0.5]\n",
      "average L: 2.9\n",
      "L = [ 7  8  5  0  5  9 10  0  3  0  0  1  3  5  0  0  0  2  0  0]\n",
      "Rows that breaks the verification [ 0  1  2  3  4  5  6  8 10 12 18 19]\n"
     ]
    }
   ],
   "source": [
    "A = src.Auth.validate(X, np.array([p]*m), np.array([q]*n))\n",
    "print('average A:',np.average(A))\n",
    "print (\"A = \", A)\n",
    "\n",
    "L = src.Auth.Latency(X, np.ones(m), np.ones(n))\n",
    "print('average L:', np.average(L))\n",
    "print(\"L =\", L)\n",
    "\n",
    "print(\"Rows that breaks the verification\",src.Auth.Strength_Number(np.array(X,dtype=int)))"
   ]
  },
  {
   "cell_type": "code",
   "execution_count": 7,
   "metadata": {},
   "outputs": [
    {
     "name": "stdout",
     "output_type": "stream",
     "text": [
      "[('x[message1,tag1]', 1.0), ('x[message1,tag14]', 1.0), ('x[message2,tag8]', 1.0), ('x[message2,tag16]', 1.0), ('x[message3,tag13]', 1.0), ('x[message3,tag20]', 1.0), ('x[message4,tag5]', 1.0), ('x[message5,tag12]', 1.0), ('x[message5,tag16]', 1.0), ('x[message6,tag11]', 1.0), ('x[message6,tag15]', 1.0), ('x[message7,tag2]', 1.0), ('x[message7,tag15]', 1.0), ('x[message8,tag1]', 1.0), ('x[message8,tag13]', 1.0), ('x[message9,tag6]', 1.0), ('x[message9,tag19]', 1.0), ('x[message10,tag8]', 1.0), ('x[message10,tag12]', 1.0), ('x[message11,tag9]', 1.0), ('x[message12,tag4]', 1.0), ('x[message12,tag6]', 1.0), ('x[message13,tag3]', 1.0), ('x[message13,tag4]', 1.0), ('x[message14,tag18]', 1.0), ('x[message14,tag19]', 1.0), ('x[message15,tag11]', 1.0), ('x[message15,tag17]', 1.0), ('x[message16,tag3]', 1.0), ('x[message16,tag20]', 1.0), ('x[message17,tag2]', 1.0), ('x[message17,tag7]', 1.0), ('x[message18,tag10]', 1.0), ('x[message18,tag14]', 1.0), ('x[message19,tag17]', 1.0), ('x[message19,tag18]', 1.0), ('x[message20,tag7]', 1.0), ('x[message20,tag10]', 1.0), ('z[tag1,2]', 1.0), ('z[tag2,2]', 1.0), ('z[tag3,2]', 1.0), ('z[tag4,2]', 1.0), ('z[tag5,1]', 1.0), ('z[tag6,2]', 1.0), ('z[tag7,2]', 1.0), ('z[tag8,2]', 1.0), ('z[tag9,1]', 1.0), ('z[tag10,2]', 1.0), ('z[tag11,2]', 1.0), ('z[tag12,2]', 1.0), ('z[tag13,2]', 1.0), ('z[tag14,2]', 1.0), ('z[tag15,2]', 1.0), ('z[tag16,2]', 1.0), ('z[tag17,2]', 1.0), ('z[tag18,2]', 1.0), ('z[tag19,2]', 1.0), ('z[tag20,2]', 1.0), ('y[message1,tag1,2]', 1.0), ('y[message1,tag14,2]', 1.0), ('y[message2,tag8,2]', 1.0), ('y[message2,tag16,2]', 1.0), ('y[message3,tag13,2]', 1.0), ('y[message3,tag20,2]', 1.0), ('y[message4,tag5,1]', 1.0), ('y[message5,tag12,2]', 1.0), ('y[message5,tag16,2]', 1.0), ('y[message6,tag11,2]', 1.0), ('y[message6,tag15,2]', 1.0), ('y[message7,tag2,2]', 1.0), ('y[message7,tag15,2]', 1.0), ('y[message8,tag1,2]', 1.0), ('y[message8,tag13,2]', 1.0), ('y[message9,tag6,2]', 1.0), ('y[message9,tag19,2]', 1.0), ('y[message10,tag8,2]', 1.0), ('y[message10,tag12,2]', 1.0), ('y[message11,tag9,1]', 1.0), ('y[message12,tag4,2]', 1.0), ('y[message12,tag6,2]', 1.0), ('y[message13,tag3,2]', 1.0), ('y[message13,tag4,2]', 1.0), ('y[message14,tag18,2]', 1.0), ('y[message14,tag19,2]', 1.0), ('y[message15,tag11,2]', 1.0), ('y[message15,tag17,2]', 1.0), ('y[message16,tag3,2]', 1.0), ('y[message16,tag20,2]', 1.0), ('y[message17,tag2,2]', 1.0), ('y[message17,tag7,2]', 1.0), ('y[message18,tag10,2]', 1.0), ('y[message18,tag14,2]', 1.0), ('y[message19,tag17,2]', 1.0), ('y[message19,tag18,2]', 1.0), ('y[message20,tag7,2]', 1.0), ('y[message20,tag10,2]', 1.0), ('A[message1,tag1,2]', 0.25), ('A[message1,tag14,2]', 0.25), ('A[message2,tag8,2]', 0.25), ('A[message2,tag16,2]', 0.25), ('A[message3,tag13,2]', 0.25), ('A[message3,tag20,2]', 0.25), ('A[message4,tag5,1]', 0.5), ('A[message5,tag12,2]', 0.25), ('A[message5,tag16,2]', 0.25), ('A[message6,tag11,2]', 0.25), ('A[message6,tag15,2]', 0.25), ('A[message7,tag2,2]', 0.25), ('A[message7,tag15,2]', 0.25), ('A[message8,tag1,2]', 0.25), ('A[message8,tag13,2]', 0.25), ('A[message9,tag6,2]', 0.25), ('A[message9,tag19,2]', 0.25), ('A[message10,tag8,2]', 0.25), ('A[message10,tag12,2]', 0.25), ('A[message11,tag9,1]', 0.5), ('A[message12,tag4,2]', 0.25), ('A[message12,tag6,2]', 0.25), ('A[message13,tag3,2]', 0.25), ('A[message13,tag4,2]', 0.25), ('A[message14,tag18,2]', 0.25), ('A[message14,tag19,2]', 0.25), ('A[message15,tag11,2]', 0.25), ('A[message15,tag17,2]', 0.25), ('A[message16,tag3,2]', 0.25), ('A[message16,tag20,2]', 0.25), ('A[message17,tag2,2]', 0.25), ('A[message17,tag7,2]', 0.25), ('A[message18,tag10,2]', 0.25), ('A[message18,tag14,2]', 0.25), ('A[message19,tag17,2]', 0.25), ('A[message19,tag18,2]', 0.25), ('A[message20,tag7,2]', 0.25), ('A[message20,tag10,2]', 0.25), ('Auth', 0.5), ('Obj', 10.0)]\n"
     ]
    }
   ],
   "source": [
    "print(varInfo)"
   ]
  },
  {
   "cell_type": "markdown",
   "metadata": {},
   "source": [
    "Case 1: Make the result all equal to each other.\n",
    "\n",
    "Case 1.5: Priorotize the messages for the differet application like emergency \n",
    "\n",
    "Case 2: Add a new constraint that include a value for the E(A). \n",
    "\n",
    "describe the trends of the results."
   ]
  },
  {
   "cell_type": "markdown",
   "metadata": {},
   "source": []
  }
 ],
 "metadata": {
  "kernelspec": {
   "display_name": "Python 3",
   "language": "python",
   "name": "python3"
  },
  "language_info": {
   "codemirror_mode": {
    "name": "ipython",
    "version": 3
   },
   "file_extension": ".py",
   "mimetype": "text/x-python",
   "name": "python",
   "nbconvert_exporter": "python",
   "pygments_lexer": "ipython3",
   "version": "3.9.6"
  }
 },
 "nbformat": 4,
 "nbformat_minor": 4
}
