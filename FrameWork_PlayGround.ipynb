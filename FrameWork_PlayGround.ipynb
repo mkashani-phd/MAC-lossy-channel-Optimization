{
 "cells": [
  {
   "cell_type": "code",
   "execution_count": 1,
   "metadata": {},
   "outputs": [],
   "source": [
    "\n",
    "import numpy as np\n",
    "\n",
    "            #  t1  t2  t3  t4  t5  t6  t7  t8  t9\n",
    "k = np.array([[ 1,  0,  0,  0,  0,  0,  1,  0,  0], # m1\n",
    "              [ 1,  0,  0,  0,  0,  0,  0,  1,  0], # m2\n",
    "              [ 1,  0,  0,  0,  0,  0,  0,  0,  1], # m3\n",
    "              [ 0,  1,  0,  0,  0,  0,  1,  0,  0], # m4\n",
    "              [ 0,  1,  0,  0,  0,  0,  0,  1,  0], # m5\n",
    "              [ 0,  1,  0,  0,  0,  0,  0,  0,  1], # m6\n",
    "              [ 0,  0,  1,  0,  0,  0,  1,  0,  0], # m7\n",
    "              [ 0,  0,  1,  0,  0,  0,  0,  1,  0], # m8\n",
    "              [ 0,  0,  1,  0,  0,  0,  0,  0,  1], # m9\n",
    "              [ 0,  0,  0,  1,  0,  0,  1,  0,  0], # m10\n",
    "              [ 0,  0,  0,  1,  0,  0,  0,  1,  0], # m11\n",
    "              [ 0,  0,  0,  1,  0,  0,  0,  0,  1], # m12\n",
    "              [ 0,  0,  0,  0,  1,  0,  1,  0,  0], # m13\n",
    "              [ 0,  0,  0,  0,  1,  0,  0,  1,  0], # m14\n",
    "              [ 0,  0,  0,  0,  1,  0,  0,  0,  1], # m15\n",
    "              [ 0,  0,  0,  0,  0,  1,  1,  0,  0], # m16\n",
    "              [ 0,  0,  0,  0,  0,  1,  0,  1,  0], # m17\n",
    "              [ 0,  0,  0,  0,  0,  1,  0,  0,  1]]) # m18\n",
    "\n",
    "\n",
    "def random_binary_array(shape, probability_of_one=0.5):\n",
    "    # Ensure p is between 0 and 1\n",
    "    if not 0 <= probability_of_one <= 1:\n",
    "        raise ValueError(\"Probability p must be between 0 and 1.\")\n",
    "    choices = [0, 1]\n",
    "    probabilities = [1-probability_of_one, probability_of_one]\n",
    "    # Generate the random array with the specified probabilities\n",
    "    random_array = np.random.choice(choices, size=shape, p=probabilities)\n",
    "    return random_array\n",
    "\n",
    "\n",
    "########################## test ########################################\n",
    "# Example usage\n",
    "# shape = (18)  # Specify the desired shape of the array\n",
    "# probability_of_one = 0.9  # Probability of 1 in the array\n",
    "\n",
    "# # Generate the array\n",
    "# random_array = random_binary_array(shape = shape,probability_of_one = probability_of_one)\n",
    "# print(random_array)\n",
    "#########################################################################\n"
   ]
  },
  {
   "cell_type": "code",
   "execution_count": 2,
   "metadata": {},
   "outputs": [
    {
     "name": "stdout",
     "output_type": "stream",
     "text": [
      "m = \n",
      "[[1 1 1]\n",
      " [1 1 1]\n",
      " [1 0 1]\n",
      " [1 1 1]\n",
      " [1 1 1]\n",
      " [1 1 1]]\n",
      "t = \n",
      "[1 1 1 1 1 1 1 1 1]\n",
      "A = \n",
      "[[2 1 2]\n",
      " [2 1 2]\n",
      " [1 0 1]\n",
      " [2 1 2]\n",
      " [2 1 2]\n",
      " [2 1 2]]\n",
      "Latency = \n",
      "[ 2  1  0  2  1  0  9 40  9  2  1  0  2  1  0  2  1  0]\n",
      "reward = \n",
      "27.0\n"
     ]
    }
   ],
   "source": [
    "\n",
    "# based on closed form expression\n",
    "def validate_slow(k,p,q):\n",
    "    m_nr,t_nr = k.shape\n",
    "    A = np.zeros(m_nr)\n",
    "    for msg in range(m_nr):\n",
    "        for t in range(t_nr):\n",
    "            temp = 1\n",
    "            for m in range(m_nr):\n",
    "                temp *= k[m,t]*p[m] + 0**(k[m,t])\n",
    "            A[msg] += k[msg,t]*q[t]*temp\n",
    "    return A\n",
    "\n",
    "# based on mask and multiply operation\n",
    "def validate(k,m,t,rectified = False, includeValidTag = False):\n",
    "    # mask and multiply\n",
    "    m_nr,t_nr = k.shape\n",
    "    mm = np.zeros(t_nr)\n",
    "    for tag in range(t_nr):\n",
    "        mask = m[np.where(k[:,tag] == 1)] # mask for tag\n",
    "        mm[tag] = np.prod(mask) # multiply the mask\n",
    "    A = np.matmul(k,(mm*t).transpose())\n",
    "\n",
    "    A = np.array( [1 if x > 1 else x for x in A]) if rectified else A\n",
    "    return (A, mm*t) if includeValidTag else A\n",
    "\n",
    "def Latency(k,m,t,lost_penalty = 40):\n",
    "    m_nr,t_nr = k.shape\n",
    "    A,validTags = validate(k,m,t,includeValidTag=True)\n",
    "    L = [np.where(k[:,np.where((k[msg,:]*validTags)>0)[0][0]] == 1)[0][-1]-msg if A[msg] >0 else lost_penalty for msg in range(m_nr)]\n",
    "\n",
    "    return np.array(L)\n",
    "\n",
    "\n",
    "def reward(k,m,t,rectified_A = True, lost_penalty = 40, a = 1,l = 1, o = 100):\n",
    "    m_nr,t_nr = k.shape\n",
    "    A = validate(k,m,t,rectified=rectified_A)\n",
    "    L= Latency(k,A,t,lost_penalty=lost_penalty)\n",
    "\n",
    "    # # not considering the delay because of the lost or modified messages\n",
    "    # A[m==0] = 1\n",
    "    # L[m==0] = 0\n",
    "\n",
    "    r = a*np.sum(A) - l*np.sum(L) - o * t_nr/m_nr\n",
    "\n",
    "    return A, L, r\n",
    "\n",
    "######### test #########\n",
    "m_nr,t_nr = k.shape\n",
    "probability_of_success_message = .9\n",
    "probability_of_success_tag = 1\n",
    "m = random_binary_array(shape = m_nr, probability_of_one = probability_of_success_message)\n",
    "t = random_binary_array(shape = t_nr, probability_of_one = probability_of_success_tag)\n",
    "\n",
    "A = validate(k,m,t)\n",
    "\n",
    "print(\"m = \")\n",
    "print(m.reshape(6,-1))\n",
    "\n",
    "print(\"t = \")\n",
    "print(t)\n",
    "\n",
    "print(\"A = \")\n",
    "print(np.int8(A).reshape(6,-1))\n",
    "\n",
    "print(\"Latency = \")\n",
    "print(Latency(k,m,t))\n",
    "\n",
    "print(\"reward = \")\n",
    "print(reward(k,m,t, rectified_A = False, lost_penalty = 40, a = 1,l = 0, o = 0)[2])"
   ]
  },
  {
   "cell_type": "code",
   "execution_count": 49,
   "metadata": {},
   "outputs": [
    {
     "name": "stdout",
     "output_type": "stream",
     "text": [
      "A = \n",
      "[[2.817 1.375 1.798]\n",
      " [0.945 0.662 1.058]\n",
      " [1.995 0.976 1.911]\n",
      " [2.774 0.631 2.143]\n",
      " [1.798 1.294 1.771]\n",
      " [2.111 2.608 2.46 ]]\n"
     ]
    }
   ],
   "source": [
    "m_nr,t_nr = k.shape\n",
    "probability_of_success_message = .9\n",
    "probability_of_success_tag = 1\n",
    "\n",
    "m = np.array([probability_of_success_message]*m_nr)\n",
    "t = np.array([probability_of_success_tag]*t_nr)\n",
    "\n",
    "\n",
    "A = validate(k,m,t)\n",
    "\n",
    "\n",
    "print(\"A = \")\n",
    "\n",
    "print(np.round(A,3).reshape(6,-1))"
   ]
  },
  {
   "cell_type": "code",
   "execution_count": 81,
   "metadata": {},
   "outputs": [
    {
     "name": "stdout",
     "output_type": "stream",
     "text": [
      "sum(A) =  12.819726336000004\n",
      "sum(L) =  3\n",
      "reward =  9.819726336000004\n"
     ]
    }
   ],
   "source": [
    "            #  t1  t2  t3  t4  t5  t6  t7  t8  t9\n",
    "k = np.array([[ 1,  1,  1,  1,  1,  1,  1,  1,  1], # m1\n",
    "              [ 1,  1,  1,  1,  1,  1,  1,  1,  1], # m2\n",
    "              [ 1,  1,  1,  1,  1,  1,  1,  1,  1], # m3\n",
    "              [ 0,  1,  1,  1,  1,  1,  1,  1,  1], # m4\n",
    "              [ 0,  0,  1,  1,  1,  1,  1,  1,  1], # m5\n",
    "              [ 0,  0,  0,  1,  1,  1,  1,  1,  1], # m6\n",
    "              [ 0,  0,  0,  0,  1,  1,  1,  1,  1], # m7\n",
    "              [ 0,  0,  0,  0,  0,  1,  1,  1,  1], # m8\n",
    "              [ 0,  0,  0,  0,  0,  0,  1,  1,  1]]) # m9\n",
    "\n",
    "m_nr,t_nr = k.shape\n",
    "probability_of_success_message = .8\n",
    "probability_of_success_tag = 1\n",
    "\n",
    "m = np.array([probability_of_success_message]*m_nr)\n",
    "t = np.array([probability_of_success_tag]*t_nr)\n",
    "\n",
    "A = validate(k,m,t)\n",
    "L = Latency(k,m,t)\n",
    "\n",
    "\n",
    "print(\"sum(A) = \", np.sum(A))\n",
    "\n",
    "print(\"sum(L) = \", np.sum(L))\n",
    "\n",
    "print(\"reward = \", sum(A) - sum(L))"
   ]
  },
  {
   "cell_type": "code",
   "execution_count": 84,
   "metadata": {},
   "outputs": [
    {
     "data": {
      "image/png": "[encoded data removed]",
      "text/plain": [
       "<Figure size 640x480 with 1 Axes>"
      ]
     },
     "metadata": {},
     "output_type": "display_data"
    },
    {
     "data": {
      "image/png": "[encoded data removed]",
      "text/plain": [
       "<Figure size 640x480 with 2 Axes>"
      ]
     },
     "metadata": {},
     "output_type": "display_data"
    }
   ],
   "source": [
    "import matplotlib.pyplot as plt\n",
    "\n",
    "probability_of_success_message = .8\n",
    "probability_of_success_tag = 1\n",
    "\n",
    "for i in range(1):\n",
    "\n",
    "    m_nr,t_nr = 9,9\n",
    "    p_fill_ks = np.linspace(0.1,0.99,13000)\n",
    "    As = []\n",
    "    Ks = []\n",
    "    for p_fill_k in p_fill_ks:\n",
    "        k = random_binary_array(shape = (m_nr,t_nr), probability_of_one = p_fill_k)\n",
    "        m = np.array([probability_of_success_message]*m_nr)\n",
    "        t = np.array([probability_of_success_tag]*t_nr)\n",
    "        A = validate(k,m,t)\n",
    "        L = Latency(k,np.ones(m_nr),np.ones(t_nr))\n",
    "\n",
    "        As.append(np.sum(A))#- sum(L))\n",
    "    \n",
    "        Ks.append(k)\n",
    "\n",
    "    plt.plot(p_fill_ks,As)\n",
    "    plt.show()\n",
    "\n",
    "\n",
    "\n",
    "\n",
    "\n",
    "    plt.imshow(Ks[np.argmax(As)], cmap= 'hot', interpolation='nearest')\n",
    "    plt.colorbar()\n",
    "    plt.title('{}'.format(As[np.argmax(As)]))\n",
    "    plt.show()\n",
    "\n"
   ]
  }
 ],
 "metadata": {
  "kernelspec": {
   "display_name": "Python 3",
   "language": "python",
   "name": "python3"
  },
  "language_info": {
   "codemirror_mode": {
    "name": "ipython",
    "version": 3
   },
   "file_extension": ".py",
   "mimetype": "text/x-python",
   "name": "python",
   "nbconvert_exporter": "python",
   "pygments_lexer": "ipython3",
   "version": "3.9.6"
  }
 },
 "nbformat": 4,
 "nbformat_minor": 2
}
