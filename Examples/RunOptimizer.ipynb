{
 "cells": [
  {
   "cell_type": "markdown",
   "metadata": {},
   "source": [
    "## Import the Model"
   ]
  },
  {
   "cell_type": "code",
   "execution_count": 1,
   "metadata": {},
   "outputs": [],
   "source": [
    "import sys\n",
    "sys.path.append('../')\n",
    "\n",
    "import src.TagModel as model\n",
    "import src.TagModel_lat as model_latency\n",
    "import src.Auth as Auth\n",
    "import utils.utils as utils\n",
    "import numpy as np\n",
    "import matplotlib.pyplot as plt "
   ]
  },
  {
   "cell_type": "markdown",
   "metadata": {},
   "source": [
    "### Run the Model\n",
    "\n",
    "Just considering the E[A]"
   ]
  },
  {
   "cell_type": "code",
   "execution_count": 3,
   "metadata": {},
   "outputs": [
    {
     "name": "stdout",
     "output_type": "stream",
     "text": [
      "Experiment with the same parameters already exist as experiment number 61\n",
      "Experiment with the same parameters already exist as experiment number 62\n",
      "Experiment with the same parameters already exist as experiment number 63\n",
      "Experiment with the same parameters already exist as experiment number 64\n",
      "Experiment with the same parameters already exist as experiment number 65\n",
      "Experiment with the same parameters already exist as experiment number 66\n",
      "Experiment with the same parameters already exist as experiment number 67\n",
      "Experiment with the same parameters already exist as experiment number 68\n",
      "Experiment with the same parameters already exist as experiment number 69\n",
      "Experiment with the same parameters already exist as experiment number 70\n",
      "Experiment with the same parameters already exist as experiment number 71\n",
      "Experiment with the same parameters already exist as experiment number 72\n",
      "Experiment with the same parameters already exist as experiment number 0\n",
      "Experiment with the same parameters already exist as experiment number 73\n",
      "Experiment with the same parameters already exist as experiment number 74\n",
      "Experiment with the same parameters already exist as experiment number 75\n"
     ]
    }
   ],
   "source": [
    "m_nrs = [25]\n",
    "t_nrs = [5,10, 20, 25]\n",
    "p = [.95, .9, .85, .8]\n",
    "q = [1]\n",
    "\n",
    "\n",
    "\n",
    "for m_nr in m_nrs:\n",
    "    for t_nr in t_nrs:\n",
    "        for p_ in p:\n",
    "            for q_ in q:\n",
    "                parameters = {'m_nr': m_nr, 't_nr': t_nr, \n",
    "                              'p': p_, 'q': q_, \n",
    "                              'TagEveryMessage': True, \n",
    "                              'AtLeastOnce': False, \n",
    "                              'EquivalentA': True}\n",
    "                exp = utils.Run_Experiment(model        = model.math_model,\n",
    "                                           parameters   = parameters,\n",
    "                                           eval         = Auth.evaluate,\n",
    "                                           m_size       = 1024,\n",
    "                                           t_size       = 256,\n",
    "                                           save         = True)\n",
    "\n",
    "# parameters = {'m_nr': 25, 't_nr': 25, \n",
    "#               'p': 0.95, 'q': 1, \n",
    "#               'TagEveryMessage': True, \n",
    "#               'AtLeastOnce': False, \n",
    "#               'EquivalentA': True}\n",
    "\n",
    "# exp = utils.Run_Experiment(model        = model.math_model,\n",
    "#                            parameters   = parameters,\n",
    "#                            eval         = Auth.evaluate,\n",
    "#                            m_size       = 1024,\n",
    "#                            t_size       = 256,\n",
    "#                            save         = True)\n",
    "# exp['eval']\n",
    "\n",
    "\n"
   ]
  },
  {
   "cell_type": "markdown",
   "metadata": {},
   "source": [
    "### Looking at the saved Models"
   ]
  },
  {
   "cell_type": "code",
   "execution_count": null,
   "metadata": {},
   "outputs": [],
   "source": [
    "exp = utils.Load_Experiments()\n",
    "\n",
    "import seaborn as sns\n",
    "\n",
    "for i in range(len(exp)):\n",
    "    print(exp[i]['parameters'])\n",
    "    print(exp[i]['eval'])\n",
    "    sns.heatmap(exp[i]['results']['X'])\n",
    "    plt.show()\n",
    "    print('\\n\\n')"
   ]
  },
  {
   "cell_type": "markdown",
   "metadata": {},
   "source": [
    "### Creating a  progressive MAC for comparison"
   ]
  },
  {
   "cell_type": "code",
   "execution_count": null,
   "metadata": {},
   "outputs": [],
   "source": [
    "parameters = {'m_nr': 25, 't_nr': 25,\n",
    "                'p': 0.85, 'q': 1,\n",
    "                'x': 3}\n",
    "\n",
    "X = Auth.ProMAC_X(parameters['m_nr'],parameters['x'])\n",
    "exp = Auth.Create_Experiment(parameters,X= X)\n",
    "\n",
    "Auth.evaluate(exp,m_size=1024,t_size=int(256/4), b = 256 )"
   ]
  },
  {
   "cell_type": "markdown",
   "metadata": {},
   "source": [
    "### Run the optimizer With Latency"
   ]
  },
  {
   "cell_type": "code",
   "execution_count": null,
   "metadata": {},
   "outputs": [],
   "source": [
    "parameters = {'m_nr': 20, 't_nr': 20,\n",
    "                'p': 0.8, 'q': 1,\n",
    "                'TagEveryMessage': True,\n",
    "                'AtLeastOnce': False,\n",
    "                'EquivalentA': True,\n",
    "                'weight_A': 5,\n",
    "                'weight_L': .1}\n",
    "\n",
    "exp = utils.Run_Experiment(model = model_latency.math_model,\n",
    "                            parameters = parameters,\n",
    "                            eval=Auth.evaluate,\n",
    "                            save=True,\n",
    "                            m_size=1024,\n",
    "                            t_size=256)\n",
    "exp['eval']"
   ]
  },
  {
   "cell_type": "markdown",
   "metadata": {},
   "source": []
  }
 ],
 "metadata": {
  "kernelspec": {
   "display_name": "Python 3",
   "language": "python",
   "name": "python3"
  },
  "language_info": {
   "codemirror_mode": {
    "name": "ipython",
    "version": 3
   },
   "file_extension": ".py",
   "mimetype": "text/x-python",
   "name": "python",
   "nbconvert_exporter": "python",
   "pygments_lexer": "ipython3",
   "version": "3.12.3"
  }
 },
 "nbformat": 4,
 "nbformat_minor": 4
}
